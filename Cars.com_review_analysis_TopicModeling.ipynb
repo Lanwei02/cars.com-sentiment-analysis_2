{
 "cells": [
  {
   "cell_type": "markdown",
   "metadata": {},
   "source": [
    "* https://www.machinelearningplus.com/nlp/topic-modeling-gensim-python/\n",
    "* https://towardsdatascience.com/topic-modelling-in-python-with-nltk-and-gensim-4ef03213cd21\n",
    "* https://www.analyticsvidhya.com/blog/2016/08/beginners-guide-to-topic-modeling-in-python/"
   ]
  },
  {
   "cell_type": "code",
   "execution_count": 83,
   "metadata": {},
   "outputs": [],
   "source": [
    "import pandas as pd\n",
    "import numpy as np\n",
    "\n",
    "import matplotlib.pyplot as plt\n",
    "import seaborn as sns\n",
    "from ggplot import *\n",
    "%matplotlib inline\n",
    "\n",
    "from sklearn.feature_extraction.text import TfidfVectorizer, CountVectorizer\n",
    "\n",
    "from sklearn.pipeline import Pipeline\n",
    "from sklearn.model_selection import GridSearchCV\n",
    "from sklearn.model_selection import KFold\n",
    "from sklearn.decomposition import LatentDirichletAllocation, TruncatedSVD\n",
    "\n",
    "import re, nltk, spacy, gensim\n",
    "\n",
    "# Plotting tools\n",
    "import pyLDAvis\n",
    "import pyLDAvis.sklearn\n",
    "import matplotlib.pyplot as plt\n",
    "%matplotlib inline\n",
    "\n",
    "import warnings\n",
    "warnings.filterwarnings('ignore')"
   ]
  },
  {
   "cell_type": "code",
   "execution_count": 84,
   "metadata": {
    "collapsed": true
   },
   "outputs": [],
   "source": [
    "car_review = pd.read_csv('car_review.csv', index_col=0)"
   ]
  },
  {
   "cell_type": "code",
   "execution_count": 85,
   "metadata": {},
   "outputs": [
    {
     "data": {
      "text/html": [
       "<div>\n",
       "<style>\n",
       "    .dataframe thead tr:only-child th {\n",
       "        text-align: right;\n",
       "    }\n",
       "\n",
       "    .dataframe thead th {\n",
       "        text-align: left;\n",
       "    }\n",
       "\n",
       "    .dataframe tbody tr th {\n",
       "        vertical-align: top;\n",
       "    }\n",
       "</style>\n",
       "<table border=\"1\" class=\"dataframe\">\n",
       "  <thead>\n",
       "    <tr style=\"text-align: right;\">\n",
       "      <th></th>\n",
       "      <th>Rating</th>\n",
       "      <th>Year</th>\n",
       "      <th>Review</th>\n",
       "      <th>Brand</th>\n",
       "    </tr>\n",
       "  </thead>\n",
       "  <tbody>\n",
       "    <tr>\n",
       "      <th>1</th>\n",
       "      <td>4</td>\n",
       "      <td>\\n                by JayeMaye\\n               ...</td>\n",
       "      <td>\\n                This is what I've bought Sat...</td>\n",
       "      <td>dodge-charger-2012/consumer-reviews/</td>\n",
       "    </tr>\n",
       "    <tr>\n",
       "      <th>2</th>\n",
       "      <td>5</td>\n",
       "      <td>\\n                by Female Driver\\n          ...</td>\n",
       "      <td>\\n                I just got my Special Order ...</td>\n",
       "      <td>dodge-charger-2012/consumer-reviews/</td>\n",
       "    </tr>\n",
       "    <tr>\n",
       "      <th>3</th>\n",
       "      <td>5</td>\n",
       "      <td>\\n                by New Car Buyer\\n          ...</td>\n",
       "      <td>\\n                About 2 months ago I purchas...</td>\n",
       "      <td>dodge-charger-2012/consumer-reviews/</td>\n",
       "    </tr>\n",
       "    <tr>\n",
       "      <th>4</th>\n",
       "      <td>5</td>\n",
       "      <td>\\n                by KTisaPhillyPhan\\n        ...</td>\n",
       "      <td>\\n                We bought a tungsten metalli...</td>\n",
       "      <td>dodge-charger-2012/consumer-reviews/</td>\n",
       "    </tr>\n",
       "    <tr>\n",
       "      <th>5</th>\n",
       "      <td>5</td>\n",
       "      <td>\\n                by I&lt;3DODGE\\n               ...</td>\n",
       "      <td>\\n                I have a 2012 Dodge Charger ...</td>\n",
       "      <td>dodge-charger-2012/consumer-reviews/</td>\n",
       "    </tr>\n",
       "  </tbody>\n",
       "</table>\n",
       "</div>"
      ],
      "text/plain": [
       "   Rating                                               Year  \\\n",
       "1       4  \\n                by JayeMaye\\n               ...   \n",
       "2       5  \\n                by Female Driver\\n          ...   \n",
       "3       5  \\n                by New Car Buyer\\n          ...   \n",
       "4       5  \\n                by KTisaPhillyPhan\\n        ...   \n",
       "5       5  \\n                by I<3DODGE\\n               ...   \n",
       "\n",
       "                                              Review  \\\n",
       "1  \\n                This is what I've bought Sat...   \n",
       "2  \\n                I just got my Special Order ...   \n",
       "3  \\n                About 2 months ago I purchas...   \n",
       "4  \\n                We bought a tungsten metalli...   \n",
       "5  \\n                I have a 2012 Dodge Charger ...   \n",
       "\n",
       "                                  Brand  \n",
       "1  dodge-charger-2012/consumer-reviews/  \n",
       "2  dodge-charger-2012/consumer-reviews/  \n",
       "3  dodge-charger-2012/consumer-reviews/  \n",
       "4  dodge-charger-2012/consumer-reviews/  \n",
       "5  dodge-charger-2012/consumer-reviews/  "
      ]
     },
     "execution_count": 85,
     "metadata": {},
     "output_type": "execute_result"
    }
   ],
   "source": [
    "car_review.head()"
   ]
  },
  {
   "cell_type": "code",
   "execution_count": 86,
   "metadata": {},
   "outputs": [
    {
     "data": {
      "text/plain": [
       "5    14704\n",
       "4     3211\n",
       "3      730\n",
       "2      313\n",
       "1      284\n",
       "Name: Rating, dtype: int64"
      ]
     },
     "execution_count": 86,
     "metadata": {},
     "output_type": "execute_result"
    }
   ],
   "source": [
    "car_review.Rating.value_counts()"
   ]
  },
  {
   "cell_type": "code",
   "execution_count": 87,
   "metadata": {},
   "outputs": [
    {
     "data": {
      "image/png": "[encoded data removed]",
      "text/plain": [
       "<matplotlib.figure.Figure at 0x1c302c7278>"
      ]
     },
     "metadata": {},
     "output_type": "display_data"
    }
   ],
   "source": [
    "car_review.Rating.value_counts(sort=False).plot(kind = 'bar')\n",
    "plt.show()"
   ]
  },
  {
   "cell_type": "markdown",
   "metadata": {},
   "source": [
    "* Reviews are skewed towards positive"
   ]
  },
  {
   "cell_type": "markdown",
   "metadata": {},
   "source": [
    "# Cleaning data and retrive features"
   ]
  },
  {
   "cell_type": "markdown",
   "metadata": {},
   "source": [
    "### Car"
   ]
  },
  {
   "cell_type": "code",
   "execution_count": 88,
   "metadata": {
    "collapsed": true
   },
   "outputs": [],
   "source": [
    "car_review['Car'] = car_review.Brand.map(lambda x: x.split('/')[0])\n",
    "car_review['Car_Year'] = car_review['Car'].map(lambda x: x.split('-')[-1])\n",
    "car_review['Car_test'] = car_review['Car'].map(lambda x: x.split('-')[:-1])\n",
    "car_review['Car_Make'] = car_review['Car_test'].map(lambda x: x[0])\n",
    "car_review['Car_Model'] = car_review['Car_test'].map(lambda x: x[-1])"
   ]
  },
  {
   "cell_type": "code",
   "execution_count": 89,
   "metadata": {
    "collapsed": true
   },
   "outputs": [],
   "source": [
    "car_review.drop(['Car_test'], axis=1, inplace=True)"
   ]
  },
  {
   "cell_type": "code",
   "execution_count": 90,
   "metadata": {},
   "outputs": [
    {
     "data": {
      "text/html": [
       "<div>\n",
       "<style>\n",
       "    .dataframe thead tr:only-child th {\n",
       "        text-align: right;\n",
       "    }\n",
       "\n",
       "    .dataframe thead th {\n",
       "        text-align: left;\n",
       "    }\n",
       "\n",
       "    .dataframe tbody tr th {\n",
       "        vertical-align: top;\n",
       "    }\n",
       "</style>\n",
       "<table border=\"1\" class=\"dataframe\">\n",
       "  <thead>\n",
       "    <tr style=\"text-align: right;\">\n",
       "      <th></th>\n",
       "      <th>Rating</th>\n",
       "      <th>Year</th>\n",
       "      <th>Review</th>\n",
       "      <th>Brand</th>\n",
       "      <th>Car</th>\n",
       "      <th>Car_Year</th>\n",
       "      <th>Car_Make</th>\n",
       "      <th>Car_Model</th>\n",
       "    </tr>\n",
       "  </thead>\n",
       "  <tbody>\n",
       "    <tr>\n",
       "      <th>1</th>\n",
       "      <td>4</td>\n",
       "      <td>\\n                by JayeMaye\\n               ...</td>\n",
       "      <td>\\n                This is what I've bought Sat...</td>\n",
       "      <td>dodge-charger-2012/consumer-reviews/</td>\n",
       "      <td>dodge-charger-2012</td>\n",
       "      <td>2012</td>\n",
       "      <td>dodge</td>\n",
       "      <td>charger</td>\n",
       "    </tr>\n",
       "    <tr>\n",
       "      <th>2</th>\n",
       "      <td>5</td>\n",
       "      <td>\\n                by Female Driver\\n          ...</td>\n",
       "      <td>\\n                I just got my Special Order ...</td>\n",
       "      <td>dodge-charger-2012/consumer-reviews/</td>\n",
       "      <td>dodge-charger-2012</td>\n",
       "      <td>2012</td>\n",
       "      <td>dodge</td>\n",
       "      <td>charger</td>\n",
       "    </tr>\n",
       "    <tr>\n",
       "      <th>3</th>\n",
       "      <td>5</td>\n",
       "      <td>\\n                by New Car Buyer\\n          ...</td>\n",
       "      <td>\\n                About 2 months ago I purchas...</td>\n",
       "      <td>dodge-charger-2012/consumer-reviews/</td>\n",
       "      <td>dodge-charger-2012</td>\n",
       "      <td>2012</td>\n",
       "      <td>dodge</td>\n",
       "      <td>charger</td>\n",
       "    </tr>\n",
       "    <tr>\n",
       "      <th>4</th>\n",
       "      <td>5</td>\n",
       "      <td>\\n                by KTisaPhillyPhan\\n        ...</td>\n",
       "      <td>\\n                We bought a tungsten metalli...</td>\n",
       "      <td>dodge-charger-2012/consumer-reviews/</td>\n",
       "      <td>dodge-charger-2012</td>\n",
       "      <td>2012</td>\n",
       "      <td>dodge</td>\n",
       "      <td>charger</td>\n",
       "    </tr>\n",
       "    <tr>\n",
       "      <th>5</th>\n",
       "      <td>5</td>\n",
       "      <td>\\n                by I&lt;3DODGE\\n               ...</td>\n",
       "      <td>\\n                I have a 2012 Dodge Charger ...</td>\n",
       "      <td>dodge-charger-2012/consumer-reviews/</td>\n",
       "      <td>dodge-charger-2012</td>\n",
       "      <td>2012</td>\n",
       "      <td>dodge</td>\n",
       "      <td>charger</td>\n",
       "    </tr>\n",
       "  </tbody>\n",
       "</table>\n",
       "</div>"
      ],
      "text/plain": [
       "   Rating                                               Year  \\\n",
       "1       4  \\n                by JayeMaye\\n               ...   \n",
       "2       5  \\n                by Female Driver\\n          ...   \n",
       "3       5  \\n                by New Car Buyer\\n          ...   \n",
       "4       5  \\n                by KTisaPhillyPhan\\n        ...   \n",
       "5       5  \\n                by I<3DODGE\\n               ...   \n",
       "\n",
       "                                              Review  \\\n",
       "1  \\n                This is what I've bought Sat...   \n",
       "2  \\n                I just got my Special Order ...   \n",
       "3  \\n                About 2 months ago I purchas...   \n",
       "4  \\n                We bought a tungsten metalli...   \n",
       "5  \\n                I have a 2012 Dodge Charger ...   \n",
       "\n",
       "                                  Brand                 Car Car_Year Car_Make  \\\n",
       "1  dodge-charger-2012/consumer-reviews/  dodge-charger-2012     2012    dodge   \n",
       "2  dodge-charger-2012/consumer-reviews/  dodge-charger-2012     2012    dodge   \n",
       "3  dodge-charger-2012/consumer-reviews/  dodge-charger-2012     2012    dodge   \n",
       "4  dodge-charger-2012/consumer-reviews/  dodge-charger-2012     2012    dodge   \n",
       "5  dodge-charger-2012/consumer-reviews/  dodge-charger-2012     2012    dodge   \n",
       "\n",
       "  Car_Model  \n",
       "1   charger  \n",
       "2   charger  \n",
       "3   charger  \n",
       "4   charger  \n",
       "5   charger  "
      ]
     },
     "execution_count": 90,
     "metadata": {},
     "output_type": "execute_result"
    }
   ],
   "source": [
    "car_review.head()"
   ]
  },
  {
   "cell_type": "markdown",
   "metadata": {},
   "source": [
    "### Reviews"
   ]
  },
  {
   "cell_type": "code",
   "execution_count": 91,
   "metadata": {
    "collapsed": true
   },
   "outputs": [],
   "source": [
    "car_review['Review'] = car_review['Review'].map(lambda x: x.rstrip().lstrip())"
   ]
  },
  {
   "cell_type": "code",
   "execution_count": 92,
   "metadata": {},
   "outputs": [
    {
     "data": {
      "text/plain": [
       "1    This is what I've bought Saturday:\\n2012 Dodge...\n",
       "2    I just got my Special Order wiith my name on w...\n",
       "3    About 2 months ago I purchased a new Dodge Cha...\n",
       "4    We bought a tungsten metallic SXT-Plus Charger...\n",
       "5    I have a 2012 Dodge Charger R/T Plus AWD in re...\n",
       "Name: Review, dtype: object"
      ]
     },
     "execution_count": 92,
     "metadata": {},
     "output_type": "execute_result"
    }
   ],
   "source": [
    "car_review['Review'].head()"
   ]
  },
  {
   "cell_type": "markdown",
   "metadata": {},
   "source": [
    "### Remove duplicate review\n",
    "* There are some duplicate reviews in the dataset"
   ]
  },
  {
   "cell_type": "code",
   "execution_count": 93,
   "metadata": {},
   "outputs": [
    {
     "data": {
      "text/plain": [
       "(19242, 8)"
      ]
     },
     "execution_count": 93,
     "metadata": {},
     "output_type": "execute_result"
    }
   ],
   "source": [
    "car_review.shape"
   ]
  },
  {
   "cell_type": "code",
   "execution_count": 94,
   "metadata": {},
   "outputs": [
    {
     "data": {
      "text/plain": [
       "10821"
      ]
     },
     "execution_count": 94,
     "metadata": {},
     "output_type": "execute_result"
    }
   ],
   "source": [
    "car_review.Review.nunique()"
   ]
  },
  {
   "cell_type": "code",
   "execution_count": 95,
   "metadata": {},
   "outputs": [
    {
     "data": {
      "text/plain": [
       "A solid compact sedan. I owned a Civic years ago, and I like the emergency brake redesign. The gas cap is gone, and the lid over the gas fill intake locks when the doors lock, and unlocks when the doors unlock. This makes a lot of sense.    52\n",
       "I am very happy with my purchase. No buyers remorse at all. Fast, fun, reliable and comfortable! Would highly recommend this car to anyone. You will not find more bang for you buck.                                                            52\n",
       "Excellent car. Excellent performance and very stylish. Handles excellent on the road. When you need the power this car has it with no problem.                                                                                                   50\n",
       "This is my first new car and I am happy with the comfort and look of the car.  The Civic Hatchback is great to handle and the technical aspects of the car are easy to understand.                                                               50\n",
       "This car is great for you to travel with or just go out on the town with friends. This car feels great when you drive it around. The gas mileage is great also. I feel safe driving it.                                                          50\n",
       "Name: Review, dtype: int64"
      ]
     },
     "execution_count": 95,
     "metadata": {},
     "output_type": "execute_result"
    }
   ],
   "source": [
    "car_review.Review.value_counts().head(5)"
   ]
  },
  {
   "cell_type": "code",
   "execution_count": 96,
   "metadata": {
    "collapsed": true
   },
   "outputs": [],
   "source": [
    "car_review=car_review.drop_duplicates(subset=['Review'])"
   ]
  },
  {
   "cell_type": "code",
   "execution_count": 97,
   "metadata": {},
   "outputs": [
    {
     "name": "stdout",
     "output_type": "stream",
     "text": [
      "Number of unique reviews:  10821\n",
      "Shape of the dataset:  (10821, 8)\n"
     ]
    }
   ],
   "source": [
    "print('Number of unique reviews: ', car_review.Review.nunique())\n",
    "print('Shape of the dataset: ', car_review.shape)"
   ]
  },
  {
   "cell_type": "code",
   "execution_count": 98,
   "metadata": {},
   "outputs": [
    {
     "data": {
      "text/html": [
       "<div>\n",
       "<style>\n",
       "    .dataframe thead tr:only-child th {\n",
       "        text-align: right;\n",
       "    }\n",
       "\n",
       "    .dataframe thead th {\n",
       "        text-align: left;\n",
       "    }\n",
       "\n",
       "    .dataframe tbody tr th {\n",
       "        vertical-align: top;\n",
       "    }\n",
       "</style>\n",
       "<table border=\"1\" class=\"dataframe\">\n",
       "  <thead>\n",
       "    <tr style=\"text-align: right;\">\n",
       "      <th></th>\n",
       "      <th>Rating</th>\n",
       "      <th>Year</th>\n",
       "      <th>Review</th>\n",
       "      <th>Brand</th>\n",
       "      <th>Car</th>\n",
       "      <th>Car_Year</th>\n",
       "      <th>Car_Make</th>\n",
       "      <th>Car_Model</th>\n",
       "    </tr>\n",
       "  </thead>\n",
       "  <tbody>\n",
       "    <tr>\n",
       "      <th>1</th>\n",
       "      <td>4</td>\n",
       "      <td>\\n                by JayeMaye\\n               ...</td>\n",
       "      <td>This is what I've bought Saturday:\\n2012 Dodge...</td>\n",
       "      <td>dodge-charger-2012/consumer-reviews/</td>\n",
       "      <td>dodge-charger-2012</td>\n",
       "      <td>2012</td>\n",
       "      <td>dodge</td>\n",
       "      <td>charger</td>\n",
       "    </tr>\n",
       "    <tr>\n",
       "      <th>2</th>\n",
       "      <td>5</td>\n",
       "      <td>\\n                by Female Driver\\n          ...</td>\n",
       "      <td>I just got my Special Order wiith my name on w...</td>\n",
       "      <td>dodge-charger-2012/consumer-reviews/</td>\n",
       "      <td>dodge-charger-2012</td>\n",
       "      <td>2012</td>\n",
       "      <td>dodge</td>\n",
       "      <td>charger</td>\n",
       "    </tr>\n",
       "    <tr>\n",
       "      <th>3</th>\n",
       "      <td>5</td>\n",
       "      <td>\\n                by New Car Buyer\\n          ...</td>\n",
       "      <td>About 2 months ago I purchased a new Dodge Cha...</td>\n",
       "      <td>dodge-charger-2012/consumer-reviews/</td>\n",
       "      <td>dodge-charger-2012</td>\n",
       "      <td>2012</td>\n",
       "      <td>dodge</td>\n",
       "      <td>charger</td>\n",
       "    </tr>\n",
       "    <tr>\n",
       "      <th>4</th>\n",
       "      <td>5</td>\n",
       "      <td>\\n                by KTisaPhillyPhan\\n        ...</td>\n",
       "      <td>We bought a tungsten metallic SXT-Plus Charger...</td>\n",
       "      <td>dodge-charger-2012/consumer-reviews/</td>\n",
       "      <td>dodge-charger-2012</td>\n",
       "      <td>2012</td>\n",
       "      <td>dodge</td>\n",
       "      <td>charger</td>\n",
       "    </tr>\n",
       "    <tr>\n",
       "      <th>5</th>\n",
       "      <td>5</td>\n",
       "      <td>\\n                by I&lt;3DODGE\\n               ...</td>\n",
       "      <td>I have a 2012 Dodge Charger R/T Plus AWD in re...</td>\n",
       "      <td>dodge-charger-2012/consumer-reviews/</td>\n",
       "      <td>dodge-charger-2012</td>\n",
       "      <td>2012</td>\n",
       "      <td>dodge</td>\n",
       "      <td>charger</td>\n",
       "    </tr>\n",
       "  </tbody>\n",
       "</table>\n",
       "</div>"
      ],
      "text/plain": [
       "   Rating                                               Year  \\\n",
       "1       4  \\n                by JayeMaye\\n               ...   \n",
       "2       5  \\n                by Female Driver\\n          ...   \n",
       "3       5  \\n                by New Car Buyer\\n          ...   \n",
       "4       5  \\n                by KTisaPhillyPhan\\n        ...   \n",
       "5       5  \\n                by I<3DODGE\\n               ...   \n",
       "\n",
       "                                              Review  \\\n",
       "1  This is what I've bought Saturday:\\n2012 Dodge...   \n",
       "2  I just got my Special Order wiith my name on w...   \n",
       "3  About 2 months ago I purchased a new Dodge Cha...   \n",
       "4  We bought a tungsten metallic SXT-Plus Charger...   \n",
       "5  I have a 2012 Dodge Charger R/T Plus AWD in re...   \n",
       "\n",
       "                                  Brand                 Car Car_Year Car_Make  \\\n",
       "1  dodge-charger-2012/consumer-reviews/  dodge-charger-2012     2012    dodge   \n",
       "2  dodge-charger-2012/consumer-reviews/  dodge-charger-2012     2012    dodge   \n",
       "3  dodge-charger-2012/consumer-reviews/  dodge-charger-2012     2012    dodge   \n",
       "4  dodge-charger-2012/consumer-reviews/  dodge-charger-2012     2012    dodge   \n",
       "5  dodge-charger-2012/consumer-reviews/  dodge-charger-2012     2012    dodge   \n",
       "\n",
       "  Car_Model  \n",
       "1   charger  \n",
       "2   charger  \n",
       "3   charger  \n",
       "4   charger  \n",
       "5   charger  "
      ]
     },
     "execution_count": 98,
     "metadata": {},
     "output_type": "execute_result"
    }
   ],
   "source": [
    "car_review.head()"
   ]
  },
  {
   "cell_type": "code",
   "execution_count": 99,
   "metadata": {},
   "outputs": [
    {
     "data": {
      "text/plain": [
       "5    7815\n",
       "4    1943\n",
       "3     538\n",
       "2     273\n",
       "1     252\n",
       "Name: Rating, dtype: int64"
      ]
     },
     "execution_count": 99,
     "metadata": {},
     "output_type": "execute_result"
    }
   ],
   "source": [
    "car_review.Rating.value_counts()"
   ]
  },
  {
   "cell_type": "code",
   "execution_count": 100,
   "metadata": {},
   "outputs": [
    {
     "data": {
      "image/png": "[encoded data removed]",
      "text/plain": [
       "<matplotlib.figure.Figure at 0x1c456124a8>"
      ]
     },
     "metadata": {},
     "output_type": "display_data"
    }
   ],
   "source": [
    "car_review.Rating.value_counts(sort=False).plot(kind = 'bar')\n",
    "plt.show()"
   ]
  },
  {
   "cell_type": "code",
   "execution_count": 101,
   "metadata": {},
   "outputs": [
    {
     "data": {
      "text/html": [
       "<div>\n",
       "<style>\n",
       "    .dataframe thead tr:only-child th {\n",
       "        text-align: right;\n",
       "    }\n",
       "\n",
       "    .dataframe thead th {\n",
       "        text-align: left;\n",
       "    }\n",
       "\n",
       "    .dataframe tbody tr th {\n",
       "        vertical-align: top;\n",
       "    }\n",
       "</style>\n",
       "<table border=\"1\" class=\"dataframe\">\n",
       "  <thead>\n",
       "    <tr style=\"text-align: right;\">\n",
       "      <th>col_0</th>\n",
       "      <th>count</th>\n",
       "    </tr>\n",
       "    <tr>\n",
       "      <th>Rating</th>\n",
       "      <th></th>\n",
       "    </tr>\n",
       "  </thead>\n",
       "  <tbody>\n",
       "    <tr>\n",
       "      <th>1</th>\n",
       "      <td>0.023288</td>\n",
       "    </tr>\n",
       "    <tr>\n",
       "      <th>2</th>\n",
       "      <td>0.025229</td>\n",
       "    </tr>\n",
       "    <tr>\n",
       "      <th>3</th>\n",
       "      <td>0.049718</td>\n",
       "    </tr>\n",
       "    <tr>\n",
       "      <th>4</th>\n",
       "      <td>0.179558</td>\n",
       "    </tr>\n",
       "    <tr>\n",
       "      <th>5</th>\n",
       "      <td>0.722207</td>\n",
       "    </tr>\n",
       "  </tbody>\n",
       "</table>\n",
       "</div>"
      ],
      "text/plain": [
       "col_0      count\n",
       "Rating          \n",
       "1       0.023288\n",
       "2       0.025229\n",
       "3       0.049718\n",
       "4       0.179558\n",
       "5       0.722207"
      ]
     },
     "execution_count": 101,
     "metadata": {},
     "output_type": "execute_result"
    }
   ],
   "source": [
    "pd.crosstab(index=car_review.Rating, columns=\"count\")/pd.crosstab(index=car_review.Rating, columns=\"count\").sum()"
   ]
  },
  {
   "cell_type": "markdown",
   "metadata": {},
   "source": [
    "### Create positive & negative tag "
   ]
  },
  {
   "cell_type": "code",
   "execution_count": 102,
   "metadata": {
    "collapsed": true
   },
   "outputs": [],
   "source": [
    "car_review['tag'] = car_review['Rating'].map(lambda x:0 if x==5 else 1)"
   ]
  },
  {
   "cell_type": "code",
   "execution_count": 103,
   "metadata": {},
   "outputs": [
    {
     "data": {
      "text/plain": [
       "0    7815\n",
       "1    3006\n",
       "Name: tag, dtype: int64"
      ]
     },
     "execution_count": 103,
     "metadata": {},
     "output_type": "execute_result"
    }
   ],
   "source": [
    "car_review['tag'].value_counts(sort=False)"
   ]
  },
  {
   "cell_type": "markdown",
   "metadata": {},
   "source": [
    "* I tag the reviews that the users not fully satisfied with the car.\n",
    "#### 1: negative;\n",
    "#### 0: positive."
   ]
  },
  {
   "cell_type": "markdown",
   "metadata": {},
   "source": [
    "# Topic Modeling"
   ]
  },
  {
   "cell_type": "markdown",
   "metadata": {},
   "source": [
    "## 1. Removing new line characters and distracting single quotes"
   ]
  },
  {
   "cell_type": "code",
   "execution_count": 23,
   "metadata": {
    "collapsed": true
   },
   "outputs": [],
   "source": [
    "# Remove new line characters\n",
    "data = [re.sub('\\s+', ' ', i) for i in car_review.Review]\n",
    "# Remove distracting single quotes\n",
    "data = [re.sub(\"\\'\", \"\", i) for i in data]"
   ]
  },
  {
   "cell_type": "markdown",
   "metadata": {},
   "source": [
    "## 2. Tokenize and Clean-up using gensim’s simple_preprocess()"
   ]
  },
  {
   "cell_type": "code",
   "execution_count": 25,
   "metadata": {
    "collapsed": true
   },
   "outputs": [],
   "source": [
    "def sent_to_words(sentences):\n",
    "    for sentence in sentences:\n",
    "        yield(gensim.utils.simple_preprocess(str(sentence), deacc=True))  # deacc=True removes punctuations"
   ]
  },
  {
   "cell_type": "code",
   "execution_count": 26,
   "metadata": {
    "collapsed": true
   },
   "outputs": [],
   "source": [
    "data_words = list(sent_to_words(data))\n",
    "\n",
    "# print(data_words[:1])"
   ]
  },
  {
   "cell_type": "markdown",
   "metadata": {},
   "source": [
    "## 3. Lemmatization\n",
    "* Lemmatization is a process where we convert words to its root word.\n",
    "* For example: ‘Studying’ becomes ‘Study’, ‘Meeting becomes ‘Meet’, ‘Better’ and ‘Best’ becomes ‘Good’.\n",
    "* The advantage of this is, we get to reduce the total number of unique words in the dictionary. As a result, the number of columns in the document-word matrix will be denser with lesser columns.\n",
    "\n",
    "You can expect better topics to be generated in the end."
   ]
  },
  {
   "cell_type": "code",
   "execution_count": 27,
   "metadata": {
    "collapsed": true
   },
   "outputs": [],
   "source": [
    "def lemmatization(texts, allowed_postags=['NOUN', 'ADJ', 'VERB', 'ADV']):\n",
    "    \"\"\"https://spacy.io/api/annotation\"\"\"\n",
    "    texts_out = []\n",
    "    for sent in texts:\n",
    "        doc = nlp(\" \".join(sent)) \n",
    "        texts_out.append(\" \".join([token.lemma_ if token.lemma_ not in ['-PRON-'] else '' for token in doc if token.pos_ in allowed_postags]))\n",
    "    return texts_out"
   ]
  },
  {
   "cell_type": "code",
   "execution_count": 28,
   "metadata": {},
   "outputs": [
    {
     "name": "stdout",
     "output_type": "stream",
     "text": [
      "['be what have buy saturday dodge charger blackberry pearl raylle package navigation system backup camera spoiler sunroof cloth seat  review trade  dodge charger sxt leather do not think would like cloth seat be okay everything inside  car be black even ceiling so would not be able see stain major car drive very well absolutely love weight steering wheel  pretty quiet inside road visibility be good find thinking excuse just drive somewhere have also discover sport mode which make very thrilling drive make charger feel sound tiny little sport car love push button start do not even need take key  pocket now problem will come summer time when will not have jacket put  key be guy so ill probably have buy belt clip clip remote start be such great feature as well overall car still have get use cloth seat honestly feel good leather be think leather give cloth seat try may not even want purchase only thing see be problem be find comfy driving position do not have power adjustable pedal one  charger guess will find time give shot have old charger would recommend trade one be build much good  opinion']\n"
     ]
    }
   ],
   "source": [
    "# Initialize spacy 'en' model, keeping only tagger component (for efficiency)\n",
    "# Run in terminal: python3 -m spacy download en\n",
    "nlp = spacy.load('en', disable=['parser', 'ner'])\n",
    "\n",
    "# Do lemmatization keeping only Noun, Adj, Verb, Adverb\n",
    "data_lemmatized = lemmatization(data_words, allowed_postags=['NOUN', 'ADJ', 'VERB', 'ADV'])\n",
    "\n",
    "print(data_lemmatized[:1])"
   ]
  },
  {
   "cell_type": "markdown",
   "metadata": {},
   "source": [
    "## 4. Create the Document-Word matrix"
   ]
  },
  {
   "cell_type": "markdown",
   "metadata": {},
   "source": [
    "* Count Vectorizer"
   ]
  },
  {
   "cell_type": "code",
   "execution_count": 29,
   "metadata": {
    "collapsed": true
   },
   "outputs": [],
   "source": [
    "vectorizer = CountVectorizer(analyzer='word',  \n",
    "                             max_df=0.95,\n",
    "                             min_df=5,                        # minimum reqd occurences of a word \n",
    "                             stop_words='english',             # remove stop words\n",
    "                             lowercase=True,                   # convert all words to lowercase\n",
    "                             token_pattern='[a-zA-Z0-9]{3,}',  # num chars > 3\n",
    "                             # max_features=50000,             # max number of uniq words\n",
    "                            )\n",
    "\n",
    "data_vectorized = vectorizer.fit_transform(data_lemmatized)"
   ]
  },
  {
   "cell_type": "code",
   "execution_count": 30,
   "metadata": {},
   "outputs": [
    {
     "data": {
      "text/plain": [
       "(10821, 3466)"
      ]
     },
     "execution_count": 30,
     "metadata": {},
     "output_type": "execute_result"
    }
   ],
   "source": [
    "data_vectorized.todense().shape"
   ]
  },
  {
   "cell_type": "markdown",
   "metadata": {},
   "source": [
    "* TF-IDF Vectorizer"
   ]
  },
  {
   "cell_type": "code",
   "execution_count": 31,
   "metadata": {
    "collapsed": true
   },
   "outputs": [],
   "source": [
    "tfidf_vectorizer = TfidfVectorizer(analyzer='word',       \n",
    "                             max_df=0.95,\n",
    "                            min_df=5,                        # minimum reqd occurences of a word \n",
    "                             stop_words='english',             # remove stop words\n",
    "                             lowercase=True,                   # convert all words to lowercase\n",
    "                             token_pattern='[a-zA-Z0-9]{3,}',  # num chars > 3\n",
    "                             # max_features=50000,             # max number of uniq words\n",
    "                            )\n",
    "\n",
    "tfidf_data_vectorized = tfidf_vectorizer.fit_transform(data_lemmatized)"
   ]
  },
  {
   "cell_type": "code",
   "execution_count": 32,
   "metadata": {},
   "outputs": [
    {
     "data": {
      "text/plain": [
       "(10821, 3466)"
      ]
     },
     "execution_count": 32,
     "metadata": {},
     "output_type": "execute_result"
    }
   ],
   "source": [
    "tfidf_data_vectorized.todense().shape"
   ]
  },
  {
   "cell_type": "markdown",
   "metadata": {},
   "source": [
    "## 5. Check the Sparsicity"
   ]
  },
  {
   "cell_type": "markdown",
   "metadata": {},
   "source": [
    "* Sparsicity is nothing but the percentage of non-zero datapoints in the document-word matrix, that is data_vectorized.\n",
    "* Since most cells in this matrix will be zero, I am interested in knowing what percentage of cells contain non-zero values."
   ]
  },
  {
   "cell_type": "markdown",
   "metadata": {},
   "source": [
    "* Count Vectorizer"
   ]
  },
  {
   "cell_type": "code",
   "execution_count": 33,
   "metadata": {},
   "outputs": [
    {
     "name": "stdout",
     "output_type": "stream",
     "text": [
      "Count Vectorizer Sparsicity:  0.7322535901718746 %\n"
     ]
    }
   ],
   "source": [
    "# Materialize the sparse data\n",
    "data_dense = data_vectorized.todense()\n",
    "\n",
    "# Compute Sparsicity = Percentage of Non-Zero cells\n",
    "print(\"Count Vectorizer Sparsicity: \", ((data_dense > 0).sum()/data_dense.size)*100, \"%\")"
   ]
  },
  {
   "cell_type": "markdown",
   "metadata": {},
   "source": [
    "* TF-IDF Vectorizer"
   ]
  },
  {
   "cell_type": "code",
   "execution_count": 34,
   "metadata": {},
   "outputs": [
    {
     "name": "stdout",
     "output_type": "stream",
     "text": [
      "Count Vectorizer Sparsicity:  0.7322535901718746 %\n"
     ]
    }
   ],
   "source": [
    "# Materialize the sparse data\n",
    "tfidf_data_dense = tfidf_data_vectorized.todense()\n",
    "\n",
    "# Compute Sparsicity = Percentage of Non-Zero cells\n",
    "print(\"Count Vectorizer Sparsicity: \", ((tfidf_data_dense > 0).sum()/tfidf_data_dense.size)*100, \"%\")"
   ]
  },
  {
   "cell_type": "markdown",
   "metadata": {},
   "source": [
    "## 6. Build LDA model with sklearn\n",
    "* Everything is ready to build a Latent Dirichlet Allocation (LDA) model. Let’s initialise one and call fit_transform() to build the LDA model."
   ]
  },
  {
   "cell_type": "markdown",
   "metadata": {},
   "source": [
    "* Count Vectorizer"
   ]
  },
  {
   "cell_type": "code",
   "execution_count": 35,
   "metadata": {},
   "outputs": [
    {
     "name": "stdout",
     "output_type": "stream",
     "text": [
      "LatentDirichletAllocation(batch_size=128, doc_topic_prior=None,\n",
      "             evaluate_every=-1, learning_decay=0.7,\n",
      "             learning_method='online', learning_offset=10.0,\n",
      "             max_doc_update_iter=100, max_iter=10, mean_change_tol=0.001,\n",
      "             n_components=10, n_jobs=-1, n_topics=20, perp_tol=0.1,\n",
      "             random_state=100, topic_word_prior=None,\n",
      "             total_samples=1000000.0, verbose=0)\n"
     ]
    }
   ],
   "source": [
    "# Build LDA Model\n",
    "lda_model = LatentDirichletAllocation(n_topics=20,               # Number of topics\n",
    "                                      max_iter=10,               # Max learning iterations\n",
    "                                      learning_method='online',   \n",
    "                                      random_state=100,          # Random state\n",
    "                                      batch_size=128,            # n docs in each learning iter\n",
    "                                      evaluate_every = -1,       # compute perplexity every n iters, default: Don't\n",
    "                                      n_jobs = -1,               # Use all available CPUs\n",
    "                                     )\n",
    "lda_output = lda_model.fit_transform(data_vectorized)\n",
    "\n",
    "print(lda_model)  # Model attributes"
   ]
  },
  {
   "cell_type": "markdown",
   "metadata": {},
   "source": [
    "* TF-IDF Vectorizer"
   ]
  },
  {
   "cell_type": "code",
   "execution_count": 36,
   "metadata": {},
   "outputs": [
    {
     "name": "stdout",
     "output_type": "stream",
     "text": [
      "LatentDirichletAllocation(batch_size=128, doc_topic_prior=None,\n",
      "             evaluate_every=-1, learning_decay=0.7,\n",
      "             learning_method='online', learning_offset=10.0,\n",
      "             max_doc_update_iter=100, max_iter=10, mean_change_tol=0.001,\n",
      "             n_components=10, n_jobs=-1, n_topics=20, perp_tol=0.1,\n",
      "             random_state=100, topic_word_prior=None,\n",
      "             total_samples=1000000.0, verbose=0)\n"
     ]
    }
   ],
   "source": [
    "# Build LDA Model\n",
    "tfidf_lda_model = LatentDirichletAllocation(n_topics=20,               # Number of topics\n",
    "                                      max_iter=10,               # Max learning iterations\n",
    "                                      learning_method='online',   \n",
    "                                      random_state=100,          # Random state\n",
    "                                      batch_size=128,            # n docs in each learning iter\n",
    "                                      evaluate_every = -1,       # compute perplexity every n iters, default: Don't\n",
    "                                      n_jobs = -1,               # Use all available CPUs\n",
    "                                     )\n",
    "tfidf_lda_output = tfidf_lda_model.fit_transform(tfidf_data_vectorized)\n",
    "\n",
    "print(tfidf_lda_model)  # Model attributes"
   ]
  },
  {
   "cell_type": "markdown",
   "metadata": {},
   "source": [
    "## 7. Diagnose model performance with perplexity and log-likelihood\n",
    "* A model with higher log-likelihood and lower perplexity (exp(-1. * log-likelihood per word)) is considered to be good. Let’s check for our model."
   ]
  },
  {
   "cell_type": "markdown",
   "metadata": {},
   "source": [
    "* Count Vectorizer"
   ]
  },
  {
   "cell_type": "code",
   "execution_count": 37,
   "metadata": {},
   "outputs": [
    {
     "name": "stdout",
     "output_type": "stream",
     "text": [
      "Log Likelihood:  -2227611.600980399\n",
      "Perplexity:  878.1153085972826\n",
      "{'batch_size': 128, 'doc_topic_prior': None, 'evaluate_every': -1, 'learning_decay': 0.7, 'learning_method': 'online', 'learning_offset': 10.0, 'max_doc_update_iter': 100, 'max_iter': 10, 'mean_change_tol': 0.001, 'n_components': 10, 'n_jobs': -1, 'n_topics': 20, 'perp_tol': 0.1, 'random_state': 100, 'topic_word_prior': None, 'total_samples': 1000000.0, 'verbose': 0}\n"
     ]
    }
   ],
   "source": [
    "# Log Likelyhood: Higher the better\n",
    "print(\"Log Likelihood: \", lda_model.score(data_vectorized))\n",
    "\n",
    "# Perplexity: Lower the better. Perplexity = exp(-1. * log-likelihood per word)\n",
    "print(\"Perplexity: \", lda_model.perplexity(data_vectorized))\n",
    "\n",
    "# See model parameters\n",
    "print(lda_model.get_params())"
   ]
  },
  {
   "cell_type": "markdown",
   "metadata": {},
   "source": [
    "* TF-IDF Vectorizer"
   ]
  },
  {
   "cell_type": "code",
   "execution_count": 38,
   "metadata": {},
   "outputs": [
    {
     "name": "stdout",
     "output_type": "stream",
     "text": [
      "Log Likelihood:  -389638.29555575986\n",
      "Perplexity:  4027.791891931383\n",
      "{'batch_size': 128, 'doc_topic_prior': None, 'evaluate_every': -1, 'learning_decay': 0.7, 'learning_method': 'online', 'learning_offset': 10.0, 'max_doc_update_iter': 100, 'max_iter': 10, 'mean_change_tol': 0.001, 'n_components': 10, 'n_jobs': -1, 'n_topics': 20, 'perp_tol': 0.1, 'random_state': 100, 'topic_word_prior': None, 'total_samples': 1000000.0, 'verbose': 0}\n"
     ]
    }
   ],
   "source": [
    "# Log Likelyhood: Higher the better\n",
    "print(\"Log Likelihood: \", tfidf_lda_model.score(tfidf_data_vectorized))\n",
    "\n",
    "# Perplexity: Lower the better. Perplexity = exp(-1. * log-likelihood per word)\n",
    "print(\"Perplexity: \", tfidf_lda_model.perplexity(tfidf_data_vectorized))\n",
    "\n",
    "# See model parameters\n",
    "print(tfidf_lda_model.get_params())"
   ]
  },
  {
   "cell_type": "markdown",
   "metadata": {},
   "source": [
    "Therefore, I choose Count Vectorizer preprocessing method."
   ]
  },
  {
   "cell_type": "markdown",
   "metadata": {},
   "source": [
    "## 8. GridSearch the best LDA model\n",
    "* The most important tuning parameter for LDA models is n_components (number of topics). In addition, I am going to search learning_decay (which controls the learning rate) as well.\n",
    "* Besides these, other possible search params could be learning_offset (downweigh early iterations. Should be > 1) and max_iter. These could be worth experimenting if you have enough computing resources."
   ]
  },
  {
   "cell_type": "code",
   "execution_count": 56,
   "metadata": {},
   "outputs": [
    {
     "data": {
      "text/plain": [
       "GridSearchCV(cv=None, error_score='raise',\n",
       "       estimator=LatentDirichletAllocation(batch_size=128, doc_topic_prior=None,\n",
       "             evaluate_every=-1, learning_decay=0.7, learning_method=None,\n",
       "             learning_offset=10.0, max_doc_update_iter=100, max_iter=10,\n",
       "             mean_change_tol=0.001, n_components=10, n_jobs=1,\n",
       "             n_topics=None, perp_tol=0.1, random_state=None,\n",
       "             topic_word_prior=None, total_samples=1000000.0, verbose=0),\n",
       "       fit_params=None, iid=True, n_jobs=1,\n",
       "       param_grid={'n_components': [8, 10, 12, 15], 'learning_decay': [0.5, 0.7, 0.9]},\n",
       "       pre_dispatch='2*n_jobs', refit=True, return_train_score='warn',\n",
       "       scoring=None, verbose=0)"
      ]
     },
     "execution_count": 56,
     "metadata": {},
     "output_type": "execute_result"
    }
   ],
   "source": [
    "# Define Search Param\n",
    "search_params = {'n_components': [8, 10, 12, 15], 'learning_decay': [.5, .7, .9]}\n",
    "\n",
    "# Init the Model\n",
    "lda = LatentDirichletAllocation()\n",
    "\n",
    "# Init Grid Search Class\n",
    "model = GridSearchCV(lda, param_grid=search_params)\n",
    "\n",
    "# Do the Grid Search\n",
    "model.fit(data_vectorized)"
   ]
  },
  {
   "cell_type": "markdown",
   "metadata": {},
   "source": [
    "## 9. The best topic model and its parameters"
   ]
  },
  {
   "cell_type": "code",
   "execution_count": 57,
   "metadata": {},
   "outputs": [
    {
     "name": "stdout",
     "output_type": "stream",
     "text": [
      "Best Model's Params:  {'learning_decay': 0.7, 'n_components': 8}\n",
      "Best Log Likelihood Score:  -760240.3357077558\n",
      "Model Perplexity:  770.8574998777895\n"
     ]
    }
   ],
   "source": [
    "# Best Model\n",
    "best_lda_model = model.best_estimator_\n",
    "\n",
    "# Model Parameters\n",
    "print(\"Best Model's Params: \", model.best_params_)\n",
    "\n",
    "# Log Likelihood Score\n",
    "print(\"Best Log Likelihood Score: \", model.best_score_)\n",
    "\n",
    "# Perplexity\n",
    "print(\"Model Perplexity: \", best_lda_model.perplexity(data_vectorized))"
   ]
  },
  {
   "cell_type": "markdown",
   "metadata": {},
   "source": [
    "## Crate model with best parameters"
   ]
  },
  {
   "cell_type": "code",
   "execution_count": 62,
   "metadata": {
    "collapsed": true
   },
   "outputs": [],
   "source": [
    "best_lda_model = LatentDirichletAllocation(learning_decay=0.7, n_components=8)\n",
    "best_lda_output = best_lda_model.fit_transform(data_vectorized)"
   ]
  },
  {
   "cell_type": "code",
   "execution_count": 63,
   "metadata": {},
   "outputs": [
    {
     "name": "stdout",
     "output_type": "stream",
     "text": [
      "Log Likelihood:  -2188566.25755906\n",
      "Perplexity:  779.7534131835474\n"
     ]
    }
   ],
   "source": [
    "# Log Likelyhood: Higher the better\n",
    "print(\"Log Likelihood: \", best_lda_model.score(data_vectorized))\n",
    "\n",
    "# Perplexity: Lower the better. Perplexity = exp(-1. * log-likelihood per word)\n",
    "print(\"Perplexity: \", best_lda_model.perplexity(data_vectorized))"
   ]
  },
  {
   "cell_type": "markdown",
   "metadata": {
    "collapsed": true
   },
   "source": [
    "## 10. The dominant topic in each document"
   ]
  },
  {
   "cell_type": "markdown",
   "metadata": {
    "collapsed": true
   },
   "source": [
    "* To classify a document as belonging to a particular topic, a logical approach is to see which topic has the highest contribution to that document and assign it.\n",
    "* In the table below, I’ve greened out all major topics in a document and assigned the most dominant topic in its own column."
   ]
  },
  {
   "cell_type": "code",
   "execution_count": 64,
   "metadata": {
    "collapsed": true
   },
   "outputs": [],
   "source": [
    "def print_top_words(model, feature_names, n_top_words):\n",
    "    for topic_idx, topic in enumerate(model.components_):\n",
    "        message = \"Topic #%d: \" % topic_idx\n",
    "        message += \" \".join([feature_names[i] for i in topic.argsort()[:-n_top_words - 1:-1]])\n",
    "        print(message)\n",
    "    print()"
   ]
  },
  {
   "cell_type": "code",
   "execution_count": 65,
   "metadata": {},
   "outputs": [
    {
     "name": "stdout",
     "output_type": "stream",
     "text": [
      "\n",
      "Topics in LDA model:\n",
      "Topic #0: mpg seat car highway drive mile road engine speed average transmission use\n",
      "Topic #1: car great good gas mileage love comfortable drive look ride nice room\n",
      "Topic #2: fusion light door subaru sentra screen radio standard touch base mirror turn\n",
      "Topic #3: car need mile buy problem issue new service dealer meet nissan year\n",
      "Topic #4: vehicle purchase chevy new cruze impala make experience sale buy thank car\n",
      "Topic #5: car drive love look great good just feature feel buy mazda want\n",
      "Topic #6: car honda toyota new buy year camry accord good make just sonata\n",
      "Topic #7: tire phone low bluetooth audio work sound helpful free use paint surprise\n",
      "\n"
     ]
    }
   ],
   "source": [
    "print(\"\\nTopics in LDA model:\")\n",
    "tf_feature_names = vectorizer.get_feature_names()\n",
    "print_top_words(best_lda_model, tf_feature_names, 12)"
   ]
  },
  {
   "cell_type": "code",
   "execution_count": 66,
   "metadata": {
    "collapsed": true
   },
   "outputs": [],
   "source": [
    "# Create Document - Topic Matrix\n",
    "lda_output = best_lda_model.transform(data_vectorized)"
   ]
  },
  {
   "cell_type": "code",
   "execution_count": 67,
   "metadata": {},
   "outputs": [],
   "source": [
    "# column names\n",
    "topicnames = []\n",
    "for topic_idx, topic in enumerate(best_lda_model.components_):\n",
    "    topicnames.append(\"Topic #%d: \" % topic_idx)"
   ]
  },
  {
   "cell_type": "code",
   "execution_count": 68,
   "metadata": {
    "collapsed": true
   },
   "outputs": [],
   "source": [
    "# index names\n",
    "docnames = [\"Doc\" + str(i) for i in range(len(data))]"
   ]
  },
  {
   "cell_type": "code",
   "execution_count": 69,
   "metadata": {
    "collapsed": true
   },
   "outputs": [],
   "source": [
    "# Make the pandas dataframe\n",
    "df_document_topic = pd.DataFrame(np.round(lda_output, 2), columns=topicnames, index=docnames)"
   ]
  },
  {
   "cell_type": "code",
   "execution_count": 70,
   "metadata": {},
   "outputs": [
    {
     "data": {
      "text/html": [
       "<div>\n",
       "<style>\n",
       "    .dataframe thead tr:only-child th {\n",
       "        text-align: right;\n",
       "    }\n",
       "\n",
       "    .dataframe thead th {\n",
       "        text-align: left;\n",
       "    }\n",
       "\n",
       "    .dataframe tbody tr th {\n",
       "        vertical-align: top;\n",
       "    }\n",
       "</style>\n",
       "<table border=\"1\" class=\"dataframe\">\n",
       "  <thead>\n",
       "    <tr style=\"text-align: right;\">\n",
       "      <th></th>\n",
       "      <th>Topic #0:</th>\n",
       "      <th>Topic #1:</th>\n",
       "      <th>Topic #2:</th>\n",
       "      <th>Topic #3:</th>\n",
       "      <th>Topic #4:</th>\n",
       "      <th>Topic #5:</th>\n",
       "      <th>Topic #6:</th>\n",
       "      <th>Topic #7:</th>\n",
       "      <th>dominant_topic</th>\n",
       "    </tr>\n",
       "  </thead>\n",
       "  <tbody>\n",
       "    <tr>\n",
       "      <th>Doc0</th>\n",
       "      <td>0.31</td>\n",
       "      <td>0.00</td>\n",
       "      <td>0.00</td>\n",
       "      <td>0.0</td>\n",
       "      <td>0.0</td>\n",
       "      <td>0.69</td>\n",
       "      <td>0.00</td>\n",
       "      <td>0.0</td>\n",
       "      <td>5</td>\n",
       "    </tr>\n",
       "    <tr>\n",
       "      <th>Doc1</th>\n",
       "      <td>0.11</td>\n",
       "      <td>0.00</td>\n",
       "      <td>0.03</td>\n",
       "      <td>0.0</td>\n",
       "      <td>0.0</td>\n",
       "      <td>0.42</td>\n",
       "      <td>0.44</td>\n",
       "      <td>0.0</td>\n",
       "      <td>6</td>\n",
       "    </tr>\n",
       "    <tr>\n",
       "      <th>Doc2</th>\n",
       "      <td>0.35</td>\n",
       "      <td>0.00</td>\n",
       "      <td>0.00</td>\n",
       "      <td>0.0</td>\n",
       "      <td>0.0</td>\n",
       "      <td>0.63</td>\n",
       "      <td>0.00</td>\n",
       "      <td>0.0</td>\n",
       "      <td>5</td>\n",
       "    </tr>\n",
       "    <tr>\n",
       "      <th>Doc3</th>\n",
       "      <td>0.11</td>\n",
       "      <td>0.22</td>\n",
       "      <td>0.00</td>\n",
       "      <td>0.0</td>\n",
       "      <td>0.0</td>\n",
       "      <td>0.66</td>\n",
       "      <td>0.00</td>\n",
       "      <td>0.0</td>\n",
       "      <td>5</td>\n",
       "    </tr>\n",
       "    <tr>\n",
       "      <th>Doc4</th>\n",
       "      <td>0.00</td>\n",
       "      <td>0.16</td>\n",
       "      <td>0.22</td>\n",
       "      <td>0.0</td>\n",
       "      <td>0.0</td>\n",
       "      <td>0.61</td>\n",
       "      <td>0.00</td>\n",
       "      <td>0.0</td>\n",
       "      <td>5</td>\n",
       "    </tr>\n",
       "  </tbody>\n",
       "</table>\n",
       "</div>"
      ],
      "text/plain": [
       "      Topic #0:   Topic #1:   Topic #2:   Topic #3:   Topic #4:   Topic #5:   \\\n",
       "Doc0        0.31        0.00        0.00         0.0         0.0        0.69   \n",
       "Doc1        0.11        0.00        0.03         0.0         0.0        0.42   \n",
       "Doc2        0.35        0.00        0.00         0.0         0.0        0.63   \n",
       "Doc3        0.11        0.22        0.00         0.0         0.0        0.66   \n",
       "Doc4        0.00        0.16        0.22         0.0         0.0        0.61   \n",
       "\n",
       "      Topic #6:   Topic #7:   dominant_topic  \n",
       "Doc0        0.00         0.0               5  \n",
       "Doc1        0.44         0.0               6  \n",
       "Doc2        0.00         0.0               5  \n",
       "Doc3        0.00         0.0               5  \n",
       "Doc4        0.00         0.0               5  "
      ]
     },
     "execution_count": 70,
     "metadata": {},
     "output_type": "execute_result"
    }
   ],
   "source": [
    "# Get dominant topic for each document\n",
    "dominant_topic = np.argmax(df_document_topic.values, axis=1)\n",
    "df_document_topic['dominant_topic'] = dominant_topic\n",
    "df_document_topic.head()"
   ]
  },
  {
   "cell_type": "markdown",
   "metadata": {},
   "source": [
    "## 11. Review topics distribution across documents"
   ]
  },
  {
   "cell_type": "code",
   "execution_count": 72,
   "metadata": {},
   "outputs": [
    {
     "data": {
      "text/html": [
       "<div>\n",
       "<style>\n",
       "    .dataframe thead tr:only-child th {\n",
       "        text-align: right;\n",
       "    }\n",
       "\n",
       "    .dataframe thead th {\n",
       "        text-align: left;\n",
       "    }\n",
       "\n",
       "    .dataframe tbody tr th {\n",
       "        vertical-align: top;\n",
       "    }\n",
       "</style>\n",
       "<table border=\"1\" class=\"dataframe\">\n",
       "  <thead>\n",
       "    <tr style=\"text-align: right;\">\n",
       "      <th></th>\n",
       "      <th>Topic Num</th>\n",
       "      <th>Num Documents</th>\n",
       "    </tr>\n",
       "  </thead>\n",
       "  <tbody>\n",
       "    <tr>\n",
       "      <th>0</th>\n",
       "      <td>1</td>\n",
       "      <td>3553</td>\n",
       "    </tr>\n",
       "    <tr>\n",
       "      <th>1</th>\n",
       "      <td>5</td>\n",
       "      <td>3337</td>\n",
       "    </tr>\n",
       "    <tr>\n",
       "      <th>2</th>\n",
       "      <td>0</td>\n",
       "      <td>1799</td>\n",
       "    </tr>\n",
       "    <tr>\n",
       "      <th>3</th>\n",
       "      <td>6</td>\n",
       "      <td>1109</td>\n",
       "    </tr>\n",
       "    <tr>\n",
       "      <th>4</th>\n",
       "      <td>3</td>\n",
       "      <td>653</td>\n",
       "    </tr>\n",
       "    <tr>\n",
       "      <th>5</th>\n",
       "      <td>4</td>\n",
       "      <td>229</td>\n",
       "    </tr>\n",
       "    <tr>\n",
       "      <th>6</th>\n",
       "      <td>2</td>\n",
       "      <td>101</td>\n",
       "    </tr>\n",
       "    <tr>\n",
       "      <th>7</th>\n",
       "      <td>7</td>\n",
       "      <td>40</td>\n",
       "    </tr>\n",
       "  </tbody>\n",
       "</table>\n",
       "</div>"
      ],
      "text/plain": [
       "   Topic Num  Num Documents\n",
       "0          1           3553\n",
       "1          5           3337\n",
       "2          0           1799\n",
       "3          6           1109\n",
       "4          3            653\n",
       "5          4            229\n",
       "6          2            101\n",
       "7          7             40"
      ]
     },
     "execution_count": 72,
     "metadata": {},
     "output_type": "execute_result"
    }
   ],
   "source": [
    "df_topic_distribution = df_document_topic['dominant_topic'].value_counts().reset_index(name=\"Num Documents\")\n",
    "df_topic_distribution.columns = ['Topic Num', 'Num Documents']\n",
    "df_topic_distribution"
   ]
  },
  {
   "cell_type": "markdown",
   "metadata": {},
   "source": [
    "## 12. Visualize the LDA model with pyLDAvis\n",
    "* The pyLDAvis offers the best visualization to view the topics-keywords distribution.\n",
    "* A good topic model will have non-overlapping, fairly big sized blobs for each topic. "
   ]
  },
  {
   "cell_type": "code",
   "execution_count": 73,
   "metadata": {},
   "outputs": [
    {
     "data": {
      "text/html": [
       "\n",
       "<link rel=\"stylesheet\" type=\"text/css\" href=\"https://cdn.rawgit.com/bmabey/pyLDAvis/files/ldavis.v1.0.0.css\">\n",
       "\n",
       "\n",
       "<div id=\"ldavis_el516541210409570161819354611\"></div>\n",
       "<script type=\"text/javascript\">\n",
       "\n",
       "var ldavis_el516541210409570161819354611_data = {\"mdsDat\": {\"Freq\": [23.58404548927503, 20.62132748541074, 18.849115895480796, 13.802898256804227, 7.586615497520202, 6.546161443150512, 5.062151374644635, 3.9476845577138637], \"cluster\": [1, 1, 1, 1, 1, 1, 1, 1], \"topics\": [1, 2, 3, 4, 5, 6, 7, 8], \"x\": [-209.88665771484375, 186.5366973876953, 179.89212036132812, -40.07902526855469, -31.811037063598633, 21.699840545654297, 280.75177001953125, -213.5051727294922], \"y\": [146.9932403564453, 230.66372680664062, -174.4010467529297, -220.87510681152344, 284.2370910644531, 30.763383865356445, 26.529325485229492, -77.80320739746094]}, \"tinfo\": {\"Category\": [\"Default\", \"Default\", \"Default\", \"Default\", \"Default\", \"Default\", \"Default\", \"Default\", \"Default\", \"Default\", \"Default\", \"Default\", \"Default\", \"Default\", \"Default\", \"Default\", \"Default\", \"Default\", \"Default\", \"Default\", \"Default\", \"Default\", \"Default\", \"Default\", \"Default\", \"Default\", \"Default\", \"Default\", \"Default\", \"Default\", \"Topic1\", \"Topic1\", \"Topic1\", \"Topic1\", \"Topic1\", \"Topic1\", \"Topic1\", \"Topic1\", \"Topic1\", \"Topic1\", \"Topic1\", \"Topic1\", \"Topic1\", \"Topic1\", \"Topic1\", \"Topic1\", \"Topic1\", \"Topic1\", \"Topic1\", \"Topic1\", \"Topic1\", \"Topic1\", \"Topic1\", \"Topic1\", \"Topic1\", \"Topic1\", \"Topic1\", \"Topic1\", \"Topic1\", \"Topic1\", \"Topic1\", \"Topic1\", \"Topic1\", \"Topic1\", \"Topic1\", \"Topic1\", \"Topic1\", \"Topic1\", \"Topic1\", \"Topic1\", \"Topic1\", \"Topic1\", \"Topic1\", \"Topic1\", \"Topic1\", \"Topic1\", \"Topic1\", \"Topic1\", \"Topic1\", \"Topic1\", \"Topic1\", \"Topic1\", \"Topic1\", \"Topic1\", \"Topic1\", \"Topic1\", \"Topic1\", \"Topic1\", \"Topic1\", \"Topic1\", \"Topic1\", \"Topic1\", \"Topic1\", \"Topic1\", \"Topic1\", \"Topic1\", \"Topic1\", \"Topic1\", \"Topic1\", \"Topic1\", \"Topic1\", \"Topic1\", \"Topic1\", \"Topic1\", \"Topic1\", \"Topic2\", \"Topic2\", \"Topic2\", \"Topic2\", \"Topic2\", \"Topic2\", \"Topic2\", \"Topic2\", \"Topic2\", \"Topic2\", \"Topic2\", \"Topic2\", \"Topic2\", \"Topic2\", \"Topic2\", \"Topic2\", \"Topic2\", \"Topic2\", \"Topic2\", \"Topic2\", \"Topic2\", \"Topic2\", \"Topic2\", \"Topic2\", \"Topic2\", \"Topic2\", \"Topic2\", \"Topic2\", \"Topic2\", \"Topic2\", \"Topic2\", \"Topic2\", \"Topic2\", \"Topic2\", \"Topic2\", \"Topic2\", \"Topic2\", \"Topic2\", \"Topic2\", \"Topic2\", \"Topic2\", \"Topic2\", \"Topic2\", \"Topic2\", \"Topic2\", \"Topic2\", \"Topic2\", \"Topic2\", \"Topic2\", \"Topic2\", \"Topic2\", \"Topic2\", \"Topic2\", \"Topic2\", \"Topic2\", \"Topic2\", \"Topic2\", \"Topic2\", \"Topic2\", \"Topic2\", \"Topic2\", \"Topic2\", \"Topic2\", \"Topic2\", \"Topic2\", \"Topic2\", \"Topic2\", \"Topic3\", \"Topic3\", \"Topic3\", \"Topic3\", \"Topic3\", \"Topic3\", \"Topic3\", \"Topic3\", \"Topic3\", \"Topic3\", \"Topic3\", \"Topic3\", \"Topic3\", \"Topic3\", \"Topic3\", \"Topic3\", \"Topic3\", \"Topic3\", \"Topic3\", \"Topic3\", \"Topic3\", \"Topic3\", \"Topic3\", \"Topic3\", \"Topic3\", \"Topic3\", \"Topic3\", \"Topic3\", \"Topic3\", \"Topic3\", \"Topic3\", \"Topic3\", \"Topic3\", \"Topic3\", \"Topic3\", \"Topic3\", \"Topic3\", \"Topic3\", \"Topic3\", \"Topic3\", \"Topic3\", \"Topic3\", \"Topic3\", \"Topic3\", \"Topic3\", \"Topic3\", \"Topic3\", \"Topic3\", \"Topic3\", \"Topic3\", \"Topic3\", \"Topic3\", \"Topic3\", \"Topic3\", \"Topic3\", \"Topic3\", \"Topic3\", \"Topic3\", \"Topic3\", \"Topic3\", \"Topic3\", \"Topic3\", \"Topic3\", \"Topic3\", \"Topic3\", \"Topic3\", \"Topic3\", \"Topic3\", \"Topic3\", \"Topic4\", \"Topic4\", \"Topic4\", \"Topic4\", \"Topic4\", \"Topic4\", \"Topic4\", \"Topic4\", \"Topic4\", \"Topic4\", \"Topic4\", \"Topic4\", \"Topic4\", \"Topic4\", \"Topic4\", \"Topic4\", \"Topic4\", \"Topic4\", \"Topic4\", \"Topic4\", \"Topic4\", \"Topic4\", \"Topic4\", \"Topic4\", \"Topic4\", \"Topic4\", \"Topic4\", \"Topic4\", \"Topic4\", \"Topic4\", \"Topic4\", \"Topic4\", \"Topic4\", \"Topic4\", \"Topic4\", \"Topic4\", \"Topic4\", \"Topic4\", \"Topic4\", \"Topic4\", \"Topic4\", \"Topic4\", \"Topic4\", \"Topic4\", \"Topic4\", \"Topic4\", \"Topic4\", \"Topic4\", \"Topic4\", \"Topic4\", \"Topic4\", \"Topic4\", \"Topic4\", \"Topic4\", \"Topic4\", \"Topic4\", \"Topic4\", \"Topic4\", \"Topic4\", \"Topic4\", \"Topic4\", \"Topic4\", \"Topic4\", \"Topic4\", \"Topic4\", \"Topic4\", \"Topic4\", \"Topic4\", \"Topic4\", \"Topic5\", \"Topic5\", \"Topic5\", \"Topic5\", \"Topic5\", \"Topic5\", \"Topic5\", \"Topic5\", \"Topic5\", \"Topic5\", \"Topic5\", \"Topic5\", \"Topic5\", \"Topic5\", \"Topic5\", \"Topic5\", \"Topic5\", \"Topic5\", \"Topic5\", \"Topic5\", \"Topic5\", \"Topic5\", \"Topic5\", \"Topic5\", \"Topic5\", \"Topic5\", \"Topic5\", \"Topic5\", \"Topic5\", \"Topic5\", \"Topic5\", \"Topic5\", \"Topic5\", \"Topic5\", \"Topic5\", \"Topic5\", \"Topic5\", \"Topic5\", \"Topic5\", \"Topic5\", \"Topic5\", \"Topic5\", \"Topic5\", \"Topic5\", \"Topic5\", \"Topic5\", \"Topic5\", \"Topic5\", \"Topic5\", \"Topic5\", \"Topic5\", \"Topic5\", \"Topic5\", \"Topic5\", \"Topic5\", \"Topic5\", \"Topic5\", \"Topic5\", \"Topic5\", \"Topic5\", \"Topic5\", \"Topic6\", \"Topic6\", \"Topic6\", \"Topic6\", \"Topic6\", \"Topic6\", \"Topic6\", \"Topic6\", \"Topic6\", \"Topic6\", \"Topic6\", \"Topic6\", \"Topic6\", \"Topic6\", \"Topic6\", \"Topic6\", \"Topic6\", \"Topic6\", \"Topic6\", \"Topic6\", \"Topic6\", \"Topic6\", \"Topic6\", \"Topic6\", \"Topic6\", \"Topic6\", \"Topic6\", \"Topic6\", \"Topic6\", \"Topic6\", \"Topic6\", \"Topic6\", \"Topic6\", \"Topic6\", \"Topic6\", \"Topic6\", \"Topic6\", \"Topic6\", \"Topic6\", \"Topic6\", \"Topic6\", \"Topic6\", \"Topic6\", \"Topic6\", \"Topic6\", \"Topic6\", \"Topic6\", \"Topic6\", \"Topic6\", \"Topic6\", \"Topic6\", \"Topic6\", \"Topic6\", \"Topic6\", \"Topic7\", \"Topic7\", \"Topic7\", \"Topic7\", \"Topic7\", \"Topic7\", \"Topic7\", \"Topic7\", \"Topic7\", \"Topic7\", \"Topic7\", \"Topic7\", \"Topic7\", \"Topic7\", \"Topic7\", \"Topic7\", \"Topic7\", \"Topic7\", \"Topic7\", \"Topic7\", \"Topic7\", \"Topic7\", \"Topic7\", \"Topic7\", \"Topic7\", \"Topic7\", \"Topic7\", \"Topic7\", \"Topic7\", \"Topic7\", \"Topic7\", \"Topic7\", \"Topic7\", \"Topic7\", \"Topic7\", \"Topic7\", \"Topic7\", \"Topic7\", \"Topic7\", \"Topic7\", \"Topic7\", \"Topic7\", \"Topic7\", \"Topic7\", \"Topic7\", \"Topic7\", \"Topic7\", \"Topic7\", \"Topic7\", \"Topic7\", \"Topic7\", \"Topic7\", \"Topic7\", \"Topic7\", \"Topic7\", \"Topic7\", \"Topic7\", \"Topic7\", \"Topic7\", \"Topic7\", \"Topic8\", \"Topic8\", \"Topic8\", \"Topic8\", \"Topic8\", \"Topic8\", \"Topic8\", \"Topic8\", \"Topic8\", \"Topic8\", \"Topic8\", \"Topic8\", \"Topic8\", \"Topic8\", \"Topic8\", \"Topic8\", \"Topic8\", \"Topic8\", \"Topic8\", \"Topic8\", \"Topic8\", \"Topic8\", \"Topic8\", \"Topic8\", \"Topic8\", \"Topic8\", \"Topic8\", \"Topic8\", \"Topic8\", \"Topic8\", \"Topic8\", \"Topic8\", \"Topic8\", \"Topic8\", \"Topic8\", \"Topic8\", \"Topic8\", \"Topic8\", \"Topic8\", \"Topic8\", \"Topic8\", \"Topic8\", \"Topic8\", \"Topic8\", \"Topic8\", \"Topic8\", \"Topic8\", \"Topic8\", \"Topic8\", \"Topic8\", \"Topic8\"], \"Freq\": [18367.0, 5540.0, 2293.0, 1792.0, 1716.0, 4097.0, 2788.0, 1264.0, 2898.0, 2679.0, 2046.0, 2004.0, 1753.0, 2378.0, 617.0, 999.0, 938.0, 2579.0, 848.0, 878.0, 5257.0, 1824.0, 868.0, 449.0, 1037.0, 976.0, 466.0, 1046.0, 652.0, 3221.0, 454.7218386178891, 374.1259275673754, 218.2161875390244, 173.0110866429233, 162.2328016867608, 161.65037281488011, 147.12411526205892, 145.30807950167045, 142.19858065022854, 134.6828130878259, 116.67233630245372, 88.43286362888709, 83.34016108091579, 83.41366004848948, 82.72777259294148, 75.3843588152424, 125.47801891135128, 72.42753916932617, 66.97754711223689, 63.15904745701565, 61.080845843247985, 58.175669584762346, 57.622525961160505, 56.507316386761296, 55.88380821609461, 51.877223572507944, 46.979026446264626, 46.1041397187557, 45.25944204843086, 52.09360794491881, 172.30647914097946, 95.57189031345466, 67.35443856996383, 129.75525712687997, 170.04860199846732, 211.73101131615377, 229.83059085516774, 251.02683469854654, 750.4386522027232, 2368.124491094625, 212.6211477432718, 3145.855269179916, 174.21124718309386, 278.7096265142655, 6658.548622732927, 297.1330040482684, 550.6304827706863, 1471.9373990706554, 513.1727847915537, 716.9380514166846, 858.1361832280622, 447.11472658003333, 810.6935207570745, 384.91409661000097, 883.1677812388383, 702.5202095567244, 469.94285277480316, 365.1959937623976, 281.714970069315, 461.81591019479293, 1275.5477906927244, 246.80469387196123, 1055.68162313403, 762.6777843891363, 626.1202128001692, 714.9369282895558, 553.1918514143879, 420.680929087367, 534.8493744949805, 597.463292304151, 447.2547219161409, 466.78277293859406, 473.32268813858985, 415.78942785269743, 434.58560966128914, 1790.463201309618, 632.2712700927386, 239.19915943172296, 236.2491720778366, 211.37112332254404, 339.5557204161254, 177.28239383719782, 155.4835832421095, 149.43101031282748, 144.70547616888263, 134.86193728006558, 132.75186482877336, 146.98988568094424, 125.57047310502344, 117.39912797273985, 115.20793903907355, 106.35986197895028, 106.5832996433806, 103.35400049268031, 375.50421316695173, 97.11237726862439, 96.38729806338252, 93.93094028592235, 93.03127683678947, 89.68609670736853, 76.12735604554383, 77.3896557088593, 74.36051643013401, 78.11977170407127, 69.28771043484802, 961.0769269192805, 193.07808696852723, 510.6279371441478, 546.185878331712, 108.82925834651925, 262.16057869528066, 537.7806567731625, 695.8104665622634, 103.45142959400314, 548.3159455101888, 503.2904355733424, 610.4071881758036, 178.5161569284988, 1640.6421499824883, 552.386659950571, 277.7162729132212, 266.73684955819124, 821.2354166451489, 810.9113788879873, 217.90013032188392, 372.2370829893408, 306.53549408553, 441.95604843553343, 516.4184558891088, 461.55128673289175, 849.573634968013, 436.3966752911402, 525.1154376628406, 609.0218856063212, 496.95158025557686, 315.88320776119417, 531.8404366536281, 865.8572658702765, 1157.0166720008976, 364.51758409966016, 573.3010542556344, 352.16444375972384, 211.31401410030995, 143.0138210110761, 134.74150813749205, 101.40045975444679, 82.88250480736153, 77.74185664352952, 70.84400844393191, 69.19923458708594, 56.364656243020924, 54.77781272500651, 51.95836929736394, 50.39939343601906, 49.32333328981349, 47.59395982399287, 46.72964911366783, 42.534674005342765, 30.99878378632457, 29.014597886131575, 28.695290169156184, 27.78209488755086, 27.77522883280238, 27.40185115377678, 27.36790689841784, 27.343441054819323, 26.18788536696079, 26.087204497983368, 25.4627572716761, 25.235247751581774, 25.247418267240818, 23.531339334859865, 437.7449672514565, 929.783392135851, 602.2857044974131, 460.9676995638351, 274.16211931494183, 541.5446503820204, 1630.4556016745403, 2148.437371849513, 3947.174930633645, 596.3430772196922, 79.669747276655, 800.4563159928155, 607.2907304113763, 1577.4443656562123, 153.1071284048375, 299.34413807325274, 945.828483952827, 971.3201511952952, 291.3408986681158, 417.9825441529913, 2407.260219991809, 479.47690617462547, 300.14084851961826, 470.63627225043757, 681.1329768364209, 5329.994023399388, 824.1506583808232, 1602.6763236687807, 1252.5467735929947, 542.2943671129151, 402.23711491578564, 606.6732296762013, 725.7077683968519, 1355.6912304044, 581.5259732465429, 466.5792806128716, 453.6452508827278, 665.1584878621501, 663.1394986418132, 937.4652772015888, 303.10901983741564, 845.419669688713, 193.69406286222082, 176.43940716248335, 144.94246750261215, 104.56877555808023, 103.20694625267551, 102.83930669294652, 92.92375001561814, 83.10078300816386, 81.43035868306275, 80.97958008034365, 67.99564181061103, 65.08420622339747, 62.01655835028648, 54.64890827003156, 54.255132786040186, 52.50763906500065, 51.159529382356055, 48.64324793157569, 47.137172892603076, 46.2635530582821, 50.13891813862803, 44.24564521561935, 42.43623124826241, 42.25425906136558, 43.14951725521962, 40.68180934275352, 40.43812021538333, 1236.9327602396625, 574.1200135775227, 839.5705760724421, 589.3071720632652, 51.984771813521895, 566.4490121540239, 67.8206151825899, 259.1537473397713, 495.7198326689369, 109.98476627863646, 171.76020607720153, 255.59105954620117, 74.74651124372315, 868.7662085675548, 250.29248485961216, 241.58569474443033, 576.4690656209818, 915.8372091224714, 270.6217368499326, 267.80740112105565, 888.1076294195421, 178.1966004245294, 612.1843295476324, 254.1570341507502, 595.494693995616, 418.07873498899687, 236.43302118924046, 1913.2137429187198, 420.2707784106015, 830.9022770907433, 366.19606888452284, 401.12392508133564, 368.139666513702, 524.4581087017496, 283.2096671952611, 293.9462795759565, 370.46966732845425, 309.0494969538003, 303.4858218963173, 394.695725585128, 338.44097559060356, 287.58922912639423, 155.88436580854213, 142.29486812552244, 118.61397312619104, 101.20727226086473, 90.6654645762802, 90.7051795095522, 189.24676954073772, 76.45525533918662, 75.6023974876216, 69.25760933878885, 64.33889447813823, 61.13700033453439, 57.0038222121093, 55.90880905420556, 52.967108509206845, 47.4610601858742, 45.520119600930926, 46.61409209532576, 42.47952561620376, 299.79207075108394, 39.443339537927535, 38.13057272222907, 37.179159186980385, 31.601199470432704, 29.48962192037135, 28.02867096765381, 27.058106789272294, 429.5593053984764, 175.43609815532554, 303.89683865561284, 715.7987356925629, 101.72979746705575, 62.55680160865362, 541.8833139004948, 915.9121665718139, 334.68952852914293, 406.6013576859426, 316.71965995671695, 282.18629768182933, 744.7366796113607, 152.40114808225022, 382.96938777964795, 3023.87975130321, 726.1992585405085, 357.7798506087962, 194.58122448266283, 203.3188074355196, 476.0819080780043, 359.76923455526634, 377.0080417969557, 281.2277213889048, 238.01921307733278, 220.06219313574385, 212.05348629209504, 355.0375011982875, 297.747561643136, 222.71985239906144, 212.5669081386466, 472.138335009194, 210.96606758376754, 167.7187122171391, 156.92087665281616, 140.42557997182269, 118.58889721495095, 226.0589262219838, 119.37416355143218, 109.58741230654756, 107.83920614693326, 107.63507739640615, 109.12818805361302, 85.83698746092293, 80.9328159673882, 74.93649063436906, 74.09755399800486, 72.9739297764567, 66.30362553388052, 65.53921764086277, 57.08464591738532, 57.51249299139241, 56.539042261511604, 52.72491801817661, 52.50803748949278, 50.21206665912843, 48.24661811100457, 47.50750077348239, 47.13936113656655, 113.18921596876218, 45.65109425326752, 286.7280874011702, 291.6469987389456, 116.08710503312659, 83.21705935158438, 274.11328332150464, 227.45806810184428, 226.5540754976522, 189.30495252670494, 129.82084383414838, 387.31869623164187, 240.6585094465913, 303.90220972764274, 147.29574614900798, 129.46591142600795, 241.8861042989964, 105.33250701703324, 184.26843749261593, 177.3970554408113, 215.5188880071321, 196.6650755352977, 195.29594723589423, 135.96638642062607, 135.20145713268266, 114.43247407765024, 328.9263770576609, 250.5865018021612, 464.7245818761516, 203.32150550095955, 115.23775526782586, 113.99153098157716, 178.1032521171325, 90.17317684961672, 85.2978949372183, 62.88513729897929, 57.35733820888183, 57.135391069442, 54.295590052683124, 46.42645678572784, 44.61154553278662, 44.01752565072907, 45.294285635092216, 35.65557767494803, 35.31059541564191, 34.459139528946864, 33.588321244429665, 33.20724784271871, 29.96538578277404, 28.482769580227178, 27.04030521502307, 40.976968420399594, 25.734105629939787, 24.819868863017188, 24.193098186641656, 23.597230496561217, 339.997332927905, 248.67197141055783, 38.15579518108677, 1107.8025860032008, 73.57252659434742, 272.0917770693249, 108.54225467776233, 213.20454333740292, 503.8826928195617, 96.8806250121895, 59.10367040251891, 77.51453887862547, 126.07563751058635, 95.82363836727487, 177.99004135206835, 381.7334495224097, 173.69420305838594, 103.82509800340306, 77.8772080401222, 133.25532142994632, 274.95910632417826, 156.78789423066752, 249.16392840611604, 107.48002096219125, 142.99240139680666, 99.00744997360724, 224.06176992996677, 111.07861030421518, 108.51379995835607, 100.4641445974647, 191.09940215773526, 150.6334817607973, 120.61093446578114, 104.80582570416294, 94.21578038057568, 91.89188442936424, 83.59538120923699, 76.74393021046477, 71.71173816677933, 69.6611559473852, 66.0380787059589, 63.338196009611174, 62.57274070885331, 59.69235779985664, 53.73404150306934, 51.33901778062571, 50.73893168610595, 55.10693488689824, 48.03359811723978, 47.939959635086694, 44.55246535402734, 42.104281143733544, 38.86540954150174, 38.82239355734841, 38.086976328735304, 37.46662193995089, 31.470743078087256, 31.12053591905662, 30.78490585271766, 30.664536669280107, 100.84601115025811, 426.26396462757214, 577.4522852685682, 66.07700326667853, 66.78032745306668, 121.2051719237435, 143.33740940989816, 70.85378771538052, 243.56587014352456, 81.87333707727153, 249.45085339664186, 93.93783843432743, 170.090897110842, 188.23690591474698, 65.50588226146448, 87.72435286389565, 111.96620653722785, 142.44499941982755, 97.8249541337895, 114.50703866291927, 80.61989045286293], \"Term\": [\"car\", \"great\", \"vehicle\", \"mpg\", \"need\", \"love\", \"gas\", \"honda\", \"buy\", \"new\", \"mile\", \"mileage\", \"purchase\", \"comfortable\", \"tire\", \"problem\", \"toyota\", \"seat\", \"camry\", \"accord\", \"good\", \"year\", \"issue\", \"phone\", \"work\", \"highway\", \"chevy\", \"room\", \"low\", \"look\", \"altima\", \"turbo\", \"save\", \"maxima\", \"play\", \"infiniti\", \"daughter\", \"daily\", \"fully\", \"soon\", \"accident\", \"perfectly\", \"classy\", \"rough\", \"zoom\", \"honestly\", \"luxurious\", \"prior\", \"enjoyable\", \"airbag\", \"pack\", \"cadillac\", \"replacement\", \"crazy\", \"sexy\", \"sweet\", \"watch\", \"hemi\", \"tint\", \"convenient\", \"dream\", \"entry\", \"series\", \"favorite\", \"charger\", \"audi\", \"load\", \"black\", \"mazda\", \"love\", \"spot\", \"drive\", \"blind\", \"absolutely\", \"car\", \"color\", \"sport\", \"look\", \"fun\", \"want\", \"feature\", \"test\", \"feel\", \"option\", \"just\", \"really\", \"nissan\", \"amazing\", \"package\", \"thing\", \"great\", \"technology\", \"good\", \"buy\", \"make\", \"new\", \"use\", \"think\", \"need\", \"comfortable\", \"lot\", \"interior\", \"purchase\", \"come\", \"year\", \"mpg\", \"average\", \"whistle\", \"bell\", \"eco\", \"shift\", \"tight\", \"plastic\", \"glad\", \"uncomfortable\", \"adjust\", \"storage\", \"console\", \"rpm\", \"hwy\", \"shifter\", \"pedal\", \"support\", \"everyday\", \"mph\", \"arm\", \"twice\", \"soft\", \"flat\", \"cause\", \"adjustment\", \"paddle\", \"mixed\", \"belt\", \"midsize\", \"highway\", \"efficient\", \"manual\", \"city\", \"position\", \"gear\", \"steering\", \"speed\", \"hill\", \"trip\", \"noise\", \"transmission\", \"lack\", \"seat\", \"driver\", \"mode\", \"cvt\", \"road\", \"engine\", \"automatic\", \"driving\", \"passenger\", \"rear\", \"wheel\", \"fuel\", \"mile\", \"control\", \"little\", \"use\", \"power\", \"bit\", \"feel\", \"drive\", \"car\", \"high\", \"good\", \"far\", \"expensive\", \"park\", \"dependable\", \"budget\", \"deliver\", \"backseat\", \"cargo\", \"automobile\", \"terrific\", \"fair\", \"wise\", \"throw\", \"saving\", \"notch\", \"aggressive\", \"haul\", \"confidence\", \"millage\", \"aftermarket\", \"zip\", \"thrill\", \"investment\", \"requirement\", \"slick\", \"present\", \"flawless\", \"dependability\", \"peace\", \"placement\", \"sacrifice\", \"perfect\", \"room\", \"plenty\", \"roomy\", \"spacious\", \"space\", \"mileage\", \"gas\", \"great\", \"value\", \"legroom\", \"reliable\", \"excellent\", \"comfortable\", \"affordable\", \"stylish\", \"nice\", \"ride\", \"leg\", \"sporty\", \"good\", \"trunk\", \"size\", \"comfort\", \"smooth\", \"car\", \"interior\", \"love\", \"look\", \"handle\", \"style\", \"price\", \"feature\", \"drive\", \"lot\", \"performance\", \"easy\", \"vehicle\", \"seat\", \"toyota\", \"lease\", \"camry\", \"suspension\", \"fact\", \"decision\", \"cup\", \"holder\", \"stay\", \"function\", \"buying\", \"feeling\", \"stiff\", \"excited\", \"tran\", \"boring\", \"properly\", \"literally\", \"insurance\", \"extended\", \"select\", \"mechanic\", \"optima\", \"waste\", \"increase\", \"relatively\", \"train\", \"disappointing\", \"tranny\", \"shifting\", \"honda\", \"corolla\", \"accord\", \"sonata\", \"reputation\", \"civic\", \"kia\", \"decide\", \"hyundai\", \"bring\", \"wait\", \"pay\", \"non\", \"year\", \"warranty\", \"try\", \"model\", \"new\", \"reliability\", \"brand\", \"buy\", \"different\", \"make\", \"trade\", \"just\", \"come\", \"end\", \"car\", \"price\", \"good\", \"say\", \"time\", \"want\", \"drive\", \"know\", \"think\", \"look\", \"purchase\", \"really\", \"meet\", \"friend\", \"oil\", \"repair\", \"grand\", \"friendly\", \"reasonable\", \"liter\", \"infotainment\", \"expectation\", \"suppose\", \"joy\", \"com\", \"leak\", \"question\", \"answer\", \"finance\", \"chance\", \"staff\", \"economic\", \"die\", \"reverse\", \"fix\", \"fabulous\", \"smile\", \"filter\", \"credit\", \"beware\", \"lie\", \"doesn\", \"service\", \"customer\", \"replace\", \"problem\", \"exceed\", \"ready\", \"issue\", \"need\", \"dealership\", \"dealer\", \"tell\", \"ford\", \"mile\", \"maintenance\", \"nissan\", \"car\", \"buy\", \"work\", \"help\", \"deal\", \"new\", \"time\", \"year\", \"recommend\", \"month\", \"day\", \"family\", \"good\", \"great\", \"purchase\", \"say\", \"fusion\", \"impreza\", \"cabin\", \"usb\", \"freeway\", \"port\", \"mirror\", \"voice\", \"tdi\", \"equip\", \"tooth\", \"torque\", \"acura\", \"buck\", \"merced\", \"floor\", \"app\", \"bang\", \"buick\", \"hug\", \"ecoboost\", \"unlock\", \"fog\", \"flaw\", \"bright\", \"boost\", \"hatch\", \"faster\", \"diesel\", \"carry\", \"sentra\", \"subaru\", \"lead\", \"bumper\", \"screen\", \"touch\", \"base\", \"blue\", \"lock\", \"light\", \"standard\", \"door\", \"key\", \"view\", \"radio\", \"pull\", \"jetta\", \"auto\", \"turn\", \"control\", \"model\", \"add\", \"window\", \"malibu\", \"impala\", \"sale\", \"chevy\", \"salesman\", \"battery\", \"ltz\", \"satisfied\", \"listen\", \"buyer\", \"manager\", \"remain\", \"alert\", \"trust\", \"rep\", \"departure\", \"treat\", \"collision\", \"rust\", \"act\", \"radius\", \"apart\", \"pad\", \"knowledgeable\", \"card\", \"appointment\", \"internet\", \"possibly\", \"fender\", \"gap\", \"occasion\", \"cruze\", \"thank\", \"moment\", \"vehicle\", \"receive\", \"experience\", \"wrong\", \"brand\", \"purchase\", \"economical\", \"possible\", \"happen\", \"worth\", \"lane\", \"dealership\", \"new\", \"week\", \"consider\", \"outstanding\", \"definitely\", \"make\", \"value\", \"buy\", \"warranty\", \"recommend\", \"highly\", \"car\", \"time\", \"come\", \"reliable\", \"audio\", \"helpful\", \"surprise\", \"future\", \"rat\", \"comfortably\", \"pickup\", \"sync\", \"interstate\", \"appear\", \"convenience\", \"visit\", \"connection\", \"certify\", \"saver\", \"wagon\", \"hopefully\", \"cell\", \"team\", \"vibration\", \"smell\", \"profile\", \"necessary\", \"info\", \"electrical\", \"phenomenal\", \"indicator\", \"valve\", \"leatherette\", \"gal\", \"connect\", \"phone\", \"tire\", \"iphone\", \"spare\", \"paint\", \"free\", \"ipod\", \"bluetooth\", \"pleasure\", \"low\", \"music\", \"sound\", \"work\", \"understand\", \"hand\", \"noise\", \"use\", \"issue\", \"vehicle\", \"road\"], \"Total\": [18367.0, 5540.0, 2293.0, 1792.0, 1716.0, 4097.0, 2788.0, 1264.0, 2898.0, 2679.0, 2046.0, 2004.0, 1753.0, 2378.0, 617.0, 999.0, 938.0, 2579.0, 848.0, 878.0, 5257.0, 1824.0, 868.0, 449.0, 1037.0, 976.0, 466.0, 1046.0, 652.0, 3221.0, 455.6030259774576, 375.00720923505025, 219.10064330308464, 173.89158469289288, 163.1142096206266, 162.53164970141205, 148.00521186905766, 146.18937012718774, 143.1029809127911, 135.56485041151743, 117.55353045133285, 89.31519606853546, 84.22104933630555, 84.29685581343412, 83.60869035375367, 76.26536794771376, 126.97050863382508, 73.30990552257869, 67.8914662937062, 64.04203001224752, 61.962150160417835, 59.05653530557897, 58.50520250758959, 57.388207850311815, 56.76455661441233, 52.75822834491983, 47.860427478734, 46.98448542135143, 46.14129240537725, 53.14703075017559, 177.69821052613528, 99.63964894230676, 69.46224743807808, 138.05476672053678, 183.8274652267244, 235.6011523584028, 260.9236599332513, 295.37821875582864, 1051.9830813787053, 4097.464731001012, 257.1331163895973, 6045.137606648172, 211.16855000254472, 375.10186700291683, 18367.165544214247, 410.09012929175117, 909.3675501601736, 3221.2629143836707, 847.8344322803358, 1372.6534526224189, 1775.816347861552, 758.5942680918889, 1749.8058192459514, 621.0272926881513, 2100.0862073611033, 1548.268298601662, 879.9176893708027, 613.3401260873902, 421.5872315913032, 962.3542266912976, 5540.681859159497, 338.99485529992893, 5257.308033533239, 2898.1637311135705, 1990.3345691992122, 2679.846111501501, 1615.374756310955, 957.6095048550919, 1716.651750855334, 2378.114300008012, 1352.074390441366, 1649.3969815332496, 1753.0360373626527, 1167.8711978393637, 1824.1965042338643, 1792.8106486414733, 633.3737196644779, 240.07771388022923, 237.14136199816514, 212.24957460429306, 341.06141273571706, 178.16127356644816, 156.3626309716415, 150.31095728681527, 145.583649224482, 135.7402652992996, 133.63034759971652, 148.00061830405633, 126.44960798503655, 118.28214982988405, 116.08868966010105, 107.23819199853706, 107.46853916232426, 104.23313268989364, 378.87429446722285, 97.99044396016967, 97.26660799561371, 94.80933201774259, 93.90977857726267, 90.56589185822443, 77.00620135761747, 78.29198431362275, 75.238597675409, 79.04371914652852, 70.16673569956261, 976.7666921155252, 195.66474989470348, 524.3940545997318, 561.6220517255682, 110.28274521732993, 271.84600482433905, 603.7235274541202, 810.9081699946794, 105.08369314663364, 692.2911607899867, 629.6352686917146, 790.1443045520833, 195.31787831922392, 2579.092592258763, 739.9913400719482, 330.43203580206944, 318.57638960317286, 1309.4189614381598, 1313.2806564393732, 252.53712946092097, 506.97826144062805, 394.3287645189287, 639.7815412055048, 827.2058332109141, 791.3170441652276, 2046.079820343853, 755.1758406949704, 1037.6076536778746, 1615.374756310955, 1243.492456074894, 466.8081892643181, 1749.8058192459514, 6045.137606648172, 18367.165544214247, 707.2991064898133, 5257.308033533239, 1038.2047500658389, 212.1974115119381, 143.8986496912757, 135.62291473714816, 102.2829692650284, 83.76599312732552, 78.62405635616416, 71.72641552836868, 70.08135750501911, 57.246550686586396, 55.662395308870884, 52.84120678442597, 51.28400207817574, 50.2158545565305, 48.47690445816969, 47.612052176843115, 43.41730581135565, 31.88566945870094, 29.89630859142719, 29.580205663636658, 28.66457518928282, 28.658689874895337, 28.283981227105397, 28.249526766505664, 28.226122493957188, 27.072041599138878, 26.969976920564303, 26.34496227937614, 26.117752181749626, 26.130944867687635, 24.414463474404602, 478.0706487633341, 1046.92076431049, 674.1041637557225, 512.9071574110858, 301.441133397299, 633.754458401892, 2004.7715191647926, 2788.827969852418, 5540.681859159497, 753.8857745906538, 88.67431338623005, 1087.3022157331436, 815.0467256563154, 2378.114300008012, 184.2173808119705, 393.38034147215535, 1552.8675491092129, 1709.1444174710093, 412.0957977351123, 635.237498674487, 5257.308033533239, 770.6341990454177, 442.03699952326286, 784.4599367216297, 1281.9414286134167, 18367.165544214247, 1649.3969815332496, 4097.464731001012, 3221.2629143836707, 1028.0380334569102, 686.1262927772362, 1299.4754411879387, 1775.816347861552, 6045.137606648172, 1352.074390441366, 922.7869539660084, 881.4662461817774, 2293.337781978848, 2579.092592258763, 938.3431573471615, 303.982548859304, 848.2237918069055, 194.56805870441138, 177.3135130449447, 145.815988633943, 105.44279026900705, 104.08076826706315, 103.75360217875566, 93.79853468357355, 83.97467257976098, 82.30423031316322, 81.85319694806493, 68.86885797228481, 65.95874314022228, 62.88992797677805, 55.52276240728148, 55.12946377011818, 53.381276450131104, 52.03335534058875, 49.51693530890096, 48.01092169585231, 47.136518323485674, 51.085409314129485, 45.12009087909605, 43.309904471987636, 43.12850826347054, 44.07607434761825, 41.55559178021529, 41.31213654698397, 1264.0059307033955, 595.1035940285313, 878.1653903147158, 615.6706861739509, 53.178911165369136, 617.4477812333712, 69.90424476467591, 296.60396574933196, 631.3091431635636, 122.8695547264898, 212.19531350127627, 373.1524969339815, 82.93292166616882, 1824.1965042338643, 403.40154767036387, 409.8580219018923, 1356.9008930932832, 2679.846111501501, 483.10732413178783, 490.2091800764107, 2898.1637311135705, 276.4648734282145, 1990.3345691992122, 494.2128740429414, 2100.0862073611033, 1167.8711978393637, 445.33232389094087, 18367.165544214247, 1299.4754411879387, 5257.308033533239, 1086.7117871886444, 1544.1548908965294, 1372.6534526224189, 6045.137606648172, 788.7470748877431, 957.6095048550919, 3221.2629143836707, 1753.0360373626527, 1548.268298601662, 395.5721998059324, 339.3177577741242, 288.46595952024455, 156.76087244924315, 143.17272852764415, 119.49109556135352, 102.08478170482083, 91.5432317769069, 91.584543626959, 191.17029872309112, 77.3328326066754, 76.47989661886001, 70.13436157747238, 65.21715947552474, 62.01365215712982, 57.88078397422048, 56.78540386951174, 53.84474785342911, 48.337417605389, 46.396805303209284, 47.52578363247462, 43.35723728518195, 306.25023006434765, 40.320000813479545, 39.00741197662979, 38.05580709432785, 32.47802653109238, 30.368210721583488, 28.90552727009568, 27.935903019828, 467.52390235445387, 197.00139947679847, 381.5219275118305, 999.1780646916714, 117.27021455490322, 69.28390781693135, 868.7009444323498, 1716.651750855334, 537.4585971422844, 690.1788420254306, 507.64243667853043, 491.6110143305575, 2046.079820343853, 232.73613635460296, 879.9176893708027, 18367.165544214247, 2898.1637311135705, 1037.8152913272136, 382.802724070115, 422.96667589271533, 2679.846111501501, 1544.1548908965294, 1824.1965042338643, 1103.349172941848, 865.374558581137, 732.6999396887729, 667.6989338419703, 5257.308033533239, 5540.681859159497, 1753.0360373626527, 1086.7117871886444, 473.016480049864, 211.8440086008806, 168.59662194399598, 157.84904211411612, 141.3034744335732, 119.46622965000324, 227.8281076662987, 120.3189777908123, 110.46600977469089, 108.71710880598273, 108.51254340734769, 110.11649797907636, 86.71460441307107, 81.81052396193598, 75.81427426466786, 74.97523728959627, 73.85259748745516, 67.18180698018026, 66.41744804547506, 57.962514116115834, 58.400274341451635, 57.44572245851788, 53.60228620792575, 53.38602783902364, 51.089801901239746, 49.12439278766301, 48.38563035208771, 48.0174834178782, 115.36336758978852, 46.52953237335507, 294.0433685215525, 330.82524486615284, 127.23110246871491, 91.63759017219371, 383.5305697423267, 309.10750412967275, 314.329197555858, 262.36194410612893, 162.83321799457076, 660.6380818311341, 389.6414561427255, 563.1555350270592, 216.44178580922295, 186.28661358107098, 556.7440519503368, 136.83472889239366, 389.28025570093445, 375.08779687393957, 594.7056058875962, 755.1758406949704, 1356.9008930932832, 294.62505519224914, 352.15838953348157, 342.8262656811255, 329.80089558632045, 251.46100872661574, 466.42369854192043, 204.19614427218875, 116.1129126214659, 114.89661261158088, 179.71622018216922, 91.0494199381644, 86.21439741385498, 63.76036213865331, 58.233353003813505, 58.010333046002664, 55.1788873133589, 47.301303617058366, 45.48675974341828, 44.89787718372176, 46.224357115893255, 36.53136065051849, 36.18575861715256, 35.335031747348204, 34.463577628030684, 34.082568669214496, 30.839567011262236, 29.357877773699897, 27.91635211965558, 42.32624824487626, 26.609564427055048, 25.695375664240736, 25.06837465368737, 24.472650076871123, 407.58753431999145, 317.25247407995397, 42.30703005661482, 2293.337781978848, 98.26312668638728, 552.6614178524206, 169.75729655610633, 490.2091800764107, 1753.0360373626527, 162.230635014058, 78.70744242048086, 121.26941552990401, 261.8338490590346, 176.62100758990547, 537.4585971422844, 2679.846111501501, 614.4604029982711, 232.928771664195, 138.1282215932267, 423.3826377540384, 1990.3345691992122, 753.8857745906538, 2898.1637311135705, 403.40154767036387, 1103.349172941848, 345.6857299898911, 18367.165544214247, 1544.1548908965294, 1167.8711978393637, 1087.3022157331436, 191.96984583607744, 151.50418072943307, 121.48204315888351, 105.67660956829565, 95.08713720067325, 92.76274502086542, 84.46586759947124, 77.61460973090107, 72.58235685289317, 70.53155301093233, 66.90894710482532, 64.208956584916, 63.444961075056646, 60.5634174966333, 54.604431375267986, 52.209743702279134, 51.60990080969944, 56.09204212618963, 48.90433807891133, 48.81101294925079, 45.42325891313516, 42.97447510791807, 39.73625695286004, 39.69355991890419, 38.957785077826095, 38.33731729537384, 32.341213457431095, 31.991188169640196, 31.65623882174229, 31.53514969264746, 103.85345567793618, 449.4496016219485, 617.8694423070128, 69.74587444246222, 71.18040134679805, 148.35888681273906, 207.0038435448382, 86.62525871109003, 551.7360821272092, 113.54012245510204, 652.9740894626663, 145.91932608078696, 659.6004781632892, 1037.8152913272136, 95.87376065131993, 238.99324703277142, 629.6352686917146, 1615.374756310955, 868.7009444323498, 2293.337781978848, 1309.4189614381598], \"loglift\": [30.0, 29.0, 28.0, 27.0, 26.0, 25.0, 24.0, 23.0, 22.0, 21.0, 20.0, 19.0, 18.0, 17.0, 16.0, 15.0, 14.0, 13.0, 12.0, 11.0, 10.0, 9.0, 8.0, 7.0, 6.0, 5.0, 4.0, 3.0, 2.0, 1.0, 1.4427, 1.4422, 1.4406, 1.4395, 1.4392, 1.4392, 1.4386, 1.4386, 1.4383, 1.4381, 1.4371, 1.4347, 1.4341, 1.4341, 1.434, 1.433, 1.4328, 1.4325, 1.431, 1.4307, 1.4303, 1.4296, 1.4294, 1.4291, 1.429, 1.4278, 1.426, 1.4257, 1.4253, 1.4246, 1.4138, 1.4029, 1.4138, 1.3826, 1.3667, 1.3378, 1.3177, 1.2819, 1.1068, 0.8963, 1.2545, 0.7914, 1.2522, 1.1476, 0.4299, 1.1224, 0.9429, 0.6614, 0.9425, 0.7951, 0.7173, 0.9159, 0.6752, 0.9662, 0.5784, 0.6544, 0.8174, 0.9261, 1.0415, 0.7104, -0.0241, 1.1272, -0.1608, 0.1096, 0.2881, 0.1233, 0.373, 0.622, 0.2785, 0.0632, 0.3383, 0.1823, 0.1353, 0.4118, 0.0101, 1.5775, 1.5771, 1.5752, 1.5751, 1.5747, 1.5744, 1.5739, 1.5732, 1.573, 1.5728, 1.5724, 1.5722, 1.572, 1.5719, 1.5714, 1.5712, 1.5706, 1.5706, 1.5704, 1.5699, 1.5698, 1.5698, 1.5695, 1.5694, 1.5691, 1.5674, 1.5673, 1.5671, 1.5671, 1.5662, 1.5627, 1.5655, 1.5522, 1.551, 1.5656, 1.5426, 1.4632, 1.4258, 1.5632, 1.3457, 1.3549, 1.3208, 1.4889, 1.1265, 1.2865, 1.405, 1.4012, 1.1123, 1.0967, 1.4313, 1.2699, 1.327, 1.2089, 1.1077, 1.0397, 0.6999, 1.0304, 0.8978, 0.6034, 0.6617, 1.1883, 0.3879, -0.3644, -1.1859, 0.916, -0.6371, 0.4977, 1.6645, 1.6625, 1.6622, 1.66, 1.6581, 1.6574, 1.6563, 1.656, 1.6532, 1.6527, 1.6519, 1.6513, 1.6508, 1.6503, 1.65, 1.6482, 1.6405, 1.6388, 1.6383, 1.6374, 1.6374, 1.637, 1.637, 1.6369, 1.6355, 1.6354, 1.6346, 1.6343, 1.6343, 1.6319, 1.5806, 1.55, 1.5561, 1.5619, 1.5738, 1.5115, 1.462, 1.4078, 1.3296, 1.4343, 1.5616, 1.3624, 1.3745, 1.2582, 1.4837, 1.3955, 1.1729, 1.1036, 1.3219, 1.2501, 0.8876, 1.1942, 1.2816, 1.1578, 1.0363, 0.4315, 0.9749, 0.73, 0.7241, 1.0291, 1.1347, 0.907, 0.7738, 0.1738, 0.825, 0.9867, 1.0044, 0.431, 0.3105, 1.9794, 1.9774, 1.977, 1.9758, 1.9753, 1.9743, 1.972, 1.9719, 1.9714, 1.9709, 1.9698, 1.9696, 1.9696, 1.9675, 1.9669, 1.9663, 1.9644, 1.9643, 1.9638, 1.9634, 1.9625, 1.9619, 1.9616, 1.9616, 1.9607, 1.9599, 1.9598, 1.959, 1.959, 1.9589, 1.9586, 1.9444, 1.9353, 1.9365, 1.9576, 1.8941, 1.95, 1.8453, 1.7385, 1.8695, 1.7689, 1.6019, 1.8764, 1.2385, 1.503, 1.4517, 1.1243, 0.9066, 1.4008, 1.3757, 0.7976, 1.5411, 0.8013, 1.3153, 0.72, 0.953, 1.3471, -0.2815, 0.8515, 0.1354, 0.8925, 0.6323, 0.6643, -0.4644, 0.956, 0.7992, -0.1825, 0.2447, 0.3507, 2.5766, 2.5762, 2.5757, 2.5732, 2.5726, 2.5714, 2.5702, 2.5691, 2.5691, 2.5687, 2.5674, 2.5672, 2.5662, 2.5652, 2.5645, 2.5635, 2.5632, 2.5624, 2.5605, 2.5597, 2.5594, 2.5583, 2.5575, 2.5568, 2.556, 2.5555, 2.5514, 2.5494, 2.548, 2.5469, 2.4941, 2.4628, 2.3513, 2.2453, 2.4366, 2.4766, 2.1068, 1.9506, 2.1051, 2.0497, 2.107, 2.0237, 1.5681, 2.1554, 1.7469, 0.7748, 1.1948, 1.5138, 1.9021, 1.8463, 0.8509, 1.122, 1.0022, 1.2118, 1.288, 1.376, 1.4318, -0.1164, -0.3448, 0.5156, 0.9471, 2.7244, 2.7221, 2.7211, 2.7204, 2.7201, 2.7189, 2.7185, 2.7184, 2.7183, 2.7182, 2.7182, 2.7173, 2.7161, 2.7155, 2.7146, 2.7145, 2.7143, 2.7131, 2.713, 2.711, 2.711, 2.7104, 2.7098, 2.7097, 2.709, 2.7083, 2.708, 2.7078, 2.7073, 2.7072, 2.7011, 2.6002, 2.6346, 2.6299, 2.3904, 2.4196, 2.3988, 2.3999, 2.4997, 2.1923, 2.2444, 2.1094, 2.3414, 2.3624, 1.8927, 2.4646, 1.9784, 1.9775, 1.7113, 1.3808, 0.7878, 1.953, 1.769, 1.6291, 2.9807, 2.9799, 2.9797, 2.9791, 2.9758, 2.9755, 2.9744, 2.9737, 2.9727, 2.9696, 2.9682, 2.9682, 2.9672, 2.9647, 2.964, 2.9636, 2.9631, 2.9591, 2.9589, 2.9583, 2.9577, 2.9574, 2.9546, 2.9531, 2.9515, 2.951, 2.9499, 2.9487, 2.9478, 2.947, 2.8021, 2.7398, 2.8801, 2.2557, 2.694, 2.2748, 2.5361, 2.1508, 1.7366, 2.4678, 2.6969, 2.5358, 2.2526, 2.3719, 1.8783, 1.0346, 1.7199, 2.1754, 2.4103, 1.8274, 1.0039, 1.413, 0.5297, 1.6608, 0.9401, 1.733, -1.423, 0.3514, 0.6073, 0.6017, 3.2275, 3.2263, 3.2248, 3.2238, 3.2228, 3.2226, 3.2217, 3.2208, 3.22, 3.2196, 3.2189, 3.2184, 3.2182, 3.2176, 3.216, 3.2152, 3.215, 3.2143, 3.2141, 3.214, 3.2127, 3.2116, 3.2099, 3.2098, 3.2094, 3.2091, 3.2048, 3.2044, 3.2041, 3.204, 3.2027, 3.1791, 3.1644, 3.178, 3.1682, 3.0299, 2.8645, 3.0311, 2.4144, 2.9051, 2.2698, 2.7916, 1.8767, 1.5249, 2.8511, 2.2298, 1.5051, 0.8037, 1.0482, 0.2349, 0.4444], \"logprob\": [30.0, 29.0, 28.0, 27.0, 26.0, 25.0, 24.0, 23.0, 22.0, 21.0, 20.0, 19.0, 18.0, 17.0, 16.0, 15.0, 14.0, 13.0, 12.0, 11.0, 10.0, 9.0, 8.0, 7.0, 6.0, 5.0, 4.0, 3.0, 2.0, 1.0, -5.1385, -5.3336, -5.8727, -6.1048, -6.1692, -6.1728, -6.2669, -6.2793, -6.301, -6.3553, -6.4988, -6.7759, -6.8353, -6.8344, -6.8426, -6.9356, -6.4261, -6.9756, -7.0538, -7.1125, -7.146, -7.1947, -7.2043, -7.2238, -7.2349, -7.3093, -7.4085, -7.4273, -7.4458, -7.3051, -6.1089, -6.6983, -7.0482, -6.3925, -6.1221, -5.9029, -5.8208, -5.7326, -4.6375, -3.4883, -5.8987, -3.2044, -6.0979, -5.628, -2.4545, -5.564, -4.9471, -3.9639, -5.0176, -4.6832, -4.5034, -5.1554, -4.5603, -5.3052, -4.4747, -4.7035, -5.1056, -5.3578, -5.6173, -5.123, -4.1071, -5.7496, -4.2962, -4.6214, -4.8186, -4.686, -4.9425, -5.2163, -4.9762, -4.8655, -5.1551, -5.1123, -5.0984, -5.228, -5.1838, -3.6337, -4.6746, -5.6467, -5.6591, -5.7703, -5.2963, -5.9462, -6.0774, -6.1171, -6.1492, -6.2197, -6.2355, -6.1336, -6.2911, -6.3584, -6.3772, -6.4571, -6.455, -6.4858, -5.1957, -6.5481, -6.5556, -6.5814, -6.591, -6.6276, -6.7915, -6.7751, -6.815, -6.7657, -6.8857, -4.2559, -5.8609, -4.8883, -4.821, -6.4342, -5.555, -4.8365, -4.5789, -6.4848, -4.8171, -4.9028, -4.7098, -5.9393, -3.7211, -4.8097, -5.4973, -5.5377, -4.4131, -4.4258, -5.7399, -5.2044, -5.3986, -5.0327, -4.877, -4.9894, -4.3792, -5.0454, -4.8603, -4.7121, -4.9155, -5.3686, -4.8476, -4.3602, -4.0703, -5.2254, -4.7725, -5.2598, -5.6807, -6.0711, -6.1307, -6.415, -6.6167, -6.6807, -6.7736, -6.7971, -7.0022, -7.0308, -7.0836, -7.1141, -7.1357, -7.1714, -7.1897, -7.2838, -7.6001, -7.6663, -7.6774, -7.7097, -7.7099, -7.7235, -7.7247, -7.7256, -7.7688, -7.7726, -7.7969, -7.8058, -7.8054, -7.8758, -4.9525, -4.1991, -4.6334, -4.9008, -5.4204, -4.7397, -3.6375, -3.3616, -2.7533, -4.6433, -6.6562, -4.3489, -4.6251, -3.6705, -6.0029, -5.3325, -4.182, -4.1554, -5.3596, -4.9986, -3.2478, -4.8614, -5.3298, -4.88, -4.5103, -2.453, -4.3197, -3.6547, -3.9012, -4.7383, -5.037, -4.6261, -4.4469, -3.822, -4.6684, -4.8887, -4.9168, -4.5341, -4.5371, -3.8793, -5.0084, -3.9827, -5.4562, -5.5495, -5.7462, -6.0727, -6.0858, -6.0893, -6.1907, -6.3024, -6.3228, -6.3283, -6.5031, -6.5468, -6.5951, -6.7216, -6.7288, -6.7615, -6.7876, -6.838, -6.8694, -6.8881, -6.8077, -6.9327, -6.9745, -6.9788, -6.9578, -7.0167, -7.0227, -3.6021, -4.3697, -3.9896, -4.3436, -6.7715, -4.3831, -6.5056, -5.1651, -4.5165, -6.0222, -5.5764, -5.1789, -6.4084, -3.9554, -5.1999, -5.2353, -4.3656, -3.9027, -5.1218, -5.1322, -3.9334, -5.5396, -4.3055, -5.1845, -4.3331, -4.6868, -5.2568, -3.166, -4.6816, -4.0, -4.8193, -4.7282, -4.814, -4.4601, -5.0763, -5.0391, -4.8077, -4.989, -5.0072, -4.1459, -4.2997, -4.4625, -5.0749, -5.1661, -5.3481, -5.5068, -5.6168, -5.6164, -4.881, -5.7873, -5.7985, -5.8862, -5.9598, -6.0109, -6.0809, -6.1003, -6.1543, -6.2641, -6.3059, -6.2821, -6.375, -4.4209, -6.4491, -6.483, -6.5083, -6.6708, -6.74, -6.7908, -6.826, -4.0612, -4.9567, -4.4073, -3.5506, -5.5017, -5.9879, -3.829, -3.3041, -4.3108, -4.1162, -4.366, -4.4814, -3.511, -5.0975, -4.1761, -2.1097, -3.5362, -4.2441, -4.8532, -4.8092, -3.9584, -4.2385, -4.1917, -4.4848, -4.6517, -4.7301, -4.7672, -4.2518, -4.4278, -4.7181, -4.7647, -3.8192, -4.6248, -4.8542, -4.9208, -5.0318, -5.2008, -4.5557, -5.1942, -5.2798, -5.2959, -5.2978, -5.284, -5.524, -5.5829, -5.6599, -5.6711, -5.6864, -5.7823, -5.7939, -5.932, -5.9245, -5.9416, -6.0114, -6.0155, -6.0602, -6.1002, -6.1156, -6.1234, -5.2474, -6.1555, -4.318, -4.301, -5.2222, -5.555, -4.363, -4.5495, -4.5535, -4.7331, -5.1103, -4.0173, -4.4931, -4.2598, -4.9841, -5.1131, -4.488, -5.3194, -4.7601, -4.7981, -4.6035, -4.695, -4.702, -5.0641, -5.0697, -5.2365, -3.9236, -4.1956, -3.578, -4.4046, -4.9724, -4.9833, -4.537, -5.2177, -5.2733, -5.5781, -5.6701, -5.674, -5.725, -5.8815, -5.9214, -5.9348, -5.9062, -6.1455, -6.1552, -6.1796, -6.2052, -6.2166, -6.3194, -6.3701, -6.4221, -6.0064, -6.4716, -6.5078, -6.5333, -6.5583, -3.8905, -4.2033, -6.0777, -2.7093, -5.4211, -4.1133, -5.0323, -4.3572, -3.4971, -5.1459, -5.6401, -5.3689, -4.8825, -5.1569, -4.5377, -3.7747, -4.5621, -5.0767, -5.3643, -4.8271, -4.1028, -4.6645, -4.2013, -5.0421, -4.7566, -5.1242, -4.3075, -5.0092, -5.0325, -5.1096, -4.218, -4.4559, -4.6782, -4.8186, -4.9252, -4.9501, -5.0448, -5.1303, -5.1981, -5.2271, -5.2805, -5.3223, -5.3344, -5.3815, -5.4867, -5.5323, -5.5441, -5.4615, -5.5988, -5.6008, -5.6741, -5.7306, -5.8106, -5.8118, -5.8309, -5.8473, -6.0217, -6.0329, -6.0437, -6.0476, -4.8572, -3.4157, -3.1121, -5.2799, -5.2693, -4.6733, -4.5055, -5.2101, -3.9754, -5.0656, -3.9515, -4.9281, -4.3344, -4.233, -5.2886, -4.9966, -4.7526, -4.5118, -4.8876, -4.7301, -5.081]}, \"token.table\": {\"Topic\": [1, 3, 4, 1, 1, 2, 3, 4, 7, 6, 1, 2, 3, 4, 6, 2, 2, 1, 3, 3, 3, 1, 7, 1, 1, 3, 7, 5, 7, 6, 8, 7, 2, 1, 4, 8, 1, 3, 4, 6, 2, 6, 3, 2, 3, 6, 1, 3, 6, 7, 2, 2, 5, 1, 2, 4, 6, 1, 3, 4, 6, 1, 2, 7, 1, 3, 6, 1, 2, 3, 4, 6, 8, 6, 4, 1, 4, 5, 7, 6, 1, 4, 6, 3, 6, 6, 7, 1, 2, 3, 4, 5, 6, 7, 8, 7, 4, 6, 1, 2, 4, 1, 2, 3, 4, 5, 6, 7, 8, 7, 3, 6, 2, 8, 8, 5, 1, 3, 4, 5, 5, 7, 1, 2, 8, 2, 4, 6, 1, 7, 1, 3, 5, 1, 2, 4, 7, 8, 1, 2, 3, 1, 2, 3, 4, 5, 8, 3, 1, 2, 8, 8, 2, 7, 2, 1, 2, 3, 4, 6, 7, 8, 1, 2, 4, 6, 1, 5, 2, 7, 4, 4, 5, 2, 4, 6, 1, 1, 1, 2, 4, 5, 6, 7, 1, 5, 7, 8, 1, 2, 4, 5, 4, 5, 7, 8, 1, 3, 4, 6, 4, 3, 5, 7, 8, 3, 7, 3, 3, 5, 6, 7, 1, 4, 4, 5, 1, 2, 4, 6, 1, 3, 7, 1, 2, 3, 4, 5, 6, 7, 8, 1, 2, 3, 1, 2, 4, 6, 1, 2, 3, 4, 5, 8, 2, 6, 5, 2, 7, 1, 2, 8, 2, 4, 6, 8, 1, 2, 3, 4, 5, 6, 8, 1, 1, 4, 6, 2, 2, 5, 1, 2, 3, 7, 4, 2, 5, 3, 1, 2, 4, 5, 7, 4, 5, 4, 3, 1, 3, 5, 1, 2, 3, 4, 5, 7, 6, 1, 4, 1, 2, 3, 4, 6, 7, 8, 1, 2, 3, 4, 6, 7, 4, 7, 5, 5, 4, 5, 2, 6, 3, 6, 6, 2, 4, 5, 7, 1, 8, 6, 5, 5, 1, 2, 3, 4, 5, 1, 1, 2, 3, 4, 4, 6, 8, 8, 7, 1, 2, 3, 4, 5, 2, 4, 2, 1, 2, 3, 4, 5, 6, 7, 8, 5, 1, 2, 3, 4, 5, 7, 8, 1, 2, 3, 4, 7, 8, 1, 2, 3, 4, 5, 8, 1, 2, 7, 8, 6, 3, 1, 2, 4, 5, 6, 8, 1, 1, 2, 3, 4, 7, 8, 1, 5, 6, 7, 8, 1, 2, 8, 1, 2, 4, 2, 3, 4, 1, 8, 6, 2, 2, 3, 4, 7, 7, 6, 4, 8, 1, 8, 5, 4, 1, 2, 3, 4, 8, 2, 7, 8, 3, 7, 8, 2, 8, 1, 2, 3, 4, 5, 6, 7, 8, 1, 3, 6, 7, 5, 1, 2, 3, 4, 5, 6, 7, 1, 2, 6, 4, 7, 1, 2, 4, 5, 6, 7, 7, 2, 7, 1, 7, 1, 2, 6, 5, 4, 8, 2, 3, 2, 3, 5, 1, 2, 4, 5, 6, 8, 7, 5, 4, 1, 2, 3, 4, 8, 1, 2, 4, 8, 1, 2, 6, 1, 2, 3, 4, 5, 6, 7, 1, 2, 3, 4, 5, 6, 8, 1, 2, 3, 4, 5, 7, 1, 2, 4, 8, 7, 1, 2, 1, 3, 4, 5, 8, 1, 2, 3, 4, 5, 6, 7, 8, 1, 4, 6, 7, 2, 6, 1, 1, 2, 4, 4, 5, 6, 2, 1, 2, 4, 5, 7, 8, 1, 2, 3, 5, 8, 3, 3, 6, 2, 1, 2, 1, 2, 3, 4, 6, 7, 8, 1, 2, 3, 4, 5, 7, 1, 2, 6, 2, 8, 1, 6, 8, 8, 1, 2, 4, 5, 1, 2, 3, 4, 5, 6, 7, 1, 2, 3, 4, 5, 6, 1, 2, 5, 7, 1, 2, 5, 8, 3, 4, 3, 7, 5, 4, 1, 2, 3, 4, 6, 4, 5, 6, 7, 8, 1, 1, 2, 3, 4, 6, 7, 7, 2, 1, 2, 8, 3, 1, 2, 3, 1, 2, 4, 7, 3, 2, 3, 6, 8, 1, 1, 2, 3, 4, 6, 8, 8, 1, 2, 7, 8, 8, 3, 2, 1, 7, 8, 2, 3, 6, 1, 2, 2, 7, 7, 1, 2, 3, 4, 6, 8, 3, 1, 2, 3, 4, 7, 1, 1, 2, 4, 5, 6, 8, 8, 4, 4, 5, 6, 1, 2, 3, 4, 5, 7, 8, 5, 2, 3, 4, 6, 8, 7, 8, 3, 5, 1, 2, 3, 4, 5, 6, 1, 2, 3, 4, 5, 7, 5, 2, 3, 7, 1, 3, 4, 5, 7, 4, 1, 3, 4, 7, 1, 2, 3, 7, 7, 7, 5, 1, 2, 5, 1, 4, 3, 5, 1, 2, 3, 4, 5, 6, 7, 1, 2, 3, 4, 5, 8, 1, 2, 3, 1, 3, 1, 2, 7, 3, 7, 7, 1, 7, 1, 8, 3, 1, 2, 3, 4, 5, 6, 1, 2, 3, 6, 1, 2, 3, 4, 6, 8, 4, 6, 7, 1, 2, 4, 5, 7, 8, 1, 2, 4, 2, 4, 1, 2, 3, 4, 8, 3, 8, 5, 1, 2, 3, 4, 5, 2, 1, 2, 4, 6, 1, 1, 2, 3, 4, 8, 2, 3, 1, 3, 4, 8, 1, 2, 3, 4, 6, 8, 1, 2, 3, 4, 1, 2, 3, 1, 2, 7, 5, 4, 6, 4, 1, 2, 3, 8, 4, 2, 1, 2, 3, 6, 7, 1, 3, 4, 6, 2, 5, 8, 4, 1, 8, 6, 8, 1, 2, 3, 4, 1, 4, 5, 3, 1, 2, 3, 4, 5, 6, 1, 4, 7, 1, 2, 4, 1, 2, 3, 4, 5, 7, 3, 3, 2, 1, 2, 3, 4, 5, 6, 7, 1, 4, 5, 8, 6, 6, 1, 2, 3, 4, 6, 4, 1, 2, 3, 4, 5, 7, 4, 4, 4, 2, 4, 5, 7, 1, 2, 2, 3, 7, 1, 2, 4, 1, 1, 2, 4, 6, 7, 2, 2, 4, 8, 6, 6, 1, 2, 3, 4, 5, 6, 8, 3, 7, 8, 1, 2, 3, 4, 5, 7, 8, 8, 1, 3, 6, 8, 6, 8, 1, 4, 6, 1, 2, 3, 4, 5, 6, 7, 1, 3, 4, 7, 4, 1, 1, 2, 7, 8, 1, 2, 3, 4, 8, 2, 1, 2, 4, 6, 3, 1, 2, 3, 4, 5, 8, 1, 5, 6, 7, 1, 7, 1, 2, 3, 4, 5, 6, 7, 8, 3, 1], \"Freq\": [0.7437979507519499, 0.2505985927264634, 0.005331884951626881, 0.995291247747238, 0.0034162129743292025, 0.007971163606768139, 0.031884654427072556, 0.9565396328121767, 0.967231345632464, 0.9917591227232382, 0.2885022794294792, 0.08824775606078188, 0.07467117820527698, 0.08485361159690566, 0.4616036470871668, 0.9945464575476749, 0.9869335022390643, 0.16285108314845062, 0.8305405240570982, 0.9803853404457592, 0.9871450158340204, 0.9837289665544917, 0.9825835675654291, 0.9986764223609712, 0.5951021048115706, 0.342387512357342, 0.06195583556942379, 0.984782791217673, 0.9865487665548212, 0.9884554163771967, 0.9924636139679225, 0.9671750766100136, 0.9898924433838441, 0.8998258195167904, 0.09762261249474613, 0.9949479261607285, 0.13063608149445619, 0.06131897702801005, 0.3332553099348372, 0.4718895188677295, 0.8632393995502929, 0.13463366781977046, 0.9845699691969912, 0.997831107256541, 0.9920627809720576, 0.9824088241548949, 0.12407374276158195, 0.15270614493733164, 0.7221728104327975, 0.990415255320534, 0.9951869973734317, 0.986795672599948, 0.9549459553568277, 0.16923439180555652, 0.6769375672222261, 0.10496816706926924, 0.04712856480661068, 0.8497579850580878, 0.08125175952746655, 0.016927449901555532, 0.05078234970466659, 0.8239863369706483, 0.14206660982252556, 0.028413321964505113, 0.26680698772259465, 0.007623056792074132, 0.7203788668510055, 0.1087476457379242, 0.04349905829516968, 0.2954311042546941, 0.00543738228689621, 0.10693518497562546, 0.44224042600089175, 0.977111314280807, 0.9858494355867818, 0.0020399454776512476, 0.5467053880105344, 0.01631956382120998, 0.4345083867397157, 0.9786688955391447, 0.09766455186325247, 0.8952583920798143, 0.9900926687339994, 0.9874566677693521, 0.993714783422735, 0.9057418450663854, 0.08730041880157932, 0.26327014992587394, 0.045891127051299135, 0.04554608098324425, 0.30640090843273404, 0.25050344540784336, 0.0020702764083292842, 0.08591647094566529, 0.0003450460680548807, 0.9859142156033927, 0.9883932553730982, 0.9964612461559629, 0.9821097648192179, 0.0023578683117807327, 0.9961993617273596, 0.3625491360640357, 0.06299284433489853, 0.29019175480121795, 0.10415325083203189, 0.1646416259885334, 0.002831139071231395, 0.012195675999150623, 0.0004900048392515875, 0.953747413754943, 0.989872412792169, 0.988619434876197, 0.9937516006676078, 0.9805312467723518, 0.9906970656557712, 0.984311415929951, 0.9247801996852307, 0.005439883527560181, 0.010879767055120362, 0.054398835275601805, 0.002143973393989379, 0.9969476282050611, 0.008902784327356162, 0.9721840485472928, 0.017805568654712323, 0.0728806570656244, 0.9166767088698535, 0.008097850785069378, 0.985501850832685, 0.9735127280878443, 0.7242310379743492, 0.27311069445497343, 0.9838258800399954, 0.35620366421367916, 0.17296427925760383, 0.3579161818300911, 0.09333221009444959, 0.01969395258873707, 0.2524029472141947, 0.14659767136177973, 0.6004130714034631, 0.2510392372637382, 0.08452074822447467, 0.6631304475124207, 0.0004205012349476352, 0.0004205012349476352, 0.9917774638871041, 0.972223589037449, 0.01925790516015446, 0.00962895258007723, 0.9725242105878004, 0.9929866601300259, 0.5495242132841063, 0.4464884232933364, 0.9932390937583745, 0.050319406358431046, 0.5773489782177877, 0.09931461781269285, 0.010593559233353905, 0.2608663961213399, 0.001324194904169238, 0.9864151635296057, 0.978417783007157, 0.006721518808048445, 0.9645379489549519, 0.02688607523219378, 0.9932354073275054, 0.985281540101128, 0.16438186734974874, 0.8341766402823071, 0.9958006586521715, 0.10659822750382665, 0.8883185625318888, 0.8381035403552104, 0.12869754739536937, 0.03138964570618765, 0.9918641818748315, 0.9932082670848984, 0.3057186002978899, 0.20199264662539154, 0.050498161656347886, 0.3002593395782847, 0.013648151799012942, 0.12829262691072166, 0.34990936268827927, 0.47994324747108574, 0.047285049011929634, 0.12057687498042056, 0.007244499100156084, 0.03767139532081164, 0.3651227546478666, 0.5897022267527052, 0.040933385598399534, 0.6233038261574475, 0.33118830165977803, 0.0037212168725817758, 0.11800246807751534, 0.00337149908792901, 0.8732182637736136, 0.00337149908792901, 0.9944039838046056, 0.6022920574937244, 0.07321981875413905, 0.3141366417516288, 0.009447718548921168, 0.9908555596522184, 0.9892988696894658, 0.9489480278956774, 0.995407009660901, 0.988936876106229, 0.9795137083879847, 0.00866826290608836, 0.35447541231832547, 0.6438430958434891, 0.9755859757579249, 0.9664982005713677, 0.11364533600282355, 0.3285060493831618, 0.01598137537539706, 0.5398153460134119, 0.9679332137939722, 0.005627518684848676, 0.022510074739394703, 0.5204182608746855, 0.1432556306158543, 0.22431251168025224, 0.08668123607702963, 0.021008620194241913, 0.0026467553000619733, 0.0009925332375232399, 0.0006616888250154933, 0.13919081808441902, 0.7459546755592166, 0.11351484193292426, 0.23866901049399383, 0.733759271931948, 0.017752240449966483, 0.007889884644429548, 0.2722736134702846, 0.13727128012460182, 0.5150509188146217, 0.0022689467789190386, 0.006806840336757116, 0.06693392997811164, 0.9941127109129774, 0.9931460195013583, 0.9914475727236798, 0.40066415319380005, 0.5979141978430554, 0.010221565208226292, 0.9863810425938372, 0.975414796403011, 0.2447610338446787, 0.529941320984809, 0.19535972426134907, 0.026946168863634355, 0.08223680099942579, 0.6175374593567993, 0.0685306674995215, 0.16828086130438055, 0.03198097816644336, 0.030458074444231775, 0.0015229037222115886, 0.9868692437743263, 0.9634718811141718, 0.03010849628481787, 0.9934039010615846, 0.9881694749253833, 0.127909717373096, 0.8697860781370528, 0.051530787963327565, 0.09692695831197327, 0.7447425784223769, 0.10551542297252786, 0.9873838771562834, 0.005230938104294607, 0.9886473017116807, 0.9943570870944826, 0.04161680055281475, 0.03799794833083085, 0.17370490665522675, 0.25331965553887237, 0.49216390218980915, 0.9801405207520285, 0.9672618852468314, 0.9925921435857415, 0.9880997699578818, 0.0928562213560072, 0.5885886289179166, 0.3175083697979601, 0.24850589441402446, 0.33904680168114965, 0.22057306132097518, 0.1425537688886652, 0.046233654774702225, 0.002889603423418889, 0.9788101469412, 0.9416552799162525, 0.05794801722561554, 0.4831580703901101, 0.010699304589058382, 0.4088260595608624, 0.02702982211972644, 0.021398609178116763, 0.047865310003682236, 0.0005631212941609675, 0.46347999936900797, 0.3040337357143184, 0.05314875455156318, 0.1514453758727338, 0.002857459922127053, 0.025145647314718064, 0.9841535446209667, 0.9729377116985114, 0.9722563473240536, 0.986168912854498, 0.01959182201671918, 0.9795911008359589, 0.9903122061296933, 0.9927691222844367, 0.9640349369440985, 0.9869925414730019, 0.9887637962756018, 0.17086679824369985, 0.24816368316346882, 0.5736242512467066, 0.006102385651560708, 0.30434217510726486, 0.6908084292117281, 0.9907753546839645, 0.9961164491278957, 0.9958901074674525, 0.0012637159876354178, 0.583836786287563, 0.35257676055028153, 0.051812355493052124, 0.010109727901083342, 0.992292397364781, 0.6050709672408975, 0.012974231266374021, 0.3797911334338577, 0.0011794755696703655, 0.9914867040698729, 0.9978510684241766, 0.9935973573427488, 0.983030057004225, 0.9573815746554505, 0.11546068939384595, 0.10326918802927837, 0.7702160273850345, 0.0007171471390922108, 0.009681486377744847, 0.9637809471185669, 0.033106979099492756, 0.9912783651273422, 0.2008632542100262, 0.10899114077873581, 0.4578388758366791, 0.15806568584141267, 0.06752505231492359, 0.0026629598096026205, 0.003614016884460699, 0.0005706342449148472, 0.9918089950530089, 0.23029656501403328, 0.0027072480213248427, 0.712367196011277, 0.00036096640284331236, 0.05378399402365354, 0.00036096640284331236, 0.00018048320142165618, 0.46863248811646235, 0.03765796779507287, 0.02510531186338191, 0.08786859152183668, 0.012552655931690955, 0.3682112406629347, 0.2733361907390735, 0.1848180649125408, 0.5272178483294585, 0.011672719889213102, 0.0019454533148688504, 0.0009727266574344252, 0.02473830674363418, 0.1236915337181709, 0.6431959753344887, 0.21439865844482955, 0.9920300645195362, 0.9903884913271955, 0.08098165987534083, 0.010449246435527849, 0.21943417514608482, 0.5094007637319826, 0.17763718940397344, 0.9966721662266635, 0.9790465850051846, 0.02544892229445965, 0.5160475909709873, 0.09048505704696765, 0.2742828291736207, 0.02827658032717739, 0.065036134752508, 0.4888833565821247, 0.21406726856258712, 0.0057856018530428955, 0.2863872917256233, 0.0028928009265214477, 0.0020475718676159094, 0.9838582823894445, 0.013309217139503412, 0.009516224354663682, 0.9801711085303592, 0.9896160617849209, 0.0031645421139551736, 0.017404981626753455, 0.9786346487406374, 0.9834083545157578, 0.9881824843657747, 0.983394196563185, 0.9891602424226473, 0.011088070045876709, 0.07603248031458314, 0.7856689632506925, 0.12672080052430523, 0.9975715784976975, 0.9960158958166678, 0.9751753408011201, 0.9585292784639494, 0.9967289466243113, 0.9825271424301281, 0.993617442378269, 0.9928574872036398, 0.28313377872553475, 0.20249824859599272, 0.4995765174943054, 0.012731925809927687, 0.0024251287257005118, 0.023626001393143876, 0.9686660571188989, 0.9919766059116341, 0.954603942889238, 0.04301329682911768, 0.9462925302405889, 0.1731596560078112, 0.8196223717703064, 0.017267162072445663, 0.22677539521811974, 0.0023022882763260887, 0.0011511441381630444, 0.62392012288437, 0.012662585519793487, 0.0023022882763260887, 0.11281212553997834, 0.26202202271044994, 0.2466089625510117, 0.47266717822277243, 0.017981903519344603, 0.9937251926313186, 0.4204589301643706, 0.09047247647930963, 0.10190057877143296, 0.28332170265889073, 0.0623783916778398, 0.015237469722831097, 0.025713230157277476, 0.277210797238965, 0.036961439631862006, 0.6791664532354643, 0.9727592398560871, 0.014305282939060106, 0.37274306220640246, 0.04310634052727103, 0.35879689321228536, 0.10015885004865917, 0.006339167724598681, 0.11664068613261573, 0.9727763035403306, 0.9164547635902829, 0.08191774423153367, 0.4529472518113541, 0.5435367021736249, 0.007859713392375043, 0.07859713392375044, 0.911726753515505, 0.9813368216997932, 0.9967677458360981, 0.9792698423385798, 0.2911944277508353, 0.7061464872957757, 0.09021778342004387, 0.9021778342004387, 0.9686728679385657, 0.0242190095303797, 0.30576499532104373, 0.025732697626028433, 0.004541064286946193, 0.585797293016059, 0.051465395252056866, 0.9884741721707057, 0.9940658444500762, 0.9795125202953564, 0.2226275020054102, 0.5059715954668413, 0.21491745864591547, 0.05300654809652624, 0.002891266259810522, 0.8814838794566882, 0.06515315630766826, 0.02299523163800056, 0.030660308850667416, 0.01228250614114059, 0.19037884518767917, 0.7983628991741384, 0.45696363169463305, 0.019867983986723178, 0.38897787399006467, 0.11486178242324337, 0.01800536048796788, 0.0012417489991701986, 0.00031043724979254965, 0.33060311116023955, 0.12055549691078085, 0.430449688356285, 0.05251190356236467, 0.017010898337104046, 0.04881388218473335, 0.0007396042755262629, 0.5779183362052994, 0.0004881067028760975, 0.3912175223551922, 0.022696961683738536, 0.004148906974446829, 0.0036608002715707313, 0.07044689941350275, 0.41042976180040736, 0.13629943582177706, 0.38133212943396055, 0.9921963529541818, 0.98448058013607, 0.00787584464108856, 0.008593422711773246, 0.1718684542354649, 0.012890134067659868, 0.6531001260947666, 0.15038489745603179, 0.3145199855780346, 0.1532405680531958, 0.034667538346460684, 0.30748599229034695, 0.004019424735821529, 0.029643257426683774, 0.13816772529386506, 0.01758498321921919, 0.17501576164472785, 0.49004413260523794, 0.3325299471249829, 0.9880746891462154, 0.9744580349791429, 0.024790517523931226, 0.9948727553753248, 0.712939222384705, 0.09505856298462734, 0.19106771159910094, 0.9789439223379949, 0.9985534883234637, 0.9892596180262146, 0.9833719541328202, 0.10898890540962562, 0.4154285632205461, 0.08161949418568376, 0.36411091717565514, 0.002932436916850914, 0.02736941122394186, 0.06085481504187888, 0.11971439024631911, 0.8130602337562507, 0.000498809959359663, 0.0049880995935966295, 0.9700194226760087, 0.0043892740463117325, 0.9919759344664516, 0.9835377357675843, 0.15736972922065062, 0.8413227831411707, 0.1717148254422896, 0.16287114344526182, 0.09654352846755339, 0.42449673585733394, 0.1437098324517016, 0.8981958778280773, 0.070910200881164, 0.09013438080256062, 0.3027590739778318, 0.04160048344733567, 0.2230248140371051, 0.2750254183462747, 0.06702300110959636, 0.0005577833893154102, 0.9984322668745842, 0.0005577833893154102, 0.9924135933495707, 0.00791819356395934, 0.301536480340101, 0.0479717127813797, 0.6441915716356703, 0.9814714064856819, 0.31165319333605807, 0.14330221600125287, 0.011068057333430099, 0.5335968693379984, 0.26680636508616157, 0.01156782841632309, 0.047763936686753404, 0.34181067191457903, 0.17762213955386422, 0.011940984171688351, 0.1425454985495297, 0.24728445141395208, 0.01674321806448634, 0.6091955495770799, 0.08436006024798887, 0.007083669181128836, 0.03541834590564418, 0.5341408698534973, 0.0034094098075755147, 0.4352679854338074, 0.026138808524745615, 0.0015882210697597142, 0.7988751980891362, 0.020646873906876282, 0.17788075981308799, 0.08440556366960288, 0.9043453250314594, 0.9901622336760135, 0.9806866001276331, 0.9983846984198084, 0.9758887935743145, 0.6199405477551655, 0.06601964274795269, 0.15941328370847113, 0.12559834474000756, 0.03059446859051466, 0.23890845490779994, 0.007239650148721211, 0.11583440237953938, 0.5646927116002545, 0.06515685133849089, 0.9844719694534992, 0.6689007134669999, 0.06878766202320212, 0.0806476037513404, 0.007115965036882977, 0.1684111725395638, 0.007115965036882977, 0.968236881447485, 0.9834978724201534, 0.14828906088900998, 0.026961647434365448, 0.8155898348895548, 0.9937549817652654, 0.005071909989726339, 0.7785381834229932, 0.21555617456336942, 0.13131360610637727, 0.002679869512375046, 0.6860465951680118, 0.1795512573291281, 0.9572033544858167, 0.988453815049829, 0.9161825791501984, 0.06484397249693184, 0.016733928386304994, 0.9852746662782194, 0.3066796716010189, 0.05635103506449818, 0.5060756418292433, 0.1181204388851981, 0.011920411263643845, 0.0010836737512403495, 0.9651170872215616, 0.044498871348033514, 0.004449887134803351, 0.0022249435674016756, 0.9478259597131138, 0.9944845460928627, 0.9567200928472315, 0.9912854435668288, 0.9931691443485025, 0.27303123626855824, 0.7222116572265089, 0.10532496877697453, 0.8930370592075868, 0.9960973937876072, 0.009067601627338336, 0.9883685773798786, 0.24140029729966062, 0.7496114495094724, 0.9770922809080153, 0.22597644129420894, 0.3996807520399354, 0.2935281176953248, 0.03860095794349477, 0.03860095794349477, 0.0032167464952912307, 0.9604004154909035, 0.15236917430235908, 0.0023086238530660467, 0.46711155960369677, 0.3232073394292465, 0.05463743118922977, 0.9821319436542548, 0.009007403502975459, 0.21117357101420242, 0.04203454968055214, 0.7165889897922698, 0.0010008226114417175, 0.02001645222883435, 0.9773243278604112, 0.9905847190482561, 0.13885363864711225, 0.08769703493501826, 0.7673490556814099, 0.26981761351101646, 0.011408778583975326, 0.10439032404337423, 0.17626562912241878, 0.12720788121132487, 0.2875012203161782, 0.023387996097149418, 0.9836543709026936, 0.3125314035964255, 0.09878866205634139, 0.034126992346736114, 0.4346701130479021, 0.11854639446760967, 0.9622178987443984, 0.9885669373095233, 0.08660019604918621, 0.9093020585164553, 0.45405567021873616, 0.11432127116460356, 0.2228295963377866, 0.19570251504449082, 0.010980009094905426, 0.00193764866380684, 0.11722751465864686, 0.6908608197216255, 0.14379908464794017, 0.0015630335287819582, 0.012504268230255666, 0.03438673763320308, 0.9893737177402457, 0.23406541981312984, 0.010176757383179557, 0.7530800463552872, 0.23383350105941292, 0.3797528563716822, 0.0018126627989101776, 0.25467912324687997, 0.1296053901220777, 0.9697550828625154, 0.01862940086071821, 0.380867750930239, 0.560951959250515, 0.041398668579373805, 0.16830647206637686, 0.002759122492891424, 0.7357659981043797, 0.09197074976304746, 0.9788205050852432, 0.9724890538410219, 0.9951462859490686, 0.005242162653778222, 0.19658109951668334, 0.7968087233742899, 0.9913648276403445, 0.9778312278394887, 0.9557682230632204, 0.9686964075627159, 0.23227996179950308, 0.18956853305551385, 0.5681205111015554, 0.0029254403249307694, 0.0005850880649861538, 0.003510528389916923, 0.0023403522599446153, 0.2100168151666005, 0.6269956554610145, 0.09775328124118132, 0.0022910925290901872, 0.0007636975096967291, 0.061859498285435056, 0.004775910623277243, 0.10602521583675478, 0.8883193759295671, 0.09943320006962668, 0.8987981418058412, 0.9846156087208718, 0.9964443702736527, 0.985454671245295, 0.9830238549030941, 0.9981666790849593, 0.9941421799297331, 0.005564328022180472, 0.9904503879481241, 0.9949765400662831, 0.9889307266819786, 0.9757874367116116, 0.3469181106200294, 0.09386113337730238, 0.011042486279682634, 0.33679583153032033, 0.19600413146436677, 0.0156435222295504, 0.19294420272604756, 0.04171766545428055, 0.04953972772695815, 0.7144150209045544, 0.10236158282661323, 0.6362702932517891, 0.25706715687138093, 0.0003877332682826259, 0.003101866146261007, 0.0007754665365652518, 0.9895604341085293, 0.9760464976409211, 0.023806012137583443, 0.9645527242654646, 0.014396309317394993, 0.019250352665769455, 0.9197390718089852, 0.03422284918359014, 0.025667136887692607, 0.9865310915822743, 0.9968879131555715, 0.0029320232739869748, 0.9906219144751426, 0.9682384728397746, 0.011311270335724165, 0.29183077466168345, 0.6786762201434499, 0.011311270335724165, 0.004524508134289666, 0.9565607180292056, 0.9906818902196213, 0.9741738319570303, 0.31124666938299156, 0.15523330127121635, 0.5312255184205946, 0.0007800668405588761, 0.0007800668405588761, 0.9914635827453027, 0.001624244945320429, 0.03573338879704944, 0.9566802727937328, 0.004872734835961287, 0.9958333564356632, 0.41540297357420836, 0.30776205706410326, 0.004548207739863595, 0.013644623219590785, 0.2577317719256037, 0.14358873344965542, 0.8552208080188268, 0.0895697269171757, 0.9089668583446718, 0.05619524369512331, 0.9412703318933154, 0.008632296798842129, 0.8582969388563031, 0.08755615324539874, 0.02959644616745873, 0.007399111541864682, 0.008632296798842129, 0.6059156167414906, 0.25402269957764856, 0.0989698829523306, 0.040687618547069246, 0.33845608996419124, 0.001574214371926471, 0.6580216074652648, 0.8283647123743926, 0.1322272310832364, 0.03889036208330482, 0.9723316289606688, 0.379836379488808, 0.6185173476810994, 0.9927366167252941, 0.0795065917050048, 0.8911363820269289, 0.0016563873271876002, 0.028158584562189202, 0.9895764981713997, 0.995282900845213, 0.39351355988286046, 0.004372372887587338, 0.5858979669367034, 0.004372372887587338, 0.011659661033566237, 0.2364124237931265, 0.7600786528402669, 0.11486426924696831, 0.8826412268451249, 0.9956402202358351, 0.9827649840080945, 0.9960319801482672, 0.9970804113059771, 0.9856282447552498, 0.9920812623675879, 0.9957814193194687, 0.9815080192384548, 0.7286246270064022, 0.005899794550659127, 0.21534250109905814, 0.05014825368060258, 0.1300127712565432, 0.2442664187244145, 0.6244552801261243, 0.9782248769290744, 0.5892477952995219, 0.011864049569789032, 0.017136960489695267, 0.33219338795409287, 0.005272910919906236, 0.04350151508922645, 0.0504330188327158, 0.16390731120632634, 0.7848638555841396, 0.48007270835024823, 0.326283182731554, 0.19327602543971031, 0.4396364048868822, 0.11486936944787897, 0.081452825608496, 0.30701449652433105, 0.03550507782934441, 0.021929606894595076, 0.9770160507067581, 0.9749629118995345, 0.9934818968050594, 0.22989921677733285, 0.16967209801594707, 0.0012952068550835655, 0.25968897444425487, 0.2331372339150418, 0.03432298165971449, 0.07188398045713788, 0.9752652700893084, 0.0064738595666177035, 0.05826473609955933, 0.9338542424846037, 0.9952766436832685, 0.9898607565663003, 0.13587505783224438, 0.12293457613393538, 0.003235120424577247, 0.003235120424577247, 0.7343723363790351, 0.99856858619723, 0.2691148025181631, 0.05058548919514345, 0.010117097839028689, 0.5139485702226574, 0.1497330480176246, 0.004046839135611475, 0.9738338210870516, 0.9854645025878664, 0.9866301559810825, 0.7720108801465025, 0.05188925587869935, 0.17465164173806122, 0.9800017898385784, 0.2065604879843041, 0.7915744574503402, 0.37631343166345604, 0.6215659785061912, 0.9786351742349562, 0.1854300658733773, 0.22446797447829883, 0.5904483676494382, 0.9973141603407978, 0.15974290314316578, 0.4271020778775169, 0.03867459760308224, 0.3632049166202506, 0.010089025461673628, 0.986977977111417, 0.995990969950327, 0.3129114764685824, 0.6884052482308813, 0.9922409808869627, 0.9946211766460875, 0.342335422687235, 0.3770023009340436, 0.06685755090455946, 0.045809803397568516, 0.034666878246808606, 0.04457170060303964, 0.0879052984115504, 0.7905706939802878, 0.2082543606625926, 0.9690168378747233, 0.12209278641822965, 0.017877872296955057, 0.28997036774329543, 0.014389506970719923, 0.022674374620528365, 0.48313859768356593, 0.05014525156463003, 0.9833846318638377, 0.09125722816686281, 0.20398674531416394, 0.6924813196191355, 0.9811715273192898, 0.9890376579403335, 0.9768291583812865, 0.014137918272082649, 0.8105739809327386, 0.17436765868901935, 0.5223459705945372, 0.0021855479941194026, 0.09325004774909451, 0.26809388727864675, 0.0866934037667363, 0.0014570319960796017, 0.02622657592943283, 0.017352437144638796, 0.09419894449946775, 0.6197298980228142, 0.26524439635376446, 0.978753046541035, 0.9820221522443292, 0.4036061539358425, 0.3092143921282664, 0.2831752854227282, 0.004882332507288417, 0.27079112719806747, 0.6237867037241197, 0.06044444803528291, 0.015715556489173558, 0.029013335056935798, 0.9955109790791873, 0.11074562230837344, 0.49977511605830066, 0.0028396313412403446, 0.38335023106744653, 0.9840804774225198, 0.2987044058712562, 0.0703400697696829, 0.06455869417217473, 0.04046962918255729, 0.3449554106513217, 0.18114976872192312, 0.3475486470791735, 0.045830590823627275, 0.12221490886300607, 0.48122120364808635, 0.35344577945826, 0.642093166015839, 0.2384611520690824, 0.010963731129612983, 0.029053887493474404, 0.47637411758168413, 0.20666633179320473, 0.00657823867776779, 0.031246633719397003, 0.0005481865564806492, 0.9768154530498224, 0.9927197716986325], \"Term\": [\"absolutely\", \"absolutely\", \"absolutely\", \"accident\", \"accord\", \"accord\", \"accord\", \"accord\", \"act\", \"acura\", \"add\", \"add\", \"add\", \"add\", \"add\", \"adjust\", \"adjustment\", \"affordable\", \"affordable\", \"aftermarket\", \"aggressive\", \"airbag\", \"alert\", \"altima\", \"amazing\", \"amazing\", \"amazing\", \"answer\", \"apart\", \"app\", \"appear\", \"appointment\", \"arm\", \"audi\", \"audi\", \"audio\", \"auto\", \"auto\", \"auto\", \"auto\", \"automatic\", \"automatic\", \"automobile\", \"average\", \"backseat\", \"bang\", \"base\", \"base\", \"base\", \"battery\", \"bell\", \"belt\", \"beware\", \"bit\", \"bit\", \"bit\", \"bit\", \"black\", \"black\", \"black\", \"black\", \"blind\", \"blind\", \"blind\", \"blue\", \"blue\", \"blue\", \"bluetooth\", \"bluetooth\", \"bluetooth\", \"bluetooth\", \"bluetooth\", \"bluetooth\", \"boost\", \"boring\", \"brand\", \"brand\", \"brand\", \"brand\", \"bright\", \"bring\", \"bring\", \"buck\", \"budget\", \"buick\", \"bumper\", \"bumper\", \"buy\", \"buy\", \"buy\", \"buy\", \"buy\", \"buy\", \"buy\", \"buy\", \"buyer\", \"buying\", \"cabin\", \"cadillac\", \"camry\", \"camry\", \"car\", \"car\", \"car\", \"car\", \"car\", \"car\", \"car\", \"car\", \"card\", \"cargo\", \"carry\", \"cause\", \"cell\", \"certify\", \"chance\", \"charger\", \"charger\", \"charger\", \"charger\", \"chevy\", \"chevy\", \"city\", \"city\", \"city\", \"civic\", \"civic\", \"civic\", \"classy\", \"collision\", \"color\", \"color\", \"com\", \"come\", \"come\", \"come\", \"come\", \"come\", \"comfort\", \"comfort\", \"comfort\", \"comfortable\", \"comfortable\", \"comfortable\", \"comfortable\", \"comfortable\", \"comfortably\", \"confidence\", \"connect\", \"connect\", \"connect\", \"connection\", \"consider\", \"consider\", \"console\", \"control\", \"control\", \"control\", \"control\", \"control\", \"control\", \"convenience\", \"convenient\", \"corolla\", \"corolla\", \"corolla\", \"crazy\", \"credit\", \"cruze\", \"cruze\", \"cup\", \"customer\", \"customer\", \"cvt\", \"cvt\", \"cvt\", \"daily\", \"daughter\", \"day\", \"day\", \"day\", \"day\", \"day\", \"day\", \"deal\", \"deal\", \"deal\", \"deal\", \"dealer\", \"dealer\", \"dealer\", \"dealer\", \"dealership\", \"dealership\", \"dealership\", \"dealership\", \"decide\", \"decide\", \"decide\", \"decide\", \"decision\", \"definitely\", \"definitely\", \"definitely\", \"definitely\", \"deliver\", \"departure\", \"dependability\", \"dependable\", \"die\", \"diesel\", \"diesel\", \"different\", \"different\", \"disappointing\", \"doesn\", \"door\", \"door\", \"door\", \"door\", \"dream\", \"dream\", \"dream\", \"drive\", \"drive\", \"drive\", \"drive\", \"drive\", \"drive\", \"drive\", \"drive\", \"driver\", \"driver\", \"driver\", \"driving\", \"driving\", \"driving\", \"driving\", \"easy\", \"easy\", \"easy\", \"easy\", \"easy\", \"easy\", \"eco\", \"ecoboost\", \"economic\", \"economical\", \"economical\", \"efficient\", \"efficient\", \"electrical\", \"end\", \"end\", \"end\", \"end\", \"engine\", \"engine\", \"engine\", \"engine\", \"engine\", \"engine\", \"engine\", \"enjoyable\", \"entry\", \"entry\", \"equip\", \"everyday\", \"exceed\", \"exceed\", \"excellent\", \"excellent\", \"excellent\", \"excellent\", \"excited\", \"expectation\", \"expectation\", \"expensive\", \"experience\", \"experience\", \"experience\", \"experience\", \"experience\", \"extended\", \"fabulous\", \"fact\", \"fair\", \"family\", \"family\", \"family\", \"far\", \"far\", \"far\", \"far\", \"far\", \"far\", \"faster\", \"favorite\", \"favorite\", \"feature\", \"feature\", \"feature\", \"feature\", \"feature\", \"feature\", \"feature\", \"feel\", \"feel\", \"feel\", \"feel\", \"feel\", \"feel\", \"feeling\", \"fender\", \"filter\", \"finance\", \"fix\", \"fix\", \"flat\", \"flaw\", \"flawless\", \"floor\", \"fog\", \"ford\", \"ford\", \"ford\", \"ford\", \"free\", \"free\", \"freeway\", \"friend\", \"friendly\", \"fuel\", \"fuel\", \"fuel\", \"fuel\", \"fuel\", \"fully\", \"fun\", \"fun\", \"fun\", \"fun\", \"function\", \"fusion\", \"future\", \"gal\", \"gap\", \"gas\", \"gas\", \"gas\", \"gas\", \"gas\", \"gear\", \"gear\", \"glad\", \"good\", \"good\", \"good\", \"good\", \"good\", \"good\", \"good\", \"good\", \"grand\", \"great\", \"great\", \"great\", \"great\", \"great\", \"great\", \"great\", \"hand\", \"hand\", \"hand\", \"hand\", \"hand\", \"hand\", \"handle\", \"handle\", \"handle\", \"handle\", \"handle\", \"handle\", \"happen\", \"happen\", \"happen\", \"happen\", \"hatch\", \"haul\", \"help\", \"help\", \"help\", \"help\", \"help\", \"helpful\", \"hemi\", \"high\", \"high\", \"high\", \"high\", \"high\", \"high\", \"highly\", \"highly\", \"highly\", \"highly\", \"highly\", \"highway\", \"highway\", \"highway\", \"hill\", \"hill\", \"holder\", \"honda\", \"honda\", \"honda\", \"honestly\", \"hopefully\", \"hug\", \"hwy\", \"hyundai\", \"hyundai\", \"hyundai\", \"hyundai\", \"impala\", \"impreza\", \"increase\", \"indicator\", \"infiniti\", \"info\", \"infotainment\", \"insurance\", \"interior\", \"interior\", \"interior\", \"interior\", \"interior\", \"internet\", \"internet\", \"interstate\", \"investment\", \"iphone\", \"iphone\", \"ipod\", \"ipod\", \"issue\", \"issue\", \"issue\", \"issue\", \"issue\", \"issue\", \"issue\", \"issue\", \"jetta\", \"jetta\", \"jetta\", \"jetta\", \"joy\", \"just\", \"just\", \"just\", \"just\", \"just\", \"just\", \"just\", \"key\", \"key\", \"key\", \"kia\", \"kia\", \"know\", \"know\", \"know\", \"know\", \"know\", \"know\", \"knowledgeable\", \"lack\", \"lack\", \"lane\", \"lane\", \"lead\", \"lead\", \"lead\", \"leak\", \"lease\", \"leatherette\", \"leg\", \"leg\", \"legroom\", \"legroom\", \"lie\", \"light\", \"light\", \"light\", \"light\", \"light\", \"light\", \"listen\", \"liter\", \"literally\", \"little\", \"little\", \"little\", \"little\", \"little\", \"load\", \"load\", \"load\", \"load\", \"lock\", \"lock\", \"lock\", \"look\", \"look\", \"look\", \"look\", \"look\", \"look\", \"look\", \"lot\", \"lot\", \"lot\", \"lot\", \"lot\", \"lot\", \"lot\", \"love\", \"love\", \"love\", \"love\", \"love\", \"love\", \"low\", \"low\", \"low\", \"low\", \"ltz\", \"luxurious\", \"luxurious\", \"maintenance\", \"maintenance\", \"maintenance\", \"maintenance\", \"maintenance\", \"make\", \"make\", \"make\", \"make\", \"make\", \"make\", \"make\", \"make\", \"malibu\", \"malibu\", \"malibu\", \"manager\", \"manual\", \"manual\", \"maxima\", \"mazda\", \"mazda\", \"mazda\", \"mechanic\", \"meet\", \"merced\", \"midsize\", \"mile\", \"mile\", \"mile\", \"mile\", \"mile\", \"mile\", \"mileage\", \"mileage\", \"mileage\", \"mileage\", \"mileage\", \"millage\", \"mirror\", \"mirror\", \"mixed\", \"mode\", \"mode\", \"model\", \"model\", \"model\", \"model\", \"model\", \"moment\", \"moment\", \"month\", \"month\", \"month\", \"month\", \"month\", \"month\", \"mpg\", \"mpg\", \"mpg\", \"mph\", \"mph\", \"music\", \"music\", \"music\", \"necessary\", \"need\", \"need\", \"need\", \"need\", \"new\", \"new\", \"new\", \"new\", \"new\", \"new\", \"new\", \"nice\", \"nice\", \"nice\", \"nice\", \"nice\", \"nice\", \"nissan\", \"nissan\", \"nissan\", \"nissan\", \"noise\", \"noise\", \"noise\", \"noise\", \"non\", \"non\", \"notch\", \"occasion\", \"oil\", \"optima\", \"option\", \"option\", \"option\", \"option\", \"option\", \"outstanding\", \"outstanding\", \"outstanding\", \"outstanding\", \"outstanding\", \"pack\", \"package\", \"package\", \"package\", \"package\", \"package\", \"package\", \"pad\", \"paddle\", \"paint\", \"paint\", \"paint\", \"park\", \"passenger\", \"passenger\", \"passenger\", \"pay\", \"pay\", \"pay\", \"pay\", \"peace\", \"pedal\", \"perfect\", \"perfect\", \"perfect\", \"perfectly\", \"performance\", \"performance\", \"performance\", \"performance\", \"performance\", \"performance\", \"phenomenal\", \"phone\", \"phone\", \"phone\", \"phone\", \"pickup\", \"placement\", \"plastic\", \"play\", \"pleasure\", \"pleasure\", \"plenty\", \"plenty\", \"port\", \"position\", \"position\", \"possible\", \"possible\", \"possibly\", \"power\", \"power\", \"power\", \"power\", \"power\", \"power\", \"present\", \"price\", \"price\", \"price\", \"price\", \"price\", \"prior\", \"problem\", \"problem\", \"problem\", \"problem\", \"problem\", \"problem\", \"profile\", \"properly\", \"pull\", \"pull\", \"pull\", \"purchase\", \"purchase\", \"purchase\", \"purchase\", \"purchase\", \"purchase\", \"purchase\", \"question\", \"radio\", \"radio\", \"radio\", \"radio\", \"radio\", \"radius\", \"rat\", \"ready\", \"ready\", \"really\", \"really\", \"really\", \"really\", \"really\", \"really\", \"rear\", \"rear\", \"rear\", \"rear\", \"rear\", \"rear\", \"reasonable\", \"receive\", \"receive\", \"receive\", \"recommend\", \"recommend\", \"recommend\", \"recommend\", \"recommend\", \"relatively\", \"reliability\", \"reliability\", \"reliability\", \"reliability\", \"reliable\", \"reliable\", \"reliable\", \"reliable\", \"remain\", \"rep\", \"repair\", \"replace\", \"replace\", \"replace\", \"replacement\", \"reputation\", \"requirement\", \"reverse\", \"ride\", \"ride\", \"ride\", \"ride\", \"ride\", \"ride\", \"ride\", \"road\", \"road\", \"road\", \"road\", \"road\", \"road\", \"room\", \"room\", \"room\", \"roomy\", \"roomy\", \"rough\", \"rpm\", \"rust\", \"sacrifice\", \"sale\", \"salesman\", \"satisfied\", \"satisfied\", \"save\", \"saver\", \"saving\", \"say\", \"say\", \"say\", \"say\", \"say\", \"say\", \"screen\", \"screen\", \"screen\", \"screen\", \"seat\", \"seat\", \"seat\", \"seat\", \"seat\", \"seat\", \"select\", \"sentra\", \"sentra\", \"series\", \"series\", \"service\", \"service\", \"service\", \"service\", \"sexy\", \"shift\", \"shift\", \"shifter\", \"shifting\", \"size\", \"size\", \"size\", \"size\", \"size\", \"slick\", \"smell\", \"smile\", \"smooth\", \"smooth\", \"smooth\", \"smooth\", \"smooth\", \"soft\", \"sonata\", \"sonata\", \"sonata\", \"sonata\", \"soon\", \"sound\", \"sound\", \"sound\", \"sound\", \"sound\", \"space\", \"space\", \"spacious\", \"spacious\", \"spare\", \"spare\", \"speed\", \"speed\", \"speed\", \"speed\", \"speed\", \"speed\", \"sport\", \"sport\", \"sport\", \"sport\", \"sporty\", \"sporty\", \"sporty\", \"spot\", \"spot\", \"spot\", \"staff\", \"standard\", \"standard\", \"stay\", \"steering\", \"steering\", \"steering\", \"steering\", \"stiff\", \"storage\", \"style\", \"style\", \"style\", \"style\", \"style\", \"stylish\", \"stylish\", \"subaru\", \"subaru\", \"support\", \"suppose\", \"surprise\", \"suspension\", \"sweet\", \"sync\", \"tdi\", \"team\", \"technology\", \"technology\", \"technology\", \"technology\", \"tell\", \"tell\", \"tell\", \"terrific\", \"test\", \"test\", \"test\", \"test\", \"test\", \"test\", \"thank\", \"thank\", \"thank\", \"thing\", \"thing\", \"thing\", \"think\", \"think\", \"think\", \"think\", \"think\", \"think\", \"thrill\", \"throw\", \"tight\", \"time\", \"time\", \"time\", \"time\", \"time\", \"time\", \"time\", \"tint\", \"tire\", \"tire\", \"tire\", \"tooth\", \"torque\", \"touch\", \"touch\", \"touch\", \"touch\", \"touch\", \"toyota\", \"trade\", \"trade\", \"trade\", \"trade\", \"trade\", \"trade\", \"train\", \"tran\", \"tranny\", \"transmission\", \"transmission\", \"transmission\", \"treat\", \"trip\", \"trip\", \"trunk\", \"trunk\", \"trust\", \"try\", \"try\", \"try\", \"turbo\", \"turn\", \"turn\", \"turn\", \"turn\", \"turn\", \"twice\", \"uncomfortable\", \"understand\", \"understand\", \"unlock\", \"usb\", \"use\", \"use\", \"use\", \"use\", \"use\", \"use\", \"use\", \"value\", \"value\", \"valve\", \"vehicle\", \"vehicle\", \"vehicle\", \"vehicle\", \"vehicle\", \"vehicle\", \"vehicle\", \"vibration\", \"view\", \"view\", \"view\", \"visit\", \"voice\", \"wagon\", \"wait\", \"wait\", \"wait\", \"want\", \"want\", \"want\", \"want\", \"want\", \"want\", \"want\", \"warranty\", \"warranty\", \"warranty\", \"warranty\", \"waste\", \"watch\", \"week\", \"week\", \"week\", \"week\", \"wheel\", \"wheel\", \"wheel\", \"wheel\", \"wheel\", \"whistle\", \"window\", \"window\", \"window\", \"window\", \"wise\", \"work\", \"work\", \"work\", \"work\", \"work\", \"work\", \"worth\", \"worth\", \"worth\", \"worth\", \"wrong\", \"wrong\", \"year\", \"year\", \"year\", \"year\", \"year\", \"year\", \"year\", \"year\", \"zip\", \"zoom\"]}, \"R\": 30, \"lambda.step\": 0.01, \"plot.opts\": {\"xlab\": \"PC1\", \"ylab\": \"PC2\"}, \"topic.order\": [6, 1, 2, 7, 4, 3, 5, 8]};\n",
       "\n",
       "function LDAvis_load_lib(url, callback){\n",
       "  var s = document.createElement('script');\n",
       "  s.src = url;\n",
       "  s.async = true;\n",
       "  s.onreadystatechange = s.onload = callback;\n",
       "  s.onerror = function(){console.warn(\"failed to load library \" + url);};\n",
       "  document.getElementsByTagName(\"head\")[0].appendChild(s);\n",
       "}\n",
       "\n",
       "if(typeof(LDAvis) !== \"undefined\"){\n",
       "   // already loaded: just create the visualization\n",
       "   !function(LDAvis){\n",
       "       new LDAvis(\"#\" + \"ldavis_el516541210409570161819354611\", ldavis_el516541210409570161819354611_data);\n",
       "   }(LDAvis);\n",
       "}else if(typeof define === \"function\" && define.amd){\n",
       "   // require.js is available: use it to load d3/LDAvis\n",
       "   require.config({paths: {d3: \"https://cdnjs.cloudflare.com/ajax/libs/d3/3.5.5/d3.min\"}});\n",
       "   require([\"d3\"], function(d3){\n",
       "      window.d3 = d3;\n",
       "      LDAvis_load_lib(\"https://cdn.rawgit.com/bmabey/pyLDAvis/files/ldavis.v1.0.0.js\", function(){\n",
       "        new LDAvis(\"#\" + \"ldavis_el516541210409570161819354611\", ldavis_el516541210409570161819354611_data);\n",
       "      });\n",
       "    });\n",
       "}else{\n",
       "    // require.js not available: dynamically load d3 & LDAvis\n",
       "    LDAvis_load_lib(\"https://cdnjs.cloudflare.com/ajax/libs/d3/3.5.5/d3.min.js\", function(){\n",
       "         LDAvis_load_lib(\"https://cdn.rawgit.com/bmabey/pyLDAvis/files/ldavis.v1.0.0.js\", function(){\n",
       "                 new LDAvis(\"#\" + \"ldavis_el516541210409570161819354611\", ldavis_el516541210409570161819354611_data);\n",
       "            })\n",
       "         });\n",
       "}\n",
       "</script>"
      ],
      "text/plain": [
       "PreparedData(topic_coordinates=            Freq  cluster  topics           x           y\n",
       "topic                                                    \n",
       "5      23.584045        1       1 -209.886658  146.993240\n",
       "0      20.621327        1       2  186.536697  230.663727\n",
       "1      18.849116        1       3  179.892120 -174.401047\n",
       "6      13.802898        1       4  -40.079025 -220.875107\n",
       "3       7.586615        1       5  -31.811037  284.237091\n",
       "2       6.546161        1       6   21.699841   30.763384\n",
       "4       5.062151        1       7  280.751770   26.529325\n",
       "7       3.947685        1       8 -213.505173  -77.803207, topic_info=     Category          Freq         Term         Total  loglift  logprob\n",
       "term                                                                    \n",
       "426   Default  18367.000000          car  18367.000000  30.0000  30.0000\n",
       "1331  Default   5540.000000        great   5540.000000  29.0000  29.0000\n",
       "3317  Default   2293.000000      vehicle   2293.000000  28.0000  28.0000\n",
       "1970  Default   1792.000000          mpg   1792.000000  27.0000  27.0000\n",
       "2010  Default   1716.000000         need   1716.000000  26.0000  26.0000\n",
       "1794  Default   4097.000000         love   4097.000000  25.0000  25.0000\n",
       "1261  Default   2788.000000          gas   2788.000000  24.0000  24.0000\n",
       "1439  Default   1264.000000        honda   1264.000000  23.0000  23.0000\n",
       "396   Default   2898.000000          buy   2898.000000  22.0000  22.0000\n",
       "2020  Default   2679.000000          new   2679.000000  21.0000  21.0000\n",
       "1914  Default   2046.000000         mile   2046.000000  20.0000  20.0000\n",
       "1915  Default   2004.000000      mileage   2004.000000  19.0000  19.0000\n",
       "2355  Default   1753.000000     purchase   1753.000000  18.0000  18.0000\n",
       "559   Default   2378.000000  comfortable   2378.000000  17.0000  17.0000\n",
       "3139  Default    617.000000         tire    617.000000  16.0000  16.0000\n",
       "2329  Default    999.000000      problem    999.000000  15.0000  15.0000\n",
       "3164  Default    938.000000       toyota    938.000000  14.0000  14.0000\n",
       "2662  Default   2579.000000         seat   2579.000000  13.0000  13.0000\n",
       "417   Default    848.000000        camry    848.000000  12.0000  12.0000\n",
       "23    Default    878.000000       accord    878.000000  11.0000  11.0000\n",
       "1305  Default   5257.000000         good   5257.000000  10.0000  10.0000\n",
       "3452  Default   1824.000000         year   1824.000000   9.0000   9.0000\n",
       "1621  Default    868.000000        issue    868.000000   8.0000   8.0000\n",
       "2211  Default    449.000000        phone    449.000000   7.0000   7.0000\n",
       "3429  Default   1037.000000         work   1037.000000   6.0000   6.0000\n",
       "1423  Default    976.000000      highway    976.000000   5.0000   5.0000\n",
       "489   Default    466.000000        chevy    466.000000   4.0000   4.0000\n",
       "2579  Default   1046.000000         room   1046.000000   3.0000   3.0000\n",
       "1797  Default    652.000000          low    652.000000   2.0000   2.0000\n",
       "1782  Default   3221.000000         look   3221.000000   1.0000   1.0000\n",
       "...       ...           ...          ...           ...      ...      ...\n",
       "2335   Topic8     42.104281      profile     42.974475   3.2116  -5.7306\n",
       "2007   Topic8     38.865410    necessary     39.736257   3.2099  -5.8106\n",
       "1553   Topic8     38.822394         info     39.693560   3.2098  -5.8118\n",
       "979    Topic8     38.086976   electrical     38.957785   3.2094  -5.8309\n",
       "2209   Topic8     37.466622   phenomenal     38.337317   3.2091  -5.8473\n",
       "1544   Topic8     31.470743    indicator     32.341213   3.2048  -6.0217\n",
       "3306   Topic8     31.120536        valve     31.991188   3.2044  -6.0329\n",
       "1720   Topic8     30.784906  leatherette     31.656239   3.2041  -6.0437\n",
       "1252   Topic8     30.664537          gal     31.535150   3.2040  -6.0476\n",
       "617    Topic8    100.846011      connect    103.853456   3.2027  -4.8572\n",
       "2211   Topic8    426.263965        phone    449.449602   3.1791  -3.4157\n",
       "3139   Topic8    577.452285         tire    617.869442   3.1644  -3.1121\n",
       "1615   Topic8     66.077003       iphone     69.745874   3.1780  -5.2799\n",
       "2861   Topic8     66.780327        spare     71.180401   3.1682  -5.2693\n",
       "2144   Topic8    121.205172        paint    148.358887   3.0299  -4.6733\n",
       "1219   Topic8    143.337409         free    207.003844   2.8645  -4.5055\n",
       "1616   Topic8     70.853788         ipod     86.625259   3.0311  -5.2101\n",
       "317    Topic8    243.565870    bluetooth    551.736082   2.4144  -3.9754\n",
       "2247   Topic8     81.873337     pleasure    113.540122   2.9051  -5.0656\n",
       "1797   Topic8    249.450853          low    652.974089   2.2698  -3.9515\n",
       "1983   Topic8     93.937838        music    145.919326   2.7916  -4.9281\n",
       "2853   Topic8    170.090897        sound    659.600478   1.8767  -4.3344\n",
       "3429   Topic8    188.236906         work   1037.815291   1.5249  -4.2330\n",
       "3245   Topic8     65.505882   understand     95.873761   2.8511  -5.2886\n",
       "1363   Topic8     87.724353         hand    238.993247   2.2298  -4.9966\n",
       "2032   Topic8    111.966207        noise    629.635269   1.5051  -4.7526\n",
       "3292   Topic8    142.444999          use   1615.374756   0.8037  -4.5118\n",
       "1621   Topic8     97.824954        issue    868.700944   1.0482  -4.8876\n",
       "3317   Topic8    114.507039      vehicle   2293.337782   0.2349  -4.7301\n",
       "2566   Topic8     80.619890         road   1309.418961   0.4444  -5.0810\n",
       "\n",
       "[536 rows x 6 columns], token_table=      Topic      Freq         Term\n",
       "term                              \n",
       "5         1  0.743798   absolutely\n",
       "5         3  0.250599   absolutely\n",
       "5         4  0.005332   absolutely\n",
       "18        1  0.995291     accident\n",
       "23        1  0.003416       accord\n",
       "23        2  0.007971       accord\n",
       "23        3  0.031885       accord\n",
       "23        4  0.956540       accord\n",
       "30        7  0.967231          act\n",
       "38        6  0.991759        acura\n",
       "40        1  0.288502          add\n",
       "40        2  0.088248          add\n",
       "40        3  0.074671          add\n",
       "40        4  0.084854          add\n",
       "40        6  0.461604          add\n",
       "45        2  0.994546       adjust\n",
       "47        2  0.986934   adjustment\n",
       "66        1  0.162851   affordable\n",
       "66        3  0.830541   affordable\n",
       "68        3  0.980385  aftermarket\n",
       "74        3  0.987145   aggressive\n",
       "84        1  0.983729       airbag\n",
       "90        7  0.982584        alert\n",
       "103       1  0.998676       altima\n",
       "108       1  0.595102      amazing\n",
       "108       3  0.342388      amazing\n",
       "108       7  0.061956      amazing\n",
       "125       5  0.984783       answer\n",
       "135       7  0.986549        apart\n",
       "136       6  0.988455          app\n",
       "...     ...       ...          ...\n",
       "3391      4  0.015716        wheel\n",
       "3391      8  0.029013        wheel\n",
       "3398      2  0.995511      whistle\n",
       "3410      1  0.110746       window\n",
       "3410      2  0.499775       window\n",
       "3410      4  0.002840       window\n",
       "3410      6  0.383350       window\n",
       "3420      3  0.984080         wise\n",
       "3429      1  0.298704         work\n",
       "3429      2  0.070340         work\n",
       "3429      3  0.064559         work\n",
       "3429      4  0.040470         work\n",
       "3429      5  0.344955         work\n",
       "3429      8  0.181150         work\n",
       "3435      1  0.347549        worth\n",
       "3435      5  0.045831        worth\n",
       "3435      6  0.122215        worth\n",
       "3435      7  0.481221        worth\n",
       "3446      1  0.353446        wrong\n",
       "3446      7  0.642093        wrong\n",
       "3452      1  0.238461         year\n",
       "3452      2  0.010964         year\n",
       "3452      3  0.029054         year\n",
       "3452      4  0.476374         year\n",
       "3452      5  0.206666         year\n",
       "3452      6  0.006578         year\n",
       "3452      7  0.031247         year\n",
       "3452      8  0.000548         year\n",
       "3462      3  0.976815          zip\n",
       "3465      1  0.992720         zoom\n",
       "\n",
       "[1069 rows x 3 columns], R=30, lambda_step=0.01, plot_opts={'xlab': 'PC1', 'ylab': 'PC2'}, topic_order=[6, 1, 2, 7, 4, 3, 5, 8])"
      ]
     },
     "execution_count": 73,
     "metadata": {},
     "output_type": "execute_result"
    }
   ],
   "source": [
    "pyLDAvis.enable_notebook()\n",
    "panel = pyLDAvis.sklearn.prepare(best_lda_model, data_vectorized, vectorizer, mds='tsne')\n",
    "panel"
   ]
  },
  {
   "cell_type": "markdown",
   "metadata": {},
   "source": [
    "## 13. See the Topic’s keywords"
   ]
  },
  {
   "cell_type": "code",
   "execution_count": 74,
   "metadata": {},
   "outputs": [
    {
     "data": {
      "text/html": [
       "<div>\n",
       "<style>\n",
       "    .dataframe thead tr:only-child th {\n",
       "        text-align: right;\n",
       "    }\n",
       "\n",
       "    .dataframe thead th {\n",
       "        text-align: left;\n",
       "    }\n",
       "\n",
       "    .dataframe tbody tr th {\n",
       "        vertical-align: top;\n",
       "    }\n",
       "</style>\n",
       "<table border=\"1\" class=\"dataframe\">\n",
       "  <thead>\n",
       "    <tr style=\"text-align: right;\">\n",
       "      <th></th>\n",
       "      <th>ability</th>\n",
       "      <th>able</th>\n",
       "      <th>abnormal</th>\n",
       "      <th>abs</th>\n",
       "      <th>absolute</th>\n",
       "      <th>absolutely</th>\n",
       "      <th>absorb</th>\n",
       "      <th>abundance</th>\n",
       "      <th>abundant</th>\n",
       "      <th>accelerate</th>\n",
       "      <th>...</th>\n",
       "      <th>yield</th>\n",
       "      <th>yokohama</th>\n",
       "      <th>york</th>\n",
       "      <th>young</th>\n",
       "      <th>youtube</th>\n",
       "      <th>yrs</th>\n",
       "      <th>zip</th>\n",
       "      <th>zippy</th>\n",
       "      <th>zone</th>\n",
       "      <th>zoom</th>\n",
       "    </tr>\n",
       "  </thead>\n",
       "  <tbody>\n",
       "    <tr>\n",
       "      <th>Topic #0:</th>\n",
       "      <td>18.493316</td>\n",
       "      <td>30.565481</td>\n",
       "      <td>0.125424</td>\n",
       "      <td>0.125295</td>\n",
       "      <td>9.186892</td>\n",
       "      <td>0.125253</td>\n",
       "      <td>0.125460</td>\n",
       "      <td>0.125101</td>\n",
       "      <td>5.861103</td>\n",
       "      <td>135.052768</td>\n",
       "      <td>...</td>\n",
       "      <td>4.821030</td>\n",
       "      <td>0.125304</td>\n",
       "      <td>0.125242</td>\n",
       "      <td>0.125241</td>\n",
       "      <td>0.125133</td>\n",
       "      <td>18.861034</td>\n",
       "      <td>0.125347</td>\n",
       "      <td>0.125264</td>\n",
       "      <td>0.125420</td>\n",
       "      <td>0.125262</td>\n",
       "    </tr>\n",
       "    <tr>\n",
       "      <th>Topic #1:</th>\n",
       "      <td>18.001079</td>\n",
       "      <td>0.125191</td>\n",
       "      <td>0.125002</td>\n",
       "      <td>0.125183</td>\n",
       "      <td>0.125218</td>\n",
       "      <td>97.242439</td>\n",
       "      <td>0.125130</td>\n",
       "      <td>5.144827</td>\n",
       "      <td>0.125122</td>\n",
       "      <td>3.963158</td>\n",
       "      <td>...</td>\n",
       "      <td>0.125176</td>\n",
       "      <td>0.125022</td>\n",
       "      <td>0.125194</td>\n",
       "      <td>0.125331</td>\n",
       "      <td>0.125150</td>\n",
       "      <td>0.125187</td>\n",
       "      <td>28.882308</td>\n",
       "      <td>0.125247</td>\n",
       "      <td>0.125222</td>\n",
       "      <td>0.125154</td>\n",
       "    </tr>\n",
       "    <tr>\n",
       "      <th>Topic #2:</th>\n",
       "      <td>0.125272</td>\n",
       "      <td>0.125211</td>\n",
       "      <td>0.125195</td>\n",
       "      <td>0.125397</td>\n",
       "      <td>0.125214</td>\n",
       "      <td>0.125183</td>\n",
       "      <td>0.125107</td>\n",
       "      <td>0.125134</td>\n",
       "      <td>0.125178</td>\n",
       "      <td>0.159129</td>\n",
       "      <td>...</td>\n",
       "      <td>0.125047</td>\n",
       "      <td>0.125233</td>\n",
       "      <td>0.126291</td>\n",
       "      <td>0.125975</td>\n",
       "      <td>6.876942</td>\n",
       "      <td>0.156361</td>\n",
       "      <td>0.125388</td>\n",
       "      <td>0.125479</td>\n",
       "      <td>0.125401</td>\n",
       "      <td>0.125117</td>\n",
       "    </tr>\n",
       "    <tr>\n",
       "      <th>Topic #3:</th>\n",
       "      <td>0.125152</td>\n",
       "      <td>0.125239</td>\n",
       "      <td>6.889036</td>\n",
       "      <td>0.125158</td>\n",
       "      <td>0.125252</td>\n",
       "      <td>0.125196</td>\n",
       "      <td>0.125338</td>\n",
       "      <td>0.125048</td>\n",
       "      <td>0.125074</td>\n",
       "      <td>0.125169</td>\n",
       "      <td>...</td>\n",
       "      <td>0.125172</td>\n",
       "      <td>0.125327</td>\n",
       "      <td>3.370945</td>\n",
       "      <td>0.125243</td>\n",
       "      <td>0.125154</td>\n",
       "      <td>0.125533</td>\n",
       "      <td>0.125224</td>\n",
       "      <td>0.125158</td>\n",
       "      <td>0.125063</td>\n",
       "      <td>0.125113</td>\n",
       "    </tr>\n",
       "    <tr>\n",
       "      <th>Topic #4:</th>\n",
       "      <td>0.170652</td>\n",
       "      <td>84.785993</td>\n",
       "      <td>0.125402</td>\n",
       "      <td>16.057149</td>\n",
       "      <td>0.125282</td>\n",
       "      <td>0.125239</td>\n",
       "      <td>0.125180</td>\n",
       "      <td>0.125174</td>\n",
       "      <td>0.125081</td>\n",
       "      <td>0.125207</td>\n",
       "      <td>...</td>\n",
       "      <td>0.125517</td>\n",
       "      <td>0.125016</td>\n",
       "      <td>0.125124</td>\n",
       "      <td>0.125194</td>\n",
       "      <td>0.125486</td>\n",
       "      <td>0.125448</td>\n",
       "      <td>0.125297</td>\n",
       "      <td>0.125117</td>\n",
       "      <td>0.125352</td>\n",
       "      <td>0.125241</td>\n",
       "    </tr>\n",
       "  </tbody>\n",
       "</table>\n",
       "<p>5 rows × 3466 columns</p>\n",
       "</div>"
      ],
      "text/plain": [
       "              ability       able  abnormal        abs  absolute  absolutely  \\\n",
       "Topic #0:   18.493316  30.565481  0.125424   0.125295  9.186892    0.125253   \n",
       "Topic #1:   18.001079   0.125191  0.125002   0.125183  0.125218   97.242439   \n",
       "Topic #2:    0.125272   0.125211  0.125195   0.125397  0.125214    0.125183   \n",
       "Topic #3:    0.125152   0.125239  6.889036   0.125158  0.125252    0.125196   \n",
       "Topic #4:    0.170652  84.785993  0.125402  16.057149  0.125282    0.125239   \n",
       "\n",
       "              absorb  abundance  abundant  accelerate    ...        yield  \\\n",
       "Topic #0:   0.125460   0.125101  5.861103  135.052768    ...     4.821030   \n",
       "Topic #1:   0.125130   5.144827  0.125122    3.963158    ...     0.125176   \n",
       "Topic #2:   0.125107   0.125134  0.125178    0.159129    ...     0.125047   \n",
       "Topic #3:   0.125338   0.125048  0.125074    0.125169    ...     0.125172   \n",
       "Topic #4:   0.125180   0.125174  0.125081    0.125207    ...     0.125517   \n",
       "\n",
       "            yokohama      york     young   youtube        yrs        zip  \\\n",
       "Topic #0:   0.125304  0.125242  0.125241  0.125133  18.861034   0.125347   \n",
       "Topic #1:   0.125022  0.125194  0.125331  0.125150   0.125187  28.882308   \n",
       "Topic #2:   0.125233  0.126291  0.125975  6.876942   0.156361   0.125388   \n",
       "Topic #3:   0.125327  3.370945  0.125243  0.125154   0.125533   0.125224   \n",
       "Topic #4:   0.125016  0.125124  0.125194  0.125486   0.125448   0.125297   \n",
       "\n",
       "               zippy      zone      zoom  \n",
       "Topic #0:   0.125264  0.125420  0.125262  \n",
       "Topic #1:   0.125247  0.125222  0.125154  \n",
       "Topic #2:   0.125479  0.125401  0.125117  \n",
       "Topic #3:   0.125158  0.125063  0.125113  \n",
       "Topic #4:   0.125117  0.125352  0.125241  \n",
       "\n",
       "[5 rows x 3466 columns]"
      ]
     },
     "execution_count": 74,
     "metadata": {},
     "output_type": "execute_result"
    }
   ],
   "source": [
    "# Topic-Keyword Matrix\n",
    "df_topic_keywords = pd.DataFrame(best_lda_model.components_)\n",
    "\n",
    "# Assign Column and Index\n",
    "df_topic_keywords.columns = vectorizer.get_feature_names()\n",
    "df_topic_keywords.index = topicnames\n",
    "\n",
    "# View\n",
    "df_topic_keywords.head()"
   ]
  },
  {
   "cell_type": "markdown",
   "metadata": {},
   "source": [
    "## 14. Top 15 keywords each topic"
   ]
  },
  {
   "cell_type": "code",
   "execution_count": 75,
   "metadata": {},
   "outputs": [
    {
     "data": {
      "text/html": [
       "<div>\n",
       "<style>\n",
       "    .dataframe thead tr:only-child th {\n",
       "        text-align: right;\n",
       "    }\n",
       "\n",
       "    .dataframe thead th {\n",
       "        text-align: left;\n",
       "    }\n",
       "\n",
       "    .dataframe tbody tr th {\n",
       "        vertical-align: top;\n",
       "    }\n",
       "</style>\n",
       "<table border=\"1\" class=\"dataframe\">\n",
       "  <thead>\n",
       "    <tr style=\"text-align: right;\">\n",
       "      <th></th>\n",
       "      <th>Word 0</th>\n",
       "      <th>Word 1</th>\n",
       "      <th>Word 2</th>\n",
       "      <th>Word 3</th>\n",
       "      <th>Word 4</th>\n",
       "      <th>Word 5</th>\n",
       "      <th>Word 6</th>\n",
       "      <th>Word 7</th>\n",
       "      <th>Word 8</th>\n",
       "      <th>Word 9</th>\n",
       "      <th>Word 10</th>\n",
       "      <th>Word 11</th>\n",
       "      <th>Word 12</th>\n",
       "      <th>Word 13</th>\n",
       "      <th>Word 14</th>\n",
       "    </tr>\n",
       "  </thead>\n",
       "  <tbody>\n",
       "    <tr>\n",
       "      <th>Topic 0</th>\n",
       "      <td>mpg</td>\n",
       "      <td>seat</td>\n",
       "      <td>car</td>\n",
       "      <td>highway</td>\n",
       "      <td>drive</td>\n",
       "      <td>mile</td>\n",
       "      <td>road</td>\n",
       "      <td>engine</td>\n",
       "      <td>speed</td>\n",
       "      <td>average</td>\n",
       "      <td>transmission</td>\n",
       "      <td>use</td>\n",
       "      <td>good</td>\n",
       "      <td>driver</td>\n",
       "      <td>trip</td>\n",
       "    </tr>\n",
       "    <tr>\n",
       "      <th>Topic 1</th>\n",
       "      <td>car</td>\n",
       "      <td>great</td>\n",
       "      <td>good</td>\n",
       "      <td>gas</td>\n",
       "      <td>mileage</td>\n",
       "      <td>love</td>\n",
       "      <td>comfortable</td>\n",
       "      <td>drive</td>\n",
       "      <td>look</td>\n",
       "      <td>ride</td>\n",
       "      <td>nice</td>\n",
       "      <td>room</td>\n",
       "      <td>interior</td>\n",
       "      <td>reliable</td>\n",
       "      <td>feature</td>\n",
       "    </tr>\n",
       "    <tr>\n",
       "      <th>Topic 2</th>\n",
       "      <td>fusion</td>\n",
       "      <td>light</td>\n",
       "      <td>door</td>\n",
       "      <td>subaru</td>\n",
       "      <td>sentra</td>\n",
       "      <td>screen</td>\n",
       "      <td>radio</td>\n",
       "      <td>standard</td>\n",
       "      <td>touch</td>\n",
       "      <td>base</td>\n",
       "      <td>mirror</td>\n",
       "      <td>turn</td>\n",
       "      <td>impreza</td>\n",
       "      <td>control</td>\n",
       "      <td>model</td>\n",
       "    </tr>\n",
       "    <tr>\n",
       "      <th>Topic 3</th>\n",
       "      <td>car</td>\n",
       "      <td>need</td>\n",
       "      <td>mile</td>\n",
       "      <td>buy</td>\n",
       "      <td>problem</td>\n",
       "      <td>issue</td>\n",
       "      <td>new</td>\n",
       "      <td>service</td>\n",
       "      <td>dealer</td>\n",
       "      <td>meet</td>\n",
       "      <td>nissan</td>\n",
       "      <td>year</td>\n",
       "      <td>time</td>\n",
       "      <td>work</td>\n",
       "      <td>good</td>\n",
       "    </tr>\n",
       "    <tr>\n",
       "      <th>Topic 4</th>\n",
       "      <td>vehicle</td>\n",
       "      <td>purchase</td>\n",
       "      <td>chevy</td>\n",
       "      <td>new</td>\n",
       "      <td>cruze</td>\n",
       "      <td>impala</td>\n",
       "      <td>make</td>\n",
       "      <td>experience</td>\n",
       "      <td>sale</td>\n",
       "      <td>buy</td>\n",
       "      <td>thank</td>\n",
       "      <td>car</td>\n",
       "      <td>brand</td>\n",
       "      <td>salesman</td>\n",
       "      <td>satisfied</td>\n",
       "    </tr>\n",
       "    <tr>\n",
       "      <th>Topic 5</th>\n",
       "      <td>car</td>\n",
       "      <td>drive</td>\n",
       "      <td>love</td>\n",
       "      <td>look</td>\n",
       "      <td>great</td>\n",
       "      <td>good</td>\n",
       "      <td>just</td>\n",
       "      <td>feature</td>\n",
       "      <td>feel</td>\n",
       "      <td>buy</td>\n",
       "      <td>mazda</td>\n",
       "      <td>want</td>\n",
       "      <td>new</td>\n",
       "      <td>really</td>\n",
       "      <td>make</td>\n",
       "    </tr>\n",
       "    <tr>\n",
       "      <th>Topic 6</th>\n",
       "      <td>car</td>\n",
       "      <td>honda</td>\n",
       "      <td>toyota</td>\n",
       "      <td>new</td>\n",
       "      <td>buy</td>\n",
       "      <td>year</td>\n",
       "      <td>camry</td>\n",
       "      <td>accord</td>\n",
       "      <td>good</td>\n",
       "      <td>make</td>\n",
       "      <td>just</td>\n",
       "      <td>sonata</td>\n",
       "      <td>model</td>\n",
       "      <td>corolla</td>\n",
       "      <td>civic</td>\n",
       "    </tr>\n",
       "    <tr>\n",
       "      <th>Topic 7</th>\n",
       "      <td>tire</td>\n",
       "      <td>phone</td>\n",
       "      <td>low</td>\n",
       "      <td>bluetooth</td>\n",
       "      <td>audio</td>\n",
       "      <td>work</td>\n",
       "      <td>sound</td>\n",
       "      <td>helpful</td>\n",
       "      <td>free</td>\n",
       "      <td>use</td>\n",
       "      <td>paint</td>\n",
       "      <td>surprise</td>\n",
       "      <td>vehicle</td>\n",
       "      <td>noise</td>\n",
       "      <td>future</td>\n",
       "    </tr>\n",
       "  </tbody>\n",
       "</table>\n",
       "</div>"
      ],
      "text/plain": [
       "          Word 0    Word 1  Word 2     Word 3   Word 4  Word 5       Word 6  \\\n",
       "Topic 0      mpg      seat     car    highway    drive    mile         road   \n",
       "Topic 1      car     great    good        gas  mileage    love  comfortable   \n",
       "Topic 2   fusion     light    door     subaru   sentra  screen        radio   \n",
       "Topic 3      car      need    mile        buy  problem   issue          new   \n",
       "Topic 4  vehicle  purchase   chevy        new    cruze  impala         make   \n",
       "Topic 5      car     drive    love       look    great    good         just   \n",
       "Topic 6      car     honda  toyota        new      buy    year        camry   \n",
       "Topic 7     tire     phone     low  bluetooth    audio    work        sound   \n",
       "\n",
       "             Word 7  Word 8   Word 9       Word 10   Word 11   Word 12  \\\n",
       "Topic 0      engine   speed  average  transmission       use      good   \n",
       "Topic 1       drive    look     ride          nice      room  interior   \n",
       "Topic 2    standard   touch     base        mirror      turn   impreza   \n",
       "Topic 3     service  dealer     meet        nissan      year      time   \n",
       "Topic 4  experience    sale      buy         thank       car     brand   \n",
       "Topic 5     feature    feel      buy         mazda      want       new   \n",
       "Topic 6      accord    good     make          just    sonata     model   \n",
       "Topic 7     helpful    free      use         paint  surprise   vehicle   \n",
       "\n",
       "          Word 13    Word 14  \n",
       "Topic 0    driver       trip  \n",
       "Topic 1  reliable    feature  \n",
       "Topic 2   control      model  \n",
       "Topic 3      work       good  \n",
       "Topic 4  salesman  satisfied  \n",
       "Topic 5    really       make  \n",
       "Topic 6   corolla      civic  \n",
       "Topic 7     noise     future  "
      ]
     },
     "execution_count": 75,
     "metadata": {},
     "output_type": "execute_result"
    }
   ],
   "source": [
    "# Show top n keywords for each topic\n",
    "def show_topics(vectorizer=vectorizer, lda_model=lda_model, n_words=20):\n",
    "    keywords = np.array(vectorizer.get_feature_names())\n",
    "    topic_keywords = []\n",
    "    for topic_weights in lda_model.components_:\n",
    "        top_keyword_locs = (-topic_weights).argsort()[:n_words]\n",
    "        topic_keywords.append(keywords.take(top_keyword_locs))\n",
    "    return topic_keywords\n",
    "\n",
    "topic_keywords = show_topics(vectorizer=vectorizer, lda_model=best_lda_model, n_words=15)        \n",
    "\n",
    "# Topic - Keywords Dataframe\n",
    "df_topic_keywords = pd.DataFrame(topic_keywords)\n",
    "df_topic_keywords.columns = ['Word '+str(i) for i in range(df_topic_keywords.shape[1])]\n",
    "df_topic_keywords.index = ['Topic '+str(i) for i in range(df_topic_keywords.shape[0])]\n",
    "df_topic_keywords"
   ]
  },
  {
   "cell_type": "markdown",
   "metadata": {},
   "source": [
    "## 15. Predict the topics for a new piece of text"
   ]
  },
  {
   "cell_type": "code",
   "execution_count": 119,
   "metadata": {
    "collapsed": true
   },
   "outputs": [],
   "source": [
    "# Define function to predict topic for a given text document.\n",
    "# nlp = spacy.load('en', disable=['parser', 'ner'])\n",
    "\n",
    "def predict_topic(text):\n",
    "    #     global sent_to_words\n",
    "    global lemmatization\n",
    "    \n",
    "    # Step 1: Clean with simple_preprocess\n",
    "    mytext_2 = list(sent_to_words(text))\n",
    "\n",
    "    # Step 2: Lemmatize\n",
    "    mytext_3 = lemmatization(mytext_2, allowed_postags=['NOUN', 'ADJ', 'VERB', 'ADV'])\n",
    "\n",
    "    # Step 3: Vectorize transform\n",
    "    mytext_4 = vectorizer.transform(mytext_3)\n",
    "\n",
    "    # Step 4: LDA Transform\n",
    "    topic_probability_scores = best_lda_model.transform(mytext_4)\n",
    "    topic = df_topic_keywords.iloc[np.argmax(topic_probability_scores), :].values.tolist()\n",
    "    print('The dominant topic of the content is Topic #', np.argmax(topic_probability_scores, axis=1)[0])\n",
    "    return topic, topic_probability_scores"
   ]
  },
  {
   "cell_type": "code",
   "execution_count": 120,
   "metadata": {},
   "outputs": [
    {
     "name": "stdout",
     "output_type": "stream",
     "text": [
      "The dominant topic of the content is Topic # 1\n",
      "['car', 'great', 'good', 'gas', 'mileage', 'love', 'comfortable', 'drive', 'look', 'ride', 'nice', 'room', 'interior', 'reliable', 'feature']\n",
      "[[0.01250526 0.74172002 0.01250285 0.01250075 0.0125     0.18326557\n",
      "  0.0125034  0.01250215]]\n"
     ]
    }
   ],
   "source": [
    "# Predict the topic\n",
    "mytext = [\"is perfect for me since it saves gas, is very comfortable and super easy to handle, its design I really like\"]\n",
    "topic, prob_scores = predict_topic(text = mytext)\n",
    "print(topic)\n",
    "print(prob_scores)"
   ]
  },
  {
   "cell_type": "code",
   "execution_count": 121,
   "metadata": {},
   "outputs": [
    {
     "name": "stdout",
     "output_type": "stream",
     "text": [
      "The dominant topic of the content is Topic # 5\n",
      "['car', 'drive', 'love', 'look', 'great', 'good', 'just', 'feature', 'feel', 'buy', 'mazda', 'want', 'new', 'really', 'make']\n",
      "[[0.00783661 0.00782508 0.00782053 0.0078177  0.00783425 0.94522408\n",
      "  0.00782879 0.00781296]]\n"
     ]
    }
   ],
   "source": [
    "# Predict the topic\n",
    "mytext = [\"The new Maxima is totally a 5 star car but make sure that you get the SV or SL models. The S model is not worth it. The cloth seats are not as comfortable as the leather seats!\"]\n",
    "topic, prob_scores = predict_topic(text = mytext)\n",
    "print(topic)\n",
    "print(prob_scores)"
   ]
  },
  {
   "cell_type": "markdown",
   "metadata": {},
   "source": [
    "## 16. Cluster documents that share similar topics\n",
    "* Devise an elbow curve to select the optimal number of clusters (k)"
   ]
  },
  {
   "cell_type": "code",
   "execution_count": 122,
   "metadata": {
    "collapsed": true
   },
   "outputs": [],
   "source": [
    "# Construct the k-means clusters\n",
    "from sklearn.cluster import KMeans\n",
    "clusters = KMeans(n_clusters=8, random_state=666).fit_predict(lda_output)"
   ]
  },
  {
   "cell_type": "code",
   "execution_count": 123,
   "metadata": {},
   "outputs": [
    {
     "data": {
      "text/plain": [
       "(10821,)"
      ]
     },
     "execution_count": 123,
     "metadata": {},
     "output_type": "execute_result"
    }
   ],
   "source": [
    "clusters.shape"
   ]
  },
  {
   "cell_type": "code",
   "execution_count": 131,
   "metadata": {},
   "outputs": [],
   "source": [
    "N = range(1, 15)\n",
    "\n",
    "kmeans = [KMeans(n_clusters=i) for i in N]\n",
    "\n",
    "# kmeans"
   ]
  },
  {
   "cell_type": "code",
   "execution_count": 132,
   "metadata": {},
   "outputs": [
    {
     "data": {
      "text/plain": [
       "[-2368.0046128703625,\n",
       " -1654.1426896355754,\n",
       " -1239.4526178616493,\n",
       " -1044.4096238147567,\n",
       " -930.4904125481432,\n",
       " -839.5883160264011,\n",
       " -775.7879464452885,\n",
       " -723.173855090236,\n",
       " -684.9083249886609,\n",
       " -650.2432705004367,\n",
       " -620.2385786981858,\n",
       " -591.9793434071776,\n",
       " -566.9830170507216,\n",
       " -544.4586238544317]"
      ]
     },
     "execution_count": 132,
     "metadata": {},
     "output_type": "execute_result"
    }
   ],
   "source": [
    "score = [kmeans[i].fit(lda_output).score(lda_output) for i in range(len(kmeans))]\n",
    "\n",
    "score"
   ]
  },
  {
   "cell_type": "code",
   "execution_count": 133,
   "metadata": {},
   "outputs": [
    {
     "data": {
      "image/png": "[encoded data removed]",
      "text/plain": [
       "<matplotlib.figure.Figure at 0x1c456722b0>"
      ]
     },
     "metadata": {},
     "output_type": "display_data"
    }
   ],
   "source": [
    "plt.plot(N,score)\n",
    "\n",
    "plt.xlabel('Number of Clusters')\n",
    "\n",
    "plt.ylabel('Score')\n",
    "\n",
    "plt.title('Elbow Curve')\n",
    "\n",
    "plt.show()"
   ]
  },
  {
   "cell_type": "code",
   "execution_count": null,
   "metadata": {
    "collapsed": true
   },
   "outputs": [],
   "source": []
  }
 ],
 "metadata": {
  "kernelspec": {
   "display_name": "Python 3",
   "language": "python",
   "name": "python3"
  },
  "language_info": {
   "codemirror_mode": {
    "name": "ipython",
    "version": 3
   },
   "file_extension": ".py",
   "mimetype": "text/x-python",
   "name": "python",
   "nbconvert_exporter": "python",
   "pygments_lexer": "ipython3",
   "version": "3.6.3"
  }
 },
 "nbformat": 4,
 "nbformat_minor": 2
}
