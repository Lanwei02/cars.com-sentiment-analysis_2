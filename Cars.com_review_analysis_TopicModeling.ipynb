{
 "cells": [
  {
   "cell_type": "code",
   "execution_count": 138,
   "metadata": {},
   "outputs": [],
   "source": [
    "import pandas as pd\n",
    "import numpy as np\n",
    "\n",
    "import matplotlib.pyplot as plt\n",
    "import seaborn as sns\n",
    "from ggplot import *\n",
    "%matplotlib inline\n",
    "\n",
    "from sklearn.feature_extraction.text import TfidfVectorizer, CountVectorizer\n",
    "\n",
    "from sklearn.pipeline import Pipeline\n",
    "from sklearn.model_selection import GridSearchCV\n",
    "from sklearn.model_selection import KFold\n",
    "from sklearn.decomposition import LatentDirichletAllocation, TruncatedSVD\n",
    "\n",
    "import re, nltk, spacy, gensim\n",
    "from nltk.corpus import stopwords\n",
    "\n",
    "# Plotting tools\n",
    "import pyLDAvis\n",
    "import pyLDAvis.sklearn\n",
    "import matplotlib.pyplot as plt\n",
    "%matplotlib inline\n",
    "\n",
    "import warnings\n",
    "warnings.filterwarnings('ignore')"
   ]
  },
  {
   "cell_type": "code",
   "execution_count": 84,
   "metadata": {
    "collapsed": true
   },
   "outputs": [],
   "source": [
    "car_review = pd.read_csv('car_review.csv', index_col=0)"
   ]
  },
  {
   "cell_type": "code",
   "execution_count": 85,
   "metadata": {},
   "outputs": [
    {
     "data": {
      "text/html": [
       "<div>\n",
       "<style>\n",
       "    .dataframe thead tr:only-child th {\n",
       "        text-align: right;\n",
       "    }\n",
       "\n",
       "    .dataframe thead th {\n",
       "        text-align: left;\n",
       "    }\n",
       "\n",
       "    .dataframe tbody tr th {\n",
       "        vertical-align: top;\n",
       "    }\n",
       "</style>\n",
       "<table border=\"1\" class=\"dataframe\">\n",
       "  <thead>\n",
       "    <tr style=\"text-align: right;\">\n",
       "      <th></th>\n",
       "      <th>Rating</th>\n",
       "      <th>Year</th>\n",
       "      <th>Review</th>\n",
       "      <th>Brand</th>\n",
       "    </tr>\n",
       "  </thead>\n",
       "  <tbody>\n",
       "    <tr>\n",
       "      <th>1</th>\n",
       "      <td>4</td>\n",
       "      <td>\\n                by JayeMaye\\n               ...</td>\n",
       "      <td>\\n                This is what I've bought Sat...</td>\n",
       "      <td>dodge-charger-2012/consumer-reviews/</td>\n",
       "    </tr>\n",
       "    <tr>\n",
       "      <th>2</th>\n",
       "      <td>5</td>\n",
       "      <td>\\n                by Female Driver\\n          ...</td>\n",
       "      <td>\\n                I just got my Special Order ...</td>\n",
       "      <td>dodge-charger-2012/consumer-reviews/</td>\n",
       "    </tr>\n",
       "    <tr>\n",
       "      <th>3</th>\n",
       "      <td>5</td>\n",
       "      <td>\\n                by New Car Buyer\\n          ...</td>\n",
       "      <td>\\n                About 2 months ago I purchas...</td>\n",
       "      <td>dodge-charger-2012/consumer-reviews/</td>\n",
       "    </tr>\n",
       "    <tr>\n",
       "      <th>4</th>\n",
       "      <td>5</td>\n",
       "      <td>\\n                by KTisaPhillyPhan\\n        ...</td>\n",
       "      <td>\\n                We bought a tungsten metalli...</td>\n",
       "      <td>dodge-charger-2012/consumer-reviews/</td>\n",
       "    </tr>\n",
       "    <tr>\n",
       "      <th>5</th>\n",
       "      <td>5</td>\n",
       "      <td>\\n                by I&lt;3DODGE\\n               ...</td>\n",
       "      <td>\\n                I have a 2012 Dodge Charger ...</td>\n",
       "      <td>dodge-charger-2012/consumer-reviews/</td>\n",
       "    </tr>\n",
       "  </tbody>\n",
       "</table>\n",
       "</div>"
      ],
      "text/plain": [
       "   Rating                                               Year  \\\n",
       "1       4  \\n                by JayeMaye\\n               ...   \n",
       "2       5  \\n                by Female Driver\\n          ...   \n",
       "3       5  \\n                by New Car Buyer\\n          ...   \n",
       "4       5  \\n                by KTisaPhillyPhan\\n        ...   \n",
       "5       5  \\n                by I<3DODGE\\n               ...   \n",
       "\n",
       "                                              Review  \\\n",
       "1  \\n                This is what I've bought Sat...   \n",
       "2  \\n                I just got my Special Order ...   \n",
       "3  \\n                About 2 months ago I purchas...   \n",
       "4  \\n                We bought a tungsten metalli...   \n",
       "5  \\n                I have a 2012 Dodge Charger ...   \n",
       "\n",
       "                                  Brand  \n",
       "1  dodge-charger-2012/consumer-reviews/  \n",
       "2  dodge-charger-2012/consumer-reviews/  \n",
       "3  dodge-charger-2012/consumer-reviews/  \n",
       "4  dodge-charger-2012/consumer-reviews/  \n",
       "5  dodge-charger-2012/consumer-reviews/  "
      ]
     },
     "execution_count": 85,
     "metadata": {},
     "output_type": "execute_result"
    }
   ],
   "source": [
    "car_review.head()"
   ]
  },
  {
   "cell_type": "code",
   "execution_count": 86,
   "metadata": {},
   "outputs": [
    {
     "data": {
      "text/plain": [
       "5    14704\n",
       "4     3211\n",
       "3      730\n",
       "2      313\n",
       "1      284\n",
       "Name: Rating, dtype: int64"
      ]
     },
     "execution_count": 86,
     "metadata": {},
     "output_type": "execute_result"
    }
   ],
   "source": [
    "car_review.Rating.value_counts()"
   ]
  },
  {
   "cell_type": "code",
   "execution_count": 87,
   "metadata": {},
   "outputs": [
    {
     "data": {
      "image/png": "[encoded data removed]",
      "text/plain": [
       "<matplotlib.figure.Figure at 0x1c302c7278>"
      ]
     },
     "metadata": {},
     "output_type": "display_data"
    }
   ],
   "source": [
    "car_review.Rating.value_counts(sort=False).plot(kind = 'bar')\n",
    "plt.show()"
   ]
  },
  {
   "cell_type": "markdown",
   "metadata": {},
   "source": [
    "* Reviews are skewed towards positive"
   ]
  },
  {
   "cell_type": "markdown",
   "metadata": {},
   "source": [
    "# Cleaning data and retrive features"
   ]
  },
  {
   "cell_type": "markdown",
   "metadata": {},
   "source": [
    "### Car"
   ]
  },
  {
   "cell_type": "code",
   "execution_count": 88,
   "metadata": {
    "collapsed": true
   },
   "outputs": [],
   "source": [
    "car_review['Car'] = car_review.Brand.map(lambda x: x.split('/')[0])\n",
    "car_review['Car_Year'] = car_review['Car'].map(lambda x: x.split('-')[-1])\n",
    "car_review['Car_test'] = car_review['Car'].map(lambda x: x.split('-')[:-1])\n",
    "car_review['Car_Make'] = car_review['Car_test'].map(lambda x: x[0])\n",
    "car_review['Car_Model'] = car_review['Car_test'].map(lambda x: x[-1])"
   ]
  },
  {
   "cell_type": "code",
   "execution_count": 89,
   "metadata": {
    "collapsed": true
   },
   "outputs": [],
   "source": [
    "car_review.drop(['Car_test'], axis=1, inplace=True)"
   ]
  },
  {
   "cell_type": "code",
   "execution_count": 90,
   "metadata": {},
   "outputs": [
    {
     "data": {
      "text/html": [
       "<div>\n",
       "<style>\n",
       "    .dataframe thead tr:only-child th {\n",
       "        text-align: right;\n",
       "    }\n",
       "\n",
       "    .dataframe thead th {\n",
       "        text-align: left;\n",
       "    }\n",
       "\n",
       "    .dataframe tbody tr th {\n",
       "        vertical-align: top;\n",
       "    }\n",
       "</style>\n",
       "<table border=\"1\" class=\"dataframe\">\n",
       "  <thead>\n",
       "    <tr style=\"text-align: right;\">\n",
       "      <th></th>\n",
       "      <th>Rating</th>\n",
       "      <th>Year</th>\n",
       "      <th>Review</th>\n",
       "      <th>Brand</th>\n",
       "      <th>Car</th>\n",
       "      <th>Car_Year</th>\n",
       "      <th>Car_Make</th>\n",
       "      <th>Car_Model</th>\n",
       "    </tr>\n",
       "  </thead>\n",
       "  <tbody>\n",
       "    <tr>\n",
       "      <th>1</th>\n",
       "      <td>4</td>\n",
       "      <td>\\n                by JayeMaye\\n               ...</td>\n",
       "      <td>\\n                This is what I've bought Sat...</td>\n",
       "      <td>dodge-charger-2012/consumer-reviews/</td>\n",
       "      <td>dodge-charger-2012</td>\n",
       "      <td>2012</td>\n",
       "      <td>dodge</td>\n",
       "      <td>charger</td>\n",
       "    </tr>\n",
       "    <tr>\n",
       "      <th>2</th>\n",
       "      <td>5</td>\n",
       "      <td>\\n                by Female Driver\\n          ...</td>\n",
       "      <td>\\n                I just got my Special Order ...</td>\n",
       "      <td>dodge-charger-2012/consumer-reviews/</td>\n",
       "      <td>dodge-charger-2012</td>\n",
       "      <td>2012</td>\n",
       "      <td>dodge</td>\n",
       "      <td>charger</td>\n",
       "    </tr>\n",
       "    <tr>\n",
       "      <th>3</th>\n",
       "      <td>5</td>\n",
       "      <td>\\n                by New Car Buyer\\n          ...</td>\n",
       "      <td>\\n                About 2 months ago I purchas...</td>\n",
       "      <td>dodge-charger-2012/consumer-reviews/</td>\n",
       "      <td>dodge-charger-2012</td>\n",
       "      <td>2012</td>\n",
       "      <td>dodge</td>\n",
       "      <td>charger</td>\n",
       "    </tr>\n",
       "    <tr>\n",
       "      <th>4</th>\n",
       "      <td>5</td>\n",
       "      <td>\\n                by KTisaPhillyPhan\\n        ...</td>\n",
       "      <td>\\n                We bought a tungsten metalli...</td>\n",
       "      <td>dodge-charger-2012/consumer-reviews/</td>\n",
       "      <td>dodge-charger-2012</td>\n",
       "      <td>2012</td>\n",
       "      <td>dodge</td>\n",
       "      <td>charger</td>\n",
       "    </tr>\n",
       "    <tr>\n",
       "      <th>5</th>\n",
       "      <td>5</td>\n",
       "      <td>\\n                by I&lt;3DODGE\\n               ...</td>\n",
       "      <td>\\n                I have a 2012 Dodge Charger ...</td>\n",
       "      <td>dodge-charger-2012/consumer-reviews/</td>\n",
       "      <td>dodge-charger-2012</td>\n",
       "      <td>2012</td>\n",
       "      <td>dodge</td>\n",
       "      <td>charger</td>\n",
       "    </tr>\n",
       "  </tbody>\n",
       "</table>\n",
       "</div>"
      ],
      "text/plain": [
       "   Rating                                               Year  \\\n",
       "1       4  \\n                by JayeMaye\\n               ...   \n",
       "2       5  \\n                by Female Driver\\n          ...   \n",
       "3       5  \\n                by New Car Buyer\\n          ...   \n",
       "4       5  \\n                by KTisaPhillyPhan\\n        ...   \n",
       "5       5  \\n                by I<3DODGE\\n               ...   \n",
       "\n",
       "                                              Review  \\\n",
       "1  \\n                This is what I've bought Sat...   \n",
       "2  \\n                I just got my Special Order ...   \n",
       "3  \\n                About 2 months ago I purchas...   \n",
       "4  \\n                We bought a tungsten metalli...   \n",
       "5  \\n                I have a 2012 Dodge Charger ...   \n",
       "\n",
       "                                  Brand                 Car Car_Year Car_Make  \\\n",
       "1  dodge-charger-2012/consumer-reviews/  dodge-charger-2012     2012    dodge   \n",
       "2  dodge-charger-2012/consumer-reviews/  dodge-charger-2012     2012    dodge   \n",
       "3  dodge-charger-2012/consumer-reviews/  dodge-charger-2012     2012    dodge   \n",
       "4  dodge-charger-2012/consumer-reviews/  dodge-charger-2012     2012    dodge   \n",
       "5  dodge-charger-2012/consumer-reviews/  dodge-charger-2012     2012    dodge   \n",
       "\n",
       "  Car_Model  \n",
       "1   charger  \n",
       "2   charger  \n",
       "3   charger  \n",
       "4   charger  \n",
       "5   charger  "
      ]
     },
     "execution_count": 90,
     "metadata": {},
     "output_type": "execute_result"
    }
   ],
   "source": [
    "car_review.head()"
   ]
  },
  {
   "cell_type": "markdown",
   "metadata": {},
   "source": [
    "### Reviews"
   ]
  },
  {
   "cell_type": "code",
   "execution_count": 91,
   "metadata": {
    "collapsed": true
   },
   "outputs": [],
   "source": [
    "car_review['Review'] = car_review['Review'].map(lambda x: x.rstrip().lstrip())"
   ]
  },
  {
   "cell_type": "code",
   "execution_count": 92,
   "metadata": {},
   "outputs": [
    {
     "data": {
      "text/plain": [
       "1    This is what I've bought Saturday:\\n2012 Dodge...\n",
       "2    I just got my Special Order wiith my name on w...\n",
       "3    About 2 months ago I purchased a new Dodge Cha...\n",
       "4    We bought a tungsten metallic SXT-Plus Charger...\n",
       "5    I have a 2012 Dodge Charger R/T Plus AWD in re...\n",
       "Name: Review, dtype: object"
      ]
     },
     "execution_count": 92,
     "metadata": {},
     "output_type": "execute_result"
    }
   ],
   "source": [
    "car_review['Review'].head()"
   ]
  },
  {
   "cell_type": "markdown",
   "metadata": {},
   "source": [
    "### Remove duplicate review\n",
    "* There are some duplicate reviews in the dataset"
   ]
  },
  {
   "cell_type": "code",
   "execution_count": 93,
   "metadata": {},
   "outputs": [
    {
     "data": {
      "text/plain": [
       "(19242, 8)"
      ]
     },
     "execution_count": 93,
     "metadata": {},
     "output_type": "execute_result"
    }
   ],
   "source": [
    "car_review.shape"
   ]
  },
  {
   "cell_type": "code",
   "execution_count": 94,
   "metadata": {},
   "outputs": [
    {
     "data": {
      "text/plain": [
       "10821"
      ]
     },
     "execution_count": 94,
     "metadata": {},
     "output_type": "execute_result"
    }
   ],
   "source": [
    "car_review.Review.nunique()"
   ]
  },
  {
   "cell_type": "code",
   "execution_count": 95,
   "metadata": {},
   "outputs": [
    {
     "data": {
      "text/plain": [
       "A solid compact sedan. I owned a Civic years ago, and I like the emergency brake redesign. The gas cap is gone, and the lid over the gas fill intake locks when the doors lock, and unlocks when the doors unlock. This makes a lot of sense.    52\n",
       "I am very happy with my purchase. No buyers remorse at all. Fast, fun, reliable and comfortable! Would highly recommend this car to anyone. You will not find more bang for you buck.                                                            52\n",
       "Excellent car. Excellent performance and very stylish. Handles excellent on the road. When you need the power this car has it with no problem.                                                                                                   50\n",
       "This is my first new car and I am happy with the comfort and look of the car.  The Civic Hatchback is great to handle and the technical aspects of the car are easy to understand.                                                               50\n",
       "This car is great for you to travel with or just go out on the town with friends. This car feels great when you drive it around. The gas mileage is great also. I feel safe driving it.                                                          50\n",
       "Name: Review, dtype: int64"
      ]
     },
     "execution_count": 95,
     "metadata": {},
     "output_type": "execute_result"
    }
   ],
   "source": [
    "car_review.Review.value_counts().head(5)"
   ]
  },
  {
   "cell_type": "code",
   "execution_count": 96,
   "metadata": {
    "collapsed": true
   },
   "outputs": [],
   "source": [
    "car_review=car_review.drop_duplicates(subset=['Review'])"
   ]
  },
  {
   "cell_type": "code",
   "execution_count": 97,
   "metadata": {},
   "outputs": [
    {
     "name": "stdout",
     "output_type": "stream",
     "text": [
      "Number of unique reviews:  10821\n",
      "Shape of the dataset:  (10821, 8)\n"
     ]
    }
   ],
   "source": [
    "print('Number of unique reviews: ', car_review.Review.nunique())\n",
    "print('Shape of the dataset: ', car_review.shape)"
   ]
  },
  {
   "cell_type": "code",
   "execution_count": 98,
   "metadata": {},
   "outputs": [
    {
     "data": {
      "text/html": [
       "<div>\n",
       "<style>\n",
       "    .dataframe thead tr:only-child th {\n",
       "        text-align: right;\n",
       "    }\n",
       "\n",
       "    .dataframe thead th {\n",
       "        text-align: left;\n",
       "    }\n",
       "\n",
       "    .dataframe tbody tr th {\n",
       "        vertical-align: top;\n",
       "    }\n",
       "</style>\n",
       "<table border=\"1\" class=\"dataframe\">\n",
       "  <thead>\n",
       "    <tr style=\"text-align: right;\">\n",
       "      <th></th>\n",
       "      <th>Rating</th>\n",
       "      <th>Year</th>\n",
       "      <th>Review</th>\n",
       "      <th>Brand</th>\n",
       "      <th>Car</th>\n",
       "      <th>Car_Year</th>\n",
       "      <th>Car_Make</th>\n",
       "      <th>Car_Model</th>\n",
       "    </tr>\n",
       "  </thead>\n",
       "  <tbody>\n",
       "    <tr>\n",
       "      <th>1</th>\n",
       "      <td>4</td>\n",
       "      <td>\\n                by JayeMaye\\n               ...</td>\n",
       "      <td>This is what I've bought Saturday:\\n2012 Dodge...</td>\n",
       "      <td>dodge-charger-2012/consumer-reviews/</td>\n",
       "      <td>dodge-charger-2012</td>\n",
       "      <td>2012</td>\n",
       "      <td>dodge</td>\n",
       "      <td>charger</td>\n",
       "    </tr>\n",
       "    <tr>\n",
       "      <th>2</th>\n",
       "      <td>5</td>\n",
       "      <td>\\n                by Female Driver\\n          ...</td>\n",
       "      <td>I just got my Special Order wiith my name on w...</td>\n",
       "      <td>dodge-charger-2012/consumer-reviews/</td>\n",
       "      <td>dodge-charger-2012</td>\n",
       "      <td>2012</td>\n",
       "      <td>dodge</td>\n",
       "      <td>charger</td>\n",
       "    </tr>\n",
       "    <tr>\n",
       "      <th>3</th>\n",
       "      <td>5</td>\n",
       "      <td>\\n                by New Car Buyer\\n          ...</td>\n",
       "      <td>About 2 months ago I purchased a new Dodge Cha...</td>\n",
       "      <td>dodge-charger-2012/consumer-reviews/</td>\n",
       "      <td>dodge-charger-2012</td>\n",
       "      <td>2012</td>\n",
       "      <td>dodge</td>\n",
       "      <td>charger</td>\n",
       "    </tr>\n",
       "    <tr>\n",
       "      <th>4</th>\n",
       "      <td>5</td>\n",
       "      <td>\\n                by KTisaPhillyPhan\\n        ...</td>\n",
       "      <td>We bought a tungsten metallic SXT-Plus Charger...</td>\n",
       "      <td>dodge-charger-2012/consumer-reviews/</td>\n",
       "      <td>dodge-charger-2012</td>\n",
       "      <td>2012</td>\n",
       "      <td>dodge</td>\n",
       "      <td>charger</td>\n",
       "    </tr>\n",
       "    <tr>\n",
       "      <th>5</th>\n",
       "      <td>5</td>\n",
       "      <td>\\n                by I&lt;3DODGE\\n               ...</td>\n",
       "      <td>I have a 2012 Dodge Charger R/T Plus AWD in re...</td>\n",
       "      <td>dodge-charger-2012/consumer-reviews/</td>\n",
       "      <td>dodge-charger-2012</td>\n",
       "      <td>2012</td>\n",
       "      <td>dodge</td>\n",
       "      <td>charger</td>\n",
       "    </tr>\n",
       "  </tbody>\n",
       "</table>\n",
       "</div>"
      ],
      "text/plain": [
       "   Rating                                               Year  \\\n",
       "1       4  \\n                by JayeMaye\\n               ...   \n",
       "2       5  \\n                by Female Driver\\n          ...   \n",
       "3       5  \\n                by New Car Buyer\\n          ...   \n",
       "4       5  \\n                by KTisaPhillyPhan\\n        ...   \n",
       "5       5  \\n                by I<3DODGE\\n               ...   \n",
       "\n",
       "                                              Review  \\\n",
       "1  This is what I've bought Saturday:\\n2012 Dodge...   \n",
       "2  I just got my Special Order wiith my name on w...   \n",
       "3  About 2 months ago I purchased a new Dodge Cha...   \n",
       "4  We bought a tungsten metallic SXT-Plus Charger...   \n",
       "5  I have a 2012 Dodge Charger R/T Plus AWD in re...   \n",
       "\n",
       "                                  Brand                 Car Car_Year Car_Make  \\\n",
       "1  dodge-charger-2012/consumer-reviews/  dodge-charger-2012     2012    dodge   \n",
       "2  dodge-charger-2012/consumer-reviews/  dodge-charger-2012     2012    dodge   \n",
       "3  dodge-charger-2012/consumer-reviews/  dodge-charger-2012     2012    dodge   \n",
       "4  dodge-charger-2012/consumer-reviews/  dodge-charger-2012     2012    dodge   \n",
       "5  dodge-charger-2012/consumer-reviews/  dodge-charger-2012     2012    dodge   \n",
       "\n",
       "  Car_Model  \n",
       "1   charger  \n",
       "2   charger  \n",
       "3   charger  \n",
       "4   charger  \n",
       "5   charger  "
      ]
     },
     "execution_count": 98,
     "metadata": {},
     "output_type": "execute_result"
    }
   ],
   "source": [
    "car_review.head()"
   ]
  },
  {
   "cell_type": "code",
   "execution_count": 99,
   "metadata": {},
   "outputs": [
    {
     "data": {
      "text/plain": [
       "5    7815\n",
       "4    1943\n",
       "3     538\n",
       "2     273\n",
       "1     252\n",
       "Name: Rating, dtype: int64"
      ]
     },
     "execution_count": 99,
     "metadata": {},
     "output_type": "execute_result"
    }
   ],
   "source": [
    "car_review.Rating.value_counts()"
   ]
  },
  {
   "cell_type": "code",
   "execution_count": 100,
   "metadata": {},
   "outputs": [
    {
     "data": {
      "image/png": "[encoded data removed]",
      "text/plain": [
       "<matplotlib.figure.Figure at 0x1c456124a8>"
      ]
     },
     "metadata": {},
     "output_type": "display_data"
    }
   ],
   "source": [
    "car_review.Rating.value_counts(sort=False).plot(kind = 'bar')\n",
    "plt.show()"
   ]
  },
  {
   "cell_type": "code",
   "execution_count": 101,
   "metadata": {},
   "outputs": [
    {
     "data": {
      "text/html": [
       "<div>\n",
       "<style>\n",
       "    .dataframe thead tr:only-child th {\n",
       "        text-align: right;\n",
       "    }\n",
       "\n",
       "    .dataframe thead th {\n",
       "        text-align: left;\n",
       "    }\n",
       "\n",
       "    .dataframe tbody tr th {\n",
       "        vertical-align: top;\n",
       "    }\n",
       "</style>\n",
       "<table border=\"1\" class=\"dataframe\">\n",
       "  <thead>\n",
       "    <tr style=\"text-align: right;\">\n",
       "      <th>col_0</th>\n",
       "      <th>count</th>\n",
       "    </tr>\n",
       "    <tr>\n",
       "      <th>Rating</th>\n",
       "      <th></th>\n",
       "    </tr>\n",
       "  </thead>\n",
       "  <tbody>\n",
       "    <tr>\n",
       "      <th>1</th>\n",
       "      <td>0.023288</td>\n",
       "    </tr>\n",
       "    <tr>\n",
       "      <th>2</th>\n",
       "      <td>0.025229</td>\n",
       "    </tr>\n",
       "    <tr>\n",
       "      <th>3</th>\n",
       "      <td>0.049718</td>\n",
       "    </tr>\n",
       "    <tr>\n",
       "      <th>4</th>\n",
       "      <td>0.179558</td>\n",
       "    </tr>\n",
       "    <tr>\n",
       "      <th>5</th>\n",
       "      <td>0.722207</td>\n",
       "    </tr>\n",
       "  </tbody>\n",
       "</table>\n",
       "</div>"
      ],
      "text/plain": [
       "col_0      count\n",
       "Rating          \n",
       "1       0.023288\n",
       "2       0.025229\n",
       "3       0.049718\n",
       "4       0.179558\n",
       "5       0.722207"
      ]
     },
     "execution_count": 101,
     "metadata": {},
     "output_type": "execute_result"
    }
   ],
   "source": [
    "pd.crosstab(index=car_review.Rating, columns=\"count\")/pd.crosstab(index=car_review.Rating, columns=\"count\").sum()"
   ]
  },
  {
   "cell_type": "markdown",
   "metadata": {},
   "source": [
    "### Create positive & negative tag "
   ]
  },
  {
   "cell_type": "code",
   "execution_count": 102,
   "metadata": {
    "collapsed": true
   },
   "outputs": [],
   "source": [
    "car_review['tag'] = car_review['Rating'].map(lambda x:0 if x==5 else 1)"
   ]
  },
  {
   "cell_type": "code",
   "execution_count": 103,
   "metadata": {},
   "outputs": [
    {
     "data": {
      "text/plain": [
       "0    7815\n",
       "1    3006\n",
       "Name: tag, dtype: int64"
      ]
     },
     "execution_count": 103,
     "metadata": {},
     "output_type": "execute_result"
    }
   ],
   "source": [
    "car_review['tag'].value_counts(sort=False)"
   ]
  },
  {
   "cell_type": "markdown",
   "metadata": {},
   "source": [
    "* I tag the reviews that the users not fully satisfied with the car.\n",
    "#### 1: negative;\n",
    "#### 0: positive."
   ]
  },
  {
   "cell_type": "markdown",
   "metadata": {},
   "source": [
    "# Topic Modeling"
   ]
  },
  {
   "cell_type": "markdown",
   "metadata": {},
   "source": [
    "## 1. Removing new line characters and distracting single quotes"
   ]
  },
  {
   "cell_type": "code",
   "execution_count": 23,
   "metadata": {
    "collapsed": true
   },
   "outputs": [],
   "source": [
    "# Remove new line characters\n",
    "data = [re.sub('\\s+', ' ', i) for i in car_review.Review]\n",
    "# Remove distracting single quotes\n",
    "data = [re.sub(\"\\'\", \"\", i) for i in data]"
   ]
  },
  {
   "cell_type": "markdown",
   "metadata": {},
   "source": [
    "## 2. Tokenize and Clean-up using gensim’s simple_preprocess()"
   ]
  },
  {
   "cell_type": "code",
   "execution_count": 25,
   "metadata": {
    "collapsed": true
   },
   "outputs": [],
   "source": [
    "def sent_to_words(sentences):\n",
    "    for sentence in sentences:\n",
    "        yield(gensim.utils.simple_preprocess(str(sentence), deacc=True))  # deacc=True removes punctuations"
   ]
  },
  {
   "cell_type": "code",
   "execution_count": 26,
   "metadata": {
    "collapsed": true
   },
   "outputs": [],
   "source": [
    "data_words = list(sent_to_words(data))\n",
    "\n",
    "# print(data_words[:1])"
   ]
  },
  {
   "cell_type": "markdown",
   "metadata": {},
   "source": [
    "## 3. Lemmatization\n",
    "* Lemmatization is a process where we convert words to its root word.\n",
    "* For example: ‘Studying’ becomes ‘Study’, ‘Meeting becomes ‘Meet’, ‘Better’ and ‘Best’ becomes ‘Good’.\n",
    "* The advantage of this is, we get to reduce the total number of unique words in the dictionary. As a result, the number of columns in the document-word matrix will be denser with lesser columns.\n",
    "\n",
    "You can expect better topics to be generated in the end."
   ]
  },
  {
   "cell_type": "code",
   "execution_count": 27,
   "metadata": {
    "collapsed": true
   },
   "outputs": [],
   "source": [
    "def lemmatization(texts, allowed_postags=['NOUN', 'ADJ', 'VERB', 'ADV']):\n",
    "    \"\"\"https://spacy.io/api/annotation\"\"\"\n",
    "    texts_out = []\n",
    "    for sent in texts:\n",
    "        doc = nlp(\" \".join(sent)) \n",
    "        texts_out.append(\" \".join([token.lemma_ if token.lemma_ not in ['-PRON-'] else '' for token in doc if token.pos_ in allowed_postags]))\n",
    "    return texts_out"
   ]
  },
  {
   "cell_type": "code",
   "execution_count": 183,
   "metadata": {},
   "outputs": [
    {
     "name": "stdout",
     "output_type": "stream",
     "text": [
      "['be what have buy saturday dodge charger blackberry pearl raylle package navigation system backup camera spoiler sunroof cloth seat  review trade  dodge charger leather do think would like cloth seat be okay everything inside  car be black ceiling would be able see stain major car drive love weight steering wheel  quiet inside road visibility be good find thinking excuse drive have discover sport mode which make thrilling drive make charger feel sound tiny little sport car love push button start do need take key  pocket problem will come summer time will have jacket put  key be guy have buy belt clip clip remote start be such great feature car have get use cloth seat feel good leather be think leather give cloth seat try may want purchase only thing see be problem be find comfy driving position do have power adjustable pedal one  charger guess will find time give shot have old charger would recommend trade one be build good  opinion']\n"
     ]
    }
   ],
   "source": [
    "# Initialize spacy 'en' model, keeping only tagger component (for efficiency)\n",
    "# Run in terminal: python3 -m spacy download en\n",
    "nlp = spacy.load('en', disable=['parser', 'ner'])\n",
    "\n",
    "# Do lemmatization keeping only Noun, Adj, Verb, Adverb\n",
    "data_lemmatized = lemmatization(data_words, allowed_postags=['NOUN', 'ADJ', 'VERB'])\n",
    "\n",
    "print(data_lemmatized[:1])"
   ]
  },
  {
   "cell_type": "markdown",
   "metadata": {},
   "source": [
    "## 4. Create the Document-Word matrix"
   ]
  },
  {
   "cell_type": "code",
   "execution_count": 184,
   "metadata": {
    "collapsed": true
   },
   "outputs": [],
   "source": [
    "stop_words = stopwords.words('english')\n",
    "stop_words.extend(['vehicle', 'car', 'good', 'love', 'great'])"
   ]
  },
  {
   "cell_type": "markdown",
   "metadata": {},
   "source": [
    "* Count Vectorizer"
   ]
  },
  {
   "cell_type": "code",
   "execution_count": 185,
   "metadata": {
    "collapsed": true
   },
   "outputs": [],
   "source": [
    "vectorizer = CountVectorizer(analyzer='word',  \n",
    "                             max_df=0.95,\n",
    "                             min_df=5,                        # minimum reqd occurences of a word \n",
    "                             stop_words=stop_words,             # remove stop words\n",
    "                             lowercase=True,                   # convert all words to lowercase\n",
    "                             token_pattern='[a-zA-Z0-9]{3,}',  # num chars > 3\n",
    "                             # max_features=50000,             # max number of uniq words\n",
    "                            )\n",
    "\n",
    "data_vectorized = vectorizer.fit_transform(data_lemmatized)"
   ]
  },
  {
   "cell_type": "code",
   "execution_count": 186,
   "metadata": {},
   "outputs": [
    {
     "data": {
      "text/plain": [
       "(10821, 3306)"
      ]
     },
     "execution_count": 186,
     "metadata": {},
     "output_type": "execute_result"
    }
   ],
   "source": [
    "data_vectorized.todense().shape"
   ]
  },
  {
   "cell_type": "markdown",
   "metadata": {},
   "source": [
    "* TF-IDF Vectorizer"
   ]
  },
  {
   "cell_type": "code",
   "execution_count": 187,
   "metadata": {
    "collapsed": true
   },
   "outputs": [],
   "source": [
    "tfidf_vectorizer = TfidfVectorizer(analyzer='word',       \n",
    "                             max_df=0.95,\n",
    "                            min_df=5,                        # minimum reqd occurences of a word \n",
    "                             stop_words=stop_words,             # remove stop words\n",
    "                             lowercase=True,                   # convert all words to lowercase\n",
    "                             token_pattern='[a-zA-Z0-9]{3,}',  # num chars > 3\n",
    "                             # max_features=50000,             # max number of uniq words\n",
    "                            )\n",
    "\n",
    "tfidf_data_vectorized = tfidf_vectorizer.fit_transform(data_lemmatized)"
   ]
  },
  {
   "cell_type": "code",
   "execution_count": 188,
   "metadata": {},
   "outputs": [
    {
     "data": {
      "text/plain": [
       "(10821, 3306)"
      ]
     },
     "execution_count": 188,
     "metadata": {},
     "output_type": "execute_result"
    }
   ],
   "source": [
    "tfidf_data_vectorized.todense().shape"
   ]
  },
  {
   "cell_type": "markdown",
   "metadata": {},
   "source": [
    "## 5. Check the Sparsicity"
   ]
  },
  {
   "cell_type": "markdown",
   "metadata": {},
   "source": [
    "* Sparsicity is nothing but the percentage of non-zero datapoints in the document-word matrix, that is data_vectorized.\n",
    "* Since most cells in this matrix will be zero, I am interested in knowing what percentage of cells contain non-zero values."
   ]
  },
  {
   "cell_type": "markdown",
   "metadata": {},
   "source": [
    "* Count Vectorizer"
   ]
  },
  {
   "cell_type": "code",
   "execution_count": 189,
   "metadata": {},
   "outputs": [
    {
     "name": "stdout",
     "output_type": "stream",
     "text": [
      "Count Vectorizer Sparsicity:  0.7285524500236568 %\n"
     ]
    }
   ],
   "source": [
    "# Materialize the sparse data\n",
    "data_dense = data_vectorized.todense()\n",
    "\n",
    "# Compute Sparsicity = Percentage of Non-Zero cells\n",
    "print(\"Count Vectorizer Sparsicity: \", ((data_dense > 0).sum()/data_dense.size)*100, \"%\")"
   ]
  },
  {
   "cell_type": "markdown",
   "metadata": {},
   "source": [
    "* TF-IDF Vectorizer"
   ]
  },
  {
   "cell_type": "code",
   "execution_count": 190,
   "metadata": {},
   "outputs": [
    {
     "name": "stdout",
     "output_type": "stream",
     "text": [
      "Count Vectorizer Sparsicity:  0.7285524500236568 %\n"
     ]
    }
   ],
   "source": [
    "# Materialize the sparse data\n",
    "tfidf_data_dense = tfidf_data_vectorized.todense()\n",
    "\n",
    "# Compute Sparsicity = Percentage of Non-Zero cells\n",
    "print(\"Count Vectorizer Sparsicity: \", ((tfidf_data_dense > 0).sum()/tfidf_data_dense.size)*100, \"%\")"
   ]
  },
  {
   "cell_type": "markdown",
   "metadata": {},
   "source": [
    "## 6. Build LDA model with sklearn\n",
    "* Everything is ready to build a Latent Dirichlet Allocation (LDA) model. Let’s initialise one and call fit_transform() to build the LDA model."
   ]
  },
  {
   "cell_type": "markdown",
   "metadata": {},
   "source": [
    "* Count Vectorizer"
   ]
  },
  {
   "cell_type": "code",
   "execution_count": 191,
   "metadata": {},
   "outputs": [
    {
     "name": "stdout",
     "output_type": "stream",
     "text": [
      "LatentDirichletAllocation(batch_size=128, doc_topic_prior=None,\n",
      "             evaluate_every=-1, learning_decay=0.7,\n",
      "             learning_method='online', learning_offset=10.0,\n",
      "             max_doc_update_iter=100, max_iter=10, mean_change_tol=0.001,\n",
      "             n_components=10, n_jobs=-1, n_topics=20, perp_tol=0.1,\n",
      "             random_state=100, topic_word_prior=None,\n",
      "             total_samples=1000000.0, verbose=0)\n"
     ]
    }
   ],
   "source": [
    "# Build LDA Model\n",
    "lda_model = LatentDirichletAllocation(n_topics=20,               # Number of topics\n",
    "                                      max_iter=10,               # Max learning iterations\n",
    "                                      learning_method='online',   \n",
    "                                      random_state=100,          # Random state\n",
    "                                      batch_size=128,            # n docs in each learning iter\n",
    "                                      evaluate_every = -1,       # compute perplexity every n iters, default: Don't\n",
    "                                      n_jobs = -1,               # Use all available CPUs\n",
    "                                     )\n",
    "lda_output = lda_model.fit_transform(data_vectorized)\n",
    "\n",
    "print(lda_model)  # Model attributes"
   ]
  },
  {
   "cell_type": "markdown",
   "metadata": {},
   "source": [
    "* TF-IDF Vectorizer"
   ]
  },
  {
   "cell_type": "code",
   "execution_count": 192,
   "metadata": {},
   "outputs": [
    {
     "name": "stdout",
     "output_type": "stream",
     "text": [
      "LatentDirichletAllocation(batch_size=128, doc_topic_prior=None,\n",
      "             evaluate_every=-1, learning_decay=0.7,\n",
      "             learning_method='online', learning_offset=10.0,\n",
      "             max_doc_update_iter=100, max_iter=10, mean_change_tol=0.001,\n",
      "             n_components=10, n_jobs=-1, n_topics=20, perp_tol=0.1,\n",
      "             random_state=100, topic_word_prior=None,\n",
      "             total_samples=1000000.0, verbose=0)\n"
     ]
    }
   ],
   "source": [
    "# Build LDA Model\n",
    "tfidf_lda_model = LatentDirichletAllocation(n_topics=20,               # Number of topics\n",
    "                                      max_iter=10,               # Max learning iterations\n",
    "                                      learning_method='online',   \n",
    "                                      random_state=100,          # Random state\n",
    "                                      batch_size=128,            # n docs in each learning iter\n",
    "                                      evaluate_every = -1,       # compute perplexity every n iters, default: Don't\n",
    "                                      n_jobs = -1,               # Use all available CPUs\n",
    "                                     )\n",
    "tfidf_lda_output = tfidf_lda_model.fit_transform(tfidf_data_vectorized)\n",
    "\n",
    "print(tfidf_lda_model)  # Model attributes"
   ]
  },
  {
   "cell_type": "markdown",
   "metadata": {},
   "source": [
    "## 7. Diagnose model performance with perplexity and log-likelihood\n",
    "* A model with higher log-likelihood and lower perplexity (exp(-1. * log-likelihood per word)) is considered to be good. Let’s check for our model."
   ]
  },
  {
   "cell_type": "markdown",
   "metadata": {},
   "source": [
    "* Count Vectorizer"
   ]
  },
  {
   "cell_type": "code",
   "execution_count": 193,
   "metadata": {},
   "outputs": [
    {
     "name": "stdout",
     "output_type": "stream",
     "text": [
      "Log Likelihood:  -2110112.0865062396\n",
      "Perplexity:  1078.9567319603343\n",
      "{'batch_size': 128, 'doc_topic_prior': None, 'evaluate_every': -1, 'learning_decay': 0.7, 'learning_method': 'online', 'learning_offset': 10.0, 'max_doc_update_iter': 100, 'max_iter': 10, 'mean_change_tol': 0.001, 'n_components': 10, 'n_jobs': -1, 'n_topics': 20, 'perp_tol': 0.1, 'random_state': 100, 'topic_word_prior': None, 'total_samples': 1000000.0, 'verbose': 0}\n"
     ]
    }
   ],
   "source": [
    "# Log Likelyhood: Higher the better\n",
    "print(\"Log Likelihood: \", lda_model.score(data_vectorized))\n",
    "\n",
    "# Perplexity: Lower the better. Perplexity = exp(-1. * log-likelihood per word)\n",
    "print(\"Perplexity: \", lda_model.perplexity(data_vectorized))\n",
    "\n",
    "# See model parameters\n",
    "print(lda_model.get_params())"
   ]
  },
  {
   "cell_type": "markdown",
   "metadata": {},
   "source": [
    "* TF-IDF Vectorizer"
   ]
  },
  {
   "cell_type": "code",
   "execution_count": 194,
   "metadata": {},
   "outputs": [
    {
     "name": "stdout",
     "output_type": "stream",
     "text": [
      "Log Likelihood:  -381940.5127009185\n",
      "Perplexity:  4280.170262239667\n",
      "{'batch_size': 128, 'doc_topic_prior': None, 'evaluate_every': -1, 'learning_decay': 0.7, 'learning_method': 'online', 'learning_offset': 10.0, 'max_doc_update_iter': 100, 'max_iter': 10, 'mean_change_tol': 0.001, 'n_components': 10, 'n_jobs': -1, 'n_topics': 20, 'perp_tol': 0.1, 'random_state': 100, 'topic_word_prior': None, 'total_samples': 1000000.0, 'verbose': 0}\n"
     ]
    }
   ],
   "source": [
    "# Log Likelyhood: Higher the better\n",
    "print(\"Log Likelihood: \", tfidf_lda_model.score(tfidf_data_vectorized))\n",
    "\n",
    "# Perplexity: Lower the better. Perplexity = exp(-1. * log-likelihood per word)\n",
    "print(\"Perplexity: \", tfidf_lda_model.perplexity(tfidf_data_vectorized))\n",
    "\n",
    "# See model parameters\n",
    "print(tfidf_lda_model.get_params())"
   ]
  },
  {
   "cell_type": "markdown",
   "metadata": {},
   "source": [
    "Therefore, I choose Count Vectorizer preprocessing method."
   ]
  },
  {
   "cell_type": "markdown",
   "metadata": {},
   "source": [
    "## 8. GridSearch the best LDA model\n",
    "* The most important tuning parameter for LDA models is n_components (number of topics). In addition, I am going to search learning_decay (which controls the learning rate) as well.\n",
    "* Besides these, other possible search params could be learning_offset (downweigh early iterations. Should be > 1) and max_iter. These could be worth experimenting if you have enough computing resources."
   ]
  },
  {
   "cell_type": "code",
   "execution_count": 195,
   "metadata": {},
   "outputs": [
    {
     "data": {
      "text/plain": [
       "GridSearchCV(cv=None, error_score='raise',\n",
       "       estimator=LatentDirichletAllocation(batch_size=128, doc_topic_prior=None,\n",
       "             evaluate_every=-1, learning_decay=0.7, learning_method=None,\n",
       "             learning_offset=10.0, max_doc_update_iter=100, max_iter=10,\n",
       "             mean_change_tol=0.001, n_components=10, n_jobs=1,\n",
       "             n_topics=None, perp_tol=0.1, random_state=None,\n",
       "             topic_word_prior=None, total_samples=1000000.0, verbose=0),\n",
       "       fit_params=None, iid=True, n_jobs=1,\n",
       "       param_grid={'n_components': [8, 10, 12, 15], 'learning_decay': [0.5, 0.7, 0.9]},\n",
       "       pre_dispatch='2*n_jobs', refit=True, return_train_score='warn',\n",
       "       scoring=None, verbose=0)"
      ]
     },
     "execution_count": 195,
     "metadata": {},
     "output_type": "execute_result"
    }
   ],
   "source": [
    "# Define Search Param\n",
    "search_params = {'n_components': [8, 10, 12, 15], 'learning_decay': [.5, .7, .9]}\n",
    "\n",
    "# Init the Model\n",
    "lda = LatentDirichletAllocation()\n",
    "\n",
    "# Init Grid Search Class\n",
    "model = GridSearchCV(lda, param_grid=search_params)\n",
    "\n",
    "# Do the Grid Search\n",
    "model.fit(data_vectorized)"
   ]
  },
  {
   "cell_type": "markdown",
   "metadata": {},
   "source": [
    "## 9. The best topic model and its parameters"
   ]
  },
  {
   "cell_type": "code",
   "execution_count": 196,
   "metadata": {},
   "outputs": [
    {
     "name": "stdout",
     "output_type": "stream",
     "text": [
      "Best Model's Params:  {'learning_decay': 0.7, 'n_components': 8}\n",
      "Best Log Likelihood Score:  -720237.7608157202\n",
      "Model Perplexity:  938.3049077316027\n"
     ]
    }
   ],
   "source": [
    "# Best Model\n",
    "best_lda_model = model.best_estimator_\n",
    "\n",
    "# Model Parameters\n",
    "print(\"Best Model's Params: \", model.best_params_)\n",
    "\n",
    "# Log Likelihood Score\n",
    "print(\"Best Log Likelihood Score: \", model.best_score_)\n",
    "\n",
    "# Perplexity\n",
    "print(\"Model Perplexity: \", best_lda_model.perplexity(data_vectorized))"
   ]
  },
  {
   "cell_type": "markdown",
   "metadata": {},
   "source": [
    "## Crate model with best parameters"
   ]
  },
  {
   "cell_type": "code",
   "execution_count": 197,
   "metadata": {
    "collapsed": true
   },
   "outputs": [],
   "source": [
    "best_lda_model = LatentDirichletAllocation(learning_decay=0.7, n_components=8)\n",
    "best_lda_output = best_lda_model.fit_transform(data_vectorized)"
   ]
  },
  {
   "cell_type": "code",
   "execution_count": 198,
   "metadata": {},
   "outputs": [
    {
     "name": "stdout",
     "output_type": "stream",
     "text": [
      "Log Likelihood:  -2064280.0183206934\n",
      "Perplexity:  927.0999512069643\n"
     ]
    }
   ],
   "source": [
    "# Log Likelyhood: Higher the better\n",
    "print(\"Log Likelihood: \", best_lda_model.score(data_vectorized))\n",
    "\n",
    "# Perplexity: Lower the better. Perplexity = exp(-1. * log-likelihood per word)\n",
    "print(\"Perplexity: \", best_lda_model.perplexity(data_vectorized))"
   ]
  },
  {
   "cell_type": "markdown",
   "metadata": {
    "collapsed": true
   },
   "source": [
    "## 10. The dominant topic in each document"
   ]
  },
  {
   "cell_type": "markdown",
   "metadata": {
    "collapsed": true
   },
   "source": [
    "* To classify a document as belonging to a particular topic, a logical approach is to see which topic has the highest contribution to that document and assign it.\n",
    "* In the table below, I’ve greened out all major topics in a document and assigned the most dominant topic in its own column."
   ]
  },
  {
   "cell_type": "code",
   "execution_count": 199,
   "metadata": {
    "collapsed": true
   },
   "outputs": [],
   "source": [
    "def print_top_words(model, feature_names, n_top_words):\n",
    "    for topic_idx, topic in enumerate(model.components_):\n",
    "        message = \"Topic #%d: \" % topic_idx\n",
    "        message += \" \".join([feature_names[i] for i in topic.argsort()[:-n_top_words - 1:-1]])\n",
    "        print(message)\n",
    "    print()"
   ]
  },
  {
   "cell_type": "code",
   "execution_count": 200,
   "metadata": {},
   "outputs": [
    {
     "name": "stdout",
     "output_type": "stream",
     "text": [
      "\n",
      "Topics in LDA model:\n",
      "Topic #0: class performance sedan malibu comfort fact perfect fit top engine chevrolet chrysler\n",
      "Topic #1: drive comfortable gas look mileage ride get interior smooth feature room nice\n",
      "Topic #2: honda mazda accord drive camry new civic model buy toyota look corolla\n",
      "Topic #3: mpg get highway mile gas transmission mileage fuel speed city sonata average\n",
      "Topic #4: work service dealership experience whistle bell help deal salesman clean make take\n",
      "Topic #5: would recommend value purchase look price new buy happy turbo ford reliable\n",
      "Topic #6: get buy drive new year mile would problem time take nissan say\n",
      "Topic #7: seat wheel system control steering use driver feel rear light make front\n",
      "\n"
     ]
    }
   ],
   "source": [
    "print(\"\\nTopics in LDA model:\")\n",
    "tf_feature_names = vectorizer.get_feature_names()\n",
    "print_top_words(best_lda_model, tf_feature_names, 12)"
   ]
  },
  {
   "cell_type": "code",
   "execution_count": 201,
   "metadata": {
    "collapsed": true
   },
   "outputs": [],
   "source": [
    "# Create Document - Topic Matrix\n",
    "lda_output = best_lda_model.transform(data_vectorized)"
   ]
  },
  {
   "cell_type": "code",
   "execution_count": 202,
   "metadata": {},
   "outputs": [],
   "source": [
    "# column names\n",
    "topicnames = []\n",
    "for topic_idx, topic in enumerate(best_lda_model.components_):\n",
    "    topicnames.append(\"Topic #%d: \" % topic_idx)"
   ]
  },
  {
   "cell_type": "code",
   "execution_count": 203,
   "metadata": {
    "collapsed": true
   },
   "outputs": [],
   "source": [
    "# index names\n",
    "docnames = [\"Doc\" + str(i) for i in range(len(data))]"
   ]
  },
  {
   "cell_type": "code",
   "execution_count": 204,
   "metadata": {
    "collapsed": true
   },
   "outputs": [],
   "source": [
    "# Make the pandas dataframe\n",
    "df_document_topic = pd.DataFrame(np.round(lda_output, 2), columns=topicnames, index=docnames)"
   ]
  },
  {
   "cell_type": "code",
   "execution_count": 205,
   "metadata": {},
   "outputs": [
    {
     "data": {
      "text/html": [
       "<div>\n",
       "<style>\n",
       "    .dataframe thead tr:only-child th {\n",
       "        text-align: right;\n",
       "    }\n",
       "\n",
       "    .dataframe thead th {\n",
       "        text-align: left;\n",
       "    }\n",
       "\n",
       "    .dataframe tbody tr th {\n",
       "        vertical-align: top;\n",
       "    }\n",
       "</style>\n",
       "<table border=\"1\" class=\"dataframe\">\n",
       "  <thead>\n",
       "    <tr style=\"text-align: right;\">\n",
       "      <th></th>\n",
       "      <th>Topic #0:</th>\n",
       "      <th>Topic #1:</th>\n",
       "      <th>Topic #2:</th>\n",
       "      <th>Topic #3:</th>\n",
       "      <th>Topic #4:</th>\n",
       "      <th>Topic #5:</th>\n",
       "      <th>Topic #6:</th>\n",
       "      <th>Topic #7:</th>\n",
       "      <th>dominant_topic</th>\n",
       "    </tr>\n",
       "  </thead>\n",
       "  <tbody>\n",
       "    <tr>\n",
       "      <th>Doc0</th>\n",
       "      <td>0.00</td>\n",
       "      <td>0.00</td>\n",
       "      <td>0.00</td>\n",
       "      <td>0.00</td>\n",
       "      <td>0.0</td>\n",
       "      <td>0.15</td>\n",
       "      <td>0.15</td>\n",
       "      <td>0.69</td>\n",
       "      <td>7</td>\n",
       "    </tr>\n",
       "    <tr>\n",
       "      <th>Doc1</th>\n",
       "      <td>0.04</td>\n",
       "      <td>0.40</td>\n",
       "      <td>0.17</td>\n",
       "      <td>0.00</td>\n",
       "      <td>0.0</td>\n",
       "      <td>0.00</td>\n",
       "      <td>0.00</td>\n",
       "      <td>0.39</td>\n",
       "      <td>1</td>\n",
       "    </tr>\n",
       "    <tr>\n",
       "      <th>Doc2</th>\n",
       "      <td>0.00</td>\n",
       "      <td>0.20</td>\n",
       "      <td>0.00</td>\n",
       "      <td>0.56</td>\n",
       "      <td>0.0</td>\n",
       "      <td>0.22</td>\n",
       "      <td>0.00</td>\n",
       "      <td>0.00</td>\n",
       "      <td>3</td>\n",
       "    </tr>\n",
       "    <tr>\n",
       "      <th>Doc3</th>\n",
       "      <td>0.00</td>\n",
       "      <td>0.59</td>\n",
       "      <td>0.00</td>\n",
       "      <td>0.10</td>\n",
       "      <td>0.0</td>\n",
       "      <td>0.28</td>\n",
       "      <td>0.00</td>\n",
       "      <td>0.00</td>\n",
       "      <td>1</td>\n",
       "    </tr>\n",
       "    <tr>\n",
       "      <th>Doc4</th>\n",
       "      <td>0.00</td>\n",
       "      <td>0.83</td>\n",
       "      <td>0.00</td>\n",
       "      <td>0.00</td>\n",
       "      <td>0.0</td>\n",
       "      <td>0.08</td>\n",
       "      <td>0.00</td>\n",
       "      <td>0.07</td>\n",
       "      <td>1</td>\n",
       "    </tr>\n",
       "  </tbody>\n",
       "</table>\n",
       "</div>"
      ],
      "text/plain": [
       "      Topic #0:   Topic #1:   Topic #2:   Topic #3:   Topic #4:   Topic #5:   \\\n",
       "Doc0        0.00        0.00        0.00        0.00         0.0        0.15   \n",
       "Doc1        0.04        0.40        0.17        0.00         0.0        0.00   \n",
       "Doc2        0.00        0.20        0.00        0.56         0.0        0.22   \n",
       "Doc3        0.00        0.59        0.00        0.10         0.0        0.28   \n",
       "Doc4        0.00        0.83        0.00        0.00         0.0        0.08   \n",
       "\n",
       "      Topic #6:   Topic #7:   dominant_topic  \n",
       "Doc0        0.15        0.69               7  \n",
       "Doc1        0.00        0.39               1  \n",
       "Doc2        0.00        0.00               3  \n",
       "Doc3        0.00        0.00               1  \n",
       "Doc4        0.00        0.07               1  "
      ]
     },
     "execution_count": 205,
     "metadata": {},
     "output_type": "execute_result"
    }
   ],
   "source": [
    "# Get dominant topic for each document\n",
    "dominant_topic = np.argmax(df_document_topic.values, axis=1)\n",
    "df_document_topic['dominant_topic'] = dominant_topic\n",
    "df_document_topic.head()"
   ]
  },
  {
   "cell_type": "markdown",
   "metadata": {},
   "source": [
    "## 11. Review topics distribution across documents"
   ]
  },
  {
   "cell_type": "code",
   "execution_count": 206,
   "metadata": {},
   "outputs": [
    {
     "data": {
      "text/html": [
       "<div>\n",
       "<style>\n",
       "    .dataframe thead tr:only-child th {\n",
       "        text-align: right;\n",
       "    }\n",
       "\n",
       "    .dataframe thead th {\n",
       "        text-align: left;\n",
       "    }\n",
       "\n",
       "    .dataframe tbody tr th {\n",
       "        vertical-align: top;\n",
       "    }\n",
       "</style>\n",
       "<table border=\"1\" class=\"dataframe\">\n",
       "  <thead>\n",
       "    <tr style=\"text-align: right;\">\n",
       "      <th></th>\n",
       "      <th>Topic Num</th>\n",
       "      <th>Num Documents</th>\n",
       "      <th>Perc_Documents</th>\n",
       "    </tr>\n",
       "  </thead>\n",
       "  <tbody>\n",
       "    <tr>\n",
       "      <th>0</th>\n",
       "      <td>1</td>\n",
       "      <td>4267</td>\n",
       "      <td>0.3943</td>\n",
       "    </tr>\n",
       "    <tr>\n",
       "      <th>1</th>\n",
       "      <td>6</td>\n",
       "      <td>2086</td>\n",
       "      <td>0.1928</td>\n",
       "    </tr>\n",
       "    <tr>\n",
       "      <th>2</th>\n",
       "      <td>7</td>\n",
       "      <td>1507</td>\n",
       "      <td>0.1393</td>\n",
       "    </tr>\n",
       "    <tr>\n",
       "      <th>3</th>\n",
       "      <td>2</td>\n",
       "      <td>1057</td>\n",
       "      <td>0.0977</td>\n",
       "    </tr>\n",
       "    <tr>\n",
       "      <th>4</th>\n",
       "      <td>5</td>\n",
       "      <td>891</td>\n",
       "      <td>0.0823</td>\n",
       "    </tr>\n",
       "    <tr>\n",
       "      <th>5</th>\n",
       "      <td>3</td>\n",
       "      <td>632</td>\n",
       "      <td>0.0584</td>\n",
       "    </tr>\n",
       "    <tr>\n",
       "      <th>6</th>\n",
       "      <td>4</td>\n",
       "      <td>258</td>\n",
       "      <td>0.0238</td>\n",
       "    </tr>\n",
       "    <tr>\n",
       "      <th>7</th>\n",
       "      <td>0</td>\n",
       "      <td>123</td>\n",
       "      <td>0.0114</td>\n",
       "    </tr>\n",
       "  </tbody>\n",
       "</table>\n",
       "</div>"
      ],
      "text/plain": [
       "   Topic Num  Num Documents  Perc_Documents\n",
       "0          1           4267          0.3943\n",
       "1          6           2086          0.1928\n",
       "2          7           1507          0.1393\n",
       "3          2           1057          0.0977\n",
       "4          5            891          0.0823\n",
       "5          3            632          0.0584\n",
       "6          4            258          0.0238\n",
       "7          0            123          0.0114"
      ]
     },
     "execution_count": 206,
     "metadata": {},
     "output_type": "execute_result"
    }
   ],
   "source": [
    "df_topic_distribution = df_document_topic['dominant_topic'].value_counts().reset_index(name=\"Num Documents\")\n",
    "df_topic_distribution.columns = ['Topic Num', 'Num Documents']\n",
    "topic_contribution = round(df_topic_distribution['Num Documents']/df_topic_distribution['Num Documents'].sum(), 4)# Percentage of Documents for Each Topic\n",
    "df_topic_distribution['Perc_Documents'] = topic_contribution\n",
    "df_topic_distribution"
   ]
  },
  {
   "cell_type": "markdown",
   "metadata": {},
   "source": [
    "## 12. Visualize the LDA model with pyLDAvis\n",
    "* The pyLDAvis offers the best visualization to view the topics-keywords distribution.\n",
    "* A good topic model will have fairly big, non-overlapping bubbles scattered throughout the chart instead of being clustered in one quadrant.\n",
    "\n",
    "（A model with too many topics, will typically have many overlaps, small sized bubbles clustered in one region of the chart.）\n",
    "\n",
    "（If you move the cursor over one of the bubbles, the words and bars on the right-hand side will update. These words are the salient keywords that form the selected topic.）"
   ]
  },
  {
   "cell_type": "code",
   "execution_count": 207,
   "metadata": {},
   "outputs": [
    {
     "data": {
      "text/html": [
       "\n",
       "<link rel=\"stylesheet\" type=\"text/css\" href=\"https://cdn.rawgit.com/bmabey/pyLDAvis/files/ldavis.v1.0.0.css\">\n",
       "\n",
       "\n",
       "<div id=\"ldavis_el516541209028012322555321484\"></div>\n",
       "<script type=\"text/javascript\">\n",
       "\n",
       "var ldavis_el516541209028012322555321484_data = {\"mdsDat\": {\"Freq\": [22.583542604260682, 19.640746724294956, 19.571091503551305, 11.188141797087658, 10.13248947551836, 7.501361487827987, 4.998169366589486, 4.384457040869555], \"cluster\": [1, 1, 1, 1, 1, 1, 1, 1], \"topics\": [1, 2, 3, 4, 5, 6, 7, 8], \"x\": [43.54973220825195, -45.02268981933594, 44.77040100097656, -43.49982452392578, -21.004629135131836, 83.5093994140625, -114.82955169677734, -115.5098876953125], \"y\": [-109.66272735595703, -129.18064880371094, 53.7653923034668, 74.60831451416016, -27.461145401000977, -28.242488861083984, 18.589584350585938, -72.10540008544922]}, \"tinfo\": {\"Category\": [\"Default\", \"Default\", \"Default\", \"Default\", \"Default\", \"Default\", \"Default\", \"Default\", \"Default\", \"Default\", \"Default\", \"Default\", \"Default\", \"Default\", \"Default\", \"Default\", \"Default\", \"Default\", \"Default\", \"Default\", \"Default\", \"Default\", \"Default\", \"Default\", \"Default\", \"Default\", \"Default\", \"Default\", \"Default\", \"Default\", \"Topic1\", \"Topic1\", \"Topic1\", \"Topic1\", \"Topic1\", \"Topic1\", \"Topic1\", \"Topic1\", \"Topic1\", \"Topic1\", \"Topic1\", \"Topic1\", \"Topic1\", \"Topic1\", \"Topic1\", \"Topic1\", \"Topic1\", \"Topic1\", \"Topic1\", \"Topic1\", \"Topic1\", \"Topic1\", \"Topic1\", \"Topic1\", \"Topic1\", \"Topic1\", \"Topic1\", \"Topic1\", \"Topic1\", \"Topic1\", \"Topic1\", \"Topic1\", \"Topic1\", \"Topic1\", \"Topic1\", \"Topic1\", \"Topic1\", \"Topic1\", \"Topic1\", \"Topic1\", \"Topic1\", \"Topic1\", \"Topic1\", \"Topic1\", \"Topic1\", \"Topic1\", \"Topic1\", \"Topic1\", \"Topic1\", \"Topic1\", \"Topic1\", \"Topic1\", \"Topic1\", \"Topic1\", \"Topic1\", \"Topic1\", \"Topic1\", \"Topic1\", \"Topic1\", \"Topic1\", \"Topic1\", \"Topic1\", \"Topic1\", \"Topic1\", \"Topic1\", \"Topic1\", \"Topic1\", \"Topic2\", \"Topic2\", \"Topic2\", \"Topic2\", \"Topic2\", \"Topic2\", \"Topic2\", \"Topic2\", \"Topic2\", \"Topic2\", \"Topic2\", \"Topic2\", \"Topic2\", \"Topic2\", \"Topic2\", \"Topic2\", \"Topic2\", \"Topic2\", \"Topic2\", \"Topic2\", \"Topic2\", \"Topic2\", \"Topic2\", \"Topic2\", \"Topic2\", \"Topic2\", \"Topic2\", \"Topic2\", \"Topic2\", \"Topic2\", \"Topic2\", \"Topic2\", \"Topic2\", \"Topic2\", \"Topic2\", \"Topic2\", \"Topic2\", \"Topic2\", \"Topic2\", \"Topic2\", \"Topic2\", \"Topic2\", \"Topic2\", \"Topic2\", \"Topic2\", \"Topic2\", \"Topic2\", \"Topic2\", \"Topic2\", \"Topic2\", \"Topic2\", \"Topic2\", \"Topic2\", \"Topic2\", \"Topic2\", \"Topic2\", \"Topic2\", \"Topic2\", \"Topic2\", \"Topic2\", \"Topic2\", \"Topic2\", \"Topic2\", \"Topic2\", \"Topic2\", \"Topic2\", \"Topic3\", \"Topic3\", \"Topic3\", \"Topic3\", \"Topic3\", \"Topic3\", \"Topic3\", \"Topic3\", \"Topic3\", \"Topic3\", \"Topic3\", \"Topic3\", \"Topic3\", \"Topic3\", \"Topic3\", \"Topic3\", \"Topic3\", \"Topic3\", \"Topic3\", \"Topic3\", \"Topic3\", \"Topic3\", \"Topic3\", \"Topic3\", \"Topic3\", \"Topic3\", \"Topic3\", \"Topic3\", \"Topic3\", \"Topic3\", \"Topic3\", \"Topic3\", \"Topic3\", \"Topic3\", \"Topic3\", \"Topic3\", \"Topic3\", \"Topic3\", \"Topic3\", \"Topic3\", \"Topic3\", \"Topic3\", \"Topic3\", \"Topic3\", \"Topic3\", \"Topic3\", \"Topic3\", \"Topic3\", \"Topic3\", \"Topic3\", \"Topic3\", \"Topic3\", \"Topic3\", \"Topic3\", \"Topic3\", \"Topic3\", \"Topic3\", \"Topic3\", \"Topic3\", \"Topic3\", \"Topic3\", \"Topic3\", \"Topic3\", \"Topic3\", \"Topic3\", \"Topic3\", \"Topic3\", \"Topic3\", \"Topic3\", \"Topic3\", \"Topic4\", \"Topic4\", \"Topic4\", \"Topic4\", \"Topic4\", \"Topic4\", \"Topic4\", \"Topic4\", \"Topic4\", \"Topic4\", \"Topic4\", \"Topic4\", \"Topic4\", \"Topic4\", \"Topic4\", \"Topic4\", \"Topic4\", \"Topic4\", \"Topic4\", \"Topic4\", \"Topic4\", \"Topic4\", \"Topic4\", \"Topic4\", \"Topic4\", \"Topic4\", \"Topic4\", \"Topic4\", \"Topic4\", \"Topic4\", \"Topic4\", \"Topic4\", \"Topic4\", \"Topic4\", \"Topic4\", \"Topic4\", \"Topic4\", \"Topic4\", \"Topic4\", \"Topic4\", \"Topic4\", \"Topic4\", \"Topic4\", \"Topic4\", \"Topic4\", \"Topic4\", \"Topic4\", \"Topic4\", \"Topic4\", \"Topic4\", \"Topic4\", \"Topic4\", \"Topic4\", \"Topic4\", \"Topic4\", \"Topic4\", \"Topic4\", \"Topic4\", \"Topic4\", \"Topic4\", \"Topic4\", \"Topic4\", \"Topic4\", \"Topic5\", \"Topic5\", \"Topic5\", \"Topic5\", \"Topic5\", \"Topic5\", \"Topic5\", \"Topic5\", \"Topic5\", \"Topic5\", \"Topic5\", \"Topic5\", \"Topic5\", \"Topic5\", \"Topic5\", \"Topic5\", \"Topic5\", \"Topic5\", \"Topic5\", \"Topic5\", \"Topic5\", \"Topic5\", \"Topic5\", \"Topic5\", \"Topic5\", \"Topic5\", \"Topic5\", \"Topic5\", \"Topic5\", \"Topic5\", \"Topic5\", \"Topic5\", \"Topic5\", \"Topic5\", \"Topic5\", \"Topic5\", \"Topic5\", \"Topic5\", \"Topic5\", \"Topic5\", \"Topic5\", \"Topic5\", \"Topic5\", \"Topic5\", \"Topic5\", \"Topic5\", \"Topic5\", \"Topic5\", \"Topic5\", \"Topic5\", \"Topic5\", \"Topic5\", \"Topic5\", \"Topic5\", \"Topic5\", \"Topic5\", \"Topic5\", \"Topic5\", \"Topic5\", \"Topic5\", \"Topic5\", \"Topic5\", \"Topic5\", \"Topic5\", \"Topic6\", \"Topic6\", \"Topic6\", \"Topic6\", \"Topic6\", \"Topic6\", \"Topic6\", \"Topic6\", \"Topic6\", \"Topic6\", \"Topic6\", \"Topic6\", \"Topic6\", \"Topic6\", \"Topic6\", \"Topic6\", \"Topic6\", \"Topic6\", \"Topic6\", \"Topic6\", \"Topic6\", \"Topic6\", \"Topic6\", \"Topic6\", \"Topic6\", \"Topic6\", \"Topic6\", \"Topic6\", \"Topic6\", \"Topic6\", \"Topic6\", \"Topic6\", \"Topic6\", \"Topic6\", \"Topic6\", \"Topic6\", \"Topic6\", \"Topic6\", \"Topic6\", \"Topic6\", \"Topic6\", \"Topic6\", \"Topic6\", \"Topic6\", \"Topic6\", \"Topic6\", \"Topic6\", \"Topic6\", \"Topic6\", \"Topic6\", \"Topic6\", \"Topic6\", \"Topic6\", \"Topic6\", \"Topic6\", \"Topic6\", \"Topic6\", \"Topic6\", \"Topic6\", \"Topic6\", \"Topic6\", \"Topic6\", \"Topic7\", \"Topic7\", \"Topic7\", \"Topic7\", \"Topic7\", \"Topic7\", \"Topic7\", \"Topic7\", \"Topic7\", \"Topic7\", \"Topic7\", \"Topic7\", \"Topic7\", \"Topic7\", \"Topic7\", \"Topic7\", \"Topic7\", \"Topic7\", \"Topic7\", \"Topic7\", \"Topic7\", \"Topic7\", \"Topic7\", \"Topic7\", \"Topic7\", \"Topic7\", \"Topic7\", \"Topic7\", \"Topic7\", \"Topic7\", \"Topic7\", \"Topic7\", \"Topic7\", \"Topic7\", \"Topic7\", \"Topic7\", \"Topic7\", \"Topic7\", \"Topic7\", \"Topic7\", \"Topic7\", \"Topic7\", \"Topic7\", \"Topic7\", \"Topic7\", \"Topic7\", \"Topic7\", \"Topic7\", \"Topic7\", \"Topic7\", \"Topic7\", \"Topic7\", \"Topic7\", \"Topic7\", \"Topic7\", \"Topic8\", \"Topic8\", \"Topic8\", \"Topic8\", \"Topic8\", \"Topic8\", \"Topic8\", \"Topic8\", \"Topic8\", \"Topic8\", \"Topic8\", \"Topic8\", \"Topic8\", \"Topic8\", \"Topic8\", \"Topic8\", \"Topic8\", \"Topic8\", \"Topic8\", \"Topic8\", \"Topic8\", \"Topic8\", \"Topic8\", \"Topic8\", \"Topic8\", \"Topic8\", \"Topic8\", \"Topic8\", \"Topic8\", \"Topic8\", \"Topic8\", \"Topic8\", \"Topic8\", \"Topic8\", \"Topic8\", \"Topic8\", \"Topic8\", \"Topic8\", \"Topic8\", \"Topic8\", \"Topic8\", \"Topic8\", \"Topic8\", \"Topic8\", \"Topic8\", \"Topic8\", \"Topic8\", \"Topic8\", \"Topic8\", \"Topic8\", \"Topic8\", \"Topic8\", \"Topic8\", \"Topic8\", \"Topic8\", \"Topic8\"], \"Freq\": [1791.0, 1277.0, 2782.0, 2610.0, 1118.0, 2588.0, 1105.0, 2029.0, 971.0, 889.0, 779.0, 2003.0, 2661.0, 1754.0, 4908.0, 3246.0, 2371.0, 2879.0, 1035.0, 847.0, 1314.0, 625.0, 1238.0, 785.0, 806.0, 949.0, 1094.0, 796.0, 6053.0, 806.0, 655.3744245023462, 1032.7515555877326, 309.0975654017197, 297.8586614938714, 209.42006263691923, 159.83970670466687, 134.70340954289503, 108.09279446429125, 95.08468338548771, 86.48105642547272, 84.38863717740841, 82.11136879302161, 123.631178008454, 70.26796917741635, 70.25698184657566, 57.60784139624809, 52.01939606448421, 51.78442408423261, 50.290132864463466, 49.965587939340985, 48.9816209085479, 45.47192535924394, 43.258823120294586, 41.818816847280985, 40.45007621714518, 39.20436851877833, 39.184990173149885, 38.45885713605191, 36.840129015325545, 36.48761185309379, 489.8817931630441, 48.38878068765727, 581.0291183180739, 576.7168461178753, 165.91858992570118, 1042.9277882735707, 356.76449738074325, 1899.3862884183188, 705.0049547036607, 342.9419850393446, 455.53250684630086, 1236.9304267376995, 387.1593312246384, 1861.110251263282, 281.49818618665915, 462.55488700669804, 1295.1305666432227, 1064.4780253510442, 990.7437189793859, 306.29019536153083, 681.8544823891232, 476.916075336915, 2876.3243564807026, 1033.63086307097, 1573.4403710584434, 792.6420622820759, 507.25830196709, 394.6007555825948, 861.8724354382978, 487.97516796095437, 591.740792895565, 1125.3704452108, 678.0838953744667, 803.5703052670636, 558.3638442917145, 458.3286248421909, 459.5903363334443, 333.30535849683866, 302.84147270673793, 227.68884349658202, 220.67573827797946, 216.3528918455113, 177.66885381627284, 148.2749255504773, 136.3342311681431, 135.96450512665797, 125.10291605537434, 119.80864084873103, 119.13072551267017, 162.31751472971578, 133.69121756569862, 110.31030118322671, 107.22907429045264, 101.24254621132435, 99.92398494989665, 99.57491133251273, 98.32996424553046, 97.9045041446224, 95.95325821854648, 94.69846251898164, 93.98437918473832, 90.54883597011224, 174.89089752576274, 86.63671000628555, 86.01662197907048, 81.24817881530882, 80.97966328268141, 471.09078004236954, 585.0598935203124, 173.82753886001035, 359.14621655928966, 178.91278744454146, 176.3462736969693, 474.6558525431685, 534.2930335729703, 654.6625729395598, 269.78331246474835, 225.80888947873024, 1733.1408153462332, 588.2610341375338, 492.18715003037653, 425.15286666246317, 539.3385996073243, 282.35734988189955, 475.3209022375423, 622.8089832335301, 408.97339057620366, 304.9310024545791, 337.71754122525743, 423.44915539615215, 354.7186344344836, 448.91093419584445, 584.0376621526063, 403.994243560433, 339.81453162126525, 409.8792862256661, 537.4565889827608, 490.88686625741883, 393.3727596208739, 343.6631350706528, 348.7069876212821, 344.73052917103814, 309.6555449100179, 281.47907762514853, 191.40578355671653, 163.5017105099247, 160.94576944569798, 152.57572966073212, 139.27349168821218, 121.64183339467722, 113.500165536053, 111.16924389851633, 99.11934115180068, 98.3890374402147, 89.19747019125626, 83.67502287207631, 76.46550385084389, 75.53193581588287, 77.21356725182218, 67.78717409699686, 104.58058338115134, 65.1027210967253, 66.09348520737903, 59.09242264277398, 55.781630897888036, 48.05945328416732, 47.807796207557914, 47.5175825890246, 250.12254806708503, 46.74873210987765, 46.91590116619581, 45.77925836002101, 45.0347172884454, 519.1349212934467, 819.6371364825792, 570.1482677490989, 698.2791500060155, 330.94706175559577, 251.5889394764612, 387.41188008214425, 175.49615939441983, 222.1034282148319, 691.2530020550502, 410.7067026265087, 293.83624628208975, 1016.6553771225323, 1454.29477485059, 298.57220237164415, 534.3885276261284, 405.7071436986663, 601.6843170472616, 703.8129847349561, 487.52008747288727, 369.88190074706506, 801.2956386448286, 969.0474771774134, 328.7158830343006, 435.91238872526014, 1039.2480969576188, 1476.2262489884774, 380.230153260955, 313.7781010532943, 491.57532143755, 1419.8901194594068, 867.073179394768, 525.8736178192634, 336.4682949537573, 413.2428900004644, 359.7273751238712, 470.8785819624739, 403.09946528531333, 394.74639961643635, 381.3087354405951, 1276.9401124453734, 888.086254828615, 624.5592322099404, 208.41286755551522, 143.8913707134031, 125.15804073000544, 82.70599905008143, 200.21392015337844, 72.48839116553343, 70.94841838416053, 60.36138929807504, 62.54633117638841, 55.84689255244051, 55.336352461577356, 54.42433902664619, 51.31597191673101, 47.95387175926228, 47.52131529287359, 68.49930046809386, 44.979420654255364, 43.20603189695932, 41.02847206191603, 38.35627037182957, 37.20521274100282, 35.31661123049221, 34.42323959082309, 33.579223173516034, 33.52575201801894, 32.84042842578042, 32.78915235863475, 373.68201650722955, 974.1270852055862, 67.16098944775553, 143.05125342124754, 702.0605810130941, 422.29063803001594, 321.0811183433905, 489.8602903936497, 125.92951318840744, 554.2784111081753, 159.96937100565412, 182.44248462468326, 695.0700206755304, 135.9548840485606, 214.73984411332333, 207.29433632706943, 144.21108842970057, 802.9034724064409, 397.0627881622092, 494.4604045938541, 142.56221836311752, 238.0188464764659, 469.5663745386344, 220.72588665341632, 287.9105518898644, 219.1773371266421, 239.3120822957787, 229.2540033992792, 378.56112312764765, 265.5059735663731, 220.9522294573019, 245.12380852344495, 249.15572655012926, 268.8540603593776, 258.77413808933187, 207.2432095658236, 133.3022271366409, 124.7532758115928, 120.23093884419642, 88.83540175386935, 74.39473187634468, 69.36509970548181, 107.79633891955223, 63.2814498341492, 58.54720518572514, 58.503828726505866, 58.237484159849416, 56.86133170071765, 50.617230091883535, 50.34234211039622, 48.81006866813958, 45.65698794928084, 45.12683238671235, 40.08494119689405, 39.911795260077014, 38.727046218704736, 38.62882270244091, 35.03818792351536, 34.50577215266091, 33.98493302814427, 31.492025103169713, 29.726309612189272, 28.670218511939566, 365.43306888815044, 923.0047956070258, 112.67470852246154, 529.219965169833, 1597.5221490881704, 357.63524070268653, 504.4545483594544, 159.42348790291732, 233.52520814315292, 262.8780368684705, 605.2498308139279, 366.6236332339832, 471.7318439710309, 391.22390809944415, 122.45646055476047, 559.7175000349431, 442.8233605767148, 264.0640351059084, 546.6071715366704, 142.36034039095625, 180.6054623371359, 798.4937281913075, 1381.9683620165017, 588.4733839535047, 707.2375608519014, 183.595063458434, 402.9145524984616, 371.75582418982447, 182.4117057882247, 398.46029354978947, 211.95394152429074, 223.42410596034773, 211.9075066547504, 198.97900612675383, 211.58474973347506, 191.25233526848245, 141.6858401883432, 117.16074634464837, 101.71083774740525, 66.46765745407062, 63.298017304587425, 76.25639750890637, 383.81659256512853, 58.931952069843284, 55.374820949100915, 51.327191607702275, 47.55062394670455, 46.321345800881666, 45.92496123452556, 37.36153218008687, 35.071053773215716, 33.7732576226145, 32.234133938830276, 31.770647394773256, 29.681233068450524, 29.31651348020444, 28.614272349979288, 27.713140999399908, 26.83405787193729, 26.385863799378953, 25.807812929860436, 130.20957051770358, 749.174105651297, 21.49378840740584, 322.9830111676805, 812.2708267429956, 381.142326641415, 334.71258078881425, 65.3420788078689, 311.2131222440313, 91.37974567340623, 128.32880128554902, 716.4510151149718, 921.9351444276775, 122.88077654233545, 390.96123022486506, 115.33317672681703, 482.69481123301955, 295.57458308060353, 114.60832376878354, 263.3267340371615, 344.49554142219057, 215.72062151764223, 594.7981663266075, 173.5175699974622, 462.441232267465, 338.30271048544176, 399.2741730317733, 244.1024920437012, 220.37912785639503, 277.4159220035503, 199.34014902617082, 301.37221630167704, 165.13586188396508, 186.41091325033207, 185.43094705548629, 246.3600661615646, 243.33616217765106, 203.77520712129098, 203.49917098358696, 179.45871612048774, 159.2608488804556, 146.00210100220525, 110.21988474305324, 97.53474881656672, 91.90970597136143, 83.64648722590992, 83.00677585635378, 82.194119050469, 77.74298260142399, 70.15758908771612, 68.3836278658187, 63.339957803838765, 63.02655158698213, 62.16596336691811, 56.846895814400206, 53.912372783576174, 53.31167887570348, 52.51586239494689, 52.005079393879484, 48.57403624382983, 121.17343579677589, 46.72038066820332, 46.67858101874723, 42.43969326037055, 41.6605744658499, 136.808826601791, 57.069235987004, 141.66981048223857, 48.10362312170896, 241.98872076568418, 275.0051433993331, 166.6707688108406, 269.8085705428822, 221.80435127665925, 91.646714498221, 247.4028969717991, 84.20615284505494, 145.87873620309725, 156.16450121420002, 299.85313499213174, 124.23791848988849, 142.26060850135798, 124.42998578248734, 182.59345366555587, 193.062643121942, 144.43735636286888, 139.76505484795425, 113.15251997527125, 107.27404734931686, 112.0339851866135, 136.7486239502783, 174.73239739010478, 114.96977862179486, 110.88376271767626, 107.63379548480027, 97.01810552498861, 96.30984950272698, 91.35066350899447, 83.21830564236247, 77.62842093617977, 74.11671600306254, 72.30959160320666, 68.1767959354861, 67.35005682719373, 56.79908370857783, 53.709881978585514, 50.6669404085144, 50.52081248720751, 48.07673425445671, 46.032209868855176, 44.09321797460764, 43.51530056871001, 43.43291110403611, 38.90371763963323, 36.4371085957301, 35.994276024201966, 35.85662293035988, 34.57565230864709, 34.060550087879555, 32.83064982830338, 136.14142670635522, 77.13142056069533, 260.7335987913628, 228.03904750855355, 76.13947116547578, 52.18477997676435, 133.64904740337346, 98.0051516164082, 94.40360295836224, 111.4375122861139, 242.66428173973165, 148.95692657143636, 257.60687007130247, 111.54953236637829, 158.66477376574585, 151.03497741793583, 200.57524545868495, 131.96776123606924, 113.57639699453931, 121.2192264297162, 121.63270269554555, 143.52560975865904, 96.58113123555444, 107.75302547733766, 99.92050788977993, 92.00415641870342], \"Term\": [\"mpg\", \"honda\", \"gas\", \"would\", \"recommend\", \"seat\", \"mazda\", \"mile\", \"highway\", \"accord\", \"value\", \"mileage\", \"new\", \"purchase\", \"get\", \"look\", \"comfortable\", \"buy\", \"room\", \"camry\", \"price\", \"civic\", \"smooth\", \"transmission\", \"comfort\", \"performance\", \"reliable\", \"fuel\", \"drive\", \"speed\", \"plenty\", \"room\", \"impala\", \"spacious\", \"sleek\", \"play\", \"favorite\", \"fold\", \"ton\", \"infotainment\", \"adult\", \"classy\", \"luxurious\", \"cargo\", \"practical\", \"gadget\", \"adaptive\", \"monitor\", \"dark\", \"entertainment\", \"garage\", \"proud\", \"accent\", \"shopping\", \"sirius\", \"appeal\", \"train\", \"metallic\", \"navigate\", \"draw\", \"roomy\", \"saver\", \"sporty\", \"space\", \"powerful\", \"smooth\", \"leg\", \"comfortable\", \"fun\", \"color\", \"safety\", \"ride\", \"beautiful\", \"gas\", \"safe\", \"amazing\", \"mileage\", \"interior\", \"nice\", \"stylish\", \"handle\", \"exterior\", \"drive\", \"feature\", \"look\", \"lot\", \"trunk\", \"awesome\", \"need\", \"easy\", \"reliable\", \"get\", \"feel\", \"seat\", \"power\", \"design\", \"excellent\", \"mode\", \"button\", \"mirror\", \"push\", \"key\", \"inside\", \"console\", \"headlight\", \"adjust\", \"remote\", \"voice\", \"step\", \"lock\", \"storage\", \"position\", \"pedal\", \"cup\", \"holder\", \"visibility\", \"heat\", \"arm\", \"guess\", \"soft\", \"stuff\", \"warning\", \"display\", \"keyless\", \"steer\", \"dual\", \"compartment\", \"side\", \"steering\", \"lane\", \"screen\", \"view\", \"center\", \"door\", \"rear\", \"wheel\", \"touch\", \"dash\", \"seat\", \"control\", \"light\", \"radio\", \"driver\", \"window\", \"front\", \"system\", \"turn\", \"passenger\", \"leather\", \"start\", \"camera\", \"little\", \"use\", \"back\", \"sound\", \"thing\", \"feel\", \"make\", \"model\", \"sport\", \"interior\", \"get\", \"high\", \"oil\", \"customer\", \"infiniti\", \"rattle\", \"repair\", \"grand\", \"suv\", \"minute\", \"battery\", \"rent\", \"date\", \"understand\", \"zoom\", \"man\", \"catch\", \"non\", \"com\", \"figure\", \"thought\", \"instal\", \"visit\", \"fair\", \"loose\", \"waste\", \"watch\", \"next\", \"serious\", \"jump\", \"tint\", \"crack\", \"tire\", \"problem\", \"dealer\", \"nissan\", \"try\", \"fix\", \"tell\", \"hear\", \"anything\", \"say\", \"bad\", \"cruze\", \"year\", \"buy\", \"something\", \"issue\", \"week\", \"first\", \"take\", \"know\", \"change\", \"time\", \"mile\", \"brand\", \"day\", \"new\", \"get\", \"noise\", \"altima\", \"think\", \"drive\", \"would\", \"want\", \"last\", \"thing\", \"one\", \"make\", \"come\", \"feel\", \"look\", \"honda\", \"accord\", \"civic\", \"choose\", \"basic\", \"coupe\", \"pickup\", \"hatchback\", \"current\", \"interstate\", \"superb\", \"boring\", \"comparable\", \"wise\", \"throw\", \"mpgs\", \"odometer\", \"team\", \"gli\", \"sel\", \"volvo\", \"hondas\", \"mix\", \"post\", \"vacation\", \"running\", \"regard\", \"game\", \"passat\", \"actual\", \"jetta\", \"mazda\", \"tour\", \"glad\", \"camry\", \"corolla\", \"reliability\", \"toyota\", \"touring\", \"model\", \"previous\", \"compare\", \"new\", \"consider\", \"styling\", \"quality\", \"lease\", \"drive\", \"year\", \"buy\", \"decide\", \"comfort\", \"look\", \"style\", \"price\", \"test\", \"little\", \"sport\", \"get\", \"purchase\", \"performance\", \"feature\", \"mile\", \"gear\", \"commute\", \"impreza\", \"corner\", \"rpm\", \"talk\", \"single\", \"firm\", \"write\", \"tdi\", \"ownership\", \"claim\", \"connection\", \"realize\", \"ecoboost\", \"store\", \"saving\", \"extended\", \"advertise\", \"carry\", \"internet\", \"remember\", \"tend\", \"inexpensive\", \"round\", \"carplay\", \"pair\", \"advertised\", \"ergonomic\", \"gal\", \"mph\", \"highway\", \"hwy\", \"city\", \"mpg\", \"elantra\", \"sonata\", \"fill\", \"tank\", \"cvt\", \"transmission\", \"economy\", \"average\", \"manual\", \"freeway\", \"fuel\", \"hyundai\", \"shift\", \"speed\", \"gallon\", \"town\", \"mile\", \"get\", \"mileage\", \"gas\", \"cruise\", \"engine\", \"use\", \"cylinder\", \"drive\", \"month\", \"power\", \"model\", \"buy\", \"wonderful\", \"expectation\", \"decision\", \"exceed\", \"reasonable\", \"excited\", \"fancy\", \"payment\", \"turbo\", \"terrific\", \"exceptional\", \"insurance\", \"select\", \"engineer\", \"transportation\", \"filter\", \"amazed\", \"spring\", \"durable\", \"tear\", \"knowledgeable\", \"lincoln\", \"requirement\", \"twin\", \"parent\", \"peace\", \"needless\", \"dodge\", \"value\", \"bargain\", \"friend\", \"recommend\", \"ford\", \"anyone\", \"professional\", \"fusion\", \"diesel\", \"charger\", \"purchase\", \"would\", \"everyone\", \"happy\", \"market\", \"price\", \"money\", \"guy\", \"family\", \"reliable\", \"experience\", \"look\", \"meet\", \"new\", \"make\", \"buy\", \"first\", \"excellent\", \"need\", \"come\", \"drive\", \"hyundai\", \"could\", \"want\", \"whistle\", \"bell\", \"salesman\", \"clean\", \"real\", \"condition\", \"helpful\", \"pleasure\", \"trouble\", \"function\", \"process\", \"college\", \"buying\", \"suppose\", \"water\", \"information\", \"forget\", \"manager\", \"question\", \"finance\", \"useful\", \"student\", \"honest\", \"word\", \"correct\", \"accident\", \"heater\", \"dial\", \"starter\", \"downshift\", \"normal\", \"answer\", \"recall\", \"department\", \"help\", \"service\", \"sale\", \"dealership\", \"deal\", \"happen\", \"experience\", \"walk\", \"call\", \"thank\", \"work\", \"show\", \"sell\", \"subaru\", \"take\", \"make\", \"time\", \"purchase\", \"problem\", \"issue\", \"buy\", \"chevrolet\", \"fact\", \"reach\", \"equip\", \"budget\", \"half\", \"incredible\", \"horrible\", \"buck\", \"none\", \"horsepower\", \"combination\", \"bang\", \"buick\", \"titanium\", \"early\", \"benz\", \"notch\", \"face\", \"shape\", \"example\", \"merge\", \"mom\", \"smile\", \"phenomenal\", \"par\", \"rust\", \"vent\", \"creature\", \"classic\", \"chrysler\", \"speak\", \"class\", \"malibu\", \"bumper\", \"remain\", \"mid\", \"finish\", \"paint\", \"level\", \"sedan\", \"top\", \"performance\", \"trim\", \"perfect\", \"fit\", \"comfort\", \"luxury\", \"offer\", \"handling\", \"styling\", \"engine\", \"passenger\", \"price\", \"find\", \"low\"], \"Total\": [1791.0, 1277.0, 2782.0, 2610.0, 1118.0, 2588.0, 1105.0, 2029.0, 971.0, 889.0, 779.0, 2003.0, 2661.0, 1754.0, 4908.0, 3246.0, 2371.0, 2879.0, 1035.0, 847.0, 1314.0, 625.0, 1238.0, 785.0, 806.0, 949.0, 1094.0, 796.0, 6053.0, 806.0, 656.3376345116397, 1035.5864791442254, 309.9790993665442, 298.8405858391101, 210.32563799882664, 160.72239398764583, 135.6036367381283, 108.97857448585681, 95.96575149406979, 87.36309075433324, 85.26988354253426, 82.99249756589955, 125.14023808701305, 71.15274368613603, 71.16207702938024, 58.48969778646965, 52.90168181510218, 52.666924758151005, 51.17227151000957, 50.849011532277814, 49.86510686142404, 46.35550735502816, 44.140986563601, 42.70222114983704, 41.33237251247484, 40.08691427609239, 40.06811810891734, 39.340191054684254, 37.722153143554486, 37.37052006547098, 504.6765737716044, 49.727346765713946, 631.7444800602326, 628.3743765078369, 177.32519477382675, 1238.4448887022247, 407.7283509515495, 2371.2722980275294, 848.8028414159755, 407.3248068862797, 564.3044295095567, 1705.3260036590566, 479.46825127433095, 2782.243862982898, 347.1740651709149, 611.6735263402801, 2003.0474228005273, 1655.5270435709908, 1553.5094788969504, 394.0385111368405, 1029.258412527361, 671.4606735381758, 6053.302029079409, 1788.4400178113542, 3246.2435176881895, 1346.2910408924051, 767.716267537873, 553.1284720831889, 1688.2854256852731, 792.9908680092719, 1094.2485136479443, 4908.186781898632, 1735.6588631844138, 2588.772706350236, 1242.6507614035631, 811.1977517255312, 819.8491274437376, 334.1816082565719, 303.9642536402222, 228.56436491744495, 221.55167291583626, 217.2284909571957, 178.5453296507525, 149.20236503479532, 137.21031455070153, 136.839973056485, 125.97842354419426, 120.68744979460719, 120.00762100993374, 163.5224624699558, 134.71039991399593, 111.18615177609345, 108.10497185324424, 102.1180152680656, 100.79933026989447, 100.45079182317353, 99.20818343734497, 98.78161680619827, 96.83046399908665, 95.57453353792731, 94.86063398446943, 91.43565912544118, 176.62318625904322, 87.5125637746538, 86.91276143952196, 82.12432758479208, 81.85595880526134, 483.09073218060877, 608.1690267842883, 177.0874259229751, 386.1476141421518, 188.26392400045097, 188.42976484176071, 563.9998256887827, 645.5451682020462, 831.9688956550872, 310.5128449980442, 254.2291749631949, 2588.772706350236, 757.227783656636, 659.0461230058287, 553.6501594060837, 743.7037709766399, 353.91268907591194, 691.7817687344752, 986.6784004819265, 597.4651615013773, 402.2602263338259, 501.2576674468886, 736.8482680228891, 564.551123663762, 970.8705354467385, 1615.0123693056066, 844.4271648677819, 651.0248280386456, 961.1720911954214, 1735.6588631844138, 1977.6797327285105, 1363.677593096618, 922.32009774026, 1655.5270435709908, 4908.186781898632, 691.8583665407034, 282.3630805797594, 192.2870215067206, 164.38200845958931, 161.82361335408865, 153.45335493855512, 140.15371504979194, 122.52016968056533, 114.37856380746685, 112.05009304281643, 99.99735022256337, 99.26785776116877, 90.07593407530499, 84.55425949823712, 77.34849598825855, 76.41245526218204, 78.12442190461498, 68.66554395077783, 105.97676831803494, 65.98171294752638, 67.02461829833722, 59.970670826826485, 56.66069379611106, 48.937724333124144, 48.68565964020208, 48.39612505241952, 254.7691806496755, 47.62773284280725, 47.80008935638362, 46.65726665501953, 45.912547379631405, 579.0414263764133, 984.7435528449053, 673.2209319043666, 875.9878846752788, 399.48811516373075, 301.45562154216026, 498.8267985777432, 211.84408140388246, 282.2101216251003, 1081.4143164516395, 588.7320498529715, 397.23106331968825, 1799.5596054934717, 2879.226469988216, 413.3391086922868, 853.7275807533292, 608.7164129940168, 1011.3897336863702, 1244.9469507706267, 782.5759160774603, 547.7494341588707, 1532.0383040251704, 2029.8529828047933, 476.56329558034923, 727.1470070097155, 2661.2773459028144, 4908.186781898632, 621.2741058915733, 461.3178969623947, 948.806707023568, 6053.302029079409, 2610.792316931112, 1367.1144488817881, 537.2095559756733, 961.1720911954214, 683.5279428904843, 1977.6797327285105, 1152.4830166682125, 1735.6588631844138, 3246.2435176881895, 1277.8579263860365, 889.0193973042827, 625.4293094201248, 209.28387125555156, 144.76256367771498, 126.02850449081792, 83.57660355579597, 202.43632349263342, 73.35930697702646, 71.81947949456173, 61.232726627962265, 63.480506572115644, 56.717525943079416, 56.20710959765192, 55.297033027578266, 52.18716187333561, 48.82474295395451, 48.39330523837688, 69.76190220080203, 45.853039238953095, 44.07788216901135, 41.91022254256681, 39.22716921905839, 38.07714158568398, 36.187653597322864, 35.29401824676231, 34.451174584054, 34.39643552080225, 33.710970194017186, 33.66111815544382, 407.0269341770544, 1105.6087428551464, 70.36491591860556, 157.39357396355598, 847.4499550544514, 591.4687662126236, 489.1574957614972, 921.0013973572616, 170.71860876406458, 1363.677593096618, 261.37996579889483, 339.5679993742929, 2661.2773459028144, 238.01811097887588, 525.4457003322623, 544.0285922522503, 297.65903025585163, 6053.302029079409, 1799.5596054934717, 2879.226469988216, 293.2879664257361, 806.3257266384144, 3246.2435176881895, 701.4540753946532, 1314.5827804537125, 759.0157602225431, 970.8705354467385, 922.32009774026, 4908.186781898632, 1754.1391710821545, 949.5119656349787, 1788.4400178113542, 2029.8529828047933, 269.73365450413377, 259.65196531223216, 208.12186182848524, 134.19284526013695, 125.63116387257865, 121.10952303431958, 89.71372209428831, 75.27329366108593, 70.24437827804809, 109.22672964979807, 64.1601667920136, 59.42560650139565, 59.381752084157704, 59.115642812297324, 57.73958487472563, 51.49627532625423, 51.22055310086806, 49.68841495975809, 46.53446589644634, 46.00511539634193, 40.96414330259341, 40.79019181847499, 39.60495448407922, 39.50662920819626, 35.91596467125347, 35.38391025091501, 34.88558909637905, 32.36989213910653, 30.604019001509656, 29.547534330295196, 376.7886738538077, 971.8002139224869, 117.04329735416616, 559.079033887844, 1791.6788572737598, 386.4538160403177, 592.765857845176, 178.52623639609791, 270.6124476975541, 315.6028336004701, 785.9271245713471, 477.7609180594609, 636.1319064934214, 522.8232649271644, 140.33033677370773, 796.2575078450376, 610.9094357466074, 339.91261325918595, 806.5274390752528, 175.4942050542934, 248.53761428052343, 2029.8529828047933, 4908.186781898632, 2003.0474228005273, 2782.243862982898, 279.6038227048891, 1308.9043188384949, 1615.0123693056066, 359.53236737316166, 6053.302029079409, 859.661193491853, 1242.6507614035631, 1363.677593096618, 2879.226469988216, 212.4595512483568, 192.12738129608832, 142.56111418239007, 118.03634590386838, 102.58561683821472, 67.34267533319783, 64.17337748149306, 77.31382215768835, 389.3722286506419, 59.80672079449188, 56.249722282385186, 52.20304619079811, 48.42554335925717, 47.19687381190794, 46.799750951621455, 38.23843882247956, 35.94643889446429, 34.64862268147691, 33.10899841151319, 32.64695672010225, 30.555692335323066, 30.191229677023273, 29.489045929050032, 28.588077547825176, 27.710381325722132, 27.260124152494686, 26.683502626441186, 135.3133183783248, 779.5285491957109, 22.36903400149498, 340.83342814199347, 1118.2570565817716, 495.29983787498713, 445.19306680638823, 74.48093272948093, 484.5242052320793, 117.61063603485756, 187.77146920469693, 1754.1391710821545, 2610.792316931112, 188.68153997688515, 900.0216161879247, 178.42389377416728, 1314.5827804537125, 725.7951358283939, 182.72672308614534, 668.0798932324077, 1094.2485136479443, 553.9934214508881, 3246.2435176881895, 386.08393962837425, 2661.2773459028144, 1977.6797327285105, 2879.226469988216, 1011.3897336863702, 819.8491274437376, 1688.2854256852731, 1152.4830166682125, 6053.302029079409, 610.9094357466074, 1128.9386204521297, 1367.1144488817881, 247.23286715993424, 244.2089975007683, 204.648482440473, 204.37238646751945, 180.33252984045149, 160.13440066248103, 146.87488625020868, 111.09391174610145, 98.40821368211084, 92.78360743923608, 84.5194782381628, 83.87994040926841, 83.06702944807454, 78.6165930366989, 71.03079260438203, 69.2571742203245, 64.21386379801106, 63.89906923431036, 63.039452789619205, 57.72317663249942, 54.78590997755436, 54.18460492526039, 53.38935224168331, 52.87814799412235, 49.44734747908426, 123.3837228356361, 47.594507912743595, 47.55241430232767, 43.31265725697665, 42.53522806327006, 141.28065989106705, 58.80536428988315, 151.68394995484294, 49.38112263058412, 384.50818017776044, 467.4308989954803, 250.73345468231145, 535.7823485445826, 426.2569599244342, 120.6270117062963, 553.9934214508881, 108.7678192350019, 279.6929605039242, 315.5990419531347, 1029.268056623477, 215.70969550543614, 277.046572280485, 333.98910531032004, 1244.9469507706267, 1977.6797327285105, 1532.0383040251704, 1754.1391710821545, 984.7435528449053, 853.7275807533292, 2879.226469988216, 137.62126314879072, 175.96019521446956, 115.8428658213375, 111.75711534294032, 108.50642993929432, 97.89112918891247, 97.22439460715809, 92.2238841166639, 84.0907870325408, 78.50139121270593, 74.98924167458124, 73.18217408773992, 69.0490382022063, 68.26140815403608, 57.671897646346615, 54.58292174132702, 51.53915307652479, 51.39329793227265, 48.94966751515759, 46.90488513710254, 44.96660283968886, 44.38845476163457, 44.305830521906785, 39.776286174939045, 37.30993380282908, 36.870002723365545, 36.72940641156139, 35.44882513536211, 34.934170402901444, 33.703014821628265, 161.51938669917763, 87.75240755115547, 400.24643444181265, 344.6512906337866, 93.967542792881, 58.64831493466143, 201.4700248368406, 141.37421698693709, 144.9426184605592, 189.17514760127, 670.2197282533457, 322.0073726300466, 949.5119656349787, 234.48956485750006, 482.9509974106202, 445.52576236159734, 806.3257266384144, 449.3849995319457, 306.0592110676626, 475.7996295437338, 525.4457003322623, 1308.9043188384949, 402.2602263338259, 1314.5827804537125, 878.3487715866845, 637.7786735064751], \"loglift\": [30.0, 29.0, 28.0, 27.0, 26.0, 25.0, 24.0, 23.0, 22.0, 21.0, 20.0, 19.0, 18.0, 17.0, 16.0, 15.0, 14.0, 13.0, 12.0, 11.0, 10.0, 9.0, 8.0, 7.0, 6.0, 5.0, 4.0, 3.0, 2.0, 1.0, 1.4865, 1.4852, 1.4851, 1.4847, 1.4836, 1.4824, 1.4813, 1.4798, 1.4787, 1.4778, 1.4776, 1.4773, 1.4758, 1.4754, 1.4751, 1.4728, 1.4711, 1.4711, 1.4706, 1.4704, 1.4701, 1.4687, 1.4678, 1.467, 1.4664, 1.4657, 1.4657, 1.4653, 1.4643, 1.464, 1.4582, 1.4607, 1.4043, 1.4022, 1.4215, 1.3161, 1.3544, 1.2661, 1.3023, 1.3159, 1.2738, 1.1668, 1.2741, 1.0859, 1.2782, 1.2085, 1.0519, 1.0463, 1.0381, 1.236, 1.0762, 1.1458, 0.7439, 0.9397, 0.7637, 0.9582, 1.0735, 1.1502, 0.8156, 1.0024, 0.8732, 0.0152, 0.5481, 0.3181, 0.688, 0.917, 0.9092, 1.6249, 1.6239, 1.6237, 1.6236, 1.6235, 1.6226, 1.6213, 1.6212, 1.6211, 1.6206, 1.6203, 1.6202, 1.6202, 1.62, 1.6197, 1.6194, 1.619, 1.6188, 1.6188, 1.6187, 1.6186, 1.6185, 1.6184, 1.6183, 1.6178, 1.6177, 1.6175, 1.6172, 1.6168, 1.6168, 1.6024, 1.5888, 1.609, 1.5551, 1.5766, 1.5613, 1.4551, 1.4384, 1.3879, 1.487, 1.509, 1.2263, 1.3751, 1.3356, 1.3635, 1.3063, 1.4017, 1.2523, 1.1675, 1.2485, 1.3506, 1.2327, 1.0736, 1.1629, 0.8562, 0.6104, 0.8903, 0.9774, 0.7753, 0.4553, 0.2341, 0.3844, 0.6403, 0.0699, -1.0283, 0.8236, 1.628, 1.6265, 1.6257, 1.6257, 1.6254, 1.6248, 1.6239, 1.6234, 1.6232, 1.6223, 1.6222, 1.6213, 1.6207, 1.6196, 1.6195, 1.6194, 1.6182, 1.6179, 1.6177, 1.6171, 1.6164, 1.6155, 1.613, 1.6129, 1.6128, 1.6127, 1.6125, 1.6124, 1.6121, 1.6118, 1.5219, 1.4476, 1.4649, 1.4044, 1.4429, 1.4503, 1.3783, 1.4429, 1.3916, 1.1836, 1.271, 1.3296, 1.0601, 0.9481, 1.3059, 1.1626, 1.2254, 1.1118, 1.0608, 1.1579, 1.2385, 0.983, 0.8917, 1.2597, 1.1194, 0.6908, 0.4297, 1.1401, 1.2457, 0.9735, 0.1811, 0.5288, 0.6757, 1.1632, 0.787, 0.9892, 0.196, 0.5806, 0.1502, -0.5105, 2.1896, 2.1893, 2.1889, 2.1861, 2.1843, 2.1834, 2.1798, 2.1793, 2.1784, 2.1781, 2.176, 2.1755, 2.1748, 2.1747, 2.1744, 2.1735, 2.1723, 2.1721, 2.1721, 2.1711, 2.1703, 2.1691, 2.1679, 2.1672, 2.166, 2.1653, 2.1647, 2.1647, 2.1642, 2.1641, 2.1048, 2.0637, 2.1437, 2.0948, 2.0021, 1.8534, 1.7693, 1.559, 1.886, 1.29, 1.6993, 1.5691, 0.8478, 1.6303, 1.2955, 1.2255, 1.4656, 0.1702, 0.6791, 0.4285, 1.4689, 0.9702, 0.2569, 1.0341, 0.6717, 0.9482, 0.7899, 0.7983, -0.372, 0.3022, 0.7323, 0.203, 0.0927, 2.2862, 2.286, 2.2852, 2.2828, 2.2824, 2.2821, 2.2796, 2.2777, 2.2768, 2.2762, 2.2756, 2.2745, 2.2745, 2.2745, 2.2741, 2.2722, 2.2721, 2.2716, 2.2704, 2.2701, 2.2677, 2.2677, 2.267, 2.267, 2.2647, 2.2643, 2.2633, 2.2619, 2.2603, 2.2593, 2.2588, 2.2379, 2.2514, 2.2345, 2.1747, 2.2119, 2.1281, 2.1763, 2.142, 2.1066, 2.0282, 2.0246, 1.9904, 1.9995, 2.1532, 1.9369, 1.9676, 2.0369, 1.9004, 2.0802, 1.9701, 1.3564, 1.022, 1.0645, 0.9198, 1.8688, 1.1112, 0.8206, 1.6109, -0.4313, 0.8893, 0.5735, 0.4276, -0.3827, 2.586, 2.5855, 2.5839, 2.5826, 2.5815, 2.577, 2.5764, 2.5763, 2.5757, 2.5754, 2.5744, 2.5732, 2.5719, 2.5714, 2.5712, 2.5669, 2.5654, 2.5645, 2.5633, 2.5629, 2.561, 2.5607, 2.56, 2.559, 2.558, 2.5575, 2.5567, 2.5516, 2.5504, 2.5502, 2.5363, 2.2704, 2.3281, 2.3048, 2.4592, 2.1474, 2.3377, 2.2095, 1.6947, 1.5492, 2.1612, 1.7563, 2.1537, 1.5882, 1.6917, 2.1236, 1.6591, 1.4343, 1.6469, 0.8931, 1.7903, 0.84, 0.8243, 0.6145, 1.1686, 1.2763, 0.7841, 0.8354, -0.4099, 1.2819, 0.789, 0.5923, 2.9926, 2.9925, 2.9918, 2.9918, 2.9912, 2.9906, 2.9901, 2.9882, 2.9872, 2.9866, 2.9857, 2.9856, 2.9855, 2.9849, 2.9837, 2.9834, 2.9824, 2.9823, 2.9821, 2.9808, 2.98, 2.9799, 2.9796, 2.9794, 2.9783, 2.978, 2.9776, 2.9776, 2.9757, 2.9753, 2.9639, 2.9661, 2.9278, 2.9699, 2.533, 2.4656, 2.5877, 2.3101, 2.3429, 2.7213, 2.19, 2.7402, 2.3452, 2.2925, 1.7628, 2.4444, 2.3296, 2.0087, 1.0765, 0.6694, 0.6346, 0.4663, 0.8325, 0.9219, -0.2504, 3.1207, 3.1201, 3.1195, 3.1193, 3.119, 3.1181, 3.1177, 3.1176, 3.1167, 3.1159, 3.1154, 3.1151, 3.1144, 3.1137, 3.1119, 3.111, 3.11, 3.11, 3.1091, 3.1083, 3.1075, 3.1072, 3.1072, 3.1049, 3.1034, 3.1031, 3.1031, 3.1022, 3.1018, 3.1009, 2.9562, 2.9981, 2.6985, 2.7141, 2.9167, 3.0103, 2.7167, 2.7607, 2.6983, 2.5979, 2.1112, 2.3562, 1.8226, 2.3842, 2.014, 2.0454, 1.7358, 1.9018, 2.1358, 1.7597, 1.6639, 0.9167, 1.7004, 0.6257, 0.9534, 1.1909], \"logprob\": [30.0, 29.0, 28.0, 27.0, 26.0, 25.0, 24.0, 23.0, 22.0, 21.0, 20.0, 19.0, 18.0, 17.0, 16.0, 15.0, 14.0, 13.0, 12.0, 11.0, 10.0, 9.0, 8.0, 7.0, 6.0, 5.0, 4.0, 3.0, 2.0, 1.0, -4.6455, -4.1907, -5.3971, -5.4341, -5.7864, -6.0565, -6.2276, -6.4477, -6.5759, -6.6708, -6.6953, -6.7226, -6.3134, -6.8784, -6.8786, -7.0771, -7.1791, -7.1836, -7.2129, -7.2194, -7.2393, -7.3136, -7.3635, -7.3974, -7.4306, -7.4619, -7.4624, -7.4811, -7.5241, -7.5337, -4.9366, -7.2514, -4.7659, -4.7734, -6.0192, -4.1809, -5.2536, -3.5814, -4.5725, -5.2932, -5.0092, -4.0103, -5.1719, -3.6018, -5.4906, -4.994, -3.9644, -4.1605, -4.2323, -5.4062, -4.6059, -4.9634, -3.1664, -4.1899, -3.7697, -4.4553, -4.9017, -5.1528, -4.3716, -4.9405, -4.7476, -4.1048, -4.6114, -4.4417, -4.8057, -5.0031, -5.0004, -5.182, -5.2779, -5.5631, -5.5944, -5.6142, -5.8112, -5.992, -6.076, -6.0787, -6.162, -6.2052, -6.2109, -5.9015, -6.0956, -6.2878, -6.3161, -6.3736, -6.3867, -6.3902, -6.4028, -6.4071, -6.4272, -6.4404, -6.448, -6.4852, -5.8269, -6.5294, -6.5366, -6.5936, -6.5969, -4.8361, -4.6194, -5.833, -5.1074, -5.8042, -5.8187, -4.8285, -4.7102, -4.507, -5.3935, -5.5714, -3.5334, -4.6139, -4.7922, -4.9387, -4.7008, -5.3479, -4.8271, -4.5569, -4.9775, -5.271, -5.1689, -4.9427, -5.1198, -4.8843, -4.6211, -4.9897, -5.1627, -4.9752, -4.7043, -4.7949, -5.0163, -5.1514, -5.1369, -5.1483, -5.2556, -5.3475, -5.7332, -5.8907, -5.9065, -5.9599, -6.0511, -6.1865, -6.2557, -6.2765, -6.3912, -6.3986, -6.4967, -6.5606, -6.6507, -6.663, -6.641, -6.7712, -6.3376, -6.8116, -6.7965, -6.9084, -6.9661, -7.1151, -7.1204, -7.1264, -5.4656, -7.1428, -7.1392, -7.1637, -7.1801, -4.7354, -4.2787, -4.6417, -4.4389, -5.1856, -5.4598, -5.0281, -5.8199, -5.5844, -4.449, -4.9697, -5.3045, -4.0633, -3.7053, -5.2885, -4.7064, -4.9819, -4.5878, -4.431, -4.7982, -5.0744, -4.3013, -4.1112, -5.1924, -4.9101, -4.0413, -3.6903, -5.0468, -5.2389, -4.7899, -3.7292, -4.2224, -4.7225, -5.169, -4.9635, -5.1022, -4.8329, -4.9884, -5.0093, -5.0439, -3.2761, -3.6393, -3.9913, -5.0888, -5.4593, -5.5988, -6.0131, -5.129, -6.1449, -6.1664, -6.328, -6.2924, -6.4057, -6.4149, -6.4315, -6.4903, -6.5581, -6.5672, -6.2015, -6.6221, -6.6624, -6.7141, -6.7814, -6.8119, -6.864, -6.8896, -6.9144, -6.916, -6.9367, -6.9383, -4.5049, -3.5468, -6.2213, -5.4651, -3.8743, -4.3827, -4.6567, -4.2342, -5.5926, -4.1107, -5.3534, -5.2219, -3.8843, -5.516, -5.0589, -5.0942, -5.4571, -3.7401, -4.4443, -4.2249, -5.4686, -4.956, -4.2765, -5.0314, -4.7657, -5.0385, -4.9506, -4.9935, -4.492, -4.8467, -5.0304, -4.9266, -4.9103, -4.7351, -4.7733, -4.9953, -5.4366, -5.5029, -5.5398, -5.8425, -6.0199, -6.0899, -5.649, -6.1817, -6.2594, -6.2602, -6.2647, -6.2886, -6.405, -6.4104, -6.4413, -6.5081, -6.5198, -6.6382, -6.6426, -6.6727, -6.6752, -6.7728, -6.7881, -6.8033, -6.8795, -6.9372, -6.9734, -4.4282, -3.5016, -5.6047, -4.0578, -2.953, -4.4497, -4.1058, -5.2577, -4.876, -4.7576, -3.9236, -4.4249, -4.1728, -4.36, -5.5215, -4.0018, -4.2361, -4.7531, -4.0255, -5.3709, -5.1329, -3.6465, -3.098, -3.9517, -3.7679, -5.1165, -4.3305, -4.411, -5.123, -4.3416, -4.9729, -4.9202, -4.9731, -5.036, -4.674, -4.775, -5.075, -5.265, -5.4064, -5.8319, -5.8807, -5.6945, -4.0784, -5.9522, -6.0145, -6.0904, -6.1668, -6.193, -6.2016, -6.4079, -6.4712, -6.5089, -6.5556, -6.57, -6.6381, -6.6504, -6.6747, -6.7067, -6.7389, -6.7558, -6.7779, -5.1594, -3.4096, -6.9608, -4.251, -3.3287, -4.0854, -4.2153, -5.8489, -4.2881, -5.5136, -5.174, -3.4543, -3.2021, -5.2174, -4.06, -5.2808, -3.8492, -4.3397, -5.2871, -4.4552, -4.1865, -4.6546, -3.6404, -4.8723, -3.8921, -4.2046, -4.0389, -4.531, -4.6332, -4.4031, -4.7336, -4.3202, -4.9218, -4.8006, -4.8059, -4.1158, -4.1281, -4.3055, -4.3069, -4.4326, -4.552, -4.6389, -4.9201, -5.0424, -5.1018, -5.196, -5.2036, -5.2135, -5.2692, -5.3718, -5.3974, -5.4741, -5.479, -5.4928, -5.5822, -5.6352, -5.6464, -5.6615, -5.6712, -5.7395, -4.8253, -5.7784, -5.7793, -5.8745, -5.893, -4.704, -5.5783, -4.6691, -5.7492, -4.1337, -4.0058, -4.5065, -4.0249, -4.2208, -5.1046, -4.1115, -5.1893, -4.6398, -4.5717, -3.9193, -4.8004, -4.6649, -4.7988, -4.4153, -4.3596, -4.6497, -4.6826, -4.8938, -4.9472, -4.9038, -4.5734, -4.3283, -4.7469, -4.7831, -4.8128, -4.9167, -4.924, -4.9769, -5.0701, -5.1396, -5.1859, -5.2106, -5.2695, -5.2817, -5.452, -5.508, -5.5663, -5.5692, -5.6188, -5.6622, -5.7053, -5.7184, -5.7203, -5.8305, -5.896, -5.9082, -5.912, -5.9484, -5.9634, -6.0002, -4.5779, -5.1461, -3.9281, -4.062, -5.159, -5.5368, -4.5963, -4.9065, -4.944, -4.7781, -3.9999, -4.4879, -3.9401, -4.7771, -4.4248, -4.474, -4.1904, -4.609, -4.7591, -4.694, -4.6906, -4.525, -4.9212, -4.8117, -4.8872, -4.9697]}, \"token.table\": {\"Topic\": [1, 1, 7, 4, 4, 1, 2, 1, 5, 5, 3, 4, 5, 6, 1, 3, 4, 6, 5, 7, 1, 3, 6, 8, 2, 3, 6, 1, 2, 1, 4, 5, 1, 2, 3, 4, 6, 1, 2, 3, 8, 1, 2, 3, 5, 7, 8, 8, 6, 4, 3, 1, 2, 6, 7, 8, 4, 1, 3, 4, 8, 8, 8, 7, 8, 2, 1, 2, 3, 4, 5, 6, 7, 7, 2, 3, 5, 7, 8, 1, 2, 6, 1, 2, 3, 4, 7, 1, 5, 5, 3, 2, 3, 1, 2, 3, 4, 1, 2, 3, 6, 8, 8, 4, 1, 4, 8, 4, 5, 4, 5, 1, 3, 4, 5, 8, 8, 1, 7, 7, 1, 2, 3, 6, 3, 8, 1, 2, 3, 4, 5, 6, 7, 1, 3, 4, 8, 1, 2, 3, 4, 5, 6, 7, 8, 5, 4, 1, 2, 4, 5, 8, 2, 7, 5, 1, 2, 3, 4, 8, 2, 1, 2, 3, 4, 5, 5, 3, 4, 5, 7, 1, 2, 3, 4, 5, 6, 7, 8, 4, 3, 8, 1, 4, 5, 2, 3, 4, 5, 2, 4, 3, 2, 4, 5, 1, 3, 5, 8, 1, 2, 3, 4, 3, 1, 2, 3, 5, 6, 7, 8, 1, 2, 3, 4, 7, 3, 4, 7, 3, 6, 7, 2, 3, 4, 5, 6, 6, 6, 7, 1, 2, 3, 5, 7, 4, 6, 2, 7, 1, 3, 6, 1, 2, 3, 7, 1, 1, 2, 3, 4, 5, 6, 7, 8, 1, 2, 3, 6, 8, 2, 6, 8, 1, 2, 3, 6, 5, 4, 5, 3, 4, 5, 1, 2, 3, 4, 5, 6, 7, 8, 6, 1, 8, 5, 1, 3, 6, 8, 6, 1, 2, 3, 4, 6, 6, 6, 6, 2, 6, 7, 8, 5, 1, 2, 4, 8, 8, 8, 3, 1, 3, 4, 6, 7, 8, 6, 1, 1, 2, 3, 4, 5, 6, 1, 2, 3, 4, 5, 6, 7, 3, 4, 4, 5, 8, 6, 7, 1, 2, 3, 4, 6, 7, 8, 2, 8, 5, 1, 3, 4, 6, 1, 2, 3, 8, 3, 7, 1, 2, 4, 6, 7, 4, 5, 7, 2, 6, 1, 2, 3, 8, 1, 3, 4, 5, 1, 3, 4, 7, 4, 6, 8, 1, 5, 4, 5, 4, 1, 1, 3, 4, 5, 6, 5, 1, 2, 3, 4, 5, 6, 7, 8, 2, 4, 4, 3, 2, 2, 3, 4, 6, 8, 1, 2, 3, 4, 5, 6, 7, 8, 1, 2, 3, 4, 8, 2, 7, 1, 3, 4, 6, 4, 6, 2, 2, 3, 2, 7, 2, 3, 5, 7, 7, 1, 2, 3, 4, 6, 2, 3, 4, 5, 2, 4, 4, 7, 8, 8, 4, 5, 4, 5, 6, 1, 5, 8, 5, 3, 7, 1, 2, 3, 6, 1, 2, 3, 4, 6, 8, 5, 4, 2, 3, 4, 5, 7, 4, 7, 3, 2, 2, 1, 2, 3, 4, 5, 7, 6, 2, 3, 4, 1, 3, 4, 5, 6, 7, 3, 4, 1, 2, 8, 1, 2, 3, 2, 4, 5, 7, 8, 1, 2, 3, 4, 8, 6, 2, 3, 4, 7, 8, 2, 1, 2, 3, 4, 5, 6, 7, 8, 3, 1, 2, 3, 4, 5, 1, 2, 3, 4, 5, 6, 8, 1, 8, 1, 2, 6, 8, 1, 2, 3, 4, 5, 6, 7, 8, 3, 4, 8, 3, 7, 2, 5, 1, 6, 3, 4, 1, 6, 8, 1, 2, 4, 5, 6, 8, 1, 3, 4, 5, 7, 1, 3, 4, 5, 3, 2, 4, 2, 1, 2, 3, 4, 5, 6, 8, 1, 3, 4, 5, 6, 1, 1, 3, 4, 5, 7, 8, 1, 4, 5, 4, 4, 5, 7, 1, 1, 2, 3, 4, 5, 6, 7, 6, 1, 2, 3, 4, 5, 6, 7, 3, 8, 1, 2, 3, 4, 5, 6, 7, 1, 2, 3, 4, 5, 2, 3, 5, 3, 8, 3, 7, 8, 4, 1, 2, 3, 4, 6, 8, 3, 1, 2, 3, 6, 5, 1, 2, 6, 8, 5, 8, 6, 4, 2, 8, 6, 6, 2, 1, 8, 1, 2, 3, 4, 5, 6, 8, 8, 4, 1, 7, 1, 2, 4, 1, 2, 3, 4, 5, 6, 8, 1, 6, 1, 2, 4, 5, 1, 3, 4, 5, 6, 7, 8, 1, 2, 3, 4, 6, 7, 7, 4, 6, 1, 1, 2, 3, 4, 5, 6, 7, 2, 1, 2, 3, 4, 8, 7, 1, 2, 3, 5, 3, 8, 7, 5, 1, 2, 3, 8, 6, 5, 7, 1, 3, 4, 5, 6, 7, 4, 1, 4, 5, 6, 1, 3, 4, 6, 7, 4, 8, 5, 2, 3, 3, 6, 1, 2, 3, 4, 5, 8, 1, 2, 1, 5, 5, 5, 4, 8, 1, 2, 3, 7, 1, 2, 3, 6, 7, 7, 1, 5, 5, 1, 2, 3, 4, 6, 7, 8, 1, 2, 1, 2, 3, 5, 8, 1, 2, 4, 5, 6, 8, 4, 6, 1, 2, 4, 6, 7, 8, 3, 3, 6, 7, 8, 2, 5, 1, 2, 4, 7, 8, 1, 2, 3, 4, 5, 1, 1, 8, 1, 2, 4, 5, 6, 7, 2, 2, 3, 4, 7, 1, 3, 4, 5, 1, 2, 3, 8, 1, 2, 1, 2, 8, 1, 2, 3, 5, 8, 1, 2, 4, 6, 1, 2, 4, 6, 8, 6, 2, 3, 4, 7, 7, 2, 1, 2, 3, 2, 2, 5, 7, 2, 1, 2, 3, 4, 8, 1, 2, 3, 4, 6, 8, 1, 6, 3, 4, 5, 6, 7, 4, 7, 3, 1, 2, 3, 7, 8, 1, 2, 3, 4, 5, 6, 7, 8, 5, 3, 5, 8, 5, 7, 4, 6, 2, 3, 5, 6, 7, 5, 6, 1, 2, 3, 4, 6, 3, 6, 7, 1, 2, 3, 4, 5, 8, 1, 2, 3, 4, 5, 6, 8, 3, 4, 1, 2, 3, 4, 5, 6, 7, 8, 3, 2, 3, 5, 8, 1, 1, 2, 4, 5, 7, 8, 1, 2, 5, 8, 1, 4, 1, 2, 3, 4, 8, 1, 2, 4, 5, 7, 1, 2, 3, 4, 5, 7, 1, 2, 5, 7, 6, 2, 8, 7, 1, 2, 3, 2, 3, 2, 6, 1, 2, 3, 8, 6, 3, 1, 2, 3, 4, 5, 6, 7, 4, 2, 3, 4, 6, 8, 1, 2, 8, 2, 3, 2, 4, 1, 3, 7, 1, 2, 3, 4, 5, 6, 7, 2, 3, 3, 7, 1, 2, 3, 5, 7, 1, 2, 3, 7, 2, 3, 4, 6, 7, 1, 2, 3, 4, 5, 6, 7, 8, 1, 2, 3, 4, 5, 6, 7, 8, 5, 1, 2, 3, 4, 5, 6, 8, 3], \"Freq\": [0.9741513125911448, 0.008104796783706519, 0.9806804108284887, 0.9988533463866213, 0.9803595901838186, 0.9829555170239451, 0.9938616397115316, 0.9851074788685408, 0.9885146227392897, 0.9576800524011773, 0.6806586132200207, 0.00867081035949071, 0.3099814703517929, 0.9736708579883822, 0.756939740011616, 0.0016348590497011145, 0.006539436198804458, 0.2354197031569605, 0.017005251341875277, 0.9692993264868909, 0.1549889365864893, 0.0920948753629864, 0.7524825182097669, 0.002246216472267961, 0.1346514426243038, 0.7866479016472486, 0.07795609836143906, 0.9728860578141176, 0.9920874264719544, 0.03930002526961527, 0.2169361394882763, 0.7419844770903363, 0.714119811103474, 0.001807898255958162, 0.0379658633751214, 0.003615796511916324, 0.2422583662983937, 0.48435201639213027, 0.47843084259760543, 0.03434280800824396, 0.001184234758904964, 0.0016985655872645926, 0.2140192639953387, 0.6981104563657476, 0.013588524698116741, 0.06454549231605453, 0.008492827936322963, 0.9848073451923508, 0.9387978040802528, 0.9947323143612414, 0.9906283608134518, 0.8071441622493902, 0.02294208213111962, 0.1668515064081427, 0.9950493326898633, 0.9895389612684504, 0.9924306437036734, 0.03777042874877714, 0.6903595032415377, 0.2706880726995695, 0.9870284597036927, 0.9953327195487157, 0.9815209180685281, 0.18091353136125554, 0.8087899049091424, 0.9968277400099701, 0.0715469943567319, 0.00486241709220508, 0.5049967465761562, 0.17157386025352211, 0.06911578581062935, 0.13857888712784477, 0.03889933673764064, 0.9871545972552017, 0.01787674595381834, 0.2788772368795661, 0.14301396763054672, 0.5220009818514956, 0.03932884109840035, 0.368434303434106, 0.6288181621110943, 0.001771318766510125, 0.04366039525911902, 0.00472004273071557, 0.10148091871038477, 0.8283674992405826, 0.021240192288220067, 0.9837990269044166, 0.9891501462616026, 0.9781520948772178, 0.9946022508926478, 0.9340350243911891, 0.05837718902444932, 0.005476956821702297, 0.23003218651149646, 0.6754913413432833, 0.08945696142113752, 0.2556298899044846, 0.005325622706343429, 0.026628113531717148, 0.681679706411959, 0.026628113531717148, 0.9954857037744304, 0.9938654075545847, 0.14858897430497855, 0.00619120726270744, 0.8420041877282118, 0.05187102045006689, 0.9461989592443236, 0.9993135764287688, 0.9928379948232308, 0.17988917278029437, 0.03497845026283502, 0.12991995811910148, 0.002498460733059644, 0.6520982513285671, 0.9791408921323822, 0.9880411170285426, 0.9932848733077864, 0.9895095251024858, 0.8420798198420593, 0.11784207391375756, 0.027005475271902776, 0.009820172826146464, 0.9903074538919415, 0.9838461469274937, 0.1431691379513853, 0.24035061340929534, 0.3496797732994441, 0.007809225706439198, 0.0642091891418334, 0.17267065728682227, 0.021692293628997772, 0.4539108550161982, 0.0012401935929404323, 0.2951660751198229, 0.2492789121810269, 0.8008359063527312, 0.020242297790906316, 0.010121148895453158, 0.03120687576098057, 0.06705261143237717, 0.06789604050699827, 0.0004217145373105482, 0.0016868581492421929, 0.9974890800019627, 0.987349131839786, 0.20614427781471142, 0.10896197541634747, 0.5359751223182497, 0.044173773817438165, 0.10012722065285984, 0.9895431094112807, 0.9929159464937704, 0.993571222290365, 0.008402721926389458, 0.19326260430695755, 0.07562449733750513, 0.5713850909944832, 0.14704763371181553, 0.9919413808587088, 0.14790793789836199, 0.7765166739664005, 0.005282426353512928, 0.003961819765134696, 0.06470972283053336, 0.9911109623033584, 0.2248639448058169, 0.7134780805116897, 0.06086542866924367, 0.9909530540688056, 0.19487330490287594, 0.15589864392230074, 0.2834520798587286, 0.10718031769658176, 0.030116783484989917, 0.16475652141788602, 0.006200514246909689, 0.05846199147086278, 0.9918391121518636, 0.9801242267808419, 0.9732591215956324, 0.2896956100828862, 0.05364733520053448, 0.6580739784598896, 0.03524397080883102, 0.7401233869854514, 0.08307507404938741, 0.1409758832353241, 0.9890517332800608, 0.9814705586374726, 0.9933067687219045, 0.16476404665563987, 0.003168539358762305, 0.8333258513544862, 0.4450225195828743, 0.008344172242178894, 0.5062131160255195, 0.036158079716108536, 0.9770916655560176, 0.8889617017115299, 0.09440301257113591, 0.015733835428522653, 0.9872279125412463, 0.07838855066515926, 0.05500950923870825, 0.59960365070192, 0.13202282217289982, 0.0027504754619354127, 0.126521871249029, 0.006876188654838532, 0.00938401099822302, 0.021114024746001797, 0.38005244542803235, 0.06803407973711689, 0.5208126104013776, 0.8466759914722475, 0.005941585905068404, 0.14556885467417588, 0.29489586663165845, 0.19970796031384466, 0.5039359746237202, 0.006819236480697625, 0.42279266180325276, 0.4875754083698802, 0.010228854721046439, 0.07160198304732507, 0.9960640446337127, 0.020250653422379902, 0.9720313642742353, 0.564597225554151, 0.3673580201203865, 0.014792940407532342, 0.051775291426363196, 0.9883830440487092, 0.21256580903610175, 0.7737395448914104, 0.9908098914223946, 0.005661770808127969, 0.022170766602680227, 0.007390255534226743, 0.9607332194494765, 0.1081560617957709, 0.8421988418523144, 0.04964540541445222, 0.9874168286467414, 0.9633261709210922, 0.4751125891594384, 0.033535415716052154, 0.23458271092016775, 0.1326548710344329, 0.0657492386945259, 0.04972492675138767, 0.004625574581524435, 0.0037995791205379286, 0.22589639390880129, 0.7247509304574041, 0.005378485569257174, 0.0013446213923142935, 0.0403386417694288, 0.9863094454730088, 0.9665046221655695, 0.9893204371856542, 0.6153917020823676, 0.29508536534277463, 0.0025220971396818347, 0.0870123513190233, 0.9871910254233683, 0.23024068282267846, 0.768166641781118, 0.005175262649732369, 0.0672784144465208, 0.926372014302094, 0.1123076743534974, 0.2093353930126414, 0.19099944617941733, 0.05271584714551918, 0.3078911072412207, 0.016043953479071057, 0.0007639977847176693, 0.11001568099934438, 0.9746408243758304, 0.9833032834524447, 0.9932253499867366, 0.9802634091463653, 0.04239948434266573, 0.3020963259414933, 0.6518920717684856, 0.9785039834311052, 0.9912201119415167, 0.5610788431699192, 0.06586577724168617, 0.002439473231173562, 0.10123813909370281, 0.2683420554290918, 0.9777826052880524, 0.980062043473109, 0.9941321154304867, 0.009025377931212948, 0.3898963266283994, 0.44585366980191965, 0.15343142483062014, 0.9861453628513683, 0.7103915669200844, 0.13552543519859053, 0.03872155291388301, 0.11318607774827341, 0.9805991018250835, 0.9945431112229716, 0.9883394686537282, 0.5747815551551352, 0.016465096632048145, 0.002993653933099663, 0.39366549220260566, 0.004490480899649494, 0.005987307866199326, 0.9817155099584488, 0.9955485210231196, 0.5781574946334415, 0.16606651441598852, 0.0005591465131851465, 0.13699089573036088, 0.031871351251553354, 0.08666770954369771, 0.3906297570226866, 0.30939259516398626, 0.2275792832211817, 0.0017284502523127725, 0.02592675378469159, 0.015556052270814953, 0.029383654289317135, 0.9907831845267854, 0.009436030328826528, 0.022405670341501854, 0.8906253960746987, 0.07841984619525649, 0.9676127252938082, 0.9874716418137623, 0.07514099425536276, 0.20720698415872763, 0.38481297058049413, 0.056924995648002095, 0.05009399617024184, 0.1115729914700841, 0.11384999129600419, 0.3041572990920486, 0.6931957049074596, 0.9830843902378064, 0.15523194943630442, 0.5952205959277405, 0.007909908251531435, 0.24125220167170877, 0.5566457003191623, 0.08529248633922647, 0.01795631291352136, 0.3389254062427157, 0.8359439399764399, 0.16254465499541887, 0.9910204873712694, 0.002018979057797306, 0.2281446335310956, 0.7692310210207737, 0.9810965463497205, 0.01425208579970229, 0.8693772337818397, 0.10689064349776718, 0.049877736736895675, 0.9476769980010178, 0.22839572700656804, 0.686632723595695, 0.06649495849558311, 0.01590096833590031, 0.12935513823757275, 0.0012558751285201236, 0.16577551696465634, 0.7032900719712692, 0.8305815739541079, 0.0011781298921334864, 0.16729444468295507, 0.9915544624652661, 0.3549874250711887, 0.6418667976577889, 0.0020638803783208644, 0.9916276232396104, 0.9814693732419558, 0.1823422032089323, 0.8091435267396371, 0.9884745173504245, 0.9826510577059789, 0.6688845736206551, 0.06613367090069884, 0.009704397360428633, 0.2541114419934461, 0.0010782663733809592, 0.9972800779884791, 0.22920888099633743, 0.07029072350554348, 0.30072205186719475, 0.07721792524232168, 0.2815703764772785, 0.021596570120543796, 0.017929228024602395, 0.0014261885928660996, 0.0889489935798882, 0.9085504344231438, 0.9747440630886098, 0.9917682164230748, 0.9914235255642844, 0.1970155179931073, 0.0820897991637947, 0.09303510571896732, 0.629355126922426, 0.9908967319480732, 0.6626129956279276, 0.06509541159394597, 0.04274922552438243, 0.1049299171962114, 0.09327103750774347, 0.018459892840074228, 0.0009715733073723279, 0.012630452995840261, 0.4812950363572134, 0.1050862524797409, 0.010508625247974092, 0.14712075347163728, 0.254308731000973, 0.23212048117526649, 0.762681581004447, 0.2588826710483691, 0.10999735808492936, 0.1955508588176522, 0.4344340102142159, 0.9879649884437757, 0.004939824942218878, 0.9911791285176721, 0.16993630297070092, 0.8260792505520184, 0.9878217361160735, 0.987508896744273, 0.2184608919403647, 0.13003624520259804, 0.018205074328363723, 0.6293754267805745, 0.994043323044906, 0.08094142198496548, 0.4480685859882018, 0.1315298107255689, 0.25294194370301715, 0.08672295212674873, 0.007203126630056841, 0.0051450904500406, 0.038073669330300444, 0.9497836970774949, 0.9920700835238268, 0.9993286214622756, 0.9782816103722111, 0.9927073053832759, 0.986729206556561, 0.9868082187192385, 0.03417538714665765, 0.9654546868930788, 0.0032738076758558345, 0.7251484002020673, 0.27008913325810635, 0.9968414019895373, 0.9946095916179638, 0.9874065082934654, 0.9871760963071192, 0.9976760932466449, 0.9818477401875347, 0.9843974069305048, 0.9969457075588636, 0.9847128066619272, 0.976954482954863, 0.6426956322652029, 0.2108089996809735, 0.004228260738586861, 0.10329036947119331, 0.0006040372483695516, 0.037450309398912196, 0.9764637259597622, 0.9885897321962103, 0.028112012006010628, 0.6254922671337365, 0.0011713338335837763, 0.21903942688016614, 0.12533272019346406, 0.9188581113340085, 0.08107571570594192, 0.9832617602360868, 0.9943447061120644, 0.9941429692772611, 0.04472409549150457, 0.06005807108859185, 0.6235816742815494, 0.1341722864745137, 0.0191674694963591, 0.1201161421771837, 0.9818137867987147, 0.9825655271294192, 0.011293856633671486, 0.005646928316835743, 0.04095236161621115, 0.6254542501384976, 0.18614709825550524, 0.08562766519753241, 0.05770560045920662, 0.0018614709825550523, 0.5106513982436515, 0.48377500886240665, 0.3231870762698406, 0.6743038998716429, 0.0019949819522829667, 0.8755829688243152, 0.12263066790256516, 0.002452613358051303, 0.30659418393714327, 0.021144426478423673, 0.07400549267448285, 0.005286106619605918, 0.586757834776257, 0.0030346889696858314, 0.7465334865427146, 0.2412577730900236, 0.004552033454528748, 0.0030346889696858314, 0.960543850324525, 0.4624715485812907, 0.24514082085155273, 0.24617082430050885, 0.041200137958244155, 0.0041200137958244155, 0.9906895820490991, 0.4845600742609141, 0.052676269992763064, 0.11736642612422649, 0.14478273038946574, 0.005544870525554007, 0.183288775705813, 0.001540241812653891, 0.01016559596351568, 0.9808384156414598, 0.5890256830903, 0.0757637070305304, 0.20203655208141438, 0.04976635657887781, 0.08393430288676407, 0.08937269677992972, 0.36689843941234307, 0.155226262828299, 0.08466887063361764, 0.15836214692584039, 0.001567942048770697, 0.14425066848690413, 0.9908883177430091, 0.007991034820508138, 0.502909532439643, 0.011126317089372633, 0.19137265393720929, 0.2937347711594375, 0.1577606297100231, 0.24827073457570942, 0.23815787369686178, 0.06573359571250963, 0.01466364827432907, 0.170907348852525, 0.09758910748087968, 0.007079002615193344, 0.2611335063753775, 0.0754385685084424, 0.6615382161509564, 0.9825659701455184, 0.9859298539856101, 0.25056268300962065, 0.7478626645554326, 0.34748709205098927, 0.6445325094494156, 0.11848676201827325, 0.8809626427923523, 0.5491033898070481, 0.450679197294464, 0.9912487433112829, 0.965933285559764, 0.009927035059531507, 0.2978110517859452, 0.004963517529765754, 0.024817587648828767, 0.6651113489886109, 0.000492646516014292, 0.47737447401784894, 0.12266898248755871, 0.39313191977940504, 0.005419111676157212, 0.6465148978796604, 0.032949794023210494, 0.026459683079244792, 0.2935527103886026, 0.9966902556312555, 0.9975308271801302, 0.9687163452400697, 0.9964641732896782, 0.13346263143234408, 0.28819128655445725, 0.012466289749174997, 0.4062543835907616, 0.15546196628382936, 0.0036665558085808812, 0.9705268921375682, 0.23147027543557652, 0.08955695180543138, 0.19702529397194907, 0.07440115996143531, 0.4078285805293491, 0.9873369337356689, 0.05350945273352733, 0.41876963008847473, 0.17681384381513376, 0.2466087821632129, 0.07561118321041904, 0.029081224311699634, 0.000558135737294803, 0.10716206156060216, 0.8919009081970951, 0.9772518406688413, 0.021232060715030844, 0.9687127701232823, 0.007962022768136566, 0.9808559935376362, 0.5105771730808581, 0.06337790895551255, 0.2138264031115891, 0.0005923169061262856, 0.01895414099604114, 0.1640717829969811, 0.028431211494061706, 0.9743848236114291, 0.15819471076479613, 0.010897022831779304, 0.39041402490409305, 0.2611527885547109, 0.0026303158559467287, 0.1736008464924841, 0.0026303158559467287, 0.9812803862794007, 0.015700486180470413, 0.6379104945684959, 0.13389039643819087, 0.0032185191451488187, 0.05664593695461921, 0.07788816331260141, 0.07080742119327402, 0.019954818699922678, 0.1095905567639059, 0.017123524494360297, 0.7968146731375658, 0.037671753887592654, 0.037671753887592654, 0.3573301991741857, 0.6116462868747322, 0.028972718851961, 0.9856072931203532, 0.9936129639875124, 0.02831243853960024, 0.9697010199813081, 0.9923472914154886, 0.9831080942969366, 0.09802024874646786, 0.0032673416248822622, 0.029406074623940362, 0.2417832802412874, 0.2548526467408165, 0.3724769452365779, 0.9951725963006187, 0.26333963647312053, 0.0058519919216249005, 0.5266792729462411, 0.2033567192764653, 0.9819176468824578, 0.03449641004906066, 0.3035684084317338, 0.0068992820098121325, 0.6485325089223405, 0.974614472069472, 0.9764035080253954, 0.9743640725339741, 0.9789098269813853, 0.7582156525385335, 0.2411374370368451, 0.9830066329535656, 0.9537740860809921, 0.9897787138343251, 0.6708755168477786, 0.32922594808270617, 0.2632931537969766, 0.02316979753413394, 0.002106345230375813, 0.23275114795652732, 0.04739276768345579, 0.16008223750856176, 0.27171853471847984, 0.964890481721258, 0.993100897484892, 0.9955053308395757, 0.9901532700675666, 0.9979619719465956, 0.9893318389282676, 0.9717115954394813, 0.4490400821625409, 0.24463832433228036, 0.02736086522137346, 0.06115958108307009, 0.17945508659900827, 0.008047313300403959, 0.02897032788145425, 0.9361331885845566, 0.05639356557738293, 0.9836699956228026, 0.28311274650994267, 0.6121356681296058, 0.10329789399687098, 0.26472277377609643, 0.034992090786495504, 0.2190809162284936, 0.0273851145285617, 0.36741695325820284, 0.004564185754760284, 0.0821553435856851, 0.0010154928124292046, 0.029449291560446938, 0.8327041061919479, 0.018278870623725685, 0.0040619712497168186, 0.11475068780450014, 0.9938537453260301, 0.10741004048722731, 0.872706578958722, 0.970758439884034, 0.1413798882599521, 0.002850400972982905, 0.2012383086925931, 0.15164133176269057, 0.015392165254107689, 0.40817741933115204, 0.07981122724352135, 0.9975099582477726, 0.1378604012143992, 0.18381386828586557, 0.165432481457279, 0.38049470735174173, 0.13234598516582322, 0.9835110753088521, 0.08127876283513182, 0.7676327601095781, 0.048767257701079085, 0.10114690486149736, 0.9949104253883734, 0.9927240593077399, 0.9926107073325571, 0.9811277902222989, 0.08674838378229921, 0.8272078024954961, 0.06351220955489764, 0.023236174227401575, 0.9942914332801812, 0.05933389790204794, 0.9361570557878675, 0.20031172500239902, 0.06438591160791397, 0.0008942487723321385, 0.004471243861660692, 0.7261300031336965, 0.003576995089328554, 0.986903941897446, 0.1717238327693063, 0.6562303609398491, 0.16967950142681454, 0.0020443313424917415, 0.5410105589510226, 0.13068329380066931, 0.0009138691874172679, 0.31437100047154015, 0.011880299436424482, 0.10230472958488995, 0.8866409897357129, 0.9806278964808132, 0.9922334038110024, 0.9900262334917518, 0.9970456498736268, 0.9834160138572585, 0.7253745016177632, 0.06274460119086553, 0.024628721962769648, 0.0686085826105726, 0.09968768413502001, 0.018178342401091882, 0.9975024015895197, 0.0019312728007541524, 0.9709188527180451, 0.027740538649087, 0.9744970048935762, 0.9949760564725898, 0.9633360464168451, 0.9801410781489843, 0.8093922564799384, 0.0115215979570098, 0.1267375775271078, 0.04896679131729165, 0.8080744650477308, 0.1913860575113047, 0.04387128958892784, 0.2871575318548004, 0.6660459419409953, 0.9968312374822441, 0.9652636450954806, 0.020109659272822513, 0.9761706380158676, 0.038838028460554626, 0.06288061750756463, 0.6389780396724583, 0.1719969831824562, 0.06565476239760425, 0.012946009486851541, 0.00739771970677231, 0.0673317639363393, 0.9296962789671466, 0.31057187756491533, 0.6694291838557191, 0.00540796801729952, 0.0007725668596142172, 0.01390620347305591, 0.34764718222666985, 0.031333007840171956, 0.20590262294970144, 0.005968191969556564, 0.046253487764063364, 0.36256766215056124, 0.9813962334206973, 0.9912124195261958, 0.08301853298771207, 0.06497102581647031, 0.3248551290823516, 0.0036095014342483506, 0.5125492036632658, 0.007219002868496701, 0.986820014194691, 0.3658294741906941, 0.04492642665499752, 0.5883222538154438, 0.9807080832954271, 0.22064494541958032, 0.7766702078769228, 0.983555395224688, 0.2920591948933159, 0.11589650591004598, 0.5748466693138281, 0.013907580709205518, 0.0020700045216891865, 0.9749721297156069, 0.020700045216891866, 0.0020700045216891865, 0.9920444489691532, 0.967764431812553, 0.9936972115646975, 0.9804836939395276, 0.8421852353018043, 0.0008074642716220559, 0.0032298570864882237, 0.15261074733656857, 0.0008074642716220559, 0.0008074642716220559, 0.9939886336175597, 0.0749989520664452, 0.723376989286036, 0.14032061999528456, 0.060483025860036455, 0.008435033721705924, 0.0016870067443411848, 0.13664754629163597, 0.8502513991479572, 0.26727091273033776, 0.5222535076339934, 0.17971664821522712, 0.029184754838370214, 0.9182424070291539, 0.08116180720708292, 0.9971871764447596, 0.11395698738146275, 0.8774688028372631, 0.09919067365113615, 0.21449983177058193, 0.0061994171031960095, 0.6782162310896435, 0.0024797668412784037, 0.3697197977529391, 0.37297246459534034, 0.24828690230329342, 0.008673778246403264, 0.9196756257286262, 0.012663347686452683, 0.023743776912098783, 0.022160858451292197, 0.02057793999048561, 0.9812799865830263, 0.5740666272243449, 0.41256797795792155, 0.005428526025762126, 0.0067856575322026574, 0.9696934489798542, 0.9894979583618787, 0.008221398624059576, 0.9619036390149704, 0.029597035046614477, 0.991603691486807, 0.9947264657038397, 0.9903628889058465, 0.9781376107310485, 0.9909273852775395, 0.5673928115337795, 0.004276830237691805, 0.0014256100792306018, 0.315059827509963, 0.11119758617998694, 0.038062924460801804, 0.1370265280588865, 0.0019031462230400902, 0.4091764379536194, 0.18460518363488876, 0.232183839210891, 0.7765738407577457, 0.22079060178406498, 0.014970548202026946, 0.1976112362667557, 0.3802519243314844, 0.03293520604445928, 0.37126959541026827, 0.9798681735103507, 0.9921569605997671, 0.995754415930687, 0.2827669074986613, 0.6314114099342867, 0.02027002921137357, 0.0050675073028433925, 0.06081008763412071, 0.06024353082159423, 0.1012091317802783, 0.5654859426453644, 0.029720141871986485, 0.09237341392644448, 0.0008032470776212563, 0.14699421520468992, 0.0032129883104850252, 0.9908386805057009, 0.10346900239893538, 0.86470523433396, 0.029562572113981538, 0.9887689610983391, 0.009155268158317955, 0.9918727345354997, 0.9801832456957958, 0.04610818838438048, 0.7758203871632715, 0.026061149956388967, 0.01804233458519236, 0.13231045362474397, 0.9847252826834479, 0.986511201688119, 0.2700866184121053, 0.035572383888423625, 0.3899787270730886, 0.2885315582061027, 0.014492452695283698, 0.06654012594600468, 0.4372636847880308, 0.4942980784560348, 0.10508003813800405, 0.426562531055264, 0.4296837203068879, 0.01040396417207961, 0.017686739092535337, 0.01040396417207961, 0.18444220377507625, 0.12752860946733843, 0.5185460814705001, 0.005269777250716464, 0.01159350995157622, 0.15176958482063416, 0.0010539554501432927, 0.985121438900698, 0.9765442564173127, 0.053523465950269605, 0.12010143579084887, 0.5228328808069018, 0.09333970281571406, 0.04177441244899091, 0.07441067217476506, 0.09399242801022954, 0.000652725194515483, 0.985912876982715, 0.08116863122233167, 0.8963089277529815, 0.020723905843999576, 0.9883496525384547, 0.9899364983962068, 0.003105518957011265, 0.257758073431935, 0.1428538720225182, 0.00621103791402253, 0.12732627723746187, 0.4627223245946785, 0.06763005247055809, 0.8695292460500326, 0.028984308201667752, 0.032204786890741945, 0.028423255736047422, 0.9521790671575886, 0.052718330269655146, 0.15229739855678154, 0.03514555351310343, 0.738056623775172, 0.01171518450436781, 0.22934154319057848, 0.008047071690897491, 0.028164750918141218, 0.7282599880262229, 0.004023535845448746, 0.03474478984703106, 0.006514648096318324, 0.38219268831734166, 0.5320295945326631, 0.004343098730878883, 0.04017366326062966, 0.9733424438349246, 0.12851064283483848, 0.7697914744067057, 0.10051822558368555, 0.9829112135137602, 0.5202790157171375, 0.4776331947567164, 0.9958518332277679, 0.6604002304471015, 0.33736422028757257, 0.0013025645570948748, 0.17021782981486222, 0.8285603186576381, 0.012841182888998926, 0.9862028458751175, 0.006694951032706831, 0.6845587430942736, 0.25106066372650615, 0.056907083778008065, 0.979429272680495, 0.9880552548652397, 0.18513790091190357, 0.3616071375670625, 0.10897749351336129, 0.08916340378365924, 0.23033879310778638, 0.024767612162127566, 0.9856548886771006, 0.9671806961971492, 0.01795957314769894, 0.00897978657384947, 0.011545439880663604, 0.9608371634018932, 0.9873387867257022, 0.037181844780751684, 0.950792887964936, 0.01062338422307191, 0.9955123118992723, 0.9838142409707333, 0.9943038833302292, 0.9755459628282879, 0.03677558333092685, 0.18387791665463424, 0.7722872499494637, 0.29697586791806785, 0.010240547169588545, 0.38475198651454107, 0.0980166657660618, 0.007314676549706104, 0.13532151616956292, 0.06729502425729615, 0.9952353476793612, 0.9859165995640347, 0.9918149427874553, 0.9854880881011253, 0.10021086781604423, 0.00492840333521529, 0.6669772513658025, 0.20042173563208845, 0.027927618899553308, 0.13462041740372024, 0.7872890482092567, 0.07692595280212584, 0.9950133363169036, 0.7968066947142233, 0.2006144515060633, 0.9785238983770418, 0.9978369941682707, 0.9833929888350106, 0.17876781351168486, 0.03789100395084624, 0.30604272421837353, 0.0009715642038678525, 0.1020142414061245, 0.07675357210556034, 0.2914692611603557, 0.0058293852232071145, 0.1290795892934643, 0.10992831491757939, 0.33208309767784433, 0.05477264471503084, 0.013788917550637134, 0.35314949949131774, 0.0034472293876592836, 0.003830254875176982, 0.9822850125725012, 0.10224723840116642, 0.0027784575652490874, 0.5651382687716644, 0.22060953068077754, 0.03445287380908869, 0.07390697123562573, 0.0005556915130498176, 0.9934449251696341], \"Term\": [\"accent\", \"accident\", \"accident\", \"accord\", \"actual\", \"adaptive\", \"adjust\", \"adult\", \"advertise\", \"advertised\", \"altima\", \"altima\", \"altima\", \"amazed\", \"amazing\", \"amazing\", \"amazing\", \"amazing\", \"answer\", \"answer\", \"anyone\", \"anyone\", \"anyone\", \"anyone\", \"anything\", \"anything\", \"anything\", \"appeal\", \"arm\", \"average\", \"average\", \"average\", \"awesome\", \"awesome\", \"awesome\", \"awesome\", \"awesome\", \"back\", \"back\", \"back\", \"back\", \"bad\", \"bad\", \"bad\", \"bad\", \"bad\", \"bad\", \"bang\", \"bargain\", \"basic\", \"battery\", \"beautiful\", \"beautiful\", \"beautiful\", \"bell\", \"benz\", \"boring\", \"brand\", \"brand\", \"brand\", \"buck\", \"budget\", \"buick\", \"bumper\", \"bumper\", \"button\", \"buy\", \"buy\", \"buy\", \"buy\", \"buy\", \"buy\", \"buy\", \"buying\", \"call\", \"call\", \"call\", \"call\", \"call\", \"camera\", \"camera\", \"camera\", \"camry\", \"camry\", \"camry\", \"camry\", \"camry\", \"cargo\", \"carplay\", \"carry\", \"catch\", \"center\", \"center\", \"change\", \"change\", \"change\", \"change\", \"charger\", \"charger\", \"charger\", \"charger\", \"charger\", \"chevrolet\", \"choose\", \"chrysler\", \"chrysler\", \"chrysler\", \"city\", \"city\", \"civic\", \"claim\", \"class\", \"class\", \"class\", \"class\", \"class\", \"classic\", \"classy\", \"clean\", \"college\", \"color\", \"color\", \"color\", \"color\", \"com\", \"combination\", \"come\", \"come\", \"come\", \"come\", \"come\", \"come\", \"come\", \"comfort\", \"comfort\", \"comfort\", \"comfort\", \"comfortable\", \"comfortable\", \"comfortable\", \"comfortable\", \"comfortable\", \"comfortable\", \"comfortable\", \"comfortable\", \"commute\", \"comparable\", \"compare\", \"compare\", \"compare\", \"compare\", \"compare\", \"compartment\", \"condition\", \"connection\", \"consider\", \"consider\", \"consider\", \"consider\", \"consider\", \"console\", \"control\", \"control\", \"control\", \"control\", \"control\", \"corner\", \"corolla\", \"corolla\", \"corolla\", \"correct\", \"could\", \"could\", \"could\", \"could\", \"could\", \"could\", \"could\", \"could\", \"coupe\", \"crack\", \"creature\", \"cruise\", \"cruise\", \"cruise\", \"cruze\", \"cruze\", \"cruze\", \"cruze\", \"cup\", \"current\", \"customer\", \"cvt\", \"cvt\", \"cvt\", \"cylinder\", \"cylinder\", \"cylinder\", \"cylinder\", \"dark\", \"dash\", \"dash\", \"dash\", \"date\", \"day\", \"day\", \"day\", \"day\", \"day\", \"day\", \"day\", \"deal\", \"deal\", \"deal\", \"deal\", \"deal\", \"dealer\", \"dealer\", \"dealer\", \"dealership\", \"dealership\", \"dealership\", \"decide\", \"decide\", \"decide\", \"decide\", \"decide\", \"decision\", \"department\", \"department\", \"design\", \"design\", \"design\", \"design\", \"dial\", \"diesel\", \"diesel\", \"display\", \"display\", \"dodge\", \"dodge\", \"dodge\", \"door\", \"door\", \"door\", \"downshift\", \"draw\", \"drive\", \"drive\", \"drive\", \"drive\", \"drive\", \"drive\", \"drive\", \"drive\", \"driver\", \"driver\", \"driver\", \"driver\", \"driver\", \"dual\", \"durable\", \"early\", \"easy\", \"easy\", \"easy\", \"easy\", \"ecoboost\", \"economy\", \"economy\", \"elantra\", \"elantra\", \"elantra\", \"engine\", \"engine\", \"engine\", \"engine\", \"engine\", \"engine\", \"engine\", \"engine\", \"engineer\", \"entertainment\", \"equip\", \"ergonomic\", \"everyone\", \"everyone\", \"everyone\", \"example\", \"exceed\", \"excellent\", \"excellent\", \"excellent\", \"excellent\", \"excellent\", \"exceptional\", \"excited\", \"expectation\", \"experience\", \"experience\", \"experience\", \"experience\", \"extended\", \"exterior\", \"exterior\", \"exterior\", \"exterior\", \"face\", \"fact\", \"fair\", \"family\", \"family\", \"family\", \"family\", \"family\", \"family\", \"fancy\", \"favorite\", \"feature\", \"feature\", \"feature\", \"feature\", \"feature\", \"feature\", \"feel\", \"feel\", \"feel\", \"feel\", \"feel\", \"feel\", \"feel\", \"figure\", \"figure\", \"fill\", \"fill\", \"fill\", \"filter\", \"finance\", \"find\", \"find\", \"find\", \"find\", \"find\", \"find\", \"find\", \"finish\", \"finish\", \"firm\", \"first\", \"first\", \"first\", \"first\", \"fit\", \"fit\", \"fit\", \"fit\", \"fix\", \"fix\", \"fold\", \"ford\", \"ford\", \"ford\", \"forget\", \"freeway\", \"freeway\", \"freeway\", \"friend\", \"friend\", \"front\", \"front\", \"front\", \"front\", \"fuel\", \"fuel\", \"fuel\", \"fuel\", \"fun\", \"fun\", \"fun\", \"function\", \"fusion\", \"fusion\", \"fusion\", \"gadget\", \"gal\", \"gallon\", \"gallon\", \"game\", \"garage\", \"gas\", \"gas\", \"gas\", \"gas\", \"gas\", \"gear\", \"get\", \"get\", \"get\", \"get\", \"get\", \"get\", \"get\", \"get\", \"glad\", \"glad\", \"gli\", \"grand\", \"guess\", \"guy\", \"guy\", \"guy\", \"guy\", \"half\", \"handle\", \"handle\", \"handle\", \"handle\", \"handle\", \"handle\", \"handle\", \"handle\", \"handling\", \"handling\", \"handling\", \"handling\", \"handling\", \"happen\", \"happen\", \"happy\", \"happy\", \"happy\", \"happy\", \"hatchback\", \"hatchback\", \"headlight\", \"hear\", \"hear\", \"heat\", \"heater\", \"help\", \"help\", \"help\", \"help\", \"helpful\", \"high\", \"high\", \"high\", \"high\", \"high\", \"highway\", \"highway\", \"highway\", \"highway\", \"holder\", \"honda\", \"hondas\", \"honest\", \"horrible\", \"horsepower\", \"hwy\", \"hwy\", \"hyundai\", \"hyundai\", \"hyundai\", \"impala\", \"impreza\", \"incredible\", \"inexpensive\", \"infiniti\", \"information\", \"infotainment\", \"inside\", \"instal\", \"insurance\", \"interior\", \"interior\", \"interior\", \"interior\", \"interior\", \"interior\", \"internet\", \"interstate\", \"issue\", \"issue\", \"issue\", \"issue\", \"issue\", \"jetta\", \"jetta\", \"jump\", \"key\", \"keyless\", \"know\", \"know\", \"know\", \"know\", \"know\", \"know\", \"knowledgeable\", \"lane\", \"lane\", \"lane\", \"last\", \"last\", \"last\", \"last\", \"last\", \"last\", \"lease\", \"lease\", \"leather\", \"leather\", \"leather\", \"leg\", \"leg\", \"leg\", \"level\", \"level\", \"level\", \"level\", \"level\", \"light\", \"light\", \"light\", \"light\", \"light\", \"lincoln\", \"little\", \"little\", \"little\", \"little\", \"little\", \"lock\", \"look\", \"look\", \"look\", \"look\", \"look\", \"look\", \"look\", \"look\", \"loose\", \"lot\", \"lot\", \"lot\", \"lot\", \"lot\", \"low\", \"low\", \"low\", \"low\", \"low\", \"low\", \"low\", \"luxurious\", \"luxurious\", \"luxury\", \"luxury\", \"luxury\", \"luxury\", \"make\", \"make\", \"make\", \"make\", \"make\", \"make\", \"make\", \"make\", \"malibu\", \"malibu\", \"malibu\", \"man\", \"manager\", \"manual\", \"manual\", \"market\", \"market\", \"mazda\", \"mazda\", \"meet\", \"meet\", \"merge\", \"metallic\", \"mid\", \"mid\", \"mid\", \"mid\", \"mid\", \"mile\", \"mile\", \"mile\", \"mile\", \"mile\", \"mileage\", \"mileage\", \"mileage\", \"mileage\", \"minute\", \"mirror\", \"mix\", \"mode\", \"model\", \"model\", \"model\", \"model\", \"model\", \"model\", \"mom\", \"money\", \"money\", \"money\", \"money\", \"money\", \"monitor\", \"month\", \"month\", \"month\", \"month\", \"month\", \"month\", \"mpg\", \"mpg\", \"mpg\", \"mpgs\", \"mph\", \"mph\", \"mph\", \"navigate\", \"need\", \"need\", \"need\", \"need\", \"need\", \"need\", \"need\", \"needless\", \"new\", \"new\", \"new\", \"new\", \"new\", \"new\", \"new\", \"next\", \"next\", \"nice\", \"nice\", \"nice\", \"nice\", \"nice\", \"nice\", \"nice\", \"nissan\", \"nissan\", \"nissan\", \"nissan\", \"nissan\", \"noise\", \"noise\", \"noise\", \"non\", \"none\", \"normal\", \"normal\", \"notch\", \"odometer\", \"offer\", \"offer\", \"offer\", \"offer\", \"offer\", \"offer\", \"oil\", \"one\", \"one\", \"one\", \"one\", \"ownership\", \"paint\", \"paint\", \"paint\", \"paint\", \"pair\", \"par\", \"parent\", \"passat\", \"passenger\", \"passenger\", \"payment\", \"peace\", \"pedal\", \"perfect\", \"perfect\", \"performance\", \"performance\", \"performance\", \"performance\", \"performance\", \"performance\", \"performance\", \"phenomenal\", \"pickup\", \"play\", \"pleasure\", \"plenty\", \"position\", \"post\", \"power\", \"power\", \"power\", \"power\", \"power\", \"power\", \"power\", \"powerful\", \"powerful\", \"practical\", \"previous\", \"previous\", \"previous\", \"price\", \"price\", \"price\", \"price\", \"price\", \"price\", \"price\", \"problem\", \"problem\", \"problem\", \"problem\", \"problem\", \"problem\", \"process\", \"professional\", \"professional\", \"proud\", \"purchase\", \"purchase\", \"purchase\", \"purchase\", \"purchase\", \"purchase\", \"purchase\", \"push\", \"quality\", \"quality\", \"quality\", \"quality\", \"quality\", \"question\", \"radio\", \"radio\", \"radio\", \"radio\", \"rattle\", \"reach\", \"real\", \"realize\", \"rear\", \"rear\", \"rear\", \"rear\", \"reasonable\", \"recall\", \"recall\", \"recommend\", \"recommend\", \"recommend\", \"recommend\", \"recommend\", \"recommend\", \"regard\", \"reliability\", \"reliability\", \"reliability\", \"reliability\", \"reliable\", \"reliable\", \"reliable\", \"reliable\", \"reliable\", \"remain\", \"remain\", \"remember\", \"remote\", \"rent\", \"repair\", \"requirement\", \"ride\", \"ride\", \"ride\", \"ride\", \"ride\", \"ride\", \"room\", \"room\", \"roomy\", \"roomy\", \"round\", \"rpm\", \"running\", \"rust\", \"safe\", \"safe\", \"safe\", \"safe\", \"safety\", \"safety\", \"sale\", \"sale\", \"sale\", \"salesman\", \"saver\", \"saver\", \"saving\", \"say\", \"say\", \"say\", \"say\", \"say\", \"say\", \"say\", \"screen\", \"screen\", \"seat\", \"seat\", \"seat\", \"seat\", \"seat\", \"sedan\", \"sedan\", \"sedan\", \"sedan\", \"sedan\", \"sedan\", \"sel\", \"select\", \"sell\", \"sell\", \"sell\", \"sell\", \"sell\", \"sell\", \"serious\", \"service\", \"service\", \"service\", \"shape\", \"shift\", \"shift\", \"shopping\", \"show\", \"show\", \"show\", \"show\", \"side\", \"side\", \"side\", \"side\", \"single\", \"sirius\", \"sleek\", \"smile\", \"smooth\", \"smooth\", \"smooth\", \"smooth\", \"smooth\", \"smooth\", \"soft\", \"something\", \"something\", \"something\", \"something\", \"sonata\", \"sonata\", \"sonata\", \"sonata\", \"sound\", \"sound\", \"sound\", \"sound\", \"space\", \"space\", \"spacious\", \"speak\", \"speak\", \"speed\", \"speed\", \"speed\", \"speed\", \"speed\", \"sport\", \"sport\", \"sport\", \"sport\", \"sporty\", \"sporty\", \"sporty\", \"sporty\", \"sporty\", \"spring\", \"start\", \"start\", \"start\", \"start\", \"starter\", \"steer\", \"steering\", \"steering\", \"steering\", \"step\", \"storage\", \"store\", \"student\", \"stuff\", \"style\", \"style\", \"style\", \"style\", \"style\", \"styling\", \"styling\", \"styling\", \"styling\", \"styling\", \"styling\", \"stylish\", \"stylish\", \"subaru\", \"subaru\", \"subaru\", \"subaru\", \"subaru\", \"superb\", \"suppose\", \"suv\", \"system\", \"system\", \"system\", \"system\", \"system\", \"take\", \"take\", \"take\", \"take\", \"take\", \"take\", \"take\", \"take\", \"talk\", \"tank\", \"tank\", \"tank\", \"tdi\", \"tdi\", \"team\", \"tear\", \"tell\", \"tell\", \"tell\", \"tell\", \"tell\", \"tend\", \"terrific\", \"test\", \"test\", \"test\", \"test\", \"test\", \"thank\", \"thank\", \"thank\", \"thing\", \"thing\", \"thing\", \"thing\", \"thing\", \"thing\", \"think\", \"think\", \"think\", \"think\", \"think\", \"think\", \"think\", \"thought\", \"throw\", \"time\", \"time\", \"time\", \"time\", \"time\", \"time\", \"time\", \"time\", \"tint\", \"tire\", \"tire\", \"tire\", \"titanium\", \"ton\", \"top\", \"top\", \"top\", \"top\", \"top\", \"top\", \"touch\", \"touch\", \"touch\", \"touch\", \"tour\", \"tour\", \"touring\", \"touring\", \"touring\", \"touring\", \"touring\", \"town\", \"town\", \"town\", \"town\", \"town\", \"toyota\", \"toyota\", \"toyota\", \"toyota\", \"toyota\", \"toyota\", \"train\", \"transmission\", \"transmission\", \"transmission\", \"transportation\", \"trim\", \"trim\", \"trouble\", \"trunk\", \"trunk\", \"trunk\", \"try\", \"try\", \"turbo\", \"turbo\", \"turn\", \"turn\", \"turn\", \"turn\", \"twin\", \"understand\", \"use\", \"use\", \"use\", \"use\", \"use\", \"use\", \"useful\", \"vacation\", \"value\", \"value\", \"value\", \"value\", \"vent\", \"view\", \"view\", \"view\", \"visibility\", \"visit\", \"voice\", \"volvo\", \"walk\", \"walk\", \"walk\", \"want\", \"want\", \"want\", \"want\", \"want\", \"want\", \"want\", \"warning\", \"waste\", \"watch\", \"water\", \"week\", \"week\", \"week\", \"week\", \"week\", \"wheel\", \"wheel\", \"wheel\", \"whistle\", \"window\", \"window\", \"wise\", \"wonderful\", \"word\", \"work\", \"work\", \"work\", \"work\", \"work\", \"work\", \"work\", \"work\", \"would\", \"would\", \"would\", \"would\", \"would\", \"would\", \"would\", \"would\", \"write\", \"year\", \"year\", \"year\", \"year\", \"year\", \"year\", \"year\", \"zoom\"]}, \"R\": 30, \"lambda.step\": 0.01, \"plot.opts\": {\"xlab\": \"PC1\", \"ylab\": \"PC2\"}, \"topic.order\": [2, 8, 7, 3, 4, 6, 5, 1]};\n",
       "\n",
       "function LDAvis_load_lib(url, callback){\n",
       "  var s = document.createElement('script');\n",
       "  s.src = url;\n",
       "  s.async = true;\n",
       "  s.onreadystatechange = s.onload = callback;\n",
       "  s.onerror = function(){console.warn(\"failed to load library \" + url);};\n",
       "  document.getElementsByTagName(\"head\")[0].appendChild(s);\n",
       "}\n",
       "\n",
       "if(typeof(LDAvis) !== \"undefined\"){\n",
       "   // already loaded: just create the visualization\n",
       "   !function(LDAvis){\n",
       "       new LDAvis(\"#\" + \"ldavis_el516541209028012322555321484\", ldavis_el516541209028012322555321484_data);\n",
       "   }(LDAvis);\n",
       "}else if(typeof define === \"function\" && define.amd){\n",
       "   // require.js is available: use it to load d3/LDAvis\n",
       "   require.config({paths: {d3: \"https://cdnjs.cloudflare.com/ajax/libs/d3/3.5.5/d3.min\"}});\n",
       "   require([\"d3\"], function(d3){\n",
       "      window.d3 = d3;\n",
       "      LDAvis_load_lib(\"https://cdn.rawgit.com/bmabey/pyLDAvis/files/ldavis.v1.0.0.js\", function(){\n",
       "        new LDAvis(\"#\" + \"ldavis_el516541209028012322555321484\", ldavis_el516541209028012322555321484_data);\n",
       "      });\n",
       "    });\n",
       "}else{\n",
       "    // require.js not available: dynamically load d3 & LDAvis\n",
       "    LDAvis_load_lib(\"https://cdnjs.cloudflare.com/ajax/libs/d3/3.5.5/d3.min.js\", function(){\n",
       "         LDAvis_load_lib(\"https://cdn.rawgit.com/bmabey/pyLDAvis/files/ldavis.v1.0.0.js\", function(){\n",
       "                 new LDAvis(\"#\" + \"ldavis_el516541209028012322555321484\", ldavis_el516541209028012322555321484_data);\n",
       "            })\n",
       "         });\n",
       "}\n",
       "</script>"
      ],
      "text/plain": [
       "PreparedData(topic_coordinates=            Freq  cluster  topics           x           y\n",
       "topic                                                    \n",
       "1      22.583543        1       1   43.549732 -109.662727\n",
       "7      19.640747        1       2  -45.022690 -129.180649\n",
       "6      19.571092        1       3   44.770401   53.765392\n",
       "2      11.188142        1       4  -43.499825   74.608315\n",
       "3      10.132489        1       5  -21.004629  -27.461145\n",
       "5       7.501361        1       6   83.509399  -28.242489\n",
       "4       4.998169        1       7 -114.829552   18.589584\n",
       "0       4.384457        1       8 -115.509888  -72.105400, topic_info=     Category         Freq          Term        Total  loglift  logprob\n",
       "term                                                                   \n",
       "1880  Default  1791.000000           mpg  1791.000000  30.0000  30.0000\n",
       "1365  Default  1277.000000         honda  1277.000000  29.0000  29.0000\n",
       "1198  Default  2782.000000           gas  2782.000000  28.0000  28.0000\n",
       "3280  Default  2610.000000         would  2610.000000  27.0000  27.0000\n",
       "2334  Default  1118.000000     recommend  1118.000000  26.0000  26.0000\n",
       "2535  Default  2588.000000          seat  2588.000000  25.0000  25.0000\n",
       "1778  Default  1105.000000         mazda  1105.000000  24.0000  24.0000\n",
       "1821  Default  2029.000000          mile  2029.000000  23.0000  23.0000\n",
       "1350  Default   971.000000       highway   971.000000  22.0000  22.0000\n",
       "21    Default   889.000000        accord   889.000000  21.0000  21.0000\n",
       "3149  Default   779.000000         value   779.000000  20.0000  20.0000\n",
       "1822  Default  2003.000000       mileage  2003.000000  19.0000  19.0000\n",
       "1929  Default  2661.000000           new  2661.000000  18.0000  18.0000\n",
       "2246  Default  1754.000000      purchase  1754.000000  17.0000  17.0000\n",
       "1216  Default  4908.000000           get  4908.000000  16.0000  16.0000\n",
       "1694  Default  3246.000000          look  3246.000000  15.0000  15.0000\n",
       "530   Default  2371.000000   comfortable  2371.000000  14.0000  14.0000\n",
       "373   Default  2879.000000           buy  2879.000000  13.0000  13.0000\n",
       "2457  Default  1035.000000          room  1035.000000  12.0000  12.0000\n",
       "395   Default   847.000000         camry   847.000000  11.0000  11.0000\n",
       "2207  Default  1314.000000         price  1314.000000  10.0000  10.0000\n",
       "482   Default   625.000000         civic   625.000000   9.0000   9.0000\n",
       "2687  Default  1238.000000        smooth  1238.000000   8.0000   8.0000\n",
       "3035  Default   785.000000  transmission   785.000000   7.0000   7.0000\n",
       "529   Default   806.000000       comfort   806.000000   6.0000   6.0000\n",
       "2098  Default   949.000000   performance   949.000000   5.0000   5.0000\n",
       "2369  Default  1094.000000      reliable  1094.000000   4.0000   4.0000\n",
       "1172  Default   796.000000          fuel   796.000000   3.0000   3.0000\n",
       "873   Default  6053.000000         drive  6053.000000   2.0000   2.0000\n",
       "2737  Default   806.000000         speed   806.000000   1.0000   1.0000\n",
       "...       ...          ...           ...          ...      ...      ...\n",
       "2485   Topic8    35.856623          rust    36.729406   3.1031  -5.9120\n",
       "3161   Topic8    34.575652          vent    35.448825   3.1022  -5.9484\n",
       "670    Topic8    34.060550      creature    34.934170   3.1018  -5.9634\n",
       "486    Topic8    32.830650       classic    33.703015   3.1009  -6.0002\n",
       "475    Topic8   136.141427      chrysler   161.519387   2.9562  -4.5779\n",
       "2730   Topic8    77.131421         speak    87.752408   2.9981  -5.1461\n",
       "485    Topic8   260.733599         class   400.246434   2.6985  -3.9281\n",
       "1738   Topic8   228.039048        malibu   344.651291   2.7141  -4.0620\n",
       "363    Topic8    76.139471        bumper    93.967543   2.9167  -5.1590\n",
       "2373   Topic8    52.184780        remain    58.648315   3.0103  -5.5368\n",
       "1813   Topic8   133.649047           mid   201.470025   2.7167  -4.5963\n",
       "1101   Topic8    98.005152        finish   141.374217   2.7607  -4.9065\n",
       "2046   Topic8    94.403603         paint   144.942618   2.6983  -4.9440\n",
       "1648   Topic8   111.437512         level   189.175148   2.5979  -4.7781\n",
       "2545   Topic8   242.664282         sedan   670.219728   2.1112  -3.9999\n",
       "3007   Topic8   148.956927           top   322.007373   2.3562  -4.4879\n",
       "2098   Topic8   257.606870   performance   949.511966   1.8226  -3.9401\n",
       "3053   Topic8   111.549532          trim   234.489565   2.3842  -4.7771\n",
       "2095   Topic8   158.664774       perfect   482.950997   2.0140  -4.4248\n",
       "1107   Topic8   151.034977           fit   445.525762   2.0454  -4.4740\n",
       "529    Topic8   200.575245       comfort   806.325727   1.7358  -4.1904\n",
       "1721   Topic8   131.967761        luxury   449.385000   1.9018  -4.6090\n",
       "1978   Topic8   113.576397         offer   306.059211   2.1358  -4.7591\n",
       "1300   Topic8   121.219226      handling   475.799630   1.7597  -4.6940\n",
       "2833   Topic8   121.632703       styling   525.445700   1.6639  -4.6906\n",
       "944    Topic8   143.525610        engine  1308.904319   0.9167  -4.5250\n",
       "2069   Topic8    96.581131     passenger   402.260226   1.7004  -4.9212\n",
       "2207   Topic8   107.753025         price  1314.582780   0.6257  -4.8117\n",
       "1097   Topic8    99.920508          find   878.348772   0.9534  -4.8872\n",
       "1707   Topic8    92.004156           low   637.778674   1.1909  -4.9697\n",
       "\n",
       "[533 rows x 6 columns], token_table=      Topic      Freq        Term\n",
       "term                             \n",
       "11        1  0.974151      accent\n",
       "17        1  0.008105    accident\n",
       "17        7  0.980680    accident\n",
       "21        4  0.998853      accord\n",
       "33        4  0.980360      actual\n",
       "36        1  0.982956    adaptive\n",
       "42        2  0.993862      adjust\n",
       "48        1  0.985107       adult\n",
       "52        5  0.988515   advertise\n",
       "53        5  0.957680  advertised\n",
       "97        3  0.680659      altima\n",
       "97        4  0.008671      altima\n",
       "97        5  0.309981      altima\n",
       "101       6  0.973671      amazed\n",
       "102       1  0.756940     amazing\n",
       "102       3  0.001635     amazing\n",
       "102       4  0.006539     amazing\n",
       "102       6  0.235420     amazing\n",
       "119       5  0.017005      answer\n",
       "119       7  0.969299      answer\n",
       "126       1  0.154989      anyone\n",
       "126       3  0.092095      anyone\n",
       "126       6  0.752483      anyone\n",
       "126       8  0.002246      anyone\n",
       "127       2  0.134651    anything\n",
       "127       3  0.786648    anything\n",
       "127       6  0.077956    anything\n",
       "130       1  0.972886      appeal\n",
       "146       2  0.992087         arm\n",
       "200       1  0.039300     average\n",
       "...     ...       ...         ...\n",
       "3252      2  0.796807      window\n",
       "3252      3  0.200614      window\n",
       "3262      4  0.978524        wise\n",
       "3266      6  0.997837   wonderful\n",
       "3269      7  0.983393        word\n",
       "3270      1  0.178768        work\n",
       "3270      2  0.037891        work\n",
       "3270      3  0.306043        work\n",
       "3270      4  0.000972        work\n",
       "3270      5  0.102014        work\n",
       "3270      6  0.076754        work\n",
       "3270      7  0.291469        work\n",
       "3270      8  0.005829        work\n",
       "3280      1  0.129080       would\n",
       "3280      2  0.109928       would\n",
       "3280      3  0.332083       would\n",
       "3280      4  0.054773       would\n",
       "3280      5  0.013789       would\n",
       "3280      6  0.353149       would\n",
       "3280      7  0.003447       would\n",
       "3280      8  0.003830       would\n",
       "3286      5  0.982285       write\n",
       "3293      1  0.102247        year\n",
       "3293      2  0.002778        year\n",
       "3293      3  0.565138        year\n",
       "3293      4  0.220610        year\n",
       "3293      5  0.034453        year\n",
       "3293      6  0.073907        year\n",
       "3293      8  0.000556        year\n",
       "3305      3  0.993445        zoom\n",
       "\n",
       "[1125 rows x 3 columns], R=30, lambda_step=0.01, plot_opts={'xlab': 'PC1', 'ylab': 'PC2'}, topic_order=[2, 8, 7, 3, 4, 6, 5, 1])"
      ]
     },
     "execution_count": 207,
     "metadata": {},
     "output_type": "execute_result"
    }
   ],
   "source": [
    "pyLDAvis.enable_notebook()\n",
    "panel = pyLDAvis.sklearn.prepare(best_lda_model, data_vectorized, vectorizer, mds='tsne')\n",
    "panel"
   ]
  },
  {
   "cell_type": "markdown",
   "metadata": {},
   "source": [
    "## 13. See the Topic’s keywords"
   ]
  },
  {
   "cell_type": "code",
   "execution_count": 208,
   "metadata": {},
   "outputs": [
    {
     "data": {
      "text/html": [
       "<div>\n",
       "<style>\n",
       "    .dataframe thead tr:only-child th {\n",
       "        text-align: right;\n",
       "    }\n",
       "\n",
       "    .dataframe thead th {\n",
       "        text-align: left;\n",
       "    }\n",
       "\n",
       "    .dataframe tbody tr th {\n",
       "        vertical-align: top;\n",
       "    }\n",
       "</style>\n",
       "<table border=\"1\" class=\"dataframe\">\n",
       "  <thead>\n",
       "    <tr style=\"text-align: right;\">\n",
       "      <th></th>\n",
       "      <th>ability</th>\n",
       "      <th>able</th>\n",
       "      <th>abnormal</th>\n",
       "      <th>abs</th>\n",
       "      <th>absolute</th>\n",
       "      <th>absorb</th>\n",
       "      <th>abundance</th>\n",
       "      <th>abundant</th>\n",
       "      <th>accelerate</th>\n",
       "      <th>acceleration</th>\n",
       "      <th>...</th>\n",
       "      <th>yield</th>\n",
       "      <th>yokohama</th>\n",
       "      <th>york</th>\n",
       "      <th>young</th>\n",
       "      <th>youtube</th>\n",
       "      <th>yrs</th>\n",
       "      <th>zip</th>\n",
       "      <th>zippy</th>\n",
       "      <th>zone</th>\n",
       "      <th>zoom</th>\n",
       "    </tr>\n",
       "  </thead>\n",
       "  <tbody>\n",
       "    <tr>\n",
       "      <th>Topic #0:</th>\n",
       "      <td>0.125348</td>\n",
       "      <td>0.125298</td>\n",
       "      <td>0.125262</td>\n",
       "      <td>0.125192</td>\n",
       "      <td>0.125477</td>\n",
       "      <td>0.125063</td>\n",
       "      <td>0.125538</td>\n",
       "      <td>0.125236</td>\n",
       "      <td>25.992058</td>\n",
       "      <td>0.125232</td>\n",
       "      <td>...</td>\n",
       "      <td>0.125307</td>\n",
       "      <td>6.252596</td>\n",
       "      <td>0.125166</td>\n",
       "      <td>0.125207</td>\n",
       "      <td>0.125132</td>\n",
       "      <td>0.125212</td>\n",
       "      <td>5.871094</td>\n",
       "      <td>0.125234</td>\n",
       "      <td>0.125127</td>\n",
       "      <td>0.125309</td>\n",
       "    </tr>\n",
       "    <tr>\n",
       "      <th>Topic #1:</th>\n",
       "      <td>39.123593</td>\n",
       "      <td>52.863406</td>\n",
       "      <td>0.125029</td>\n",
       "      <td>0.125097</td>\n",
       "      <td>0.125256</td>\n",
       "      <td>0.125198</td>\n",
       "      <td>0.125589</td>\n",
       "      <td>0.125132</td>\n",
       "      <td>0.125210</td>\n",
       "      <td>183.863844</td>\n",
       "      <td>...</td>\n",
       "      <td>0.132470</td>\n",
       "      <td>0.125054</td>\n",
       "      <td>16.742632</td>\n",
       "      <td>50.496579</td>\n",
       "      <td>1.410994</td>\n",
       "      <td>0.125154</td>\n",
       "      <td>0.125509</td>\n",
       "      <td>0.125198</td>\n",
       "      <td>0.125140</td>\n",
       "      <td>0.125400</td>\n",
       "    </tr>\n",
       "    <tr>\n",
       "      <th>Topic #2:</th>\n",
       "      <td>8.915292</td>\n",
       "      <td>8.664772</td>\n",
       "      <td>0.125151</td>\n",
       "      <td>0.125134</td>\n",
       "      <td>0.125295</td>\n",
       "      <td>12.782230</td>\n",
       "      <td>5.142917</td>\n",
       "      <td>0.125083</td>\n",
       "      <td>0.125184</td>\n",
       "      <td>27.715267</td>\n",
       "      <td>...</td>\n",
       "      <td>4.813486</td>\n",
       "      <td>0.125029</td>\n",
       "      <td>0.125383</td>\n",
       "      <td>0.125275</td>\n",
       "      <td>0.125003</td>\n",
       "      <td>0.125319</td>\n",
       "      <td>0.125107</td>\n",
       "      <td>0.125153</td>\n",
       "      <td>0.125176</td>\n",
       "      <td>0.125522</td>\n",
       "    </tr>\n",
       "    <tr>\n",
       "      <th>Topic #3:</th>\n",
       "      <td>18.567473</td>\n",
       "      <td>11.293177</td>\n",
       "      <td>0.125277</td>\n",
       "      <td>0.125165</td>\n",
       "      <td>0.125431</td>\n",
       "      <td>0.125091</td>\n",
       "      <td>0.125421</td>\n",
       "      <td>0.125059</td>\n",
       "      <td>0.125426</td>\n",
       "      <td>0.125340</td>\n",
       "      <td>...</td>\n",
       "      <td>0.125273</td>\n",
       "      <td>0.125188</td>\n",
       "      <td>0.125422</td>\n",
       "      <td>0.125218</td>\n",
       "      <td>0.125171</td>\n",
       "      <td>0.125152</td>\n",
       "      <td>23.136546</td>\n",
       "      <td>27.472024</td>\n",
       "      <td>4.503975</td>\n",
       "      <td>0.125291</td>\n",
       "    </tr>\n",
       "    <tr>\n",
       "      <th>Topic #4:</th>\n",
       "      <td>0.125341</td>\n",
       "      <td>62.237194</td>\n",
       "      <td>0.125174</td>\n",
       "      <td>16.057888</td>\n",
       "      <td>0.125229</td>\n",
       "      <td>0.125337</td>\n",
       "      <td>0.125509</td>\n",
       "      <td>0.125048</td>\n",
       "      <td>0.125836</td>\n",
       "      <td>0.125168</td>\n",
       "      <td>...</td>\n",
       "      <td>0.125273</td>\n",
       "      <td>0.125187</td>\n",
       "      <td>0.125322</td>\n",
       "      <td>0.125454</td>\n",
       "      <td>0.125690</td>\n",
       "      <td>0.125105</td>\n",
       "      <td>0.125281</td>\n",
       "      <td>0.125126</td>\n",
       "      <td>0.125155</td>\n",
       "      <td>0.125281</td>\n",
       "    </tr>\n",
       "  </tbody>\n",
       "</table>\n",
       "<p>5 rows × 3306 columns</p>\n",
       "</div>"
      ],
      "text/plain": [
       "              ability       able  abnormal        abs  absolute     absorb  \\\n",
       "Topic #0:    0.125348   0.125298  0.125262   0.125192  0.125477   0.125063   \n",
       "Topic #1:   39.123593  52.863406  0.125029   0.125097  0.125256   0.125198   \n",
       "Topic #2:    8.915292   8.664772  0.125151   0.125134  0.125295  12.782230   \n",
       "Topic #3:   18.567473  11.293177  0.125277   0.125165  0.125431   0.125091   \n",
       "Topic #4:    0.125341  62.237194  0.125174  16.057888  0.125229   0.125337   \n",
       "\n",
       "            abundance  abundant  accelerate  acceleration    ...        yield  \\\n",
       "Topic #0:    0.125538  0.125236   25.992058      0.125232    ...     0.125307   \n",
       "Topic #1:    0.125589  0.125132    0.125210    183.863844    ...     0.132470   \n",
       "Topic #2:    5.142917  0.125083    0.125184     27.715267    ...     4.813486   \n",
       "Topic #3:    0.125421  0.125059    0.125426      0.125340    ...     0.125273   \n",
       "Topic #4:    0.125509  0.125048    0.125836      0.125168    ...     0.125273   \n",
       "\n",
       "            yokohama       york      young   youtube       yrs        zip  \\\n",
       "Topic #0:   6.252596   0.125166   0.125207  0.125132  0.125212   5.871094   \n",
       "Topic #1:   0.125054  16.742632  50.496579  1.410994  0.125154   0.125509   \n",
       "Topic #2:   0.125029   0.125383   0.125275  0.125003  0.125319   0.125107   \n",
       "Topic #3:   0.125188   0.125422   0.125218  0.125171  0.125152  23.136546   \n",
       "Topic #4:   0.125187   0.125322   0.125454  0.125690  0.125105   0.125281   \n",
       "\n",
       "                zippy      zone      zoom  \n",
       "Topic #0:    0.125234  0.125127  0.125309  \n",
       "Topic #1:    0.125198  0.125140  0.125400  \n",
       "Topic #2:    0.125153  0.125176  0.125522  \n",
       "Topic #3:   27.472024  4.503975  0.125291  \n",
       "Topic #4:    0.125126  0.125155  0.125281  \n",
       "\n",
       "[5 rows x 3306 columns]"
      ]
     },
     "execution_count": 208,
     "metadata": {},
     "output_type": "execute_result"
    }
   ],
   "source": [
    "# Topic-Keyword Matrix\n",
    "df_topic_keywords = pd.DataFrame(best_lda_model.components_)\n",
    "\n",
    "# Assign Column and Index\n",
    "df_topic_keywords.columns = vectorizer.get_feature_names()\n",
    "df_topic_keywords.index = topicnames\n",
    "\n",
    "# View\n",
    "df_topic_keywords.head()"
   ]
  },
  {
   "cell_type": "markdown",
   "metadata": {},
   "source": [
    "## 14. Top 15 keywords each topic"
   ]
  },
  {
   "cell_type": "code",
   "execution_count": 209,
   "metadata": {},
   "outputs": [
    {
     "data": {
      "text/html": [
       "<div>\n",
       "<style>\n",
       "    .dataframe thead tr:only-child th {\n",
       "        text-align: right;\n",
       "    }\n",
       "\n",
       "    .dataframe thead th {\n",
       "        text-align: left;\n",
       "    }\n",
       "\n",
       "    .dataframe tbody tr th {\n",
       "        vertical-align: top;\n",
       "    }\n",
       "</style>\n",
       "<table border=\"1\" class=\"dataframe\">\n",
       "  <thead>\n",
       "    <tr style=\"text-align: right;\">\n",
       "      <th></th>\n",
       "      <th>Word 0</th>\n",
       "      <th>Word 1</th>\n",
       "      <th>Word 2</th>\n",
       "      <th>Word 3</th>\n",
       "      <th>Word 4</th>\n",
       "      <th>Word 5</th>\n",
       "      <th>Word 6</th>\n",
       "      <th>Word 7</th>\n",
       "      <th>Word 8</th>\n",
       "      <th>Word 9</th>\n",
       "      <th>Word 10</th>\n",
       "      <th>Word 11</th>\n",
       "      <th>Word 12</th>\n",
       "      <th>Word 13</th>\n",
       "      <th>Word 14</th>\n",
       "    </tr>\n",
       "  </thead>\n",
       "  <tbody>\n",
       "    <tr>\n",
       "      <th>Topic 0</th>\n",
       "      <td>class</td>\n",
       "      <td>performance</td>\n",
       "      <td>sedan</td>\n",
       "      <td>malibu</td>\n",
       "      <td>comfort</td>\n",
       "      <td>fact</td>\n",
       "      <td>perfect</td>\n",
       "      <td>fit</td>\n",
       "      <td>top</td>\n",
       "      <td>engine</td>\n",
       "      <td>chevrolet</td>\n",
       "      <td>chrysler</td>\n",
       "      <td>mid</td>\n",
       "      <td>luxury</td>\n",
       "      <td>styling</td>\n",
       "    </tr>\n",
       "    <tr>\n",
       "      <th>Topic 1</th>\n",
       "      <td>drive</td>\n",
       "      <td>comfortable</td>\n",
       "      <td>gas</td>\n",
       "      <td>look</td>\n",
       "      <td>mileage</td>\n",
       "      <td>ride</td>\n",
       "      <td>get</td>\n",
       "      <td>interior</td>\n",
       "      <td>smooth</td>\n",
       "      <td>feature</td>\n",
       "      <td>room</td>\n",
       "      <td>nice</td>\n",
       "      <td>need</td>\n",
       "      <td>seat</td>\n",
       "      <td>lot</td>\n",
       "    </tr>\n",
       "    <tr>\n",
       "      <th>Topic 2</th>\n",
       "      <td>honda</td>\n",
       "      <td>mazda</td>\n",
       "      <td>accord</td>\n",
       "      <td>drive</td>\n",
       "      <td>camry</td>\n",
       "      <td>new</td>\n",
       "      <td>civic</td>\n",
       "      <td>model</td>\n",
       "      <td>buy</td>\n",
       "      <td>toyota</td>\n",
       "      <td>look</td>\n",
       "      <td>corolla</td>\n",
       "      <td>year</td>\n",
       "      <td>get</td>\n",
       "      <td>jetta</td>\n",
       "    </tr>\n",
       "    <tr>\n",
       "      <th>Topic 3</th>\n",
       "      <td>mpg</td>\n",
       "      <td>get</td>\n",
       "      <td>highway</td>\n",
       "      <td>mile</td>\n",
       "      <td>gas</td>\n",
       "      <td>transmission</td>\n",
       "      <td>mileage</td>\n",
       "      <td>fuel</td>\n",
       "      <td>speed</td>\n",
       "      <td>city</td>\n",
       "      <td>sonata</td>\n",
       "      <td>average</td>\n",
       "      <td>hyundai</td>\n",
       "      <td>engine</td>\n",
       "      <td>drive</td>\n",
       "    </tr>\n",
       "    <tr>\n",
       "      <th>Topic 4</th>\n",
       "      <td>work</td>\n",
       "      <td>service</td>\n",
       "      <td>dealership</td>\n",
       "      <td>experience</td>\n",
       "      <td>whistle</td>\n",
       "      <td>bell</td>\n",
       "      <td>help</td>\n",
       "      <td>deal</td>\n",
       "      <td>salesman</td>\n",
       "      <td>clean</td>\n",
       "      <td>make</td>\n",
       "      <td>take</td>\n",
       "      <td>real</td>\n",
       "      <td>sale</td>\n",
       "      <td>condition</td>\n",
       "    </tr>\n",
       "    <tr>\n",
       "      <th>Topic 5</th>\n",
       "      <td>would</td>\n",
       "      <td>recommend</td>\n",
       "      <td>value</td>\n",
       "      <td>purchase</td>\n",
       "      <td>look</td>\n",
       "      <td>price</td>\n",
       "      <td>new</td>\n",
       "      <td>buy</td>\n",
       "      <td>happy</td>\n",
       "      <td>turbo</td>\n",
       "      <td>ford</td>\n",
       "      <td>reliable</td>\n",
       "      <td>make</td>\n",
       "      <td>anyone</td>\n",
       "      <td>friend</td>\n",
       "    </tr>\n",
       "    <tr>\n",
       "      <th>Topic 6</th>\n",
       "      <td>get</td>\n",
       "      <td>buy</td>\n",
       "      <td>drive</td>\n",
       "      <td>new</td>\n",
       "      <td>year</td>\n",
       "      <td>mile</td>\n",
       "      <td>would</td>\n",
       "      <td>problem</td>\n",
       "      <td>time</td>\n",
       "      <td>take</td>\n",
       "      <td>nissan</td>\n",
       "      <td>say</td>\n",
       "      <td>first</td>\n",
       "      <td>dealer</td>\n",
       "      <td>issue</td>\n",
       "    </tr>\n",
       "    <tr>\n",
       "      <th>Topic 7</th>\n",
       "      <td>seat</td>\n",
       "      <td>wheel</td>\n",
       "      <td>system</td>\n",
       "      <td>control</td>\n",
       "      <td>steering</td>\n",
       "      <td>use</td>\n",
       "      <td>driver</td>\n",
       "      <td>feel</td>\n",
       "      <td>rear</td>\n",
       "      <td>light</td>\n",
       "      <td>make</td>\n",
       "      <td>front</td>\n",
       "      <td>door</td>\n",
       "      <td>side</td>\n",
       "      <td>little</td>\n",
       "    </tr>\n",
       "  </tbody>\n",
       "</table>\n",
       "</div>"
      ],
      "text/plain": [
       "        Word 0       Word 1      Word 2      Word 3    Word 4        Word 5  \\\n",
       "Topic 0  class  performance       sedan      malibu   comfort          fact   \n",
       "Topic 1  drive  comfortable         gas        look   mileage          ride   \n",
       "Topic 2  honda        mazda      accord       drive     camry           new   \n",
       "Topic 3    mpg          get     highway        mile       gas  transmission   \n",
       "Topic 4   work      service  dealership  experience   whistle          bell   \n",
       "Topic 5  would    recommend       value    purchase      look         price   \n",
       "Topic 6    get          buy       drive         new      year          mile   \n",
       "Topic 7   seat        wheel      system     control  steering           use   \n",
       "\n",
       "          Word 6    Word 7    Word 8   Word 9    Word 10   Word 11  Word 12  \\\n",
       "Topic 0  perfect       fit       top   engine  chevrolet  chrysler      mid   \n",
       "Topic 1      get  interior    smooth  feature       room      nice     need   \n",
       "Topic 2    civic     model       buy   toyota       look   corolla     year   \n",
       "Topic 3  mileage      fuel     speed     city     sonata   average  hyundai   \n",
       "Topic 4     help      deal  salesman    clean       make      take     real   \n",
       "Topic 5      new       buy     happy    turbo       ford  reliable     make   \n",
       "Topic 6    would   problem      time     take     nissan       say    first   \n",
       "Topic 7   driver      feel      rear    light       make     front     door   \n",
       "\n",
       "        Word 13    Word 14  \n",
       "Topic 0  luxury    styling  \n",
       "Topic 1    seat        lot  \n",
       "Topic 2     get      jetta  \n",
       "Topic 3  engine      drive  \n",
       "Topic 4    sale  condition  \n",
       "Topic 5  anyone     friend  \n",
       "Topic 6  dealer      issue  \n",
       "Topic 7    side     little  "
      ]
     },
     "execution_count": 209,
     "metadata": {},
     "output_type": "execute_result"
    }
   ],
   "source": [
    "# Show top n keywords for each topic\n",
    "def show_topics(vectorizer=vectorizer, lda_model=lda_model, n_words=20):\n",
    "    keywords = np.array(vectorizer.get_feature_names())\n",
    "    topic_keywords = []\n",
    "    for topic_weights in lda_model.components_:\n",
    "        top_keyword_locs = (-topic_weights).argsort()[:n_words]\n",
    "        topic_keywords.append(keywords.take(top_keyword_locs))\n",
    "    return topic_keywords\n",
    "\n",
    "topic_keywords = show_topics(vectorizer=vectorizer, lda_model=best_lda_model, n_words=15)        \n",
    "\n",
    "# Topic - Keywords Dataframe\n",
    "df_topic_keywords = pd.DataFrame(topic_keywords)\n",
    "df_topic_keywords.columns = ['Word '+str(i) for i in range(df_topic_keywords.shape[1])]\n",
    "df_topic_keywords.index = ['Topic '+str(i) for i in range(df_topic_keywords.shape[0])]\n",
    "df_topic_keywords"
   ]
  },
  {
   "cell_type": "markdown",
   "metadata": {},
   "source": [
    "## 15. Predict the topics for a new piece of text"
   ]
  },
  {
   "cell_type": "code",
   "execution_count": 210,
   "metadata": {
    "collapsed": true
   },
   "outputs": [],
   "source": [
    "# Define function to predict topic for a given text document.\n",
    "# nlp = spacy.load('en', disable=['parser', 'ner'])\n",
    "\n",
    "def predict_topic(text):\n",
    "    #     global sent_to_words\n",
    "    global lemmatization\n",
    "    \n",
    "    # Step 1: Clean with simple_preprocess\n",
    "    mytext_2 = list(sent_to_words(text))\n",
    "\n",
    "    # Step 2: Lemmatize\n",
    "    mytext_3 = lemmatization(mytext_2, allowed_postags=['NOUN', 'ADJ', 'VERB', 'ADV'])\n",
    "\n",
    "    # Step 3: Vectorize transform\n",
    "    mytext_4 = vectorizer.transform(mytext_3)\n",
    "\n",
    "    # Step 4: LDA Transform\n",
    "    topic_probability_scores = best_lda_model.transform(mytext_4)\n",
    "    topic = df_topic_keywords.iloc[np.argmax(topic_probability_scores), :].values.tolist()\n",
    "    print('The dominant topic of the content is Topic #', np.argmax(topic_probability_scores, axis=1)[0])\n",
    "    return topic, topic_probability_scores"
   ]
  },
  {
   "cell_type": "code",
   "execution_count": 211,
   "metadata": {},
   "outputs": [
    {
     "name": "stdout",
     "output_type": "stream",
     "text": [
      "The dominant topic of the content is Topic # 1\n",
      "['drive', 'comfortable', 'gas', 'look', 'mileage', 'ride', 'get', 'interior', 'smooth', 'feature', 'room', 'nice', 'need', 'seat', 'lot']\n",
      "[[0.01389833 0.90274346 0.0138903  0.0138981  0.0138889  0.01389537\n",
      "  0.01389187 0.01389366]]\n"
     ]
    }
   ],
   "source": [
    "# Predict the topic\n",
    "mytext = [\"is perfect for me since it saves gas, is very comfortable and super easy to handle, its design I really like\"]\n",
    "topic, prob_scores = predict_topic(text = mytext)\n",
    "print(topic)\n",
    "print(prob_scores)"
   ]
  },
  {
   "cell_type": "code",
   "execution_count": 212,
   "metadata": {},
   "outputs": [
    {
     "name": "stdout",
     "output_type": "stream",
     "text": [
      "The dominant topic of the content is Topic # 7\n",
      "['seat', 'wheel', 'system', 'control', 'steering', 'use', 'driver', 'feel', 'rear', 'light', 'make', 'front', 'door', 'side', 'little']\n",
      "[[0.00833402 0.21694911 0.28918234 0.00834232 0.00835083 0.00834891\n",
      "  0.00835907 0.45213341]]\n"
     ]
    }
   ],
   "source": [
    "# Predict the topic\n",
    "mytext = [\"The new Maxima is totally a 5 star car but make sure that you get the SV or SL models. The S model is not worth it. The cloth seats are not as comfortable as the leather seats!\"]\n",
    "topic, prob_scores = predict_topic(text = mytext)\n",
    "print(topic)\n",
    "print(prob_scores)"
   ]
  },
  {
   "cell_type": "markdown",
   "metadata": {},
   "source": [
    "## 16. Cluster documents that share similar topics\n",
    "* Devise an elbow curve to select the optimal number of clusters (k)"
   ]
  },
  {
   "cell_type": "code",
   "execution_count": 213,
   "metadata": {
    "collapsed": true
   },
   "outputs": [],
   "source": [
    "# Construct the k-means clusters\n",
    "from sklearn.cluster import KMeans\n",
    "clusters = KMeans(n_clusters=8, random_state=666).fit_predict(lda_output)"
   ]
  },
  {
   "cell_type": "code",
   "execution_count": 214,
   "metadata": {},
   "outputs": [
    {
     "data": {
      "text/plain": [
       "(10821,)"
      ]
     },
     "execution_count": 214,
     "metadata": {},
     "output_type": "execute_result"
    }
   ],
   "source": [
    "clusters.shape"
   ]
  },
  {
   "cell_type": "code",
   "execution_count": 218,
   "metadata": {},
   "outputs": [],
   "source": [
    "N = range(1, 20)\n",
    "\n",
    "kmeans = [KMeans(n_clusters=i) for i in N]\n",
    "\n",
    "# kmeans"
   ]
  },
  {
   "cell_type": "code",
   "execution_count": 219,
   "metadata": {},
   "outputs": [],
   "source": [
    "score = [kmeans[i].fit(lda_output).score(lda_output) for i in range(len(kmeans))]\n",
    "\n",
    "# score"
   ]
  },
  {
   "cell_type": "code",
   "execution_count": 220,
   "metadata": {},
   "outputs": [
    {
     "data": {
      "image/png": "[encoded data removed]",
      "text/plain": [
       "<matplotlib.figure.Figure at 0x1c2cf1b908>"
      ]
     },
     "metadata": {},
     "output_type": "display_data"
    }
   ],
   "source": [
    "plt.plot(N,score)\n",
    "\n",
    "plt.xlabel('Number of Clusters')\n",
    "\n",
    "plt.ylabel('Score')\n",
    "\n",
    "plt.title('Elbow Curve')\n",
    "\n",
    "plt.show()"
   ]
  },
  {
   "cell_type": "code",
   "execution_count": null,
   "metadata": {
    "collapsed": true
   },
   "outputs": [],
   "source": []
  }
 ],
 "metadata": {
  "kernelspec": {
   "display_name": "Python 3",
   "language": "python",
   "name": "python3"
  },
  "language_info": {
   "codemirror_mode": {
    "name": "ipython",
    "version": 3
   },
   "file_extension": ".py",
   "mimetype": "text/x-python",
   "name": "python",
   "nbconvert_exporter": "python",
   "pygments_lexer": "ipython3",
   "version": "3.6.3"
  }
 },
 "nbformat": 4,
 "nbformat_minor": 2
}
