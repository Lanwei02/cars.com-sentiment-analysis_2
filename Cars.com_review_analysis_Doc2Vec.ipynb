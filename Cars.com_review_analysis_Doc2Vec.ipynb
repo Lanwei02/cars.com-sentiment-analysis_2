{
 "cells": [
  {
   "cell_type": "code",
   "execution_count": 201,
   "metadata": {},
   "outputs": [],
   "source": [
    "import pandas as pd\n",
    "import numpy as np\n",
    "\n",
    "import matplotlib.pyplot as plt\n",
    "import seaborn as sns\n",
    "from ggplot import *\n",
    "%matplotlib inline\n",
    "\n",
    "from sklearn.linear_model import LogisticRegression\n",
    "from sklearn.svm import LinearSVC\n",
    "from sklearn.ensemble import RandomForestClassifier\n",
    "\n",
    "from sklearn.metrics import accuracy_score, classification_report, confusion_matrix\n",
    "from sklearn.metrics import roc_auc_score, roc_curve, auc\n",
    "from sklearn.metrics import confusion_matrix, recall_score\n",
    "\n",
    "from sklearn.model_selection import train_test_split\n",
    "\n",
    "from sklearn.pipeline import Pipeline\n",
    "from sklearn.model_selection import GridSearchCV\n",
    "from sklearn.model_selection import KFold\n",
    "\n",
    "from tqdm import tqdm\n",
    "tqdm.pandas(desc=\"progress-bar\")\n",
    "from gensim.models import Doc2Vec\n",
    "from gensim.models.doc2vec import LabeledSentence\n",
    "import multiprocessing\n",
    "from sklearn import utils\n",
    "\n",
    "from keras.callbacks import EarlyStopping, ModelCheckpoint\n",
    "from keras.layers import Dense, Embedding, Dropout, LSTM, Flatten\n",
    "from keras.layers.convolutional import Conv1D, MaxPooling1D\n",
    "from keras.models import Sequential"
   ]
  },
  {
   "cell_type": "code",
   "execution_count": 2,
   "metadata": {
    "collapsed": true
   },
   "outputs": [],
   "source": [
    "car_review = pd.read_csv('car_review.csv', index_col=0)"
   ]
  },
  {
   "cell_type": "code",
   "execution_count": 3,
   "metadata": {},
   "outputs": [
    {
     "data": {
      "text/html": [
       "<div>\n",
       "<style>\n",
       "    .dataframe thead tr:only-child th {\n",
       "        text-align: right;\n",
       "    }\n",
       "\n",
       "    .dataframe thead th {\n",
       "        text-align: left;\n",
       "    }\n",
       "\n",
       "    .dataframe tbody tr th {\n",
       "        vertical-align: top;\n",
       "    }\n",
       "</style>\n",
       "<table border=\"1\" class=\"dataframe\">\n",
       "  <thead>\n",
       "    <tr style=\"text-align: right;\">\n",
       "      <th></th>\n",
       "      <th>Rating</th>\n",
       "      <th>Year</th>\n",
       "      <th>Review</th>\n",
       "      <th>Brand</th>\n",
       "    </tr>\n",
       "  </thead>\n",
       "  <tbody>\n",
       "    <tr>\n",
       "      <th>1</th>\n",
       "      <td>4</td>\n",
       "      <td>\\n                by JayeMaye\\n               ...</td>\n",
       "      <td>\\n                This is what I've bought Sat...</td>\n",
       "      <td>dodge-charger-2012/consumer-reviews/</td>\n",
       "    </tr>\n",
       "    <tr>\n",
       "      <th>2</th>\n",
       "      <td>5</td>\n",
       "      <td>\\n                by Female Driver\\n          ...</td>\n",
       "      <td>\\n                I just got my Special Order ...</td>\n",
       "      <td>dodge-charger-2012/consumer-reviews/</td>\n",
       "    </tr>\n",
       "    <tr>\n",
       "      <th>3</th>\n",
       "      <td>5</td>\n",
       "      <td>\\n                by New Car Buyer\\n          ...</td>\n",
       "      <td>\\n                About 2 months ago I purchas...</td>\n",
       "      <td>dodge-charger-2012/consumer-reviews/</td>\n",
       "    </tr>\n",
       "    <tr>\n",
       "      <th>4</th>\n",
       "      <td>5</td>\n",
       "      <td>\\n                by KTisaPhillyPhan\\n        ...</td>\n",
       "      <td>\\n                We bought a tungsten metalli...</td>\n",
       "      <td>dodge-charger-2012/consumer-reviews/</td>\n",
       "    </tr>\n",
       "    <tr>\n",
       "      <th>5</th>\n",
       "      <td>5</td>\n",
       "      <td>\\n                by I&lt;3DODGE\\n               ...</td>\n",
       "      <td>\\n                I have a 2012 Dodge Charger ...</td>\n",
       "      <td>dodge-charger-2012/consumer-reviews/</td>\n",
       "    </tr>\n",
       "  </tbody>\n",
       "</table>\n",
       "</div>"
      ],
      "text/plain": [
       "   Rating                                               Year  \\\n",
       "1       4  \\n                by JayeMaye\\n               ...   \n",
       "2       5  \\n                by Female Driver\\n          ...   \n",
       "3       5  \\n                by New Car Buyer\\n          ...   \n",
       "4       5  \\n                by KTisaPhillyPhan\\n        ...   \n",
       "5       5  \\n                by I<3DODGE\\n               ...   \n",
       "\n",
       "                                              Review  \\\n",
       "1  \\n                This is what I've bought Sat...   \n",
       "2  \\n                I just got my Special Order ...   \n",
       "3  \\n                About 2 months ago I purchas...   \n",
       "4  \\n                We bought a tungsten metalli...   \n",
       "5  \\n                I have a 2012 Dodge Charger ...   \n",
       "\n",
       "                                  Brand  \n",
       "1  dodge-charger-2012/consumer-reviews/  \n",
       "2  dodge-charger-2012/consumer-reviews/  \n",
       "3  dodge-charger-2012/consumer-reviews/  \n",
       "4  dodge-charger-2012/consumer-reviews/  \n",
       "5  dodge-charger-2012/consumer-reviews/  "
      ]
     },
     "execution_count": 3,
     "metadata": {},
     "output_type": "execute_result"
    }
   ],
   "source": [
    "car_review.head()"
   ]
  },
  {
   "cell_type": "code",
   "execution_count": 4,
   "metadata": {},
   "outputs": [
    {
     "data": {
      "text/plain": [
       "5    14704\n",
       "4     3211\n",
       "3      730\n",
       "2      313\n",
       "1      284\n",
       "Name: Rating, dtype: int64"
      ]
     },
     "execution_count": 4,
     "metadata": {},
     "output_type": "execute_result"
    }
   ],
   "source": [
    "car_review.Rating.value_counts()"
   ]
  },
  {
   "cell_type": "code",
   "execution_count": 5,
   "metadata": {},
   "outputs": [
    {
     "data": {
      "image/png": "[encoded data removed]",
      "text/plain": [
       "<matplotlib.figure.Figure at 0x1c0f2dbe10>"
      ]
     },
     "metadata": {},
     "output_type": "display_data"
    }
   ],
   "source": [
    "car_review.Rating.value_counts(sort=False).plot(kind = 'bar')\n",
    "plt.show()"
   ]
  },
  {
   "cell_type": "markdown",
   "metadata": {},
   "source": [
    "* Reviews are skewed towards positive"
   ]
  },
  {
   "cell_type": "markdown",
   "metadata": {},
   "source": [
    "# Cleaning data and retrive features"
   ]
  },
  {
   "cell_type": "markdown",
   "metadata": {},
   "source": [
    "### Car"
   ]
  },
  {
   "cell_type": "code",
   "execution_count": 6,
   "metadata": {
    "collapsed": true
   },
   "outputs": [],
   "source": [
    "car_review['Car'] = car_review.Brand.map(lambda x: x.split('/')[0])\n",
    "car_review['Car_Year'] = car_review['Car'].map(lambda x: x.split('-')[-1])\n",
    "car_review['Car_test'] = car_review['Car'].map(lambda x: x.split('-')[:-1])\n",
    "car_review['Car_Make'] = car_review['Car_test'].map(lambda x: x[0])\n",
    "car_review['Car_Model'] = car_review['Car_test'].map(lambda x: x[-1])"
   ]
  },
  {
   "cell_type": "code",
   "execution_count": 7,
   "metadata": {
    "collapsed": true
   },
   "outputs": [],
   "source": [
    "car_review.drop(['Car_test'], axis=1, inplace=True)"
   ]
  },
  {
   "cell_type": "code",
   "execution_count": 8,
   "metadata": {},
   "outputs": [
    {
     "data": {
      "text/html": [
       "<div>\n",
       "<style>\n",
       "    .dataframe thead tr:only-child th {\n",
       "        text-align: right;\n",
       "    }\n",
       "\n",
       "    .dataframe thead th {\n",
       "        text-align: left;\n",
       "    }\n",
       "\n",
       "    .dataframe tbody tr th {\n",
       "        vertical-align: top;\n",
       "    }\n",
       "</style>\n",
       "<table border=\"1\" class=\"dataframe\">\n",
       "  <thead>\n",
       "    <tr style=\"text-align: right;\">\n",
       "      <th></th>\n",
       "      <th>Rating</th>\n",
       "      <th>Year</th>\n",
       "      <th>Review</th>\n",
       "      <th>Brand</th>\n",
       "      <th>Car</th>\n",
       "      <th>Car_Year</th>\n",
       "      <th>Car_Make</th>\n",
       "      <th>Car_Model</th>\n",
       "    </tr>\n",
       "  </thead>\n",
       "  <tbody>\n",
       "    <tr>\n",
       "      <th>1</th>\n",
       "      <td>4</td>\n",
       "      <td>\\n                by JayeMaye\\n               ...</td>\n",
       "      <td>\\n                This is what I've bought Sat...</td>\n",
       "      <td>dodge-charger-2012/consumer-reviews/</td>\n",
       "      <td>dodge-charger-2012</td>\n",
       "      <td>2012</td>\n",
       "      <td>dodge</td>\n",
       "      <td>charger</td>\n",
       "    </tr>\n",
       "    <tr>\n",
       "      <th>2</th>\n",
       "      <td>5</td>\n",
       "      <td>\\n                by Female Driver\\n          ...</td>\n",
       "      <td>\\n                I just got my Special Order ...</td>\n",
       "      <td>dodge-charger-2012/consumer-reviews/</td>\n",
       "      <td>dodge-charger-2012</td>\n",
       "      <td>2012</td>\n",
       "      <td>dodge</td>\n",
       "      <td>charger</td>\n",
       "    </tr>\n",
       "    <tr>\n",
       "      <th>3</th>\n",
       "      <td>5</td>\n",
       "      <td>\\n                by New Car Buyer\\n          ...</td>\n",
       "      <td>\\n                About 2 months ago I purchas...</td>\n",
       "      <td>dodge-charger-2012/consumer-reviews/</td>\n",
       "      <td>dodge-charger-2012</td>\n",
       "      <td>2012</td>\n",
       "      <td>dodge</td>\n",
       "      <td>charger</td>\n",
       "    </tr>\n",
       "    <tr>\n",
       "      <th>4</th>\n",
       "      <td>5</td>\n",
       "      <td>\\n                by KTisaPhillyPhan\\n        ...</td>\n",
       "      <td>\\n                We bought a tungsten metalli...</td>\n",
       "      <td>dodge-charger-2012/consumer-reviews/</td>\n",
       "      <td>dodge-charger-2012</td>\n",
       "      <td>2012</td>\n",
       "      <td>dodge</td>\n",
       "      <td>charger</td>\n",
       "    </tr>\n",
       "    <tr>\n",
       "      <th>5</th>\n",
       "      <td>5</td>\n",
       "      <td>\\n                by I&lt;3DODGE\\n               ...</td>\n",
       "      <td>\\n                I have a 2012 Dodge Charger ...</td>\n",
       "      <td>dodge-charger-2012/consumer-reviews/</td>\n",
       "      <td>dodge-charger-2012</td>\n",
       "      <td>2012</td>\n",
       "      <td>dodge</td>\n",
       "      <td>charger</td>\n",
       "    </tr>\n",
       "  </tbody>\n",
       "</table>\n",
       "</div>"
      ],
      "text/plain": [
       "   Rating                                               Year  \\\n",
       "1       4  \\n                by JayeMaye\\n               ...   \n",
       "2       5  \\n                by Female Driver\\n          ...   \n",
       "3       5  \\n                by New Car Buyer\\n          ...   \n",
       "4       5  \\n                by KTisaPhillyPhan\\n        ...   \n",
       "5       5  \\n                by I<3DODGE\\n               ...   \n",
       "\n",
       "                                              Review  \\\n",
       "1  \\n                This is what I've bought Sat...   \n",
       "2  \\n                I just got my Special Order ...   \n",
       "3  \\n                About 2 months ago I purchas...   \n",
       "4  \\n                We bought a tungsten metalli...   \n",
       "5  \\n                I have a 2012 Dodge Charger ...   \n",
       "\n",
       "                                  Brand                 Car Car_Year Car_Make  \\\n",
       "1  dodge-charger-2012/consumer-reviews/  dodge-charger-2012     2012    dodge   \n",
       "2  dodge-charger-2012/consumer-reviews/  dodge-charger-2012     2012    dodge   \n",
       "3  dodge-charger-2012/consumer-reviews/  dodge-charger-2012     2012    dodge   \n",
       "4  dodge-charger-2012/consumer-reviews/  dodge-charger-2012     2012    dodge   \n",
       "5  dodge-charger-2012/consumer-reviews/  dodge-charger-2012     2012    dodge   \n",
       "\n",
       "  Car_Model  \n",
       "1   charger  \n",
       "2   charger  \n",
       "3   charger  \n",
       "4   charger  \n",
       "5   charger  "
      ]
     },
     "execution_count": 8,
     "metadata": {},
     "output_type": "execute_result"
    }
   ],
   "source": [
    "car_review.head()"
   ]
  },
  {
   "cell_type": "markdown",
   "metadata": {},
   "source": [
    "### Reviews"
   ]
  },
  {
   "cell_type": "code",
   "execution_count": 9,
   "metadata": {
    "collapsed": true
   },
   "outputs": [],
   "source": [
    "car_review['Review'] = car_review['Review'].map(lambda x: x.rstrip().lstrip())"
   ]
  },
  {
   "cell_type": "code",
   "execution_count": 10,
   "metadata": {},
   "outputs": [
    {
     "data": {
      "text/plain": [
       "1    This is what I've bought Saturday:\\n2012 Dodge...\n",
       "2    I just got my Special Order wiith my name on w...\n",
       "3    About 2 months ago I purchased a new Dodge Cha...\n",
       "4    We bought a tungsten metallic SXT-Plus Charger...\n",
       "5    I have a 2012 Dodge Charger R/T Plus AWD in re...\n",
       "Name: Review, dtype: object"
      ]
     },
     "execution_count": 10,
     "metadata": {},
     "output_type": "execute_result"
    }
   ],
   "source": [
    "car_review['Review'].head()"
   ]
  },
  {
   "cell_type": "markdown",
   "metadata": {},
   "source": [
    "### Date"
   ]
  },
  {
   "cell_type": "code",
   "execution_count": 11,
   "metadata": {
    "collapsed": true
   },
   "outputs": [],
   "source": [
    "from datetime import datetime"
   ]
  },
  {
   "cell_type": "code",
   "execution_count": 12,
   "metadata": {
    "collapsed": true
   },
   "outputs": [],
   "source": [
    "car_review['Review_Date'] = car_review['Year'].map(lambda x: \n",
    "                                                   datetime.strptime(x.split('\\n')[-2].split('on')[-1].lstrip(), '%B %d, %Y'))\n",
    "car_review['Review_Year'] = car_review['Review_Date'].map(lambda x: x.year)\n",
    "car_review['Review_Month'] = car_review['Review_Date'].map(lambda x: x.month)\n",
    "car_review['Review_Day'] = car_review['Review_Date'].map(lambda x: x.day)"
   ]
  },
  {
   "cell_type": "code",
   "execution_count": 13,
   "metadata": {},
   "outputs": [
    {
     "data": {
      "text/html": [
       "<div>\n",
       "<style>\n",
       "    .dataframe thead tr:only-child th {\n",
       "        text-align: right;\n",
       "    }\n",
       "\n",
       "    .dataframe thead th {\n",
       "        text-align: left;\n",
       "    }\n",
       "\n",
       "    .dataframe tbody tr th {\n",
       "        vertical-align: top;\n",
       "    }\n",
       "</style>\n",
       "<table border=\"1\" class=\"dataframe\">\n",
       "  <thead>\n",
       "    <tr style=\"text-align: right;\">\n",
       "      <th></th>\n",
       "      <th>Review_Date</th>\n",
       "      <th>Review_Year</th>\n",
       "      <th>Review_Month</th>\n",
       "      <th>Review_Day</th>\n",
       "    </tr>\n",
       "  </thead>\n",
       "  <tbody>\n",
       "    <tr>\n",
       "      <th>1</th>\n",
       "      <td>2012-05-02</td>\n",
       "      <td>2012</td>\n",
       "      <td>5</td>\n",
       "      <td>2</td>\n",
       "    </tr>\n",
       "    <tr>\n",
       "      <th>2</th>\n",
       "      <td>2012-06-14</td>\n",
       "      <td>2012</td>\n",
       "      <td>6</td>\n",
       "      <td>14</td>\n",
       "    </tr>\n",
       "    <tr>\n",
       "      <th>3</th>\n",
       "      <td>2012-06-29</td>\n",
       "      <td>2012</td>\n",
       "      <td>6</td>\n",
       "      <td>29</td>\n",
       "    </tr>\n",
       "    <tr>\n",
       "      <th>4</th>\n",
       "      <td>2012-05-08</td>\n",
       "      <td>2012</td>\n",
       "      <td>5</td>\n",
       "      <td>8</td>\n",
       "    </tr>\n",
       "    <tr>\n",
       "      <th>5</th>\n",
       "      <td>2012-03-19</td>\n",
       "      <td>2012</td>\n",
       "      <td>3</td>\n",
       "      <td>19</td>\n",
       "    </tr>\n",
       "  </tbody>\n",
       "</table>\n",
       "</div>"
      ],
      "text/plain": [
       "  Review_Date  Review_Year  Review_Month  Review_Day\n",
       "1  2012-05-02         2012             5           2\n",
       "2  2012-06-14         2012             6          14\n",
       "3  2012-06-29         2012             6          29\n",
       "4  2012-05-08         2012             5           8\n",
       "5  2012-03-19         2012             3          19"
      ]
     },
     "execution_count": 13,
     "metadata": {},
     "output_type": "execute_result"
    }
   ],
   "source": [
    "car_review[['Review_Date', 'Review_Year', 'Review_Month', 'Review_Day']].head()"
   ]
  },
  {
   "cell_type": "markdown",
   "metadata": {},
   "source": [
    "### Car Age"
   ]
  },
  {
   "cell_type": "code",
   "execution_count": 14,
   "metadata": {},
   "outputs": [
    {
     "data": {
      "text/plain": [
       "2012"
      ]
     },
     "execution_count": 14,
     "metadata": {},
     "output_type": "execute_result"
    }
   ],
   "source": [
    "int(car_review['Car_Year'][1])"
   ]
  },
  {
   "cell_type": "code",
   "execution_count": 15,
   "metadata": {
    "collapsed": true
   },
   "outputs": [],
   "source": [
    "car_review['Car_Age'] = car_review['Review_Year'].map(lambda x: int(x))-car_review['Car_Year'].map(lambda x: int(x))"
   ]
  },
  {
   "cell_type": "code",
   "execution_count": 16,
   "metadata": {
    "collapsed": true
   },
   "outputs": [],
   "source": [
    "car_review['Car_Age'] = car_review['Car_Age'].map(lambda x: 0 if x==-1 else x)"
   ]
  },
  {
   "cell_type": "code",
   "execution_count": 17,
   "metadata": {},
   "outputs": [
    {
     "data": {
      "text/plain": [
       "-0.07932111336293686"
      ]
     },
     "execution_count": 17,
     "metadata": {},
     "output_type": "execute_result"
    }
   ],
   "source": [
    "car_review['Car_Age'].corr(car_review['Rating'])"
   ]
  },
  {
   "cell_type": "markdown",
   "metadata": {},
   "source": [
    "There is a negative correlation between car age and rating which means that people will give newer car higher rating."
   ]
  },
  {
   "cell_type": "markdown",
   "metadata": {},
   "source": [
    "### Remove duplicate review\n",
    "* There are some duplicate reviews in the dataset"
   ]
  },
  {
   "cell_type": "code",
   "execution_count": 18,
   "metadata": {},
   "outputs": [
    {
     "data": {
      "text/plain": [
       "(19242, 13)"
      ]
     },
     "execution_count": 18,
     "metadata": {},
     "output_type": "execute_result"
    }
   ],
   "source": [
    "car_review.shape"
   ]
  },
  {
   "cell_type": "code",
   "execution_count": 19,
   "metadata": {},
   "outputs": [
    {
     "data": {
      "text/plain": [
       "10821"
      ]
     },
     "execution_count": 19,
     "metadata": {},
     "output_type": "execute_result"
    }
   ],
   "source": [
    "car_review.Review.nunique()"
   ]
  },
  {
   "cell_type": "code",
   "execution_count": 20,
   "metadata": {},
   "outputs": [
    {
     "data": {
      "text/plain": [
       "A solid compact sedan. I owned a Civic years ago, and I like the emergency brake redesign. The gas cap is gone, and the lid over the gas fill intake locks when the doors lock, and unlocks when the doors unlock. This makes a lot of sense.    52\n",
       "I am very happy with my purchase. No buyers remorse at all. Fast, fun, reliable and comfortable! Would highly recommend this car to anyone. You will not find more bang for you buck.                                                            52\n",
       "This is my first new car and I am happy with the comfort and look of the car.  The Civic Hatchback is great to handle and the technical aspects of the car are easy to understand.                                                               50\n",
       "This car is great for you to travel with or just go out on the town with friends. This car feels great when you drive it around. The gas mileage is great also. I feel safe driving it.                                                          50\n",
       "Excellent car. Excellent performance and very stylish. Handles excellent on the road. When you need the power this car has it with no problem.                                                                                                   50\n",
       "Name: Review, dtype: int64"
      ]
     },
     "execution_count": 20,
     "metadata": {},
     "output_type": "execute_result"
    }
   ],
   "source": [
    "car_review.Review.value_counts().head(5)"
   ]
  },
  {
   "cell_type": "code",
   "execution_count": 21,
   "metadata": {
    "collapsed": true
   },
   "outputs": [],
   "source": [
    "car_review=car_review.drop_duplicates(subset=['Review'])"
   ]
  },
  {
   "cell_type": "code",
   "execution_count": 22,
   "metadata": {},
   "outputs": [
    {
     "name": "stdout",
     "output_type": "stream",
     "text": [
      "Number of unique reviews:  10821\n",
      "Shape of the dataset:  (10821, 13)\n"
     ]
    }
   ],
   "source": [
    "print('Number of unique reviews: ', car_review.Review.nunique())\n",
    "print('Shape of the dataset: ', car_review.shape)"
   ]
  },
  {
   "cell_type": "code",
   "execution_count": 23,
   "metadata": {},
   "outputs": [
    {
     "data": {
      "text/html": [
       "<div>\n",
       "<style>\n",
       "    .dataframe thead tr:only-child th {\n",
       "        text-align: right;\n",
       "    }\n",
       "\n",
       "    .dataframe thead th {\n",
       "        text-align: left;\n",
       "    }\n",
       "\n",
       "    .dataframe tbody tr th {\n",
       "        vertical-align: top;\n",
       "    }\n",
       "</style>\n",
       "<table border=\"1\" class=\"dataframe\">\n",
       "  <thead>\n",
       "    <tr style=\"text-align: right;\">\n",
       "      <th></th>\n",
       "      <th>Rating</th>\n",
       "      <th>Year</th>\n",
       "      <th>Review</th>\n",
       "      <th>Brand</th>\n",
       "      <th>Car</th>\n",
       "      <th>Car_Year</th>\n",
       "      <th>Car_Make</th>\n",
       "      <th>Car_Model</th>\n",
       "      <th>Review_Date</th>\n",
       "      <th>Review_Year</th>\n",
       "      <th>Review_Month</th>\n",
       "      <th>Review_Day</th>\n",
       "      <th>Car_Age</th>\n",
       "    </tr>\n",
       "  </thead>\n",
       "  <tbody>\n",
       "    <tr>\n",
       "      <th>1</th>\n",
       "      <td>4</td>\n",
       "      <td>\\n                by JayeMaye\\n               ...</td>\n",
       "      <td>This is what I've bought Saturday:\\n2012 Dodge...</td>\n",
       "      <td>dodge-charger-2012/consumer-reviews/</td>\n",
       "      <td>dodge-charger-2012</td>\n",
       "      <td>2012</td>\n",
       "      <td>dodge</td>\n",
       "      <td>charger</td>\n",
       "      <td>2012-05-02</td>\n",
       "      <td>2012</td>\n",
       "      <td>5</td>\n",
       "      <td>2</td>\n",
       "      <td>0</td>\n",
       "    </tr>\n",
       "    <tr>\n",
       "      <th>2</th>\n",
       "      <td>5</td>\n",
       "      <td>\\n                by Female Driver\\n          ...</td>\n",
       "      <td>I just got my Special Order wiith my name on w...</td>\n",
       "      <td>dodge-charger-2012/consumer-reviews/</td>\n",
       "      <td>dodge-charger-2012</td>\n",
       "      <td>2012</td>\n",
       "      <td>dodge</td>\n",
       "      <td>charger</td>\n",
       "      <td>2012-06-14</td>\n",
       "      <td>2012</td>\n",
       "      <td>6</td>\n",
       "      <td>14</td>\n",
       "      <td>0</td>\n",
       "    </tr>\n",
       "    <tr>\n",
       "      <th>3</th>\n",
       "      <td>5</td>\n",
       "      <td>\\n                by New Car Buyer\\n          ...</td>\n",
       "      <td>About 2 months ago I purchased a new Dodge Cha...</td>\n",
       "      <td>dodge-charger-2012/consumer-reviews/</td>\n",
       "      <td>dodge-charger-2012</td>\n",
       "      <td>2012</td>\n",
       "      <td>dodge</td>\n",
       "      <td>charger</td>\n",
       "      <td>2012-06-29</td>\n",
       "      <td>2012</td>\n",
       "      <td>6</td>\n",
       "      <td>29</td>\n",
       "      <td>0</td>\n",
       "    </tr>\n",
       "    <tr>\n",
       "      <th>4</th>\n",
       "      <td>5</td>\n",
       "      <td>\\n                by KTisaPhillyPhan\\n        ...</td>\n",
       "      <td>We bought a tungsten metallic SXT-Plus Charger...</td>\n",
       "      <td>dodge-charger-2012/consumer-reviews/</td>\n",
       "      <td>dodge-charger-2012</td>\n",
       "      <td>2012</td>\n",
       "      <td>dodge</td>\n",
       "      <td>charger</td>\n",
       "      <td>2012-05-08</td>\n",
       "      <td>2012</td>\n",
       "      <td>5</td>\n",
       "      <td>8</td>\n",
       "      <td>0</td>\n",
       "    </tr>\n",
       "    <tr>\n",
       "      <th>5</th>\n",
       "      <td>5</td>\n",
       "      <td>\\n                by I&lt;3DODGE\\n               ...</td>\n",
       "      <td>I have a 2012 Dodge Charger R/T Plus AWD in re...</td>\n",
       "      <td>dodge-charger-2012/consumer-reviews/</td>\n",
       "      <td>dodge-charger-2012</td>\n",
       "      <td>2012</td>\n",
       "      <td>dodge</td>\n",
       "      <td>charger</td>\n",
       "      <td>2012-03-19</td>\n",
       "      <td>2012</td>\n",
       "      <td>3</td>\n",
       "      <td>19</td>\n",
       "      <td>0</td>\n",
       "    </tr>\n",
       "  </tbody>\n",
       "</table>\n",
       "</div>"
      ],
      "text/plain": [
       "   Rating                                               Year  \\\n",
       "1       4  \\n                by JayeMaye\\n               ...   \n",
       "2       5  \\n                by Female Driver\\n          ...   \n",
       "3       5  \\n                by New Car Buyer\\n          ...   \n",
       "4       5  \\n                by KTisaPhillyPhan\\n        ...   \n",
       "5       5  \\n                by I<3DODGE\\n               ...   \n",
       "\n",
       "                                              Review  \\\n",
       "1  This is what I've bought Saturday:\\n2012 Dodge...   \n",
       "2  I just got my Special Order wiith my name on w...   \n",
       "3  About 2 months ago I purchased a new Dodge Cha...   \n",
       "4  We bought a tungsten metallic SXT-Plus Charger...   \n",
       "5  I have a 2012 Dodge Charger R/T Plus AWD in re...   \n",
       "\n",
       "                                  Brand                 Car Car_Year Car_Make  \\\n",
       "1  dodge-charger-2012/consumer-reviews/  dodge-charger-2012     2012    dodge   \n",
       "2  dodge-charger-2012/consumer-reviews/  dodge-charger-2012     2012    dodge   \n",
       "3  dodge-charger-2012/consumer-reviews/  dodge-charger-2012     2012    dodge   \n",
       "4  dodge-charger-2012/consumer-reviews/  dodge-charger-2012     2012    dodge   \n",
       "5  dodge-charger-2012/consumer-reviews/  dodge-charger-2012     2012    dodge   \n",
       "\n",
       "  Car_Model Review_Date  Review_Year  Review_Month  Review_Day  Car_Age  \n",
       "1   charger  2012-05-02         2012             5           2        0  \n",
       "2   charger  2012-06-14         2012             6          14        0  \n",
       "3   charger  2012-06-29         2012             6          29        0  \n",
       "4   charger  2012-05-08         2012             5           8        0  \n",
       "5   charger  2012-03-19         2012             3          19        0  "
      ]
     },
     "execution_count": 23,
     "metadata": {},
     "output_type": "execute_result"
    }
   ],
   "source": [
    "car_review.head()"
   ]
  },
  {
   "cell_type": "code",
   "execution_count": 24,
   "metadata": {},
   "outputs": [
    {
     "data": {
      "text/plain": [
       "5    7815\n",
       "4    1943\n",
       "3     538\n",
       "2     273\n",
       "1     252\n",
       "Name: Rating, dtype: int64"
      ]
     },
     "execution_count": 24,
     "metadata": {},
     "output_type": "execute_result"
    }
   ],
   "source": [
    "car_review.Rating.value_counts()"
   ]
  },
  {
   "cell_type": "code",
   "execution_count": 25,
   "metadata": {},
   "outputs": [
    {
     "data": {
      "image/png": "[encoded data removed]",
      "text/plain": [
       "<matplotlib.figure.Figure at 0x1c120cb828>"
      ]
     },
     "metadata": {},
     "output_type": "display_data"
    }
   ],
   "source": [
    "car_review.Rating.value_counts(sort=False).plot(kind = 'bar')\n",
    "plt.show()"
   ]
  },
  {
   "cell_type": "code",
   "execution_count": 26,
   "metadata": {},
   "outputs": [
    {
     "data": {
      "text/html": [
       "<div>\n",
       "<style>\n",
       "    .dataframe thead tr:only-child th {\n",
       "        text-align: right;\n",
       "    }\n",
       "\n",
       "    .dataframe thead th {\n",
       "        text-align: left;\n",
       "    }\n",
       "\n",
       "    .dataframe tbody tr th {\n",
       "        vertical-align: top;\n",
       "    }\n",
       "</style>\n",
       "<table border=\"1\" class=\"dataframe\">\n",
       "  <thead>\n",
       "    <tr style=\"text-align: right;\">\n",
       "      <th>col_0</th>\n",
       "      <th>count</th>\n",
       "    </tr>\n",
       "    <tr>\n",
       "      <th>Rating</th>\n",
       "      <th></th>\n",
       "    </tr>\n",
       "  </thead>\n",
       "  <tbody>\n",
       "    <tr>\n",
       "      <th>1</th>\n",
       "      <td>0.023288</td>\n",
       "    </tr>\n",
       "    <tr>\n",
       "      <th>2</th>\n",
       "      <td>0.025229</td>\n",
       "    </tr>\n",
       "    <tr>\n",
       "      <th>3</th>\n",
       "      <td>0.049718</td>\n",
       "    </tr>\n",
       "    <tr>\n",
       "      <th>4</th>\n",
       "      <td>0.179558</td>\n",
       "    </tr>\n",
       "    <tr>\n",
       "      <th>5</th>\n",
       "      <td>0.722207</td>\n",
       "    </tr>\n",
       "  </tbody>\n",
       "</table>\n",
       "</div>"
      ],
      "text/plain": [
       "col_0      count\n",
       "Rating          \n",
       "1       0.023288\n",
       "2       0.025229\n",
       "3       0.049718\n",
       "4       0.179558\n",
       "5       0.722207"
      ]
     },
     "execution_count": 26,
     "metadata": {},
     "output_type": "execute_result"
    }
   ],
   "source": [
    "pd.crosstab(index=car_review.Rating, columns=\"count\")/pd.crosstab(index=car_review.Rating, columns=\"count\").sum()"
   ]
  },
  {
   "cell_type": "markdown",
   "metadata": {},
   "source": [
    "### Create positive & negative tag "
   ]
  },
  {
   "cell_type": "code",
   "execution_count": 27,
   "metadata": {},
   "outputs": [],
   "source": [
    "car_review['tag'] = car_review['Rating'].map(lambda x:0 if x==5 else 1)"
   ]
  },
  {
   "cell_type": "code",
   "execution_count": 28,
   "metadata": {},
   "outputs": [
    {
     "data": {
      "text/plain": [
       "0    7815\n",
       "1    3006\n",
       "Name: tag, dtype: int64"
      ]
     },
     "execution_count": 28,
     "metadata": {},
     "output_type": "execute_result"
    }
   ],
   "source": [
    "car_review['tag'].value_counts(sort=False)"
   ]
  },
  {
   "cell_type": "markdown",
   "metadata": {},
   "source": [
    "* I tag the reviews that the users not fully satisfied with the car.\n",
    "#### 1: negative;\n",
    "#### 0: positive."
   ]
  },
  {
   "cell_type": "markdown",
   "metadata": {},
   "source": [
    "# Split the data set"
   ]
  },
  {
   "cell_type": "code",
   "execution_count": 126,
   "metadata": {
    "collapsed": true
   },
   "outputs": [],
   "source": [
    "from sklearn.model_selection import train_test_split"
   ]
  },
  {
   "cell_type": "code",
   "execution_count": 127,
   "metadata": {
    "collapsed": true
   },
   "outputs": [],
   "source": [
    "x = car_review.Review\n",
    "y = car_review.tag\n",
    "Xtrain, Xtest, ytrain, ytest = train_test_split(x, y, random_state=10, test_size=0.2)"
   ]
  },
  {
   "cell_type": "markdown",
   "metadata": {},
   "source": [
    "## Doc2Vec"
   ]
  },
  {
   "cell_type": "code",
   "execution_count": 114,
   "metadata": {
    "collapsed": true
   },
   "outputs": [],
   "source": [
    "size = 100"
   ]
  },
  {
   "cell_type": "code",
   "execution_count": 110,
   "metadata": {
    "collapsed": true
   },
   "outputs": [],
   "source": [
    "def labelized_object(sentences,label):\n",
    "    result = []\n",
    "    prefix = label\n",
    "    for i, t in zip(sentences.index, sentences):\n",
    "        result.append(LabeledSentence(t.split(), [prefix + '_%s' % i]))\n",
    "    return result"
   ]
  },
  {
   "cell_type": "code",
   "execution_count": 117,
   "metadata": {
    "collapsed": true
   },
   "outputs": [],
   "source": [
    "def get_vectors(model, corpus, size=100):\n",
    "    vecs = np.zeros((len(corpus), size))\n",
    "    n = 0\n",
    "    for i in corpus.index:\n",
    "        prefix = 'all_' + str(i)\n",
    "        vecs[n] = model.docvecs[prefix]\n",
    "        n += 1\n",
    "    return vecs"
   ]
  },
  {
   "cell_type": "code",
   "execution_count": 111,
   "metadata": {},
   "outputs": [
    {
     "name": "stderr",
     "output_type": "stream",
     "text": [
      "/Users/lana/anaconda3/lib/python3.6/site-packages/ipykernel_launcher.py:5: DeprecationWarning: Call to deprecated `LabeledSentence` (Class will be removed in 4.0.0, use TaggedDocument instead).\n",
      "  \"\"\"\n"
     ]
    }
   ],
   "source": [
    "x_w2v = labelized_object(x, 'all')"
   ]
  },
  {
   "cell_type": "code",
   "execution_count": 296,
   "metadata": {
    "collapsed": true
   },
   "outputs": [],
   "source": [
    "#### concat two models   \n",
    "def get_concat_vectors(model1,model2, corpus, size=200):\n",
    "    vecs = np.zeros((len(corpus), size))\n",
    "    n = 0\n",
    "    for i in corpus.index:\n",
    "        prefix = 'all_' + str(i)\n",
    "        vecs[n] = np.append(model1.docvecs[prefix],model2.docvecs[prefix])\n",
    "        n += 1\n",
    "    return vecs"
   ]
  },
  {
   "cell_type": "markdown",
   "metadata": {},
   "source": [
    "* Other methods"
   ]
  },
  {
   "cell_type": "code",
   "execution_count": 295,
   "metadata": {
    "collapsed": true
   },
   "outputs": [],
   "source": [
    "def grid(parameters, model, train_x, train_y):\n",
    "    \n",
    "    kfold = KFold(n_splits=3, random_state=10)\n",
    "    gs = GridSearchCV(model, parameters, cv=kfold, scoring= 'recall')\n",
    "    \n",
    "    print(\"Performing grid search...\")\n",
    "    t0 = time()\n",
    "    gs.fit(train_x, train_y)\n",
    "    t1 = time() \n",
    "    print(\"Done in %0.3fs\" % (t1 - t0))\n",
    "    \n",
    "    print(\"Best recall: %0.3f\" % gs.best_score_)\n",
    "    print(\"Best parameters:\")\n",
    "    best_parameters = gs.best_estimator_.get_params()\n",
    "    print(best_parameters)\n",
    "    \n",
    "\n",
    "def model(model, trainx, trainy, testx, testy):\n",
    "    model = model.fit(trainx, trainy)\n",
    "    predict = model.predict(testx)\n",
    "    \n",
    "    fpr_train, tpr_train,_=roc_curve(trainy, model.predict(trainx))\n",
    "    auc_train=auc(fpr_train, tpr_train)\n",
    "    \n",
    "    fpr_test, tpr_test,_=roc_curve(testy, predict)\n",
    "    auc_test=auc(fpr_test, tpr_test)\n",
    "    \n",
    "    print('AUC(Train): {:.4f}'.format(auc_train))\n",
    "    print('AUC(Test):  {:.4f}'.format(auc_test))\n",
    "    print (\"TRAIN Accuracy:   %0.3f\" % accuracy_score(trainy, model.predict(trainx)))\n",
    "    print (\"TEST Accuracy:   %0.3f\" % accuracy_score(testy, predict))\n",
    "    \n",
    "    cm = confusion_matrix(testy, predict, labels = [0, 1])\n",
    "    print('Confusion matrix, without normalization:')\n",
    "    print(cm)\n",
    "    print(\"Normalized confusion matrix:\")\n",
    "    print(cm.astype('float') / cm.sum(axis=1)[:, np.newaxis])\n",
    "    print(classification_report(testy,predict))"
   ]
  },
  {
   "cell_type": "markdown",
   "metadata": {},
   "source": [
    "### 1. DBOW"
   ]
  },
  {
   "cell_type": "code",
   "execution_count": 118,
   "metadata": {},
   "outputs": [
    {
     "name": "stderr",
     "output_type": "stream",
     "text": [
      "/Users/lana/anaconda3/lib/python3.6/site-packages/gensim/models/doc2vec.py:570: UserWarning: The parameter `size` is deprecated, will be removed in 4.0.0, use `vector_size` instead.\n",
      "  warnings.warn(\"The parameter `size` is deprecated, will be removed in 4.0.0, use `vector_size` instead.\")\n",
      "100%|██████████| 10821/10821 [00:00<00:00, 2306813.91it/s]\n"
     ]
    }
   ],
   "source": [
    "cores = multiprocessing.cpu_count()\n",
    "model_dbow = Doc2Vec(dm=0, size=size, negative=5, min_count=2,\n",
    "                        workers=cores, alpha=0.065, min_alpha=0.065)\n",
    "model_dbow.build_vocab([x for x in tqdm(x_w2v)])"
   ]
  },
  {
   "cell_type": "code",
   "execution_count": 119,
   "metadata": {},
   "outputs": [
    {
     "name": "stderr",
     "output_type": "stream",
     "text": [
      "100%|██████████| 10821/10821 [00:00<00:00, 1860257.55it/s]\n",
      "100%|██████████| 10821/10821 [00:00<00:00, 2385126.05it/s]\n",
      "100%|██████████| 10821/10821 [00:00<00:00, 2306227.82it/s]\n",
      "100%|██████████| 10821/10821 [00:00<00:00, 2534712.59it/s]\n",
      "100%|██████████| 10821/10821 [00:00<00:00, 1855466.40it/s]\n",
      "100%|██████████| 10821/10821 [00:00<00:00, 2573955.85it/s]\n",
      "100%|██████████| 10821/10821 [00:00<00:00, 2556989.50it/s]\n",
      "100%|██████████| 10821/10821 [00:00<00:00, 2392418.09it/s]\n",
      "100%|██████████| 10821/10821 [00:00<00:00, 2580688.21it/s]\n",
      "100%|██████████| 10821/10821 [00:00<00:00, 2294568.43it/s]\n",
      "100%|██████████| 10821/10821 [00:00<00:00, 2618052.81it/s]\n",
      "100%|██████████| 10821/10821 [00:00<00:00, 2569147.72it/s]\n",
      "100%|██████████| 10821/10821 [00:00<00:00, 2660096.33it/s]\n",
      "100%|██████████| 10821/10821 [00:00<00:00, 2556989.50it/s]\n",
      "100%|██████████| 10821/10821 [00:00<00:00, 2483397.00it/s]\n",
      "100%|██████████| 10821/10821 [00:00<00:00, 2419197.46it/s]\n",
      "100%|██████████| 10821/10821 [00:00<00:00, 2645829.75it/s]\n",
      "100%|██████████| 10821/10821 [00:00<00:00, 2589965.97it/s]\n",
      "100%|██████████| 10821/10821 [00:00<00:00, 2606924.96it/s]\n",
      "100%|██████████| 10821/10821 [00:00<00:00, 2284405.25it/s]\n",
      "100%|██████████| 10821/10821 [00:00<00:00, 2700616.66it/s]\n",
      "100%|██████████| 10821/10821 [00:00<00:00, 2617599.84it/s]\n",
      "100%|██████████| 10821/10821 [00:00<00:00, 2572788.59it/s]\n",
      "100%|██████████| 10821/10821 [00:00<00:00, 2583185.18it/s]\n",
      "100%|██████████| 10821/10821 [00:00<00:00, 2254336.84it/s]\n",
      "100%|██████████| 10821/10821 [00:00<00:00, 2330025.34it/s]\n",
      "100%|██████████| 10821/10821 [00:00<00:00, 2709807.37it/s]\n",
      "100%|██████████| 10821/10821 [00:00<00:00, 2632325.92it/s]\n",
      "100%|██████████| 10821/10821 [00:00<00:00, 2577171.29it/s]\n",
      "100%|██████████| 10821/10821 [00:00<00:00, 2599310.67it/s]\n"
     ]
    },
    {
     "name": "stdout",
     "output_type": "stream",
     "text": [
      "CPU times: user 53.3 s, sys: 3.95 s, total: 57.2 s\n",
      "Wall time: 31.4 s\n"
     ]
    }
   ],
   "source": [
    "%%time\n",
    "for epoch in range(30):\n",
    "    model_dbow.train(utils.shuffle([x for x in tqdm(x_w2v)]), \n",
    "                        total_examples=len(x_w2v), epochs=1)\n",
    "    model_dbow.alpha -= 0.002\n",
    "    model_dbow.min_alpha = model_dbow.alpha"
   ]
  },
  {
   "cell_type": "code",
   "execution_count": 120,
   "metadata": {
    "collapsed": true
   },
   "outputs": [],
   "source": [
    "train_vecs_dbow = get_vectors(model_dbow, Xtrain, 100)\n",
    "test_vecs_dbow = get_vectors(model_dbow, Xtest, 100)"
   ]
  },
  {
   "cell_type": "markdown",
   "metadata": {},
   "source": [
    "#### 1.1 Logistic Regression"
   ]
  },
  {
   "cell_type": "code",
   "execution_count": 128,
   "metadata": {},
   "outputs": [
    {
     "name": "stdout",
     "output_type": "stream",
     "text": [
      "AUC(Train): 0.7071\n",
      "AUC(Test):  0.7016\n",
      "TRAIN Accuracy:   0.804\n",
      "TEST Accuracy:   0.803\n",
      "Confusion matrix, without normalization:\n",
      "[[1457  126]\n",
      " [ 301  281]]\n",
      "Normalized confusion matrix:\n",
      "[[0.9204043  0.0795957 ]\n",
      " [0.51718213 0.48281787]]\n",
      "             precision    recall  f1-score   support\n",
      "\n",
      "          0       0.83      0.92      0.87      1583\n",
      "          1       0.69      0.48      0.57       582\n",
      "\n",
      "avg / total       0.79      0.80      0.79      2165\n",
      "\n"
     ]
    }
   ],
   "source": [
    "model(LogisticRegression(C=10), train_vecs_dbow, ytrain, test_vecs_dbow, ytest)"
   ]
  },
  {
   "cell_type": "markdown",
   "metadata": {},
   "source": [
    "#### 1.2 Linear SVC"
   ]
  },
  {
   "cell_type": "code",
   "execution_count": 148,
   "metadata": {},
   "outputs": [
    {
     "name": "stdout",
     "output_type": "stream",
     "text": [
      "AUC(Train): 0.7032\n",
      "AUC(Test):  0.7001\n",
      "TRAIN Accuracy:   0.804\n",
      "TEST Accuracy:   0.807\n",
      "Confusion matrix, without normalization:\n",
      "[[1474  109]\n",
      " [ 309  273]]\n",
      "Normalized confusion matrix:\n",
      "[[0.9311434  0.0688566 ]\n",
      " [0.53092784 0.46907216]]\n",
      "             precision    recall  f1-score   support\n",
      "\n",
      "          0       0.83      0.93      0.88      1583\n",
      "          1       0.71      0.47      0.57       582\n",
      "\n",
      "avg / total       0.80      0.81      0.79      2165\n",
      "\n"
     ]
    }
   ],
   "source": [
    "model(LinearSVC(), train_vecs_dbow, ytrain, test_vecs_dbow, ytest)"
   ]
  },
  {
   "cell_type": "markdown",
   "metadata": {},
   "source": [
    "#### 1.3 Random Forest"
   ]
  },
  {
   "cell_type": "code",
   "execution_count": 162,
   "metadata": {},
   "outputs": [
    {
     "name": "stdout",
     "output_type": "stream",
     "text": [
      "AUC(Train): 0.9160\n",
      "AUC(Test):  0.6038\n",
      "TRAIN Accuracy:   0.952\n",
      "TEST Accuracy:   0.749\n",
      "Confusion matrix, without normalization:\n",
      "[[1452  131]\n",
      " [ 413  169]]\n",
      "Normalized confusion matrix:\n",
      "[[0.91724574 0.08275426]\n",
      " [0.70962199 0.29037801]]\n",
      "             precision    recall  f1-score   support\n",
      "\n",
      "          0       0.78      0.92      0.84      1583\n",
      "          1       0.56      0.29      0.38       582\n",
      "\n",
      "avg / total       0.72      0.75      0.72      2165\n",
      "\n"
     ]
    }
   ],
   "source": [
    "model(RandomForestClassifier(max_depth = 15, n_estimators=10), train_vecs_dbow, ytrain, test_vecs_dbow, ytest)"
   ]
  },
  {
   "cell_type": "markdown",
   "metadata": {},
   "source": [
    "#### 1.4 Neural Network"
   ]
  },
  {
   "cell_type": "code",
   "execution_count": 229,
   "metadata": {},
   "outputs": [
    {
     "name": "stdout",
     "output_type": "stream",
     "text": [
      "Train on 7790 samples, validate on 866 samples\n",
      "Epoch 1/10\n",
      " - 1s - loss: 0.4950 - acc: 0.7698 - val_loss: 0.4656 - val_acc: 0.7968\n",
      "Epoch 2/10\n",
      " - 1s - loss: 0.4491 - acc: 0.8053 - val_loss: 0.4554 - val_acc: 0.8002\n",
      "Epoch 3/10\n",
      " - 1s - loss: 0.4331 - acc: 0.8109 - val_loss: 0.4531 - val_acc: 0.8025\n",
      "Epoch 4/10\n",
      " - 1s - loss: 0.4187 - acc: 0.8208 - val_loss: 0.4525 - val_acc: 0.8048\n",
      "Epoch 5/10\n",
      " - 1s - loss: 0.4042 - acc: 0.8288 - val_loss: 0.4619 - val_acc: 0.7956\n",
      "Epoch 6/10\n",
      " - 1s - loss: 0.3883 - acc: 0.8367 - val_loss: 0.4606 - val_acc: 0.7968\n",
      "Epoch 7/10\n",
      " - 1s - loss: 0.3694 - acc: 0.8467 - val_loss: 0.4565 - val_acc: 0.7979\n",
      "Epoch 8/10\n",
      " - 1s - loss: 0.3504 - acc: 0.8542 - val_loss: 0.4688 - val_acc: 0.7921\n",
      "Epoch 9/10\n",
      " - 1s - loss: 0.3324 - acc: 0.8652 - val_loss: 0.4651 - val_acc: 0.8014\n",
      "Epoch 10/10\n",
      " - 1s - loss: 0.3109 - acc: 0.8768 - val_loss: 0.4690 - val_acc: 0.7968\n"
     ]
    },
    {
     "data": {
      "text/plain": [
       "<keras.callbacks.History at 0x1c3e602e48>"
      ]
     },
     "execution_count": 229,
     "metadata": {},
     "output_type": "execute_result"
    }
   ],
   "source": [
    "np.random.seed(22)\n",
    "nn_d2v = Sequential()\n",
    "nn_d2v.add(Dense(128, activation='relu', input_dim=100))\n",
    "nn_d2v.add(Dense(1, activation='sigmoid'))\n",
    "nn_d2v.compile(optimizer='adam',\n",
    "              loss='binary_crossentropy',\n",
    "              metrics=['accuracy'])\n",
    "\n",
    "nn_d2v.fit(train_vecs_dbow, ytrain,\n",
    "                 validation_split=0.1, epochs=10, batch_size=32, verbose=2)"
   ]
  },
  {
   "cell_type": "code",
   "execution_count": 230,
   "metadata": {},
   "outputs": [
    {
     "name": "stdout",
     "output_type": "stream",
     "text": [
      "2165/2165 [==============================] - 0s 39us/step\n",
      "loss     =  0.47235153453729994\n",
      "accuracy =  0.7958429562852785\n"
     ]
    }
   ],
   "source": [
    "nn_scores = nn_d2v.evaluate(test_vecs_dbow, ytest)\n",
    "print('loss     = ', nn_scores[0])\n",
    "print('accuracy = ', nn_scores[1])"
   ]
  },
  {
   "cell_type": "code",
   "execution_count": 267,
   "metadata": {},
   "outputs": [
    {
     "name": "stdout",
     "output_type": "stream",
     "text": [
      "AUC(Test):  0.6925\n",
      "TEST Accuracy:   0.796\n"
     ]
    },
    {
     "data": {
      "text/plain": [
       "array([[1450,  133],\n",
       "       [ 309,  273]])"
      ]
     },
     "execution_count": 267,
     "metadata": {},
     "output_type": "execute_result"
    }
   ],
   "source": [
    "nn_ytrain=nn_d2v.predict(train_vecs_dbow)\n",
    "nn_ytest=nn_d2v.predict(test_vecs_dbow)\n",
    "pre_testy2 = [0 if i <0.5 else 1 for i in nn_ytest.reshape(len(nn_ytest),)]\n",
    "fpr_test, tpr_test,_=roc_curve(ytest, pre_testy2)\n",
    "print('AUC(Test):  {:.4f}'.format(auc(fpr_test, tpr_test)))\n",
    "print (\"TEST Accuracy:   %0.3f\" % accuracy_score(ytest, pre_testy2))\n",
    "confusion_matrix(ytest, pre_testy2, labels = [0, 1])"
   ]
  },
  {
   "cell_type": "markdown",
   "metadata": {},
   "source": [
    "### 2. DMC"
   ]
  },
  {
   "cell_type": "code",
   "execution_count": 235,
   "metadata": {},
   "outputs": [
    {
     "name": "stderr",
     "output_type": "stream",
     "text": [
      "/Users/lana/anaconda3/lib/python3.6/site-packages/gensim/models/doc2vec.py:570: UserWarning: The parameter `size` is deprecated, will be removed in 4.0.0, use `vector_size` instead.\n",
      "  warnings.warn(\"The parameter `size` is deprecated, will be removed in 4.0.0, use `vector_size` instead.\")\n",
      "100%|██████████| 10821/10821 [00:00<00:00, 2395574.98it/s]\n"
     ]
    }
   ],
   "source": [
    "cores = multiprocessing.cpu_count()\n",
    "model_dmc = Doc2Vec(dm=1, dm_concat=1, size=100, window=2, \n",
    "                       negative=5, min_count=2, workers=cores, alpha=0.065, min_alpha=0.065)\n",
    "model_dmc.build_vocab([x for x in tqdm(x_w2v)])"
   ]
  },
  {
   "cell_type": "code",
   "execution_count": 236,
   "metadata": {},
   "outputs": [
    {
     "name": "stderr",
     "output_type": "stream",
     "text": [
      "100%|██████████| 10821/10821 [00:00<00:00, 1823339.37it/s]\n",
      "100%|██████████| 10821/10821 [00:00<00:00, 2660096.33it/s]\n",
      "100%|██████████| 10821/10821 [00:00<00:00, 2316586.54it/s]\n",
      "100%|██████████| 10821/10821 [00:00<00:00, 2518118.26it/s]\n",
      "100%|██████████| 10821/10821 [00:00<00:00, 2287629.21it/s]\n",
      "100%|██████████| 10821/10821 [00:00<00:00, 2463180.48it/s]\n",
      "100%|██████████| 10821/10821 [00:00<00:00, 2053783.59it/s]\n",
      "100%|██████████| 10821/10821 [00:00<00:00, 2400389.44it/s]\n",
      "100%|██████████| 10821/10821 [00:00<00:00, 2611875.67it/s]\n",
      "100%|██████████| 10821/10821 [00:00<00:00, 2266721.45it/s]\n",
      "100%|██████████| 10821/10821 [00:00<00:00, 2476216.03it/s]\n",
      "100%|██████████| 10821/10821 [00:00<00:00, 2573955.85it/s]\n",
      "100%|██████████| 10821/10821 [00:00<00:00, 2529485.79it/s]\n",
      "100%|██████████| 10821/10821 [00:00<00:00, 1245070.74it/s]\n",
      "100%|██████████| 10821/10821 [00:00<00:00, 2658071.07it/s]\n",
      "100%|██████████| 10821/10821 [00:00<00:00, 2599459.54it/s]\n",
      "100%|██████████| 10821/10821 [00:00<00:00, 2645212.94it/s]\n",
      "100%|██████████| 10821/10821 [00:00<00:00, 2577024.96it/s]\n",
      "100%|██████████| 10821/10821 [00:00<00:00, 2647527.48it/s]\n",
      "100%|██████████| 10821/10821 [00:00<00:00, 2686549.28it/s]\n",
      "100%|██████████| 10821/10821 [00:00<00:00, 2609322.96it/s]\n",
      "100%|██████████| 10821/10821 [00:00<00:00, 2607524.05it/s]\n",
      "100%|██████████| 10821/10821 [00:00<00:00, 2645675.52it/s]\n",
      "100%|██████████| 10821/10821 [00:00<00:00, 2620168.78it/s]\n",
      "100%|██████████| 10821/10821 [00:00<00:00, 2663218.14it/s]\n",
      "100%|██████████| 10821/10821 [00:00<00:00, 2661968.54it/s]\n",
      "100%|██████████| 10821/10821 [00:00<00:00, 2656204.34it/s]\n",
      "100%|██████████| 10821/10821 [00:00<00:00, 2445923.88it/s]\n",
      "100%|██████████| 10821/10821 [00:00<00:00, 1968877.48it/s]\n",
      "100%|██████████| 10821/10821 [00:00<00:00, 2606176.49it/s]\n"
     ]
    },
    {
     "name": "stdout",
     "output_type": "stream",
     "text": [
      "CPU times: user 1min 34s, sys: 4.57 s, total: 1min 39s\n",
      "Wall time: 41.8 s\n"
     ]
    }
   ],
   "source": [
    "%%time\n",
    "for epoch in range(30):\n",
    "    model_dmc.train(utils.shuffle([x for x in tqdm(x_w2v)]), \n",
    "                    total_examples=len(x_w2v), epochs=1)\n",
    "    model_dmc.alpha -= 0.002\n",
    "    model_dmc.min_alpha = model_dmc.alpha"
   ]
  },
  {
   "cell_type": "code",
   "execution_count": 237,
   "metadata": {},
   "outputs": [
    {
     "name": "stderr",
     "output_type": "stream",
     "text": [
      "/Users/lana/anaconda3/lib/python3.6/site-packages/ipykernel_launcher.py:1: DeprecationWarning: Call to deprecated `most_similar` (Method will be removed in 4.0.0, use self.wv.most_similar() instead).\n",
      "  \"\"\"Entry point for launching an IPython kernel.\n",
      "/Users/lana/anaconda3/lib/python3.6/site-packages/gensim/matutils.py:737: FutureWarning: Conversion of the second argument of issubdtype from `int` to `np.signedinteger` is deprecated. In future, it will be treated as `np.int64 == np.dtype(int).type`.\n",
      "  if np.issubdtype(vec.dtype, np.int):\n"
     ]
    },
    {
     "data": {
      "text/plain": [
       "[('great', 0.6790786981582642),\n",
       " ('decent', 0.6758978962898254),\n",
       " ('competent', 0.6072064638137817),\n",
       " ('speedy', 0.6067125797271729),\n",
       " ('bad', 0.5732701420783997),\n",
       " ('turbo-charged', 0.5629264116287231),\n",
       " ('trouble-free', 0.5626224279403687),\n",
       " ('sharp', 0.5624820590019226),\n",
       " ('nice', 0.5557277202606201),\n",
       " ('best-in-class', 0.548293948173523)]"
      ]
     },
     "execution_count": 237,
     "metadata": {},
     "output_type": "execute_result"
    }
   ],
   "source": [
    "model_dmc.most_similar('good')"
   ]
  },
  {
   "cell_type": "code",
   "execution_count": 242,
   "metadata": {},
   "outputs": [
    {
     "name": "stderr",
     "output_type": "stream",
     "text": [
      "/Users/lana/anaconda3/lib/python3.6/site-packages/ipykernel_launcher.py:1: DeprecationWarning: Call to deprecated `most_similar` (Method will be removed in 4.0.0, use self.wv.most_similar() instead).\n",
      "  \"\"\"Entry point for launching an IPython kernel.\n",
      "/Users/lana/anaconda3/lib/python3.6/site-packages/gensim/matutils.py:737: FutureWarning: Conversion of the second argument of issubdtype from `int` to `np.signedinteger` is deprecated. In future, it will be treated as `np.int64 == np.dtype(int).type`.\n",
      "  if np.issubdtype(vec.dtype, np.int):\n"
     ]
    },
    {
     "data": {
      "text/plain": [
       "[('Honda', 0.5836304426193237),\n",
       " ('Infiniti', 0.5324746370315552),\n",
       " ('Maxima,', 0.5094331502914429),\n",
       " ('Ford', 0.5001115798950195),\n",
       " ('Volkswagen.', 0.4851771295070648),\n",
       " ('Jimmy', 0.48162344098091125),\n",
       " ('gmc', 0.4798303246498108),\n",
       " ('Chrysler', 0.47966504096984863),\n",
       " ('Toyota', 0.4795268476009369),\n",
       " ('SL,', 0.47821295261383057)]"
      ]
     },
     "execution_count": 242,
     "metadata": {},
     "output_type": "execute_result"
    }
   ],
   "source": [
    "model_dmc.most_similar('honda')"
   ]
  },
  {
   "cell_type": "markdown",
   "metadata": {},
   "source": [
    "* The model successfully catches the comparative form of words in the reviews"
   ]
  },
  {
   "cell_type": "code",
   "execution_count": 243,
   "metadata": {
    "collapsed": true
   },
   "outputs": [],
   "source": [
    "train_vecs_dmc = get_vectors(model_dmc, Xtrain, 100)\n",
    "test_vecs_dmc = get_vectors(model_dmc, Xtest, 100)"
   ]
  },
  {
   "cell_type": "markdown",
   "metadata": {},
   "source": [
    "#### 2.1 Logistic Regression"
   ]
  },
  {
   "cell_type": "code",
   "execution_count": 246,
   "metadata": {},
   "outputs": [
    {
     "name": "stdout",
     "output_type": "stream",
     "text": [
      "Performing grid search...\n",
      "Done in 1.835s\n",
      "Best recall: 0.321\n",
      "Best parameters:\n",
      "{'C': 10, 'class_weight': None, 'dual': False, 'fit_intercept': True, 'intercept_scaling': 1, 'max_iter': 100, 'multi_class': 'ovr', 'n_jobs': 1, 'penalty': 'l2', 'random_state': None, 'solver': 'liblinear', 'tol': 0.0001, 'verbose': 0, 'warm_start': False}\n"
     ]
    }
   ],
   "source": [
    "grid({'C': [0.001,0.01,0.1,1,10,100]}, LogisticRegression(), train_vecs_dmc, ytrain)"
   ]
  },
  {
   "cell_type": "code",
   "execution_count": 247,
   "metadata": {},
   "outputs": [
    {
     "name": "stdout",
     "output_type": "stream",
     "text": [
      "AUC(Train): 0.6332\n",
      "AUC(Test):  0.6459\n",
      "TRAIN Accuracy:   0.766\n",
      "TEST Accuracy:   0.780\n",
      "Confusion matrix, without normalization:\n",
      "[[1482  101]\n",
      " [ 375  207]]\n",
      "Normalized confusion matrix:\n",
      "[[0.93619709 0.06380291]\n",
      " [0.6443299  0.3556701 ]]\n",
      "             precision    recall  f1-score   support\n",
      "\n",
      "          0       0.80      0.94      0.86      1583\n",
      "          1       0.67      0.36      0.47       582\n",
      "\n",
      "avg / total       0.76      0.78      0.76      2165\n",
      "\n"
     ]
    }
   ],
   "source": [
    "model(LogisticRegression(C = 10), train_vecs_dmc, ytrain, test_vecs_dmc, ytest)"
   ]
  },
  {
   "cell_type": "markdown",
   "metadata": {},
   "source": [
    "#### 2.2 Linear SVC"
   ]
  },
  {
   "cell_type": "code",
   "execution_count": 249,
   "metadata": {},
   "outputs": [
    {
     "name": "stdout",
     "output_type": "stream",
     "text": [
      "AUC(Train): 0.6271\n",
      "AUC(Test):  0.6390\n",
      "TRAIN Accuracy:   0.767\n",
      "TEST Accuracy:   0.781\n",
      "Confusion matrix, without normalization:\n",
      "[[1498   85]\n",
      " [ 389  193]]\n",
      "Normalized confusion matrix:\n",
      "[[0.94630449 0.05369551]\n",
      " [0.66838488 0.33161512]]\n",
      "             precision    recall  f1-score   support\n",
      "\n",
      "          0       0.79      0.95      0.86      1583\n",
      "          1       0.69      0.33      0.45       582\n",
      "\n",
      "avg / total       0.77      0.78      0.75      2165\n",
      "\n"
     ]
    }
   ],
   "source": [
    "model(LinearSVC(), train_vecs_dmc, ytrain, test_vecs_dmc, ytest)"
   ]
  },
  {
   "cell_type": "markdown",
   "metadata": {},
   "source": [
    "#### 2.3 Random Forest"
   ]
  },
  {
   "cell_type": "code",
   "execution_count": 254,
   "metadata": {},
   "outputs": [
    {
     "name": "stdout",
     "output_type": "stream",
     "text": [
      "AUC(Train): 0.9378\n",
      "AUC(Test):  0.5805\n",
      "TRAIN Accuracy:   0.964\n",
      "TEST Accuracy:   0.723\n",
      "Confusion matrix, without normalization:\n",
      "[[1408  175]\n",
      " [ 424  158]]\n",
      "Normalized confusion matrix:\n",
      "[[0.88945041 0.11054959]\n",
      " [0.72852234 0.27147766]]\n",
      "             precision    recall  f1-score   support\n",
      "\n",
      "          0       0.77      0.89      0.82      1583\n",
      "          1       0.47      0.27      0.35       582\n",
      "\n",
      "avg / total       0.69      0.72      0.70      2165\n",
      "\n"
     ]
    }
   ],
   "source": [
    "model(RandomForestClassifier(n_estimators=10, max_depth=20), \n",
    "      train_vecs_dmc, ytrain, test_vecs_dmc, ytest)"
   ]
  },
  {
   "cell_type": "markdown",
   "metadata": {},
   "source": [
    "#### 2.4 neural network"
   ]
  },
  {
   "cell_type": "code",
   "execution_count": 268,
   "metadata": {},
   "outputs": [
    {
     "name": "stdout",
     "output_type": "stream",
     "text": [
      "Train on 7790 samples, validate on 866 samples\n",
      "Epoch 1/10\n",
      " - 1s - loss: 0.5547 - acc: 0.7386 - val_loss: 0.5331 - val_acc: 0.7540\n",
      "Epoch 2/10\n",
      " - 1s - loss: 0.5079 - acc: 0.7646 - val_loss: 0.5237 - val_acc: 0.7598\n",
      "Epoch 3/10\n",
      " - 1s - loss: 0.4929 - acc: 0.7727 - val_loss: 0.5202 - val_acc: 0.7633\n",
      "Epoch 4/10\n",
      " - 1s - loss: 0.4791 - acc: 0.7823 - val_loss: 0.5169 - val_acc: 0.7771\n",
      "Epoch 5/10\n",
      " - 1s - loss: 0.4668 - acc: 0.7887 - val_loss: 0.5197 - val_acc: 0.7702\n",
      "Epoch 6/10\n",
      " - 1s - loss: 0.4540 - acc: 0.7947 - val_loss: 0.5227 - val_acc: 0.7702\n",
      "Epoch 7/10\n",
      " - 1s - loss: 0.4410 - acc: 0.8056 - val_loss: 0.5216 - val_acc: 0.7587\n",
      "Epoch 8/10\n",
      " - 1s - loss: 0.4270 - acc: 0.8151 - val_loss: 0.5277 - val_acc: 0.7656\n",
      "Epoch 9/10\n",
      " - 1s - loss: 0.4128 - acc: 0.8227 - val_loss: 0.5310 - val_acc: 0.7667\n",
      "Epoch 10/10\n",
      " - 1s - loss: 0.3993 - acc: 0.8311 - val_loss: 0.5365 - val_acc: 0.7425\n",
      "CPU times: user 9.73 s, sys: 3.77 s, total: 13.5 s\n",
      "Wall time: 9.05 s\n"
     ]
    }
   ],
   "source": [
    "%%time\n",
    "np.random.seed(5)\n",
    "model_d2v_02 = Sequential()\n",
    "model_d2v_02.add(Dense(128, activation='relu', input_dim=100))\n",
    "model_d2v_02.add(Dense(1, activation='sigmoid'))\n",
    "model_d2v_02.compile(optimizer='adam',\n",
    "              loss='binary_crossentropy',\n",
    "              metrics=['accuracy'])\n",
    "\n",
    "model_d2v_02.fit(train_vecs_dmc, ytrain, validation_split=0.1, \n",
    "                 epochs=10, batch_size=32, verbose=2)"
   ]
  },
  {
   "cell_type": "code",
   "execution_count": 269,
   "metadata": {},
   "outputs": [
    {
     "name": "stdout",
     "output_type": "stream",
     "text": [
      "2165/2165 [==============================] - 0s 34us/step\n",
      "loss     =  0.5127916470135607\n",
      "accuracy =  0.7648960741232504\n"
     ]
    }
   ],
   "source": [
    "nn_scores = model_d2v_02.evaluate(test_vecs_dmc, ytest)\n",
    "print('loss     = ', nn_scores[0])\n",
    "print('accuracy = ', nn_scores[1])"
   ]
  },
  {
   "cell_type": "code",
   "execution_count": 270,
   "metadata": {},
   "outputs": [
    {
     "name": "stdout",
     "output_type": "stream",
     "text": [
      "AUC(Test):  0.6480\n",
      "TEST Accuracy:   0.765\n"
     ]
    },
    {
     "data": {
      "text/plain": [
       "array([[1426,  157],\n",
       "       [ 352,  230]])"
      ]
     },
     "execution_count": 270,
     "metadata": {},
     "output_type": "execute_result"
    }
   ],
   "source": [
    "nn_ytrain=model_d2v_02.predict(train_vecs_dmc)\n",
    "nn_ytest=model_d2v_02.predict(test_vecs_dmc)\n",
    "pre_testy2 = [0 if i <0.5 else 1 for i in nn_ytest.reshape(len(nn_ytest),)]\n",
    "fpr_test, tpr_test,_=roc_curve(ytest, pre_testy2)\n",
    "print('AUC(Test):  {:.4f}'.format(auc(fpr_test, tpr_test)))\n",
    "print (\"TEST Accuracy:   %0.3f\" % accuracy_score(ytest, pre_testy2))\n",
    "confusion_matrix(ytest, pre_testy2, labels = [0, 1])"
   ]
  },
  {
   "cell_type": "markdown",
   "metadata": {},
   "source": [
    "### 3. DMM "
   ]
  },
  {
   "cell_type": "code",
   "execution_count": 271,
   "metadata": {},
   "outputs": [
    {
     "name": "stderr",
     "output_type": "stream",
     "text": [
      "/Users/lana/anaconda3/lib/python3.6/site-packages/gensim/models/doc2vec.py:570: UserWarning: The parameter `size` is deprecated, will be removed in 4.0.0, use `vector_size` instead.\n",
      "  warnings.warn(\"The parameter `size` is deprecated, will be removed in 4.0.0, use `vector_size` instead.\")\n",
      "100%|██████████| 10821/10821 [00:00<00:00, 2206122.76it/s]\n"
     ]
    }
   ],
   "source": [
    "cores = multiprocessing.cpu_count()\n",
    "model_dmm = Doc2Vec(dm=1, dm_mean=1, size=100, window=4, negative=5, \n",
    "                    min_count=2, workers=cores, alpha=0.065, min_alpha=0.065)\n",
    "model_dmm.build_vocab([x for x in tqdm(x_w2v)])"
   ]
  },
  {
   "cell_type": "code",
   "execution_count": 272,
   "metadata": {},
   "outputs": [
    {
     "name": "stderr",
     "output_type": "stream",
     "text": [
      "100%|██████████| 10821/10821 [00:00<00:00, 1971443.12it/s]\n",
      "100%|██████████| 10821/10821 [00:00<00:00, 2389143.74it/s]\n",
      "100%|██████████| 10821/10821 [00:00<00:00, 2465990.96it/s]\n",
      "100%|██████████| 10821/10821 [00:00<00:00, 2505468.59it/s]\n",
      "100%|██████████| 10821/10821 [00:00<00:00, 2219717.49it/s]\n",
      "100%|██████████| 10821/10821 [00:00<00:00, 2347257.12it/s]\n",
      "100%|██████████| 10821/10821 [00:00<00:00, 1882244.58it/s]\n",
      "100%|██████████| 10821/10821 [00:00<00:00, 2034359.64it/s]\n",
      "100%|██████████| 10821/10821 [00:00<00:00, 2140269.90it/s]\n",
      "100%|██████████| 10821/10821 [00:00<00:00, 2553249.53it/s]\n",
      "100%|██████████| 10821/10821 [00:00<00:00, 2656204.34it/s]\n",
      "100%|██████████| 10821/10821 [00:00<00:00, 2512403.19it/s]\n",
      "100%|██████████| 10821/10821 [00:00<00:00, 2270009.18it/s]\n",
      "100%|██████████| 10821/10821 [00:00<00:00, 2202910.43it/s]\n",
      "100%|██████████| 10821/10821 [00:00<00:00, 2578782.02it/s]\n",
      "100%|██████████| 10821/10821 [00:00<00:00, 2104054.68it/s]\n",
      "100%|██████████| 10821/10821 [00:00<00:00, 2015478.64it/s]\n",
      "100%|██████████| 10821/10821 [00:00<00:00, 2509069.80it/s]\n",
      "100%|██████████| 10821/10821 [00:00<00:00, 2308808.81it/s]\n",
      "100%|██████████| 10821/10821 [00:00<00:00, 2504362.61it/s]\n",
      "100%|██████████| 10821/10821 [00:00<00:00, 2099965.93it/s]\n",
      "100%|██████████| 10821/10821 [00:00<00:00, 2558142.46it/s]\n",
      "100%|██████████| 10821/10821 [00:00<00:00, 2647681.93it/s]\n",
      "100%|██████████| 10821/10821 [00:00<00:00, 2539534.67it/s]\n",
      "100%|██████████| 10821/10821 [00:00<00:00, 2660096.33it/s]\n",
      "100%|██████████| 10821/10821 [00:00<00:00, 2547231.09it/s]\n",
      "100%|██████████| 10821/10821 [00:00<00:00, 2533156.42it/s]\n",
      "100%|██████████| 10821/10821 [00:00<00:00, 2471496.60it/s]\n",
      "100%|██████████| 10821/10821 [00:00<00:00, 2107669.90it/s]\n",
      "100%|██████████| 10821/10821 [00:00<00:00, 2575854.91it/s]\n"
     ]
    },
    {
     "name": "stdout",
     "output_type": "stream",
     "text": [
      "CPU times: user 1min 15s, sys: 10.7 s, total: 1min 25s\n",
      "Wall time: 44.1 s\n"
     ]
    }
   ],
   "source": [
    "%%time\n",
    "for epoch in range(30):\n",
    "    model_dmm.train(utils.shuffle([x for x in tqdm(x_w2v)]), total_examples=len(x_w2v), epochs=1)\n",
    "    model_dmm.alpha -= 0.002\n",
    "    model_dmm.min_alpha = model_dmm.alpha"
   ]
  },
  {
   "cell_type": "code",
   "execution_count": 273,
   "metadata": {},
   "outputs": [
    {
     "name": "stderr",
     "output_type": "stream",
     "text": [
      "/Users/lana/anaconda3/lib/python3.6/site-packages/ipykernel_launcher.py:1: DeprecationWarning: Call to deprecated `most_similar` (Method will be removed in 4.0.0, use self.wv.most_similar() instead).\n",
      "  \"\"\"Entry point for launching an IPython kernel.\n",
      "/Users/lana/anaconda3/lib/python3.6/site-packages/gensim/matutils.py:737: FutureWarning: Conversion of the second argument of issubdtype from `int` to `np.signedinteger` is deprecated. In future, it will be treated as `np.int64 == np.dtype(int).type`.\n",
      "  if np.issubdtype(vec.dtype, np.int):\n"
     ]
    },
    {
     "data": {
      "text/plain": [
       "[('Honda', 0.5153903961181641),\n",
       " ('Nissan', 0.4130866825580597),\n",
       " ('entity', 0.4121984839439392),\n",
       " ('Corollas,', 0.4014264941215515),\n",
       " ('Mazda3,', 0.397941529750824),\n",
       " ('nissan', 0.3907093405723572),\n",
       " ('Maxima,', 0.372851699590683),\n",
       " ('BAM!', 0.3682459890842438),\n",
       " ('corolla', 0.36656057834625244),\n",
       " ('1999', 0.35308700799942017)]"
      ]
     },
     "execution_count": 273,
     "metadata": {},
     "output_type": "execute_result"
    }
   ],
   "source": [
    "model_dmm.most_similar('honda')"
   ]
  },
  {
   "cell_type": "code",
   "execution_count": 274,
   "metadata": {
    "collapsed": true
   },
   "outputs": [],
   "source": [
    "train_vecs_dmm = get_vectors(model_dmm, Xtrain, 100)\n",
    "test_vecs_dmm = get_vectors(model_dmm, Xtest, 100)"
   ]
  },
  {
   "cell_type": "markdown",
   "metadata": {},
   "source": [
    "#### 3.1 Logistic Regression"
   ]
  },
  {
   "cell_type": "code",
   "execution_count": 276,
   "metadata": {},
   "outputs": [
    {
     "name": "stdout",
     "output_type": "stream",
     "text": [
      "AUC(Train): 0.6766\n",
      "AUC(Test):  0.5157\n",
      "TRAIN Accuracy:   0.792\n",
      "TEST Accuracy:   0.685\n",
      "Confusion matrix, without normalization:\n",
      "[[1396  187]\n",
      " [ 495   87]]\n",
      "Normalized confusion matrix:\n",
      "[[0.88186987 0.11813013]\n",
      " [0.85051546 0.14948454]]\n",
      "             precision    recall  f1-score   support\n",
      "\n",
      "          0       0.74      0.88      0.80      1583\n",
      "          1       0.32      0.15      0.20       582\n",
      "\n",
      "avg / total       0.63      0.68      0.64      2165\n",
      "\n"
     ]
    }
   ],
   "source": [
    "model(LogisticRegression(C = 10), train_vecs_dmm, ytrain, test_vecs_dmc, ytest)"
   ]
  },
  {
   "cell_type": "markdown",
   "metadata": {},
   "source": [
    "#### 3.2 Linear SVC"
   ]
  },
  {
   "cell_type": "code",
   "execution_count": 277,
   "metadata": {},
   "outputs": [
    {
     "name": "stdout",
     "output_type": "stream",
     "text": [
      "AUC(Train): 0.6702\n",
      "AUC(Test):  0.6595\n",
      "TRAIN Accuracy:   0.791\n",
      "TEST Accuracy:   0.791\n",
      "Confusion matrix, without normalization:\n",
      "[[1495   88]\n",
      " [ 364  218]]\n",
      "Normalized confusion matrix:\n",
      "[[0.94440935 0.05559065]\n",
      " [0.62542955 0.37457045]]\n",
      "             precision    recall  f1-score   support\n",
      "\n",
      "          0       0.80      0.94      0.87      1583\n",
      "          1       0.71      0.37      0.49       582\n",
      "\n",
      "avg / total       0.78      0.79      0.77      2165\n",
      "\n"
     ]
    }
   ],
   "source": [
    "model(LinearSVC(), train_vecs_dmm, ytrain, test_vecs_dmm, ytest)"
   ]
  },
  {
   "cell_type": "markdown",
   "metadata": {},
   "source": [
    "#### 3.3 Random Rorest"
   ]
  },
  {
   "cell_type": "code",
   "execution_count": 278,
   "metadata": {},
   "outputs": [
    {
     "name": "stdout",
     "output_type": "stream",
     "text": [
      "AUC(Train): 0.9593\n",
      "AUC(Test):  0.5802\n",
      "TRAIN Accuracy:   0.977\n",
      "TEST Accuracy:   0.740\n",
      "Confusion matrix, without normalization:\n",
      "[[1467  116]\n",
      " [ 446  136]]\n",
      "Normalized confusion matrix:\n",
      "[[0.92672142 0.07327858]\n",
      " [0.76632302 0.23367698]]\n",
      "             precision    recall  f1-score   support\n",
      "\n",
      "          0       0.77      0.93      0.84      1583\n",
      "          1       0.54      0.23      0.33       582\n",
      "\n",
      "avg / total       0.71      0.74      0.70      2165\n",
      "\n"
     ]
    }
   ],
   "source": [
    "model(RandomForestClassifier(), \n",
    "      train_vecs_dmm, ytrain, test_vecs_dmm, ytest)"
   ]
  },
  {
   "cell_type": "markdown",
   "metadata": {},
   "source": [
    "#### 3.4 Neural Network"
   ]
  },
  {
   "cell_type": "code",
   "execution_count": 292,
   "metadata": {},
   "outputs": [
    {
     "name": "stdout",
     "output_type": "stream",
     "text": [
      "Train on 7790 samples, validate on 866 samples\n",
      "Epoch 1/10\n",
      " - 1s - loss: 0.5156 - acc: 0.7677 - val_loss: 0.4715 - val_acc: 0.7898\n",
      "Epoch 2/10\n",
      " - 1s - loss: 0.4718 - acc: 0.7946 - val_loss: 0.4650 - val_acc: 0.7875\n",
      "Epoch 3/10\n",
      " - 1s - loss: 0.4579 - acc: 0.8006 - val_loss: 0.4638 - val_acc: 0.7910\n",
      "Epoch 4/10\n",
      " - 1s - loss: 0.4454 - acc: 0.8055 - val_loss: 0.4653 - val_acc: 0.7864\n",
      "Epoch 5/10\n",
      " - 1s - loss: 0.4317 - acc: 0.8140 - val_loss: 0.4666 - val_acc: 0.7864\n",
      "Epoch 6/10\n",
      " - 1s - loss: 0.4188 - acc: 0.8191 - val_loss: 0.4664 - val_acc: 0.7910\n",
      "Epoch 7/10\n",
      " - 1s - loss: 0.4062 - acc: 0.8302 - val_loss: 0.4683 - val_acc: 0.7875\n",
      "Epoch 8/10\n",
      " - 1s - loss: 0.3919 - acc: 0.8370 - val_loss: 0.4701 - val_acc: 0.7794\n",
      "Epoch 9/10\n",
      " - 1s - loss: 0.3775 - acc: 0.8440 - val_loss: 0.4778 - val_acc: 0.7898\n",
      "Epoch 10/10\n",
      " - 1s - loss: 0.3646 - acc: 0.8503 - val_loss: 0.4821 - val_acc: 0.7783\n",
      "CPU times: user 9.35 s, sys: 3.89 s, total: 13.2 s\n",
      "Wall time: 8.99 s\n"
     ]
    }
   ],
   "source": [
    "%%time\n",
    "np.random.seed(5)\n",
    "model_d2v_03 = Sequential()\n",
    "model_d2v_03.add(Dense(64, activation='relu', input_dim=100))\n",
    "model_d2v_03.add(Dense(1, activation='sigmoid'))\n",
    "model_d2v_03.compile(optimizer='adam',\n",
    "              loss='binary_crossentropy',\n",
    "              metrics=['accuracy'])\n",
    "\n",
    "model_d2v_03.fit(train_vecs_dmm, ytrain, validation_split=0.1, \n",
    "                 epochs=10, batch_size=32, verbose=2)"
   ]
  },
  {
   "cell_type": "code",
   "execution_count": 293,
   "metadata": {},
   "outputs": [
    {
     "name": "stdout",
     "output_type": "stream",
     "text": [
      "2165/2165 [==============================] - 0s 43us/step\n",
      "loss     =  0.4968371925673364\n",
      "accuracy =  0.7736720555649068\n"
     ]
    }
   ],
   "source": [
    "nn_scores = model_d2v_03.evaluate(test_vecs_dmm, ytest)\n",
    "print('loss     = ', nn_scores[0])\n",
    "print('accuracy = ', nn_scores[1])"
   ]
  },
  {
   "cell_type": "code",
   "execution_count": 294,
   "metadata": {},
   "outputs": [
    {
     "name": "stdout",
     "output_type": "stream",
     "text": [
      "AUC(Test):  0.6703\n",
      "TEST Accuracy:   0.774\n"
     ]
    },
    {
     "data": {
      "text/plain": [
       "array([[1415,  168],\n",
       "       [ 322,  260]])"
      ]
     },
     "execution_count": 294,
     "metadata": {},
     "output_type": "execute_result"
    }
   ],
   "source": [
    "nn_ytrain=model_d2v_03.predict(train_vecs_dmm)\n",
    "nn_ytest=model_d2v_03.predict(test_vecs_dmm)\n",
    "pre_testy2 = [0 if i <0.5 else 1 for i in nn_ytest.reshape(len(nn_ytest),)]\n",
    "fpr_test, tpr_test,_=roc_curve(ytest, pre_testy2)\n",
    "print('AUC(Test):  {:.4f}'.format(auc(fpr_test, tpr_test)))\n",
    "print (\"TEST Accuracy:   %0.3f\" % accuracy_score(ytest, pre_testy2))\n",
    "confusion_matrix(ytest, pre_testy2, labels = [0, 1])"
   ]
  },
  {
   "cell_type": "markdown",
   "metadata": {},
   "source": [
    "### 4. DBOW + DMC"
   ]
  },
  {
   "cell_type": "code",
   "execution_count": 311,
   "metadata": {},
   "outputs": [],
   "source": [
    "train_vecs_dbow_dmc = get_concat_vectors(model_dbow,model_dmc, Xtrain, 200)\n",
    "test_vecs_dbow_dmc = get_concat_vectors(model_dbow,model_dmc, Xtest, 200)"
   ]
  },
  {
   "cell_type": "code",
   "execution_count": 312,
   "metadata": {},
   "outputs": [
    {
     "name": "stdout",
     "output_type": "stream",
     "text": [
      "AUC(Train): 0.7144\n",
      "AUC(Test):  0.6947\n",
      "TRAIN Accuracy:   0.808\n",
      "TEST Accuracy:   0.799\n",
      "Confusion matrix, without normalization:\n",
      "[[1457  126]\n",
      " [ 309  273]]\n",
      "Normalized confusion matrix:\n",
      "[[0.9204043  0.0795957 ]\n",
      " [0.53092784 0.46907216]]\n",
      "             precision    recall  f1-score   support\n",
      "\n",
      "          0       0.83      0.92      0.87      1583\n",
      "          1       0.68      0.47      0.56       582\n",
      "\n",
      "avg / total       0.79      0.80      0.79      2165\n",
      "\n"
     ]
    }
   ],
   "source": [
    "model(LogisticRegression(), train_vecs_dbow_dmc, ytrain, test_vecs_dbow_dmc, ytest)"
   ]
  },
  {
   "cell_type": "code",
   "execution_count": 313,
   "metadata": {},
   "outputs": [
    {
     "name": "stdout",
     "output_type": "stream",
     "text": [
      "AUC(Train): 0.7078\n",
      "AUC(Test):  0.6953\n",
      "TRAIN Accuracy:   0.807\n",
      "TEST Accuracy:   0.802\n",
      "Confusion matrix, without normalization:\n",
      "[[1467  116]\n",
      " [ 312  270]]\n",
      "Normalized confusion matrix:\n",
      "[[0.92672142 0.07327858]\n",
      " [0.53608247 0.46391753]]\n",
      "             precision    recall  f1-score   support\n",
      "\n",
      "          0       0.82      0.93      0.87      1583\n",
      "          1       0.70      0.46      0.56       582\n",
      "\n",
      "avg / total       0.79      0.80      0.79      2165\n",
      "\n"
     ]
    }
   ],
   "source": [
    "model(LinearSVC(), train_vecs_dbow_dmc, ytrain, test_vecs_dbow_dmc, ytest)"
   ]
  },
  {
   "cell_type": "code",
   "execution_count": 314,
   "metadata": {},
   "outputs": [
    {
     "name": "stdout",
     "output_type": "stream",
     "text": [
      "AUC(Train): 0.9640\n",
      "AUC(Test):  0.5892\n",
      "TRAIN Accuracy:   0.980\n",
      "TEST Accuracy:   0.746\n",
      "Confusion matrix, without normalization:\n",
      "[[1471  112]\n",
      " [ 437  145]]\n",
      "Normalized confusion matrix:\n",
      "[[0.92924826 0.07075174]\n",
      " [0.75085911 0.24914089]]\n",
      "             precision    recall  f1-score   support\n",
      "\n",
      "          0       0.77      0.93      0.84      1583\n",
      "          1       0.56      0.25      0.35       582\n",
      "\n",
      "avg / total       0.72      0.75      0.71      2165\n",
      "\n"
     ]
    }
   ],
   "source": [
    "model(RandomForestClassifier(), \n",
    "      train_vecs_dbow_dmc, ytrain, test_vecs_dbow_dmc, ytest)"
   ]
  },
  {
   "cell_type": "code",
   "execution_count": 343,
   "metadata": {},
   "outputs": [
    {
     "name": "stdout",
     "output_type": "stream",
     "text": [
      "Train on 7790 samples, validate on 866 samples\n",
      "Epoch 1/5\n",
      " - 2s - loss: 0.4965 - acc: 0.7724 - val_loss: 0.4719 - val_acc: 0.7945\n",
      "Epoch 2/5\n",
      " - 1s - loss: 0.4461 - acc: 0.8032 - val_loss: 0.4669 - val_acc: 0.7979\n",
      "Epoch 3/5\n",
      " - 1s - loss: 0.4290 - acc: 0.8134 - val_loss: 0.4667 - val_acc: 0.8002\n",
      "Epoch 4/5\n",
      " - 1s - loss: 0.4113 - acc: 0.8226 - val_loss: 0.4733 - val_acc: 0.7921\n",
      "Epoch 5/5\n",
      " - 1s - loss: 0.3937 - acc: 0.8332 - val_loss: 0.4754 - val_acc: 0.7898\n",
      "CPU times: user 6.3 s, sys: 1.94 s, total: 8.24 s\n",
      "Wall time: 6.11 s\n"
     ]
    }
   ],
   "source": [
    "%%time\n",
    "np.random.seed(10)\n",
    "model_d2v_04 = Sequential()\n",
    "model_d2v_04.add(Dense(64, activation='relu', input_dim=200))\n",
    "model_d2v_04.add(Dense(1, activation='sigmoid'))\n",
    "model_d2v_04.compile(optimizer='adam',\n",
    "              loss='binary_crossentropy',\n",
    "              metrics=['accuracy'])\n",
    "\n",
    "model_d2v_04.fit(train_vecs_dbow_dmc, ytrain, validation_split = 0.1,\n",
    "                 epochs=5, batch_size=32, verbose=2)"
   ]
  },
  {
   "cell_type": "code",
   "execution_count": 344,
   "metadata": {},
   "outputs": [
    {
     "name": "stdout",
     "output_type": "stream",
     "text": [
      "2165/2165 [==============================] - 0s 58us/step\n",
      "loss     =  0.45080362109609345\n",
      "accuracy =  0.8036951502806595\n"
     ]
    }
   ],
   "source": [
    "nn_scores = model_d2v_04.evaluate(test_vecs_dbow_dmc, ytest)\n",
    "print('loss     = ', nn_scores[0])\n",
    "print('accuracy = ', nn_scores[1])"
   ]
  },
  {
   "cell_type": "code",
   "execution_count": 345,
   "metadata": {},
   "outputs": [
    {
     "name": "stdout",
     "output_type": "stream",
     "text": [
      "AUC(Test):  0.6946\n",
      "TEST Accuracy:   0.804\n"
     ]
    },
    {
     "data": {
      "text/plain": [
       "array([[1473,  110],\n",
       "       [ 315,  267]])"
      ]
     },
     "execution_count": 345,
     "metadata": {},
     "output_type": "execute_result"
    }
   ],
   "source": [
    "nn_ytrain=model_d2v_04.predict(train_vecs_dbow_dmc)\n",
    "nn_ytest=model_d2v_04.predict(test_vecs_dbow_dmc)\n",
    "pre_testy2 = [0 if i <0.5 else 1 for i in nn_ytest.reshape(len(nn_ytest),)]\n",
    "fpr_test, tpr_test,_=roc_curve(ytest, pre_testy2)\n",
    "print('AUC(Test):  {:.4f}'.format(auc(fpr_test, tpr_test)))\n",
    "print (\"TEST Accuracy:   %0.3f\" % accuracy_score(ytest, pre_testy2))\n",
    "confusion_matrix(ytest, pre_testy2, labels = [0, 1])"
   ]
  },
  {
   "cell_type": "markdown",
   "metadata": {},
   "source": [
    "### 5. DBOW + DMM"
   ]
  },
  {
   "cell_type": "code",
   "execution_count": 315,
   "metadata": {
    "collapsed": true
   },
   "outputs": [],
   "source": [
    "train_vecs_dbow_dmm = get_concat_vectors(model_dbow,model_dmm, Xtrain, 200)\n",
    "test_vecs_dbow_dmm = get_concat_vectors(model_dbow,model_dmm, Xtest, 200)"
   ]
  },
  {
   "cell_type": "code",
   "execution_count": 316,
   "metadata": {},
   "outputs": [
    {
     "name": "stdout",
     "output_type": "stream",
     "text": [
      "AUC(Train): 0.7136\n",
      "AUC(Test):  0.7040\n",
      "TRAIN Accuracy:   0.809\n",
      "TEST Accuracy:   0.808\n",
      "Confusion matrix, without normalization:\n",
      "[[1470  113]\n",
      " [ 303  279]]\n",
      "Normalized confusion matrix:\n",
      "[[0.92861655 0.07138345]\n",
      " [0.52061856 0.47938144]]\n",
      "             precision    recall  f1-score   support\n",
      "\n",
      "          0       0.83      0.93      0.88      1583\n",
      "          1       0.71      0.48      0.57       582\n",
      "\n",
      "avg / total       0.80      0.81      0.79      2165\n",
      "\n"
     ]
    }
   ],
   "source": [
    "model(LogisticRegression(), train_vecs_dbow_dmm, ytrain, test_vecs_dbow_dmm, ytest)"
   ]
  },
  {
   "cell_type": "code",
   "execution_count": 319,
   "metadata": {},
   "outputs": [
    {
     "name": "stdout",
     "output_type": "stream",
     "text": [
      "AUC(Train): 0.7049\n",
      "AUC(Test):  0.6960\n",
      "TRAIN Accuracy:   0.808\n",
      "TEST Accuracy:   0.806\n",
      "Confusion matrix, without normalization:\n",
      "[[1480  103]\n",
      " [ 316  266]]\n",
      "Normalized confusion matrix:\n",
      "[[0.93493367 0.06506633]\n",
      " [0.54295533 0.45704467]]\n",
      "             precision    recall  f1-score   support\n",
      "\n",
      "          0       0.82      0.93      0.88      1583\n",
      "          1       0.72      0.46      0.56       582\n",
      "\n",
      "avg / total       0.80      0.81      0.79      2165\n",
      "\n"
     ]
    }
   ],
   "source": [
    "model(LinearSVC(), train_vecs_dbow_dmm, ytrain, test_vecs_dbow_dmm, ytest)"
   ]
  },
  {
   "cell_type": "code",
   "execution_count": 320,
   "metadata": {},
   "outputs": [
    {
     "name": "stdout",
     "output_type": "stream",
     "text": [
      "AUC(Train): 0.9642\n",
      "AUC(Test):  0.5819\n",
      "TRAIN Accuracy:   0.980\n",
      "TEST Accuracy:   0.741\n",
      "Confusion matrix, without normalization:\n",
      "[[1467  116]\n",
      " [ 444  138]]\n",
      "Normalized confusion matrix:\n",
      "[[0.92672142 0.07327858]\n",
      " [0.7628866  0.2371134 ]]\n",
      "             precision    recall  f1-score   support\n",
      "\n",
      "          0       0.77      0.93      0.84      1583\n",
      "          1       0.54      0.24      0.33       582\n",
      "\n",
      "avg / total       0.71      0.74      0.70      2165\n",
      "\n"
     ]
    }
   ],
   "source": [
    "model(RandomForestClassifier(), \n",
    "      train_vecs_dbow_dmm, ytrain, test_vecs_dbow_dmm, ytest)"
   ]
  },
  {
   "cell_type": "code",
   "execution_count": 340,
   "metadata": {},
   "outputs": [
    {
     "name": "stdout",
     "output_type": "stream",
     "text": [
      "Train on 7790 samples, validate on 866 samples\n",
      "Epoch 1/5\n",
      " - 2s - loss: 0.4930 - acc: 0.7751 - val_loss: 0.4590 - val_acc: 0.7921\n",
      "Epoch 2/5\n",
      " - 1s - loss: 0.4444 - acc: 0.8051 - val_loss: 0.4494 - val_acc: 0.8037\n",
      "Epoch 3/5\n",
      " - 1s - loss: 0.4237 - acc: 0.8167 - val_loss: 0.4557 - val_acc: 0.8025\n",
      "Epoch 4/5\n",
      " - 1s - loss: 0.4027 - acc: 0.8303 - val_loss: 0.4582 - val_acc: 0.8014\n",
      "Epoch 5/5\n",
      " - 1s - loss: 0.3814 - acc: 0.8389 - val_loss: 0.4605 - val_acc: 0.7991\n",
      "CPU times: user 5.95 s, sys: 1.98 s, total: 7.94 s\n",
      "Wall time: 5.75 s\n"
     ]
    }
   ],
   "source": [
    "%%time\n",
    "np.random.seed(10)\n",
    "model_d2v_05 = Sequential()\n",
    "model_d2v_05.add(Dense(64, activation='relu', input_dim=200))\n",
    "model_d2v_05.add(Dense(1, activation='sigmoid'))\n",
    "model_d2v_05.compile(optimizer='adam',\n",
    "              loss='binary_crossentropy',\n",
    "              metrics=['accuracy'])\n",
    "\n",
    "model_d2v_05.fit(train_vecs_dbow_dmm, ytrain, validation_split = 0.1,\n",
    "                 epochs=5, batch_size=32, verbose=2)"
   ]
  },
  {
   "cell_type": "code",
   "execution_count": 341,
   "metadata": {},
   "outputs": [
    {
     "name": "stdout",
     "output_type": "stream",
     "text": [
      "2165/2165 [==============================] - 0s 60us/step\n",
      "loss     =  0.45028543499821055\n",
      "accuracy =  0.7986143189269456\n"
     ]
    }
   ],
   "source": [
    "nn_scores = model_d2v_05.evaluate(test_vecs_dbow_dmm, ytest)\n",
    "print('loss     = ', nn_scores[0])\n",
    "print('accuracy = ', nn_scores[1])"
   ]
  },
  {
   "cell_type": "code",
   "execution_count": 342,
   "metadata": {},
   "outputs": [
    {
     "name": "stdout",
     "output_type": "stream",
     "text": [
      "AUC(Test):  0.6841\n",
      "TEST Accuracy:   0.799\n"
     ]
    },
    {
     "data": {
      "text/plain": [
       "array([[1475,  108],\n",
       "       [ 328,  254]])"
      ]
     },
     "execution_count": 342,
     "metadata": {},
     "output_type": "execute_result"
    }
   ],
   "source": [
    "nn_ytrain=model_d2v_05.predict(train_vecs_dbow_dmm)\n",
    "nn_ytest=model_d2v_05.predict(test_vecs_dbow_dmm)\n",
    "pre_testy2 = [0 if i <0.5 else 1 for i in nn_ytest.reshape(len(nn_ytest),)]\n",
    "fpr_test, tpr_test,_=roc_curve(ytest, pre_testy2)\n",
    "print('AUC(Test):  {:.4f}'.format(auc(fpr_test, tpr_test)))\n",
    "print (\"TEST Accuracy:   %0.3f\" % accuracy_score(ytest, pre_testy2))\n",
    "confusion_matrix(ytest, pre_testy2, labels = [0, 1])"
   ]
  },
  {
   "cell_type": "markdown",
   "metadata": {},
   "source": [
    "## The best performance preprocessing method + algorithm is :\n",
    "* Distributed Bag of Words + Logistic Regression Classifier"
   ]
  },
  {
   "cell_type": "code",
   "execution_count": null,
   "metadata": {
    "collapsed": true
   },
   "outputs": [],
   "source": []
  }
 ],
 "metadata": {
  "kernelspec": {
   "display_name": "Python 3",
   "language": "python",
   "name": "python3"
  },
  "language_info": {
   "codemirror_mode": {
    "name": "ipython",
    "version": 3
   },
   "file_extension": ".py",
   "mimetype": "text/x-python",
   "name": "python",
   "nbconvert_exporter": "python",
   "pygments_lexer": "ipython3",
   "version": "3.6.3"
  }
 },
 "nbformat": 4,
 "nbformat_minor": 2
}
