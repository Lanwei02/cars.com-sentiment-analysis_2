{
 "cells": [
  {
   "cell_type": "code",
   "execution_count": 129,
   "metadata": {},
   "outputs": [],
   "source": [
    "import pandas as pd\n",
    "import numpy as np\n",
    "\n",
    "import matplotlib.pyplot as plt\n",
    "import seaborn as sns\n",
    "from ggplot import *\n",
    "%matplotlib inline\n",
    "\n",
    "from sklearn.feature_extraction.text import TfidfVectorizer, CountVectorizer\n",
    "\n",
    "from sklearn.naive_bayes import MultinomialNB\n",
    "from sklearn.linear_model import LogisticRegression\n",
    "from sklearn.svm import LinearSVC\n",
    "from sklearn.neighbors import KNeighborsClassifier\n",
    "\n",
    "from sklearn.metrics import accuracy_score, classification_report, confusion_matrix\n",
    "from sklearn.metrics import roc_auc_score, roc_curve, auc\n",
    "from sklearn.metrics import confusion_matrix, recall_score\n",
    "\n",
    "from sklearn.model_selection import train_test_split\n",
    "\n",
    "from sklearn.pipeline import Pipeline\n",
    "from sklearn.model_selection import GridSearchCV\n",
    "from sklearn.model_selection import KFold\n",
    "\n",
    "from time import time"
   ]
  },
  {
   "cell_type": "code",
   "execution_count": 2,
   "metadata": {
    "collapsed": true
   },
   "outputs": [],
   "source": [
    "car_review = pd.read_csv('car_review.csv', index_col=0)"
   ]
  },
  {
   "cell_type": "code",
   "execution_count": 3,
   "metadata": {},
   "outputs": [
    {
     "data": {
      "text/html": [
       "<div>\n",
       "<style>\n",
       "    .dataframe thead tr:only-child th {\n",
       "        text-align: right;\n",
       "    }\n",
       "\n",
       "    .dataframe thead th {\n",
       "        text-align: left;\n",
       "    }\n",
       "\n",
       "    .dataframe tbody tr th {\n",
       "        vertical-align: top;\n",
       "    }\n",
       "</style>\n",
       "<table border=\"1\" class=\"dataframe\">\n",
       "  <thead>\n",
       "    <tr style=\"text-align: right;\">\n",
       "      <th></th>\n",
       "      <th>Rating</th>\n",
       "      <th>Year</th>\n",
       "      <th>Review</th>\n",
       "      <th>Brand</th>\n",
       "    </tr>\n",
       "  </thead>\n",
       "  <tbody>\n",
       "    <tr>\n",
       "      <th>1</th>\n",
       "      <td>4</td>\n",
       "      <td>\\n                by JayeMaye\\n               ...</td>\n",
       "      <td>\\n                This is what I've bought Sat...</td>\n",
       "      <td>dodge-charger-2012/consumer-reviews/</td>\n",
       "    </tr>\n",
       "    <tr>\n",
       "      <th>2</th>\n",
       "      <td>5</td>\n",
       "      <td>\\n                by Female Driver\\n          ...</td>\n",
       "      <td>\\n                I just got my Special Order ...</td>\n",
       "      <td>dodge-charger-2012/consumer-reviews/</td>\n",
       "    </tr>\n",
       "    <tr>\n",
       "      <th>3</th>\n",
       "      <td>5</td>\n",
       "      <td>\\n                by New Car Buyer\\n          ...</td>\n",
       "      <td>\\n                About 2 months ago I purchas...</td>\n",
       "      <td>dodge-charger-2012/consumer-reviews/</td>\n",
       "    </tr>\n",
       "    <tr>\n",
       "      <th>4</th>\n",
       "      <td>5</td>\n",
       "      <td>\\n                by KTisaPhillyPhan\\n        ...</td>\n",
       "      <td>\\n                We bought a tungsten metalli...</td>\n",
       "      <td>dodge-charger-2012/consumer-reviews/</td>\n",
       "    </tr>\n",
       "    <tr>\n",
       "      <th>5</th>\n",
       "      <td>5</td>\n",
       "      <td>\\n                by I&lt;3DODGE\\n               ...</td>\n",
       "      <td>\\n                I have a 2012 Dodge Charger ...</td>\n",
       "      <td>dodge-charger-2012/consumer-reviews/</td>\n",
       "    </tr>\n",
       "  </tbody>\n",
       "</table>\n",
       "</div>"
      ],
      "text/plain": [
       "   Rating                                               Year  \\\n",
       "1       4  \\n                by JayeMaye\\n               ...   \n",
       "2       5  \\n                by Female Driver\\n          ...   \n",
       "3       5  \\n                by New Car Buyer\\n          ...   \n",
       "4       5  \\n                by KTisaPhillyPhan\\n        ...   \n",
       "5       5  \\n                by I<3DODGE\\n               ...   \n",
       "\n",
       "                                              Review  \\\n",
       "1  \\n                This is what I've bought Sat...   \n",
       "2  \\n                I just got my Special Order ...   \n",
       "3  \\n                About 2 months ago I purchas...   \n",
       "4  \\n                We bought a tungsten metalli...   \n",
       "5  \\n                I have a 2012 Dodge Charger ...   \n",
       "\n",
       "                                  Brand  \n",
       "1  dodge-charger-2012/consumer-reviews/  \n",
       "2  dodge-charger-2012/consumer-reviews/  \n",
       "3  dodge-charger-2012/consumer-reviews/  \n",
       "4  dodge-charger-2012/consumer-reviews/  \n",
       "5  dodge-charger-2012/consumer-reviews/  "
      ]
     },
     "execution_count": 3,
     "metadata": {},
     "output_type": "execute_result"
    }
   ],
   "source": [
    "car_review.head()"
   ]
  },
  {
   "cell_type": "code",
   "execution_count": 4,
   "metadata": {},
   "outputs": [
    {
     "data": {
      "text/plain": [
       "5    14704\n",
       "4     3211\n",
       "3      730\n",
       "2      313\n",
       "1      284\n",
       "Name: Rating, dtype: int64"
      ]
     },
     "execution_count": 4,
     "metadata": {},
     "output_type": "execute_result"
    }
   ],
   "source": [
    "car_review.Rating.value_counts()"
   ]
  },
  {
   "cell_type": "code",
   "execution_count": 5,
   "metadata": {},
   "outputs": [
    {
     "data": {
      "image/png": "[encoded data removed]",
      "text/plain": [
       "<matplotlib.figure.Figure at 0x113d40048>"
      ]
     },
     "metadata": {},
     "output_type": "display_data"
    }
   ],
   "source": [
    "car_review.Rating.value_counts(sort=False).plot(kind = 'bar')\n",
    "plt.show()"
   ]
  },
  {
   "cell_type": "markdown",
   "metadata": {},
   "source": [
    "* Reviews are skewed towards positive"
   ]
  },
  {
   "cell_type": "markdown",
   "metadata": {},
   "source": [
    "# Cleaning data and retrive features"
   ]
  },
  {
   "cell_type": "markdown",
   "metadata": {},
   "source": [
    "### Car"
   ]
  },
  {
   "cell_type": "code",
   "execution_count": 6,
   "metadata": {
    "collapsed": true
   },
   "outputs": [],
   "source": [
    "car_review['Car'] = car_review.Brand.map(lambda x: x.split('/')[0])\n",
    "car_review['Car_Year'] = car_review['Car'].map(lambda x: x.split('-')[-1])\n",
    "car_review['Car_test'] = car_review['Car'].map(lambda x: x.split('-')[:-1])\n",
    "car_review['Car_Make'] = car_review['Car_test'].map(lambda x: x[0])\n",
    "car_review['Car_Model'] = car_review['Car_test'].map(lambda x: x[-1])"
   ]
  },
  {
   "cell_type": "code",
   "execution_count": 7,
   "metadata": {
    "collapsed": true
   },
   "outputs": [],
   "source": [
    "car_review.drop(['Car_test'], axis=1, inplace=True)"
   ]
  },
  {
   "cell_type": "code",
   "execution_count": 8,
   "metadata": {},
   "outputs": [
    {
     "data": {
      "text/html": [
       "<div>\n",
       "<style>\n",
       "    .dataframe thead tr:only-child th {\n",
       "        text-align: right;\n",
       "    }\n",
       "\n",
       "    .dataframe thead th {\n",
       "        text-align: left;\n",
       "    }\n",
       "\n",
       "    .dataframe tbody tr th {\n",
       "        vertical-align: top;\n",
       "    }\n",
       "</style>\n",
       "<table border=\"1\" class=\"dataframe\">\n",
       "  <thead>\n",
       "    <tr style=\"text-align: right;\">\n",
       "      <th></th>\n",
       "      <th>Rating</th>\n",
       "      <th>Year</th>\n",
       "      <th>Review</th>\n",
       "      <th>Brand</th>\n",
       "      <th>Car</th>\n",
       "      <th>Car_Year</th>\n",
       "      <th>Car_Make</th>\n",
       "      <th>Car_Model</th>\n",
       "    </tr>\n",
       "  </thead>\n",
       "  <tbody>\n",
       "    <tr>\n",
       "      <th>1</th>\n",
       "      <td>4</td>\n",
       "      <td>\\n                by JayeMaye\\n               ...</td>\n",
       "      <td>\\n                This is what I've bought Sat...</td>\n",
       "      <td>dodge-charger-2012/consumer-reviews/</td>\n",
       "      <td>dodge-charger-2012</td>\n",
       "      <td>2012</td>\n",
       "      <td>dodge</td>\n",
       "      <td>charger</td>\n",
       "    </tr>\n",
       "    <tr>\n",
       "      <th>2</th>\n",
       "      <td>5</td>\n",
       "      <td>\\n                by Female Driver\\n          ...</td>\n",
       "      <td>\\n                I just got my Special Order ...</td>\n",
       "      <td>dodge-charger-2012/consumer-reviews/</td>\n",
       "      <td>dodge-charger-2012</td>\n",
       "      <td>2012</td>\n",
       "      <td>dodge</td>\n",
       "      <td>charger</td>\n",
       "    </tr>\n",
       "    <tr>\n",
       "      <th>3</th>\n",
       "      <td>5</td>\n",
       "      <td>\\n                by New Car Buyer\\n          ...</td>\n",
       "      <td>\\n                About 2 months ago I purchas...</td>\n",
       "      <td>dodge-charger-2012/consumer-reviews/</td>\n",
       "      <td>dodge-charger-2012</td>\n",
       "      <td>2012</td>\n",
       "      <td>dodge</td>\n",
       "      <td>charger</td>\n",
       "    </tr>\n",
       "    <tr>\n",
       "      <th>4</th>\n",
       "      <td>5</td>\n",
       "      <td>\\n                by KTisaPhillyPhan\\n        ...</td>\n",
       "      <td>\\n                We bought a tungsten metalli...</td>\n",
       "      <td>dodge-charger-2012/consumer-reviews/</td>\n",
       "      <td>dodge-charger-2012</td>\n",
       "      <td>2012</td>\n",
       "      <td>dodge</td>\n",
       "      <td>charger</td>\n",
       "    </tr>\n",
       "    <tr>\n",
       "      <th>5</th>\n",
       "      <td>5</td>\n",
       "      <td>\\n                by I&lt;3DODGE\\n               ...</td>\n",
       "      <td>\\n                I have a 2012 Dodge Charger ...</td>\n",
       "      <td>dodge-charger-2012/consumer-reviews/</td>\n",
       "      <td>dodge-charger-2012</td>\n",
       "      <td>2012</td>\n",
       "      <td>dodge</td>\n",
       "      <td>charger</td>\n",
       "    </tr>\n",
       "  </tbody>\n",
       "</table>\n",
       "</div>"
      ],
      "text/plain": [
       "   Rating                                               Year  \\\n",
       "1       4  \\n                by JayeMaye\\n               ...   \n",
       "2       5  \\n                by Female Driver\\n          ...   \n",
       "3       5  \\n                by New Car Buyer\\n          ...   \n",
       "4       5  \\n                by KTisaPhillyPhan\\n        ...   \n",
       "5       5  \\n                by I<3DODGE\\n               ...   \n",
       "\n",
       "                                              Review  \\\n",
       "1  \\n                This is what I've bought Sat...   \n",
       "2  \\n                I just got my Special Order ...   \n",
       "3  \\n                About 2 months ago I purchas...   \n",
       "4  \\n                We bought a tungsten metalli...   \n",
       "5  \\n                I have a 2012 Dodge Charger ...   \n",
       "\n",
       "                                  Brand                 Car Car_Year Car_Make  \\\n",
       "1  dodge-charger-2012/consumer-reviews/  dodge-charger-2012     2012    dodge   \n",
       "2  dodge-charger-2012/consumer-reviews/  dodge-charger-2012     2012    dodge   \n",
       "3  dodge-charger-2012/consumer-reviews/  dodge-charger-2012     2012    dodge   \n",
       "4  dodge-charger-2012/consumer-reviews/  dodge-charger-2012     2012    dodge   \n",
       "5  dodge-charger-2012/consumer-reviews/  dodge-charger-2012     2012    dodge   \n",
       "\n",
       "  Car_Model  \n",
       "1   charger  \n",
       "2   charger  \n",
       "3   charger  \n",
       "4   charger  \n",
       "5   charger  "
      ]
     },
     "execution_count": 8,
     "metadata": {},
     "output_type": "execute_result"
    }
   ],
   "source": [
    "car_review.head()"
   ]
  },
  {
   "cell_type": "markdown",
   "metadata": {},
   "source": [
    "### Reviews"
   ]
  },
  {
   "cell_type": "code",
   "execution_count": 9,
   "metadata": {
    "collapsed": true
   },
   "outputs": [],
   "source": [
    "car_review['Review'] = car_review['Review'].map(lambda x: x.rstrip().lstrip())"
   ]
  },
  {
   "cell_type": "code",
   "execution_count": 10,
   "metadata": {},
   "outputs": [
    {
     "data": {
      "text/plain": [
       "1    This is what I've bought Saturday:\\n2012 Dodge...\n",
       "2    I just got my Special Order wiith my name on w...\n",
       "3    About 2 months ago I purchased a new Dodge Cha...\n",
       "4    We bought a tungsten metallic SXT-Plus Charger...\n",
       "5    I have a 2012 Dodge Charger R/T Plus AWD in re...\n",
       "Name: Review, dtype: object"
      ]
     },
     "execution_count": 10,
     "metadata": {},
     "output_type": "execute_result"
    }
   ],
   "source": [
    "car_review['Review'].head()"
   ]
  },
  {
   "cell_type": "markdown",
   "metadata": {},
   "source": [
    "### Date"
   ]
  },
  {
   "cell_type": "code",
   "execution_count": 11,
   "metadata": {
    "collapsed": true
   },
   "outputs": [],
   "source": [
    "from datetime import datetime"
   ]
  },
  {
   "cell_type": "code",
   "execution_count": 12,
   "metadata": {
    "collapsed": true
   },
   "outputs": [],
   "source": [
    "car_review['Review_Date'] = car_review['Year'].map(lambda x: \n",
    "                                                   datetime.strptime(x.split('\\n')[-2].split('on')[-1].lstrip(), '%B %d, %Y'))\n",
    "car_review['Review_Year'] = car_review['Review_Date'].map(lambda x: x.year)\n",
    "car_review['Review_Month'] = car_review['Review_Date'].map(lambda x: x.month)\n",
    "car_review['Review_Day'] = car_review['Review_Date'].map(lambda x: x.day)"
   ]
  },
  {
   "cell_type": "code",
   "execution_count": 13,
   "metadata": {},
   "outputs": [
    {
     "data": {
      "text/html": [
       "<div>\n",
       "<style>\n",
       "    .dataframe thead tr:only-child th {\n",
       "        text-align: right;\n",
       "    }\n",
       "\n",
       "    .dataframe thead th {\n",
       "        text-align: left;\n",
       "    }\n",
       "\n",
       "    .dataframe tbody tr th {\n",
       "        vertical-align: top;\n",
       "    }\n",
       "</style>\n",
       "<table border=\"1\" class=\"dataframe\">\n",
       "  <thead>\n",
       "    <tr style=\"text-align: right;\">\n",
       "      <th></th>\n",
       "      <th>Review_Date</th>\n",
       "      <th>Review_Year</th>\n",
       "      <th>Review_Month</th>\n",
       "      <th>Review_Day</th>\n",
       "    </tr>\n",
       "  </thead>\n",
       "  <tbody>\n",
       "    <tr>\n",
       "      <th>1</th>\n",
       "      <td>2012-05-02</td>\n",
       "      <td>2012</td>\n",
       "      <td>5</td>\n",
       "      <td>2</td>\n",
       "    </tr>\n",
       "    <tr>\n",
       "      <th>2</th>\n",
       "      <td>2012-06-14</td>\n",
       "      <td>2012</td>\n",
       "      <td>6</td>\n",
       "      <td>14</td>\n",
       "    </tr>\n",
       "    <tr>\n",
       "      <th>3</th>\n",
       "      <td>2012-06-29</td>\n",
       "      <td>2012</td>\n",
       "      <td>6</td>\n",
       "      <td>29</td>\n",
       "    </tr>\n",
       "    <tr>\n",
       "      <th>4</th>\n",
       "      <td>2012-05-08</td>\n",
       "      <td>2012</td>\n",
       "      <td>5</td>\n",
       "      <td>8</td>\n",
       "    </tr>\n",
       "    <tr>\n",
       "      <th>5</th>\n",
       "      <td>2012-03-19</td>\n",
       "      <td>2012</td>\n",
       "      <td>3</td>\n",
       "      <td>19</td>\n",
       "    </tr>\n",
       "  </tbody>\n",
       "</table>\n",
       "</div>"
      ],
      "text/plain": [
       "  Review_Date  Review_Year  Review_Month  Review_Day\n",
       "1  2012-05-02         2012             5           2\n",
       "2  2012-06-14         2012             6          14\n",
       "3  2012-06-29         2012             6          29\n",
       "4  2012-05-08         2012             5           8\n",
       "5  2012-03-19         2012             3          19"
      ]
     },
     "execution_count": 13,
     "metadata": {},
     "output_type": "execute_result"
    }
   ],
   "source": [
    "car_review[['Review_Date', 'Review_Year', 'Review_Month', 'Review_Day']].head()"
   ]
  },
  {
   "cell_type": "markdown",
   "metadata": {},
   "source": [
    "### Car Age"
   ]
  },
  {
   "cell_type": "code",
   "execution_count": 14,
   "metadata": {},
   "outputs": [
    {
     "data": {
      "text/plain": [
       "2012"
      ]
     },
     "execution_count": 14,
     "metadata": {},
     "output_type": "execute_result"
    }
   ],
   "source": [
    "int(car_review['Car_Year'][1])"
   ]
  },
  {
   "cell_type": "code",
   "execution_count": 15,
   "metadata": {
    "collapsed": true
   },
   "outputs": [],
   "source": [
    "car_review['Car_Age'] = car_review['Review_Year'].map(lambda x: int(x))-car_review['Car_Year'].map(lambda x: int(x))"
   ]
  },
  {
   "cell_type": "code",
   "execution_count": 16,
   "metadata": {
    "collapsed": true
   },
   "outputs": [],
   "source": [
    "car_review['Car_Age'] = car_review['Car_Age'].map(lambda x: 0 if x==-1 else x)"
   ]
  },
  {
   "cell_type": "code",
   "execution_count": 23,
   "metadata": {},
   "outputs": [
    {
     "data": {
      "text/plain": [
       "-0.07932111336293686"
      ]
     },
     "execution_count": 23,
     "metadata": {},
     "output_type": "execute_result"
    }
   ],
   "source": [
    "car_review['Car_Age'].corr(car_review['Rating'])"
   ]
  },
  {
   "cell_type": "markdown",
   "metadata": {},
   "source": [
    "There is a negative correlation between car age and rating which means that people will give newer car higher rating."
   ]
  },
  {
   "cell_type": "markdown",
   "metadata": {},
   "source": [
    "### Remove duplicate review\n",
    "* There are some duplicate reviews in the dataset"
   ]
  },
  {
   "cell_type": "code",
   "execution_count": 28,
   "metadata": {},
   "outputs": [
    {
     "data": {
      "text/plain": [
       "(19242, 13)"
      ]
     },
     "execution_count": 28,
     "metadata": {},
     "output_type": "execute_result"
    }
   ],
   "source": [
    "car_review.shape"
   ]
  },
  {
   "cell_type": "code",
   "execution_count": 29,
   "metadata": {},
   "outputs": [
    {
     "data": {
      "text/plain": [
       "10821"
      ]
     },
     "execution_count": 29,
     "metadata": {},
     "output_type": "execute_result"
    }
   ],
   "source": [
    "car_review.Review.nunique()"
   ]
  },
  {
   "cell_type": "code",
   "execution_count": 30,
   "metadata": {},
   "outputs": [
    {
     "data": {
      "text/plain": [
       "A solid compact sedan. I owned a Civic years ago, and I like the emergency brake redesign. The gas cap is gone, and the lid over the gas fill intake locks when the doors lock, and unlocks when the doors unlock. This makes a lot of sense.    52\n",
       "I am very happy with my purchase. No buyers remorse at all. Fast, fun, reliable and comfortable! Would highly recommend this car to anyone. You will not find more bang for you buck.                                                            52\n",
       "This is my first new car and I am happy with the comfort and look of the car.  The Civic Hatchback is great to handle and the technical aspects of the car are easy to understand.                                                               50\n",
       "Excellent car. Excellent performance and very stylish. Handles excellent on the road. When you need the power this car has it with no problem.                                                                                                   50\n",
       "This car is great for you to travel with or just go out on the town with friends. This car feels great when you drive it around. The gas mileage is great also. I feel safe driving it.                                                          50\n",
       "Name: Review, dtype: int64"
      ]
     },
     "execution_count": 30,
     "metadata": {},
     "output_type": "execute_result"
    }
   ],
   "source": [
    "car_review.Review.value_counts().head(5)"
   ]
  },
  {
   "cell_type": "code",
   "execution_count": 31,
   "metadata": {
    "collapsed": true
   },
   "outputs": [],
   "source": [
    "car_review=car_review.drop_duplicates(subset=['Review'])"
   ]
  },
  {
   "cell_type": "code",
   "execution_count": 32,
   "metadata": {},
   "outputs": [
    {
     "name": "stdout",
     "output_type": "stream",
     "text": [
      "Number of unique reviews:  10821\n",
      "Shape of the dataset:  (10821, 13)\n"
     ]
    }
   ],
   "source": [
    "print('Number of unique reviews: ', car_review.Review.nunique())\n",
    "print('Shape of the dataset: ', car_review.shape)"
   ]
  },
  {
   "cell_type": "code",
   "execution_count": 33,
   "metadata": {},
   "outputs": [
    {
     "data": {
      "text/html": [
       "<div>\n",
       "<style>\n",
       "    .dataframe thead tr:only-child th {\n",
       "        text-align: right;\n",
       "    }\n",
       "\n",
       "    .dataframe thead th {\n",
       "        text-align: left;\n",
       "    }\n",
       "\n",
       "    .dataframe tbody tr th {\n",
       "        vertical-align: top;\n",
       "    }\n",
       "</style>\n",
       "<table border=\"1\" class=\"dataframe\">\n",
       "  <thead>\n",
       "    <tr style=\"text-align: right;\">\n",
       "      <th></th>\n",
       "      <th>Rating</th>\n",
       "      <th>Year</th>\n",
       "      <th>Review</th>\n",
       "      <th>Brand</th>\n",
       "      <th>Car</th>\n",
       "      <th>Car_Year</th>\n",
       "      <th>Car_Make</th>\n",
       "      <th>Car_Model</th>\n",
       "      <th>Review_Date</th>\n",
       "      <th>Review_Year</th>\n",
       "      <th>Review_Month</th>\n",
       "      <th>Review_Day</th>\n",
       "      <th>Car_Age</th>\n",
       "    </tr>\n",
       "  </thead>\n",
       "  <tbody>\n",
       "    <tr>\n",
       "      <th>1</th>\n",
       "      <td>4</td>\n",
       "      <td>\\n                by JayeMaye\\n               ...</td>\n",
       "      <td>This is what I've bought Saturday:\\n2012 Dodge...</td>\n",
       "      <td>dodge-charger-2012/consumer-reviews/</td>\n",
       "      <td>dodge-charger-2012</td>\n",
       "      <td>2012</td>\n",
       "      <td>dodge</td>\n",
       "      <td>charger</td>\n",
       "      <td>2012-05-02</td>\n",
       "      <td>2012</td>\n",
       "      <td>5</td>\n",
       "      <td>2</td>\n",
       "      <td>0</td>\n",
       "    </tr>\n",
       "    <tr>\n",
       "      <th>2</th>\n",
       "      <td>5</td>\n",
       "      <td>\\n                by Female Driver\\n          ...</td>\n",
       "      <td>I just got my Special Order wiith my name on w...</td>\n",
       "      <td>dodge-charger-2012/consumer-reviews/</td>\n",
       "      <td>dodge-charger-2012</td>\n",
       "      <td>2012</td>\n",
       "      <td>dodge</td>\n",
       "      <td>charger</td>\n",
       "      <td>2012-06-14</td>\n",
       "      <td>2012</td>\n",
       "      <td>6</td>\n",
       "      <td>14</td>\n",
       "      <td>0</td>\n",
       "    </tr>\n",
       "    <tr>\n",
       "      <th>3</th>\n",
       "      <td>5</td>\n",
       "      <td>\\n                by New Car Buyer\\n          ...</td>\n",
       "      <td>About 2 months ago I purchased a new Dodge Cha...</td>\n",
       "      <td>dodge-charger-2012/consumer-reviews/</td>\n",
       "      <td>dodge-charger-2012</td>\n",
       "      <td>2012</td>\n",
       "      <td>dodge</td>\n",
       "      <td>charger</td>\n",
       "      <td>2012-06-29</td>\n",
       "      <td>2012</td>\n",
       "      <td>6</td>\n",
       "      <td>29</td>\n",
       "      <td>0</td>\n",
       "    </tr>\n",
       "    <tr>\n",
       "      <th>4</th>\n",
       "      <td>5</td>\n",
       "      <td>\\n                by KTisaPhillyPhan\\n        ...</td>\n",
       "      <td>We bought a tungsten metallic SXT-Plus Charger...</td>\n",
       "      <td>dodge-charger-2012/consumer-reviews/</td>\n",
       "      <td>dodge-charger-2012</td>\n",
       "      <td>2012</td>\n",
       "      <td>dodge</td>\n",
       "      <td>charger</td>\n",
       "      <td>2012-05-08</td>\n",
       "      <td>2012</td>\n",
       "      <td>5</td>\n",
       "      <td>8</td>\n",
       "      <td>0</td>\n",
       "    </tr>\n",
       "    <tr>\n",
       "      <th>5</th>\n",
       "      <td>5</td>\n",
       "      <td>\\n                by I&lt;3DODGE\\n               ...</td>\n",
       "      <td>I have a 2012 Dodge Charger R/T Plus AWD in re...</td>\n",
       "      <td>dodge-charger-2012/consumer-reviews/</td>\n",
       "      <td>dodge-charger-2012</td>\n",
       "      <td>2012</td>\n",
       "      <td>dodge</td>\n",
       "      <td>charger</td>\n",
       "      <td>2012-03-19</td>\n",
       "      <td>2012</td>\n",
       "      <td>3</td>\n",
       "      <td>19</td>\n",
       "      <td>0</td>\n",
       "    </tr>\n",
       "  </tbody>\n",
       "</table>\n",
       "</div>"
      ],
      "text/plain": [
       "   Rating                                               Year  \\\n",
       "1       4  \\n                by JayeMaye\\n               ...   \n",
       "2       5  \\n                by Female Driver\\n          ...   \n",
       "3       5  \\n                by New Car Buyer\\n          ...   \n",
       "4       5  \\n                by KTisaPhillyPhan\\n        ...   \n",
       "5       5  \\n                by I<3DODGE\\n               ...   \n",
       "\n",
       "                                              Review  \\\n",
       "1  This is what I've bought Saturday:\\n2012 Dodge...   \n",
       "2  I just got my Special Order wiith my name on w...   \n",
       "3  About 2 months ago I purchased a new Dodge Cha...   \n",
       "4  We bought a tungsten metallic SXT-Plus Charger...   \n",
       "5  I have a 2012 Dodge Charger R/T Plus AWD in re...   \n",
       "\n",
       "                                  Brand                 Car Car_Year Car_Make  \\\n",
       "1  dodge-charger-2012/consumer-reviews/  dodge-charger-2012     2012    dodge   \n",
       "2  dodge-charger-2012/consumer-reviews/  dodge-charger-2012     2012    dodge   \n",
       "3  dodge-charger-2012/consumer-reviews/  dodge-charger-2012     2012    dodge   \n",
       "4  dodge-charger-2012/consumer-reviews/  dodge-charger-2012     2012    dodge   \n",
       "5  dodge-charger-2012/consumer-reviews/  dodge-charger-2012     2012    dodge   \n",
       "\n",
       "  Car_Model Review_Date  Review_Year  Review_Month  Review_Day  Car_Age  \n",
       "1   charger  2012-05-02         2012             5           2        0  \n",
       "2   charger  2012-06-14         2012             6          14        0  \n",
       "3   charger  2012-06-29         2012             6          29        0  \n",
       "4   charger  2012-05-08         2012             5           8        0  \n",
       "5   charger  2012-03-19         2012             3          19        0  "
      ]
     },
     "execution_count": 33,
     "metadata": {},
     "output_type": "execute_result"
    }
   ],
   "source": [
    "car_review.head()"
   ]
  },
  {
   "cell_type": "code",
   "execution_count": 34,
   "metadata": {},
   "outputs": [
    {
     "data": {
      "text/plain": [
       "5    7815\n",
       "4    1943\n",
       "3     538\n",
       "2     273\n",
       "1     252\n",
       "Name: Rating, dtype: int64"
      ]
     },
     "execution_count": 34,
     "metadata": {},
     "output_type": "execute_result"
    }
   ],
   "source": [
    "car_review.Rating.value_counts()"
   ]
  },
  {
   "cell_type": "code",
   "execution_count": 35,
   "metadata": {},
   "outputs": [
    {
     "data": {
      "image/png": "[encoded data removed]",
      "text/plain": [
       "<matplotlib.figure.Figure at 0x1153e1978>"
      ]
     },
     "metadata": {},
     "output_type": "display_data"
    }
   ],
   "source": [
    "car_review.Rating.value_counts(sort=False).plot(kind = 'bar')\n",
    "plt.show()"
   ]
  },
  {
   "cell_type": "code",
   "execution_count": 40,
   "metadata": {},
   "outputs": [
    {
     "data": {
      "text/html": [
       "<div>\n",
       "<style>\n",
       "    .dataframe thead tr:only-child th {\n",
       "        text-align: right;\n",
       "    }\n",
       "\n",
       "    .dataframe thead th {\n",
       "        text-align: left;\n",
       "    }\n",
       "\n",
       "    .dataframe tbody tr th {\n",
       "        vertical-align: top;\n",
       "    }\n",
       "</style>\n",
       "<table border=\"1\" class=\"dataframe\">\n",
       "  <thead>\n",
       "    <tr style=\"text-align: right;\">\n",
       "      <th>col_0</th>\n",
       "      <th>count</th>\n",
       "    </tr>\n",
       "    <tr>\n",
       "      <th>Rating</th>\n",
       "      <th></th>\n",
       "    </tr>\n",
       "  </thead>\n",
       "  <tbody>\n",
       "    <tr>\n",
       "      <th>1</th>\n",
       "      <td>0.023288</td>\n",
       "    </tr>\n",
       "    <tr>\n",
       "      <th>2</th>\n",
       "      <td>0.025229</td>\n",
       "    </tr>\n",
       "    <tr>\n",
       "      <th>3</th>\n",
       "      <td>0.049718</td>\n",
       "    </tr>\n",
       "    <tr>\n",
       "      <th>4</th>\n",
       "      <td>0.179558</td>\n",
       "    </tr>\n",
       "    <tr>\n",
       "      <th>5</th>\n",
       "      <td>0.722207</td>\n",
       "    </tr>\n",
       "  </tbody>\n",
       "</table>\n",
       "</div>"
      ],
      "text/plain": [
       "col_0      count\n",
       "Rating          \n",
       "1       0.023288\n",
       "2       0.025229\n",
       "3       0.049718\n",
       "4       0.179558\n",
       "5       0.722207"
      ]
     },
     "execution_count": 40,
     "metadata": {},
     "output_type": "execute_result"
    }
   ],
   "source": [
    "pd.crosstab(index=car_review.Rating, columns=\"count\")/pd.crosstab(index=car_review.Rating, columns=\"count\").sum()"
   ]
  },
  {
   "cell_type": "markdown",
   "metadata": {},
   "source": [
    "### Create positive & negative tag "
   ]
  },
  {
   "cell_type": "code",
   "execution_count": 41,
   "metadata": {},
   "outputs": [
    {
     "name": "stderr",
     "output_type": "stream",
     "text": [
      "/Users/lana/anaconda3/lib/python3.6/site-packages/ipykernel_launcher.py:1: SettingWithCopyWarning: \n",
      "A value is trying to be set on a copy of a slice from a DataFrame.\n",
      "Try using .loc[row_indexer,col_indexer] = value instead\n",
      "\n",
      "See the caveats in the documentation: http://pandas.pydata.org/pandas-docs/stable/indexing.html#indexing-view-versus-copy\n",
      "  \"\"\"Entry point for launching an IPython kernel.\n"
     ]
    }
   ],
   "source": [
    "car_review['tag'] = car_review['Rating'].map(lambda x:0 if x==5 else 1)"
   ]
  },
  {
   "cell_type": "code",
   "execution_count": 43,
   "metadata": {},
   "outputs": [
    {
     "data": {
      "text/plain": [
       "0    7815\n",
       "1    3006\n",
       "Name: tag, dtype: int64"
      ]
     },
     "execution_count": 43,
     "metadata": {},
     "output_type": "execute_result"
    }
   ],
   "source": [
    "car_review['tag'].value_counts(sort=False)"
   ]
  },
  {
   "cell_type": "markdown",
   "metadata": {},
   "source": [
    "* I tag the reviews that the users not fully satisfied with the car.\n",
    "#### 1: negative;\n",
    "#### 0: positive."
   ]
  },
  {
   "cell_type": "markdown",
   "metadata": {},
   "source": [
    "# Visualization"
   ]
  },
  {
   "cell_type": "code",
   "execution_count": 44,
   "metadata": {
    "collapsed": true
   },
   "outputs": [],
   "source": [
    "import matplotlib.pyplot as plt\n",
    "%matplotlib inline"
   ]
  },
  {
   "cell_type": "code",
   "execution_count": 45,
   "metadata": {},
   "outputs": [
    {
     "name": "stdout",
     "output_type": "stream",
     "text": [
      "max:  4076\n",
      "min:  48\n",
      "average:  396.6112189261621\n",
      "Standard Deviation: 442.9049\n"
     ]
    },
    {
     "data": {
      "image/png": "[encoded data removed]",
      "text/plain": [
       "<matplotlib.figure.Figure at 0x11441a748>"
      ]
     },
     "metadata": {},
     "output_type": "display_data"
    }
   ],
   "source": [
    "l=[len(i) for i in car_review.Review]\n",
    "print('max: ',max(l))\n",
    "print('min: ',min(l))\n",
    "print('average: ',sum(l)/len(l))\n",
    "print('Standard Deviation: {:.4f}'.format(np.std(l)))\n",
    "plt.boxplot(l)\n",
    "plt.grid(True)"
   ]
  },
  {
   "cell_type": "code",
   "execution_count": 46,
   "metadata": {},
   "outputs": [
    {
     "data": {
      "text/plain": [
       "839.5161189261621"
      ]
     },
     "execution_count": 46,
     "metadata": {},
     "output_type": "execute_result"
    }
   ],
   "source": [
    "396.6112189261621+442.9049"
   ]
  },
  {
   "cell_type": "code",
   "execution_count": 47,
   "metadata": {},
   "outputs": [
    {
     "data": {
      "text/plain": [
       "1282.421018926162"
      ]
     },
     "execution_count": 47,
     "metadata": {},
     "output_type": "execute_result"
    }
   ],
   "source": [
    "396.6112189261621+442.9049*2"
   ]
  },
  {
   "cell_type": "markdown",
   "metadata": {},
   "source": [
    "# Split the data set"
   ]
  },
  {
   "cell_type": "code",
   "execution_count": 48,
   "metadata": {
    "collapsed": true
   },
   "outputs": [],
   "source": [
    "from sklearn.model_selection import train_test_split"
   ]
  },
  {
   "cell_type": "code",
   "execution_count": 130,
   "metadata": {
    "collapsed": true
   },
   "outputs": [],
   "source": [
    "x = car_review.Review\n",
    "y = car_review.tag\n",
    "Xtrain, Xtest, ytrain, ytest = train_test_split(x, y, random_state=10, test_size=0.2)"
   ]
  },
  {
   "cell_type": "markdown",
   "metadata": {},
   "source": [
    "# Modelling with Supervised Algorithms"
   ]
  },
  {
   "cell_type": "code",
   "execution_count": 81,
   "metadata": {
    "collapsed": true
   },
   "outputs": [],
   "source": [
    "def model(preprocessing, model, trainx, trainy, testx, testy):\n",
    "    preprocessing_method = preprocessing\n",
    "    trainx2 = preprocessing_method.fit_transform(trainx) \n",
    "    testx2 = preprocessing_method.transform(testx)\n",
    "    \n",
    "    model = model.fit(trainx2, trainy)\n",
    "    predict = model.predict(testx2)\n",
    "    \n",
    "    fpr_train, tpr_train,_=roc_curve(trainy, model.predict(trainx2))\n",
    "    auc_train=auc(fpr_train, tpr_train)\n",
    "    \n",
    "    fpr_test, tpr_test,_=roc_curve(testy, predict)\n",
    "    auc_test=auc(fpr_test, tpr_test)\n",
    "    \n",
    "    print('AUC(Train): {:.4f}'.format(auc_train))\n",
    "    print('AUC(Test):  {:.4f}'.format(auc_test))\n",
    "    print (\"TRAIN Accuracy:   %0.3f\" % accuracy_score(trainy, model.predict(trainx2)))\n",
    "    print (\"TEST Accuracy:   %0.3f\" % accuracy_score(testy, predict))\n",
    "    \n",
    "    cm = confusion_matrix(testy, predict, labels = [0, 1])\n",
    "    print('Confusion matrix, without normalization:')\n",
    "    print(cm)\n",
    "    print(\"Normalized confusion matrix:\")\n",
    "    print(cm.astype('float') / cm.sum(axis=1)[:, np.newaxis])\n",
    "    print(classification_report(testy,predict))"
   ]
  },
  {
   "cell_type": "code",
   "execution_count": 89,
   "metadata": {
    "collapsed": true
   },
   "outputs": [],
   "source": [
    "def pipline_grid(parameters, pip, train_x, train_y):\n",
    "    \n",
    "    kfold = KFold(n_splits=3, random_state=10)\n",
    "    gs = GridSearchCV(pip, parameters, cv=kfold, scoring= 'recall')\n",
    "    \n",
    "    print(\"Performing grid search...\")\n",
    "    print(\"Pipeline:\", [name for name, _ in pip.steps])\n",
    "    t0 = time()\n",
    "    gs.fit(train_x, train_y)\n",
    "    t1 = time() \n",
    "    print(\"Done in %0.3fs\" % (t1 - t0))\n",
    "    \n",
    "    print(\"Best score: %0.3f\" % gs.best_score_)\n",
    "    print(\"Best parameters:\")\n",
    "    best_parameters = gs.best_estimator_.get_params()\n",
    "    print(t1 - t0)\n",
    "    print(best_parameters)\n",
    "#     return best_parameters"
   ]
  },
  {
   "cell_type": "markdown",
   "metadata": {},
   "source": [
    "## 1. Naive Bayes"
   ]
  },
  {
   "cell_type": "markdown",
   "metadata": {},
   "source": [
    "### 1.1 TFIDF Vectorizer"
   ]
  },
  {
   "cell_type": "code",
   "execution_count": 92,
   "metadata": {},
   "outputs": [
    {
     "name": "stdout",
     "output_type": "stream",
     "text": [
      "AUC(Train): 0.5517\n",
      "AUC(Test):  0.5223\n",
      "TRAIN Accuracy:   0.749\n",
      "TEST Accuracy:   0.743\n",
      "Confusion matrix, without normalization:\n",
      "[[1583    0]\n",
      " [ 556   26]]\n",
      "Normalized confusion matrix:\n",
      "[[1.         0.        ]\n",
      " [0.95532646 0.04467354]]\n",
      "             precision    recall  f1-score   support\n",
      "\n",
      "          0       0.74      1.00      0.85      1583\n",
      "          1       1.00      0.04      0.09       582\n",
      "\n",
      "avg / total       0.81      0.74      0.64      2165\n",
      "\n"
     ]
    }
   ],
   "source": [
    "model(TfidfVectorizer(), MultinomialNB(), Xtrain, ytrain, Xtest, ytest)"
   ]
  },
  {
   "cell_type": "markdown",
   "metadata": {},
   "source": [
    "#### Fine-tuning parameters"
   ]
  },
  {
   "cell_type": "code",
   "execution_count": 93,
   "metadata": {},
   "outputs": [
    {
     "name": "stdout",
     "output_type": "stream",
     "text": [
      "Performing grid search...\n",
      "Pipeline: ['vect', 'nb']\n",
      "Done in 1925.795s\n",
      "Best score: 0.487\n",
      "Best parameters:\n",
      "1925.794723033905\n",
      "{'memory': None, 'steps': [('vect', TfidfVectorizer(analyzer='word', binary=False, decode_error='strict',\n",
      "        dtype=<class 'numpy.int64'>, encoding='utf-8', input='content',\n",
      "        lowercase=True, max_df=1.0, max_features=None, min_df=3,\n",
      "        ngram_range=(1, 3), norm='l2', preprocessor=None, smooth_idf=True,\n",
      "        stop_words=None, strip_accents=None, sublinear_tf=False,\n",
      "        token_pattern='(?u)\\\\b\\\\w\\\\w+\\\\b', tokenizer=None, use_idf=True,\n",
      "        vocabulary=None)), ('nb', MultinomialNB(alpha=0.1, class_prior=None, fit_prior=True))], 'vect': TfidfVectorizer(analyzer='word', binary=False, decode_error='strict',\n",
      "        dtype=<class 'numpy.int64'>, encoding='utf-8', input='content',\n",
      "        lowercase=True, max_df=1.0, max_features=None, min_df=3,\n",
      "        ngram_range=(1, 3), norm='l2', preprocessor=None, smooth_idf=True,\n",
      "        stop_words=None, strip_accents=None, sublinear_tf=False,\n",
      "        token_pattern='(?u)\\\\b\\\\w\\\\w+\\\\b', tokenizer=None, use_idf=True,\n",
      "        vocabulary=None), 'nb': MultinomialNB(alpha=0.1, class_prior=None, fit_prior=True), 'vect__analyzer': 'word', 'vect__binary': False, 'vect__decode_error': 'strict', 'vect__dtype': <class 'numpy.int64'>, 'vect__encoding': 'utf-8', 'vect__input': 'content', 'vect__lowercase': True, 'vect__max_df': 1.0, 'vect__max_features': None, 'vect__min_df': 3, 'vect__ngram_range': (1, 3), 'vect__norm': 'l2', 'vect__preprocessor': None, 'vect__smooth_idf': True, 'vect__stop_words': None, 'vect__strip_accents': None, 'vect__sublinear_tf': False, 'vect__token_pattern': '(?u)\\\\b\\\\w\\\\w+\\\\b', 'vect__tokenizer': None, 'vect__use_idf': True, 'vect__vocabulary': None, 'nb__alpha': 0.1, 'nb__class_prior': None, 'nb__fit_prior': True}\n"
     ]
    }
   ],
   "source": [
    "pipeline_tfidf_nb_grid = Pipeline([\n",
    "    ('vect', TfidfVectorizer()),\n",
    "    ('nb', MultinomialNB()),\n",
    "])\n",
    "\n",
    "\n",
    "parameters = {\n",
    "    'vect__ngram_range': ((1, 1), (1, 2), (2, 2), (1, 3)),  \n",
    "    'vect__min_df': (1, 2, 3),\n",
    "    'vect__lowercase': (True, False),\n",
    "    'nb__alpha': np.arange(0.1,1.1,0.1),\n",
    "}\n",
    "\n",
    "pipline_grid(parameters, pipeline_tfidf_nb_grid, Xtrain, ytrain)"
   ]
  },
  {
   "cell_type": "code",
   "execution_count": 109,
   "metadata": {},
   "outputs": [
    {
     "name": "stdout",
     "output_type": "stream",
     "text": [
      "AUC(Train): 0.8908\n",
      "AUC(Test):  0.7219\n",
      "TRAIN Accuracy:   0.928\n",
      "TEST Accuracy:   0.819\n",
      "Confusion matrix, without normalization:\n",
      "[[1475  108]\n",
      " [ 284  298]]\n",
      "Normalized confusion matrix:\n",
      "[[0.93177511 0.06822489]\n",
      " [0.48797251 0.51202749]]\n",
      "             precision    recall  f1-score   support\n",
      "\n",
      "          0       0.84      0.93      0.88      1583\n",
      "          1       0.73      0.51      0.60       582\n",
      "\n",
      "avg / total       0.81      0.82      0.81      2165\n",
      "\n"
     ]
    }
   ],
   "source": [
    "model(TfidfVectorizer(lowercase = True, min_df = 3, ngram_range = (1, 3)),\n",
    "      MultinomialNB(alpha = 0.1), Xtrain, ytrain, Xtest, ytest)"
   ]
  },
  {
   "cell_type": "markdown",
   "metadata": {},
   "source": [
    "### 1.2 Count vectorizer"
   ]
  },
  {
   "cell_type": "code",
   "execution_count": 95,
   "metadata": {},
   "outputs": [
    {
     "name": "stdout",
     "output_type": "stream",
     "text": [
      "AUC(Train): 0.7777\n",
      "AUC(Test):  0.7204\n",
      "TRAIN Accuracy:   0.855\n",
      "TEST Accuracy:   0.818\n",
      "Confusion matrix, without normalization:\n",
      "[[1473  110]\n",
      " [ 285  297]]\n",
      "Normalized confusion matrix:\n",
      "[[0.93051169 0.06948831]\n",
      " [0.48969072 0.51030928]]\n",
      "             precision    recall  f1-score   support\n",
      "\n",
      "          0       0.84      0.93      0.88      1583\n",
      "          1       0.73      0.51      0.60       582\n",
      "\n",
      "avg / total       0.81      0.82      0.81      2165\n",
      "\n"
     ]
    }
   ],
   "source": [
    "model(CountVectorizer(), MultinomialNB(), Xtrain, ytrain, Xtest, ytest)"
   ]
  },
  {
   "cell_type": "markdown",
   "metadata": {},
   "source": [
    "#### Fine-tuning parameters"
   ]
  },
  {
   "cell_type": "code",
   "execution_count": 96,
   "metadata": {},
   "outputs": [
    {
     "name": "stdout",
     "output_type": "stream",
     "text": [
      "Performing grid search...\n",
      "Pipeline: ['vect', 'nb']\n",
      "Done in 1545.231s\n",
      "Best score: 0.575\n",
      "Best parameters:\n",
      "1545.230926990509\n",
      "{'memory': None, 'steps': [('vect', CountVectorizer(analyzer='word', binary=False, decode_error='strict',\n",
      "        dtype=<class 'numpy.int64'>, encoding='utf-8', input='content',\n",
      "        lowercase=True, max_df=1.0, max_features=None, min_df=3,\n",
      "        ngram_range=(1, 3), preprocessor=None, stop_words=None,\n",
      "        strip_accents=None, token_pattern='(?u)\\\\b\\\\w\\\\w+\\\\b',\n",
      "        tokenizer=None, vocabulary=None)), ('nb', MultinomialNB(alpha=0.4, class_prior=None, fit_prior=True))], 'vect': CountVectorizer(analyzer='word', binary=False, decode_error='strict',\n",
      "        dtype=<class 'numpy.int64'>, encoding='utf-8', input='content',\n",
      "        lowercase=True, max_df=1.0, max_features=None, min_df=3,\n",
      "        ngram_range=(1, 3), preprocessor=None, stop_words=None,\n",
      "        strip_accents=None, token_pattern='(?u)\\\\b\\\\w\\\\w+\\\\b',\n",
      "        tokenizer=None, vocabulary=None), 'nb': MultinomialNB(alpha=0.4, class_prior=None, fit_prior=True), 'vect__analyzer': 'word', 'vect__binary': False, 'vect__decode_error': 'strict', 'vect__dtype': <class 'numpy.int64'>, 'vect__encoding': 'utf-8', 'vect__input': 'content', 'vect__lowercase': True, 'vect__max_df': 1.0, 'vect__max_features': None, 'vect__min_df': 3, 'vect__ngram_range': (1, 3), 'vect__preprocessor': None, 'vect__stop_words': None, 'vect__strip_accents': None, 'vect__token_pattern': '(?u)\\\\b\\\\w\\\\w+\\\\b', 'vect__tokenizer': None, 'vect__vocabulary': None, 'nb__alpha': 0.4, 'nb__class_prior': None, 'nb__fit_prior': True}\n"
     ]
    }
   ],
   "source": [
    "pipeline_count_nb_grid = Pipeline([\n",
    "    ('vect', CountVectorizer()),\n",
    "    ('nb', MultinomialNB()),\n",
    "])\n",
    "\n",
    "\n",
    "parameters = {\n",
    "    'vect__ngram_range': ((1, 1), (1, 2),(1, 3)),  \n",
    "    'vect__lowercase': (True, False),\n",
    "    'vect__min_df': (1, 2, 3),\n",
    "    'nb__alpha': np.arange(0.1,1.1,0.1),\n",
    "}\n",
    "\n",
    "pipline_grid(parameters, pipeline_count_nb_grid, Xtrain, ytrain)"
   ]
  },
  {
   "cell_type": "code",
   "execution_count": 110,
   "metadata": {},
   "outputs": [
    {
     "name": "stdout",
     "output_type": "stream",
     "text": [
      "AUC(Train): 0.8804\n",
      "AUC(Test):  0.7415\n",
      "TRAIN Accuracy:   0.916\n",
      "TEST Accuracy:   0.817\n",
      "Confusion matrix, without normalization:\n",
      "[[1431  152]\n",
      " [ 245  337]]\n",
      "Normalized confusion matrix:\n",
      "[[0.90397979 0.09602021]\n",
      " [0.4209622  0.5790378 ]]\n",
      "             precision    recall  f1-score   support\n",
      "\n",
      "          0       0.85      0.90      0.88      1583\n",
      "          1       0.69      0.58      0.63       582\n",
      "\n",
      "avg / total       0.81      0.82      0.81      2165\n",
      "\n"
     ]
    }
   ],
   "source": [
    "model(CountVectorizer(lowercase = True, min_df = 3, ngram_range = (1, 3)),\n",
    "      MultinomialNB(alpha = 0.4), Xtrain, ytrain, Xtest, ytest)"
   ]
  },
  {
   "cell_type": "markdown",
   "metadata": {},
   "source": [
    "## 2. Logistic Regression"
   ]
  },
  {
   "cell_type": "markdown",
   "metadata": {},
   "source": [
    "### 2.1 TFIDF Vectorizer"
   ]
  },
  {
   "cell_type": "code",
   "execution_count": 98,
   "metadata": {},
   "outputs": [
    {
     "name": "stdout",
     "output_type": "stream",
     "text": [
      "AUC(Train): 0.7588\n",
      "AUC(Test):  0.7005\n",
      "TRAIN Accuracy:   0.852\n",
      "TEST Accuracy:   0.817\n",
      "Confusion matrix, without normalization:\n",
      "[[1508   75]\n",
      " [ 321  261]]\n",
      "Normalized confusion matrix:\n",
      "[[0.9526216  0.0473784 ]\n",
      " [0.55154639 0.44845361]]\n",
      "             precision    recall  f1-score   support\n",
      "\n",
      "          0       0.82      0.95      0.88      1583\n",
      "          1       0.78      0.45      0.57       582\n",
      "\n",
      "avg / total       0.81      0.82      0.80      2165\n",
      "\n"
     ]
    }
   ],
   "source": [
    "model(TfidfVectorizer(), LogisticRegression(), Xtrain, ytrain, Xtest, ytest)"
   ]
  },
  {
   "cell_type": "markdown",
   "metadata": {},
   "source": [
    "#### Fine-tuning parameters"
   ]
  },
  {
   "cell_type": "code",
   "execution_count": 99,
   "metadata": {},
   "outputs": [
    {
     "name": "stdout",
     "output_type": "stream",
     "text": [
      "Performing grid search...\n",
      "Pipeline: ['vect', 'lg']\n",
      "Done in 1272.733s\n",
      "Best score: 0.511\n",
      "Best parameters:\n",
      "1272.7330651283264\n",
      "{'memory': None, 'steps': [('vect', TfidfVectorizer(analyzer='word', binary=False, decode_error='strict',\n",
      "        dtype=<class 'numpy.int64'>, encoding='utf-8', input='content',\n",
      "        lowercase=False, max_df=1.0, max_features=None, min_df=3,\n",
      "        ngram_range=(1, 1), norm='l2', preprocessor=None, smooth_idf=True,\n",
      "        stop_words=None, strip_accents=None, sublinear_tf=False,\n",
      "        token_pattern='(?u)\\\\b\\\\w\\\\w+\\\\b', tokenizer=None, use_idf=True,\n",
      "        vocabulary=None)), ('lg', LogisticRegression(C=100, class_weight=None, dual=False, fit_intercept=True,\n",
      "          intercept_scaling=1, max_iter=100, multi_class='ovr', n_jobs=1,\n",
      "          penalty='l2', random_state=None, solver='liblinear', tol=0.0001,\n",
      "          verbose=0, warm_start=False))], 'vect': TfidfVectorizer(analyzer='word', binary=False, decode_error='strict',\n",
      "        dtype=<class 'numpy.int64'>, encoding='utf-8', input='content',\n",
      "        lowercase=False, max_df=1.0, max_features=None, min_df=3,\n",
      "        ngram_range=(1, 1), norm='l2', preprocessor=None, smooth_idf=True,\n",
      "        stop_words=None, strip_accents=None, sublinear_tf=False,\n",
      "        token_pattern='(?u)\\\\b\\\\w\\\\w+\\\\b', tokenizer=None, use_idf=True,\n",
      "        vocabulary=None), 'lg': LogisticRegression(C=100, class_weight=None, dual=False, fit_intercept=True,\n",
      "          intercept_scaling=1, max_iter=100, multi_class='ovr', n_jobs=1,\n",
      "          penalty='l2', random_state=None, solver='liblinear', tol=0.0001,\n",
      "          verbose=0, warm_start=False), 'vect__analyzer': 'word', 'vect__binary': False, 'vect__decode_error': 'strict', 'vect__dtype': <class 'numpy.int64'>, 'vect__encoding': 'utf-8', 'vect__input': 'content', 'vect__lowercase': False, 'vect__max_df': 1.0, 'vect__max_features': None, 'vect__min_df': 3, 'vect__ngram_range': (1, 1), 'vect__norm': 'l2', 'vect__preprocessor': None, 'vect__smooth_idf': True, 'vect__stop_words': None, 'vect__strip_accents': None, 'vect__sublinear_tf': False, 'vect__token_pattern': '(?u)\\\\b\\\\w\\\\w+\\\\b', 'vect__tokenizer': None, 'vect__use_idf': True, 'vect__vocabulary': None, 'lg__C': 100, 'lg__class_weight': None, 'lg__dual': False, 'lg__fit_intercept': True, 'lg__intercept_scaling': 1, 'lg__max_iter': 100, 'lg__multi_class': 'ovr', 'lg__n_jobs': 1, 'lg__penalty': 'l2', 'lg__random_state': None, 'lg__solver': 'liblinear', 'lg__tol': 0.0001, 'lg__verbose': 0, 'lg__warm_start': False}\n"
     ]
    }
   ],
   "source": [
    "pipeline_tfidf_lg_grid = Pipeline([\n",
    "    ('vect', TfidfVectorizer()),\n",
    "    ('lg', LogisticRegression()),\n",
    "])\n",
    "\n",
    "\n",
    "parameters = {\n",
    "    'vect__ngram_range': ((1, 1), (1, 2), (2, 2), (1, 3)),  \n",
    "    'vect__min_df': (1, 2, 3),\n",
    "    'vect__lowercase': (True, False),\n",
    "    'lg__C': [0.001,0.01,0.1,1,10,100],\n",
    "}\n",
    "\n",
    "pipline_grid(parameters, pipeline_tfidf_lg_grid, Xtrain, ytrain)"
   ]
  },
  {
   "cell_type": "code",
   "execution_count": 111,
   "metadata": {},
   "outputs": [
    {
     "name": "stdout",
     "output_type": "stream",
     "text": [
      "AUC(Train): 0.9810\n",
      "AUC(Test):  0.6987\n",
      "TRAIN Accuracy:   0.989\n",
      "TEST Accuracy:   0.769\n",
      "Confusion matrix, without normalization:\n",
      "[[1347  236]\n",
      " [ 264  318]]\n",
      "Normalized confusion matrix:\n",
      "[[0.85091598 0.14908402]\n",
      " [0.45360825 0.54639175]]\n",
      "             precision    recall  f1-score   support\n",
      "\n",
      "          0       0.84      0.85      0.84      1583\n",
      "          1       0.57      0.55      0.56       582\n",
      "\n",
      "avg / total       0.77      0.77      0.77      2165\n",
      "\n"
     ]
    }
   ],
   "source": [
    "model(TfidfVectorizer(ngram_range = (1,1), min_df=3, lowercase=False),\n",
    "      LogisticRegression(C=100), Xtrain, ytrain, Xtest, ytest)"
   ]
  },
  {
   "cell_type": "markdown",
   "metadata": {},
   "source": [
    "### 2.2 Count vectorizer"
   ]
  },
  {
   "cell_type": "code",
   "execution_count": 100,
   "metadata": {},
   "outputs": [
    {
     "name": "stdout",
     "output_type": "stream",
     "text": [
      "AUC(Train): 0.8997\n",
      "AUC(Test):  0.6985\n",
      "TRAIN Accuracy:   0.940\n",
      "TEST Accuracy:   0.793\n",
      "Confusion matrix, without normalization:\n",
      "[[1428  155]\n",
      " [ 294  288]]\n",
      "Normalized confusion matrix:\n",
      "[[0.90208465 0.09791535]\n",
      " [0.50515464 0.49484536]]\n",
      "             precision    recall  f1-score   support\n",
      "\n",
      "          0       0.83      0.90      0.86      1583\n",
      "          1       0.65      0.49      0.56       582\n",
      "\n",
      "avg / total       0.78      0.79      0.78      2165\n",
      "\n"
     ]
    }
   ],
   "source": [
    "model(CountVectorizer(), LogisticRegression(), Xtrain, ytrain, Xtest, ytest)"
   ]
  },
  {
   "cell_type": "markdown",
   "metadata": {},
   "source": [
    "#### Fine-tuning parameters"
   ]
  },
  {
   "cell_type": "code",
   "execution_count": 101,
   "metadata": {},
   "outputs": [
    {
     "name": "stdout",
     "output_type": "stream",
     "text": [
      "Performing grid search...\n",
      "Pipeline: ['vect', 'lg']\n",
      "Done in 1116.358s\n",
      "Best score: 0.506\n",
      "Best parameters:\n",
      "1116.3584427833557\n",
      "{'memory': None, 'steps': [('vect', CountVectorizer(analyzer='word', binary=False, decode_error='strict',\n",
      "        dtype=<class 'numpy.int64'>, encoding='utf-8', input='content',\n",
      "        lowercase=False, max_df=1.0, max_features=None, min_df=3,\n",
      "        ngram_range=(1, 1), preprocessor=None, stop_words=None,\n",
      "        strip_accents=None, token_pattern='(?u)\\\\b\\\\w\\\\w+\\\\b',\n",
      "        tokenizer=None, vocabulary=None)), ('lg', LogisticRegression(C=10, class_weight=None, dual=False, fit_intercept=True,\n",
      "          intercept_scaling=1, max_iter=100, multi_class='ovr', n_jobs=1,\n",
      "          penalty='l2', random_state=None, solver='liblinear', tol=0.0001,\n",
      "          verbose=0, warm_start=False))], 'vect': CountVectorizer(analyzer='word', binary=False, decode_error='strict',\n",
      "        dtype=<class 'numpy.int64'>, encoding='utf-8', input='content',\n",
      "        lowercase=False, max_df=1.0, max_features=None, min_df=3,\n",
      "        ngram_range=(1, 1), preprocessor=None, stop_words=None,\n",
      "        strip_accents=None, token_pattern='(?u)\\\\b\\\\w\\\\w+\\\\b',\n",
      "        tokenizer=None, vocabulary=None), 'lg': LogisticRegression(C=10, class_weight=None, dual=False, fit_intercept=True,\n",
      "          intercept_scaling=1, max_iter=100, multi_class='ovr', n_jobs=1,\n",
      "          penalty='l2', random_state=None, solver='liblinear', tol=0.0001,\n",
      "          verbose=0, warm_start=False), 'vect__analyzer': 'word', 'vect__binary': False, 'vect__decode_error': 'strict', 'vect__dtype': <class 'numpy.int64'>, 'vect__encoding': 'utf-8', 'vect__input': 'content', 'vect__lowercase': False, 'vect__max_df': 1.0, 'vect__max_features': None, 'vect__min_df': 3, 'vect__ngram_range': (1, 1), 'vect__preprocessor': None, 'vect__stop_words': None, 'vect__strip_accents': None, 'vect__token_pattern': '(?u)\\\\b\\\\w\\\\w+\\\\b', 'vect__tokenizer': None, 'vect__vocabulary': None, 'lg__C': 10, 'lg__class_weight': None, 'lg__dual': False, 'lg__fit_intercept': True, 'lg__intercept_scaling': 1, 'lg__max_iter': 100, 'lg__multi_class': 'ovr', 'lg__n_jobs': 1, 'lg__penalty': 'l2', 'lg__random_state': None, 'lg__solver': 'liblinear', 'lg__tol': 0.0001, 'lg__verbose': 0, 'lg__warm_start': False}\n"
     ]
    }
   ],
   "source": [
    "pipeline_count_lg_grid = Pipeline([\n",
    "    ('vect', CountVectorizer()),\n",
    "    ('lg', LogisticRegression()),\n",
    "])\n",
    "\n",
    "\n",
    "parameters = {\n",
    "    'vect__ngram_range': ((1, 1), (1, 2),(1, 3)),  \n",
    "    'vect__lowercase': (True, False),\n",
    "    'vect__min_df': (1, 2, 3),\n",
    "    'lg__C': [0.001,0.01,0.1,1,10,100],\n",
    "}\n",
    "\n",
    "pipline_grid(parameters, pipeline_count_lg_grid, Xtrain, ytrain)"
   ]
  },
  {
   "cell_type": "code",
   "execution_count": 126,
   "metadata": {},
   "outputs": [
    {
     "name": "stdout",
     "output_type": "stream",
     "text": [
      "AUC(Train): 0.9763\n",
      "AUC(Test):  0.6845\n",
      "TRAIN Accuracy:   0.986\n",
      "TEST Accuracy:   0.755\n",
      "Confusion matrix, without normalization:\n",
      "[[1324  259]\n",
      " [ 272  310]]\n",
      "Normalized confusion matrix:\n",
      "[[0.83638661 0.16361339]\n",
      " [0.46735395 0.53264605]]\n",
      "             precision    recall  f1-score   support\n",
      "\n",
      "          0       0.83      0.84      0.83      1583\n",
      "          1       0.54      0.53      0.54       582\n",
      "\n",
      "avg / total       0.75      0.75      0.75      2165\n",
      "\n"
     ]
    }
   ],
   "source": [
    "model(CountVectorizer(ngram_range = (1,1), min_df=3, lowercase=False),\n",
    "      LogisticRegression(C = 10), Xtrain, ytrain, Xtest, ytest)"
   ]
  },
  {
   "cell_type": "markdown",
   "metadata": {},
   "source": [
    "## 3. Linear support vector classifier"
   ]
  },
  {
   "cell_type": "markdown",
   "metadata": {},
   "source": [
    "### 3.1 TFIDF Vectorizer"
   ]
  },
  {
   "cell_type": "code",
   "execution_count": 102,
   "metadata": {},
   "outputs": [
    {
     "name": "stdout",
     "output_type": "stream",
     "text": [
      "AUC(Train): 0.8971\n",
      "AUC(Test):  0.7146\n",
      "TRAIN Accuracy:   0.937\n",
      "TEST Accuracy:   0.802\n",
      "Confusion matrix, without normalization:\n",
      "[[1430  153]\n",
      " [ 276  306]]\n",
      "Normalized confusion matrix:\n",
      "[[0.90334807 0.09665193]\n",
      " [0.4742268  0.5257732 ]]\n",
      "             precision    recall  f1-score   support\n",
      "\n",
      "          0       0.84      0.90      0.87      1583\n",
      "          1       0.67      0.53      0.59       582\n",
      "\n",
      "avg / total       0.79      0.80      0.79      2165\n",
      "\n"
     ]
    }
   ],
   "source": [
    "model(TfidfVectorizer(),LinearSVC(), Xtrain, ytrain, Xtest, ytest)"
   ]
  },
  {
   "cell_type": "markdown",
   "metadata": {},
   "source": [
    "#### Fine-tuning parameters"
   ]
  },
  {
   "cell_type": "code",
   "execution_count": 103,
   "metadata": {},
   "outputs": [
    {
     "name": "stdout",
     "output_type": "stream",
     "text": [
      "Performing grid search...\n",
      "Pipeline: ['vect', 'lsvc']\n",
      "Done in 2816.752s\n",
      "Best score: 0.512\n",
      "Best parameters:\n",
      "2816.7515149116516\n",
      "{'memory': None, 'steps': [('vect', TfidfVectorizer(analyzer='word', binary=False, decode_error='strict',\n",
      "        dtype=<class 'numpy.int64'>, encoding='utf-8', input='content',\n",
      "        lowercase=True, max_df=1.0, max_features=None, min_df=3,\n",
      "        ngram_range=(1, 2), norm='l2', preprocessor=None, smooth_idf=True,\n",
      "        stop_words=None, strip_accents=None, sublinear_tf=False,\n",
      "        token_pattern='(?u)\\\\b\\\\w\\\\w+\\\\b', tokenizer=None, use_idf=True,\n",
      "        vocabulary=None)), ('lsvc', LinearSVC(C=10, class_weight=None, dual=True, fit_intercept=True,\n",
      "     intercept_scaling=1, loss='squared_hinge', max_iter=1000,\n",
      "     multi_class='ovr', penalty='l2', random_state=None, tol=0.0001,\n",
      "     verbose=0))], 'vect': TfidfVectorizer(analyzer='word', binary=False, decode_error='strict',\n",
      "        dtype=<class 'numpy.int64'>, encoding='utf-8', input='content',\n",
      "        lowercase=True, max_df=1.0, max_features=None, min_df=3,\n",
      "        ngram_range=(1, 2), norm='l2', preprocessor=None, smooth_idf=True,\n",
      "        stop_words=None, strip_accents=None, sublinear_tf=False,\n",
      "        token_pattern='(?u)\\\\b\\\\w\\\\w+\\\\b', tokenizer=None, use_idf=True,\n",
      "        vocabulary=None), 'lsvc': LinearSVC(C=10, class_weight=None, dual=True, fit_intercept=True,\n",
      "     intercept_scaling=1, loss='squared_hinge', max_iter=1000,\n",
      "     multi_class='ovr', penalty='l2', random_state=None, tol=0.0001,\n",
      "     verbose=0), 'vect__analyzer': 'word', 'vect__binary': False, 'vect__decode_error': 'strict', 'vect__dtype': <class 'numpy.int64'>, 'vect__encoding': 'utf-8', 'vect__input': 'content', 'vect__lowercase': True, 'vect__max_df': 1.0, 'vect__max_features': None, 'vect__min_df': 3, 'vect__ngram_range': (1, 2), 'vect__norm': 'l2', 'vect__preprocessor': None, 'vect__smooth_idf': True, 'vect__stop_words': None, 'vect__strip_accents': None, 'vect__sublinear_tf': False, 'vect__token_pattern': '(?u)\\\\b\\\\w\\\\w+\\\\b', 'vect__tokenizer': None, 'vect__use_idf': True, 'vect__vocabulary': None, 'lsvc__C': 10, 'lsvc__class_weight': None, 'lsvc__dual': True, 'lsvc__fit_intercept': True, 'lsvc__intercept_scaling': 1, 'lsvc__loss': 'squared_hinge', 'lsvc__max_iter': 1000, 'lsvc__multi_class': 'ovr', 'lsvc__penalty': 'l2', 'lsvc__random_state': None, 'lsvc__tol': 0.0001, 'lsvc__verbose': 0}\n"
     ]
    }
   ],
   "source": [
    "pipeline_tfidf_lsvc_grid = Pipeline([\n",
    "    ('vect', TfidfVectorizer()),\n",
    "    ('lsvc', LinearSVC()),\n",
    "])\n",
    "\n",
    "parameters = {\n",
    "    'vect__ngram_range': ((1, 1), (1, 2), (2, 2), (1, 3)),  \n",
    "    'vect__min_df': (1, 2, 3),\n",
    "    'vect__lowercase': (True, False),\n",
    "    'lsvc__C': [0.001, 0.01, 0.1, 1, 10, 100, 1000],\n",
    "    'lsvc__loss': ['hinge', 'squared_hinge'],\n",
    "}\n",
    "\n",
    "pipline_grid(parameters, pipeline_tfidf_lsvc_grid, Xtrain, ytrain)"
   ]
  },
  {
   "cell_type": "code",
   "execution_count": 127,
   "metadata": {},
   "outputs": [
    {
     "name": "stdout",
     "output_type": "stream",
     "text": [
      "AUC(Train): 1.0000\n",
      "AUC(Test):  0.7184\n",
      "TRAIN Accuracy:   1.000\n",
      "TEST Accuracy:   0.791\n",
      "Confusion matrix, without normalization:\n",
      "[[1385  198]\n",
      " [ 255  327]]\n",
      "Normalized confusion matrix:\n",
      "[[0.87492104 0.12507896]\n",
      " [0.43814433 0.56185567]]\n",
      "             precision    recall  f1-score   support\n",
      "\n",
      "          0       0.84      0.87      0.86      1583\n",
      "          1       0.62      0.56      0.59       582\n",
      "\n",
      "avg / total       0.78      0.79      0.79      2165\n",
      "\n"
     ]
    }
   ],
   "source": [
    "model(TfidfVectorizer(ngram_range = (1,2), min_df=3, lowercase=True),\n",
    "      LinearSVC(C =10 , loss = 'squared_hinge'), Xtrain, ytrain, Xtest, ytest)"
   ]
  },
  {
   "cell_type": "markdown",
   "metadata": {},
   "source": [
    "### 3.2 Count vectorizer"
   ]
  },
  {
   "cell_type": "code",
   "execution_count": 105,
   "metadata": {},
   "outputs": [
    {
     "name": "stdout",
     "output_type": "stream",
     "text": [
      "AUC(Train): 0.9778\n",
      "AUC(Test):  0.6786\n",
      "TRAIN Accuracy:   0.987\n",
      "TEST Accuracy:   0.752\n",
      "Confusion matrix, without normalization:\n",
      "[[1327  256]\n",
      " [ 280  302]]\n",
      "Normalized confusion matrix:\n",
      "[[0.83828174 0.16171826]\n",
      " [0.48109966 0.51890034]]\n",
      "             precision    recall  f1-score   support\n",
      "\n",
      "          0       0.83      0.84      0.83      1583\n",
      "          1       0.54      0.52      0.53       582\n",
      "\n",
      "avg / total       0.75      0.75      0.75      2165\n",
      "\n"
     ]
    }
   ],
   "source": [
    "model(CountVectorizer(),LinearSVC(), Xtrain, ytrain, Xtest, ytest)"
   ]
  },
  {
   "cell_type": "markdown",
   "metadata": {},
   "source": [
    "#### Fine-tuning parameters"
   ]
  },
  {
   "cell_type": "code",
   "execution_count": 106,
   "metadata": {},
   "outputs": [
    {
     "name": "stdout",
     "output_type": "stream",
     "text": [
      "Performing grid search...\n",
      "Pipeline: ['vect', 'lsvc']\n",
      "Done in 2930.277s\n",
      "Best score: 0.506\n",
      "Best parameters:\n",
      "2930.277132987976\n",
      "{'memory': None, 'steps': [('vect', CountVectorizer(analyzer='word', binary=False, decode_error='strict',\n",
      "        dtype=<class 'numpy.int64'>, encoding='utf-8', input='content',\n",
      "        lowercase=True, max_df=1.0, max_features=None, min_df=1,\n",
      "        ngram_range=(1, 1), preprocessor=None, stop_words=None,\n",
      "        strip_accents=None, token_pattern='(?u)\\\\b\\\\w\\\\w+\\\\b',\n",
      "        tokenizer=None, vocabulary=None)), ('lsvc', LinearSVC(C=1, class_weight=None, dual=True, fit_intercept=True,\n",
      "     intercept_scaling=1, loss='squared_hinge', max_iter=1000,\n",
      "     multi_class='ovr', penalty='l2', random_state=None, tol=0.0001,\n",
      "     verbose=0))], 'vect': CountVectorizer(analyzer='word', binary=False, decode_error='strict',\n",
      "        dtype=<class 'numpy.int64'>, encoding='utf-8', input='content',\n",
      "        lowercase=True, max_df=1.0, max_features=None, min_df=1,\n",
      "        ngram_range=(1, 1), preprocessor=None, stop_words=None,\n",
      "        strip_accents=None, token_pattern='(?u)\\\\b\\\\w\\\\w+\\\\b',\n",
      "        tokenizer=None, vocabulary=None), 'lsvc': LinearSVC(C=1, class_weight=None, dual=True, fit_intercept=True,\n",
      "     intercept_scaling=1, loss='squared_hinge', max_iter=1000,\n",
      "     multi_class='ovr', penalty='l2', random_state=None, tol=0.0001,\n",
      "     verbose=0), 'vect__analyzer': 'word', 'vect__binary': False, 'vect__decode_error': 'strict', 'vect__dtype': <class 'numpy.int64'>, 'vect__encoding': 'utf-8', 'vect__input': 'content', 'vect__lowercase': True, 'vect__max_df': 1.0, 'vect__max_features': None, 'vect__min_df': 1, 'vect__ngram_range': (1, 1), 'vect__preprocessor': None, 'vect__stop_words': None, 'vect__strip_accents': None, 'vect__token_pattern': '(?u)\\\\b\\\\w\\\\w+\\\\b', 'vect__tokenizer': None, 'vect__vocabulary': None, 'lsvc__C': 1, 'lsvc__class_weight': None, 'lsvc__dual': True, 'lsvc__fit_intercept': True, 'lsvc__intercept_scaling': 1, 'lsvc__loss': 'squared_hinge', 'lsvc__max_iter': 1000, 'lsvc__multi_class': 'ovr', 'lsvc__penalty': 'l2', 'lsvc__random_state': None, 'lsvc__tol': 0.0001, 'lsvc__verbose': 0}\n"
     ]
    }
   ],
   "source": [
    "pipeline_count_lsvc_grid = Pipeline([\n",
    "    ('vect', CountVectorizer()),\n",
    "    ('lsvc', LinearSVC()),\n",
    "])\n",
    "\n",
    "parameters = {\n",
    "    'vect__ngram_range': ((1, 1), (1, 2), (2, 2), (1, 3)),  \n",
    "    'vect__lowercase': (True, False),\n",
    "    'vect__min_df': (1, 2, 3),\n",
    "    'lsvc__C': [0.001, 0.01, 0.1, 1, 10, 100, 1000],\n",
    "    'lsvc__loss': ['hinge', 'squared_hinge'],\n",
    "}\n",
    "\n",
    "pipline_grid(parameters, pipeline_count_lsvc_grid, Xtrain, ytrain)"
   ]
  },
  {
   "cell_type": "code",
   "execution_count": 112,
   "metadata": {},
   "outputs": [
    {
     "name": "stdout",
     "output_type": "stream",
     "text": [
      "AUC(Train): 0.9778\n",
      "AUC(Test):  0.6789\n",
      "TRAIN Accuracy:   0.987\n",
      "TEST Accuracy:   0.753\n",
      "Confusion matrix, without normalization:\n",
      "[[1328  255]\n",
      " [ 280  302]]\n",
      "Normalized confusion matrix:\n",
      "[[0.83891346 0.16108654]\n",
      " [0.48109966 0.51890034]]\n",
      "             precision    recall  f1-score   support\n",
      "\n",
      "          0       0.83      0.84      0.83      1583\n",
      "          1       0.54      0.52      0.53       582\n",
      "\n",
      "avg / total       0.75      0.75      0.75      2165\n",
      "\n"
     ]
    }
   ],
   "source": [
    "model(CountVectorizer(ngram_range = (1, 1), lowercase = True, min_df = 1),\n",
    "      LinearSVC(C = 1), Xtrain, ytrain, Xtest, ytest)"
   ]
  },
  {
   "cell_type": "markdown",
   "metadata": {},
   "source": [
    "## 4. K Nearest Neighbors Classifier"
   ]
  },
  {
   "cell_type": "markdown",
   "metadata": {},
   "source": [
    "### 4.1 TFIDF Vectorizer"
   ]
  },
  {
   "cell_type": "code",
   "execution_count": 116,
   "metadata": {},
   "outputs": [
    {
     "name": "stdout",
     "output_type": "stream",
     "text": [
      "AUC(Train): 0.7221\n",
      "AUC(Test):  0.6226\n",
      "TRAIN Accuracy:   0.827\n",
      "TEST Accuracy:   0.764\n",
      "Confusion matrix, without normalization:\n",
      "[[1468  115]\n",
      " [ 397  185]]\n",
      "Normalized confusion matrix:\n",
      "[[0.92735313 0.07264687]\n",
      " [0.68213058 0.31786942]]\n",
      "             precision    recall  f1-score   support\n",
      "\n",
      "          0       0.79      0.93      0.85      1583\n",
      "          1       0.62      0.32      0.42       582\n",
      "\n",
      "avg / total       0.74      0.76      0.74      2165\n",
      "\n"
     ]
    }
   ],
   "source": [
    "model(TfidfVectorizer(), KNeighborsClassifier(), Xtrain, ytrain, Xtest, ytest)"
   ]
  },
  {
   "cell_type": "markdown",
   "metadata": {},
   "source": [
    "#### Fine-tuning parameters"
   ]
  },
  {
   "cell_type": "code",
   "execution_count": 123,
   "metadata": {},
   "outputs": [
    {
     "name": "stdout",
     "output_type": "stream",
     "text": [
      "Performing grid search...\n",
      "Pipeline: ['vect', 'knn']\n",
      "Done in 8322.977s\n",
      "Best score: 0.386\n",
      "Best parameters:\n",
      "8322.977272987366\n",
      "{'memory': None, 'steps': [('vect', TfidfVectorizer(analyzer='word', binary=False, decode_error='strict',\n",
      "        dtype=<class 'numpy.int64'>, encoding='utf-8', input='content',\n",
      "        lowercase=True, max_df=1.0, max_features=None, min_df=3,\n",
      "        ngram_range=(1, 2), norm='l2', preprocessor=None, smooth_idf=True,\n",
      "        stop_words=None, strip_accents=None, sublinear_tf=False,\n",
      "        token_pattern='(?u)\\\\b\\\\w\\\\w+\\\\b', tokenizer=None, use_idf=True,\n",
      "        vocabulary=None)), ('knn', KNeighborsClassifier(algorithm='auto', leaf_size=30, metric='minkowski',\n",
      "           metric_params=None, n_jobs=1, n_neighbors=5, p=2,\n",
      "           weights='uniform'))], 'vect': TfidfVectorizer(analyzer='word', binary=False, decode_error='strict',\n",
      "        dtype=<class 'numpy.int64'>, encoding='utf-8', input='content',\n",
      "        lowercase=True, max_df=1.0, max_features=None, min_df=3,\n",
      "        ngram_range=(1, 2), norm='l2', preprocessor=None, smooth_idf=True,\n",
      "        stop_words=None, strip_accents=None, sublinear_tf=False,\n",
      "        token_pattern='(?u)\\\\b\\\\w\\\\w+\\\\b', tokenizer=None, use_idf=True,\n",
      "        vocabulary=None), 'knn': KNeighborsClassifier(algorithm='auto', leaf_size=30, metric='minkowski',\n",
      "           metric_params=None, n_jobs=1, n_neighbors=5, p=2,\n",
      "           weights='uniform'), 'vect__analyzer': 'word', 'vect__binary': False, 'vect__decode_error': 'strict', 'vect__dtype': <class 'numpy.int64'>, 'vect__encoding': 'utf-8', 'vect__input': 'content', 'vect__lowercase': True, 'vect__max_df': 1.0, 'vect__max_features': None, 'vect__min_df': 3, 'vect__ngram_range': (1, 2), 'vect__norm': 'l2', 'vect__preprocessor': None, 'vect__smooth_idf': True, 'vect__stop_words': None, 'vect__strip_accents': None, 'vect__sublinear_tf': False, 'vect__token_pattern': '(?u)\\\\b\\\\w\\\\w+\\\\b', 'vect__tokenizer': None, 'vect__use_idf': True, 'vect__vocabulary': None, 'knn__algorithm': 'auto', 'knn__leaf_size': 30, 'knn__metric': 'minkowski', 'knn__metric_params': None, 'knn__n_jobs': 1, 'knn__n_neighbors': 5, 'knn__p': 2, 'knn__weights': 'uniform'}\n"
     ]
    }
   ],
   "source": [
    "pipeline_tfidf_knn_grid = Pipeline([\n",
    "    ('vect', TfidfVectorizer()),\n",
    "    ('knn', KNeighborsClassifier()),\n",
    "])\n",
    "\n",
    "parameters = {\n",
    "    'vect__ngram_range': ((1, 1), (1, 2), (2, 2), (1, 3)),  \n",
    "    'vect__min_df': (1, 2, 3),\n",
    "    'vect__lowercase': (True, False),\n",
    "    'knn__n_neighbors': list(range(5, 81, 4)),\n",
    "}\n",
    "\n",
    "pipline_grid(parameters, pipeline_tfidf_knn_grid, Xtrain, ytrain)"
   ]
  },
  {
   "cell_type": "code",
   "execution_count": 128,
   "metadata": {},
   "outputs": [
    {
     "name": "stdout",
     "output_type": "stream",
     "text": [
      "AUC(Train): 0.7406\n",
      "AUC(Test):  0.6465\n",
      "TRAIN Accuracy:   0.829\n",
      "TEST Accuracy:   0.758\n",
      "Confusion matrix, without normalization:\n",
      "[[1405  178]\n",
      " [ 346  236]]\n",
      "Normalized confusion matrix:\n",
      "[[0.88755527 0.11244473]\n",
      " [0.59450172 0.40549828]]\n",
      "             precision    recall  f1-score   support\n",
      "\n",
      "          0       0.80      0.89      0.84      1583\n",
      "          1       0.57      0.41      0.47       582\n",
      "\n",
      "avg / total       0.74      0.76      0.74      2165\n",
      "\n"
     ]
    }
   ],
   "source": [
    "model(TfidfVectorizer(ngram_range = (1,2), min_df=3, lowercase=True),\n",
    "      KNeighborsClassifier(n_neighbors=5), Xtrain, ytrain, Xtest, ytest)"
   ]
  },
  {
   "cell_type": "markdown",
   "metadata": {},
   "source": [
    "### 4.2 Count vectorizer"
   ]
  },
  {
   "cell_type": "code",
   "execution_count": 117,
   "metadata": {},
   "outputs": [
    {
     "name": "stdout",
     "output_type": "stream",
     "text": [
      "AUC(Train): 0.6101\n",
      "AUC(Test):  0.5407\n",
      "TRAIN Accuracy:   0.772\n",
      "TEST Accuracy:   0.731\n",
      "Confusion matrix, without normalization:\n",
      "[[1508   75]\n",
      " [ 507   75]]\n",
      "Normalized confusion matrix:\n",
      "[[0.9526216  0.0473784 ]\n",
      " [0.87113402 0.12886598]]\n",
      "             precision    recall  f1-score   support\n",
      "\n",
      "          0       0.75      0.95      0.84      1583\n",
      "          1       0.50      0.13      0.20       582\n",
      "\n",
      "avg / total       0.68      0.73      0.67      2165\n",
      "\n"
     ]
    }
   ],
   "source": [
    "model(CountVectorizer(),KNeighborsClassifier(), Xtrain, ytrain, Xtest, ytest)"
   ]
  },
  {
   "cell_type": "markdown",
   "metadata": {},
   "source": [
    "#### Fine-tuning parameters"
   ]
  },
  {
   "cell_type": "code",
   "execution_count": 124,
   "metadata": {},
   "outputs": [
    {
     "name": "stdout",
     "output_type": "stream",
     "text": [
      "Performing grid search...\n",
      "Pipeline: ['vect', 'knn']\n",
      "Done in 8032.734s\n",
      "Best score: 0.214\n",
      "Best parameters:\n",
      "8032.734415054321\n",
      "{'memory': None, 'steps': [('vect', CountVectorizer(analyzer='word', binary=False, decode_error='strict',\n",
      "        dtype=<class 'numpy.int64'>, encoding='utf-8', input='content',\n",
      "        lowercase=False, max_df=1.0, max_features=None, min_df=3,\n",
      "        ngram_range=(2, 2), preprocessor=None, stop_words=None,\n",
      "        strip_accents=None, token_pattern='(?u)\\\\b\\\\w\\\\w+\\\\b',\n",
      "        tokenizer=None, vocabulary=None)), ('knn', KNeighborsClassifier(algorithm='auto', leaf_size=30, metric='minkowski',\n",
      "           metric_params=None, n_jobs=1, n_neighbors=5, p=2,\n",
      "           weights='uniform'))], 'vect': CountVectorizer(analyzer='word', binary=False, decode_error='strict',\n",
      "        dtype=<class 'numpy.int64'>, encoding='utf-8', input='content',\n",
      "        lowercase=False, max_df=1.0, max_features=None, min_df=3,\n",
      "        ngram_range=(2, 2), preprocessor=None, stop_words=None,\n",
      "        strip_accents=None, token_pattern='(?u)\\\\b\\\\w\\\\w+\\\\b',\n",
      "        tokenizer=None, vocabulary=None), 'knn': KNeighborsClassifier(algorithm='auto', leaf_size=30, metric='minkowski',\n",
      "           metric_params=None, n_jobs=1, n_neighbors=5, p=2,\n",
      "           weights='uniform'), 'vect__analyzer': 'word', 'vect__binary': False, 'vect__decode_error': 'strict', 'vect__dtype': <class 'numpy.int64'>, 'vect__encoding': 'utf-8', 'vect__input': 'content', 'vect__lowercase': False, 'vect__max_df': 1.0, 'vect__max_features': None, 'vect__min_df': 3, 'vect__ngram_range': (2, 2), 'vect__preprocessor': None, 'vect__stop_words': None, 'vect__strip_accents': None, 'vect__token_pattern': '(?u)\\\\b\\\\w\\\\w+\\\\b', 'vect__tokenizer': None, 'vect__vocabulary': None, 'knn__algorithm': 'auto', 'knn__leaf_size': 30, 'knn__metric': 'minkowski', 'knn__metric_params': None, 'knn__n_jobs': 1, 'knn__n_neighbors': 5, 'knn__p': 2, 'knn__weights': 'uniform'}\n"
     ]
    }
   ],
   "source": [
    "pipeline_count_knn_grid = Pipeline([\n",
    "    ('vect', CountVectorizer()),\n",
    "    ('knn', KNeighborsClassifier()),\n",
    "])\n",
    "\n",
    "parameters = {\n",
    "    'vect__ngram_range': ((1, 1), (1, 2), (2, 2), (1, 3)),  \n",
    "    'vect__lowercase': (True, False),\n",
    "    'vect__min_df': (1, 2, 3),\n",
    "    'knn__n_neighbors': list(range(5, 81, 4)),\n",
    "}\n",
    "\n",
    "pipline_grid(parameters, pipeline_count_knn_grid, Xtrain, ytrain)"
   ]
  },
  {
   "cell_type": "code",
   "execution_count": 133,
   "metadata": {},
   "outputs": [
    {
     "name": "stdout",
     "output_type": "stream",
     "text": [
      "AUC(Train): 0.7027\n",
      "AUC(Test):  0.5180\n",
      "TRAIN Accuracy:   0.814\n",
      "TEST Accuracy:   0.698\n",
      "Confusion matrix, without normalization:\n",
      "[[1436  147]\n",
      " [ 507   75]]\n",
      "Normalized confusion matrix:\n",
      "[[0.90713834 0.09286166]\n",
      " [0.87113402 0.12886598]]\n",
      "             precision    recall  f1-score   support\n",
      "\n",
      "          0       0.74      0.91      0.81      1583\n",
      "          1       0.34      0.13      0.19       582\n",
      "\n",
      "avg / total       0.63      0.70      0.65      2165\n",
      "\n"
     ]
    }
   ],
   "source": [
    "model(CountVectorizer(ngram_range = (2, 2), lowercase = False, min_df = 3),\n",
    "      KNeighborsClassifier(n_neighbors=5), Xtrain, ytrain, Xtest, ytest)"
   ]
  },
  {
   "cell_type": "markdown",
   "metadata": {},
   "source": [
    "# Summary"
   ]
  },
  {
   "cell_type": "code",
   "execution_count": 138,
   "metadata": {},
   "outputs": [
    {
     "data": {
      "text/html": [
       "<div>\n",
       "<style>\n",
       "    .dataframe thead tr:only-child th {\n",
       "        text-align: right;\n",
       "    }\n",
       "\n",
       "    .dataframe thead th {\n",
       "        text-align: left;\n",
       "    }\n",
       "\n",
       "    .dataframe tbody tr th {\n",
       "        vertical-align: top;\n",
       "    }\n",
       "</style>\n",
       "<table border=\"1\" class=\"dataframe\">\n",
       "  <thead>\n",
       "    <tr style=\"text-align: right;\">\n",
       "      <th></th>\n",
       "      <th>K-Nearest Neighbor</th>\n",
       "      <th>Linear SVC</th>\n",
       "      <th>Logistic Regression</th>\n",
       "      <th>Naive Bayes</th>\n",
       "    </tr>\n",
       "  </thead>\n",
       "  <tbody>\n",
       "    <tr>\n",
       "      <th>TF-IDF: recall</th>\n",
       "      <td>0.4100</td>\n",
       "      <td>0.5600</td>\n",
       "      <td>0.5500</td>\n",
       "      <td>0.5100</td>\n",
       "    </tr>\n",
       "    <tr>\n",
       "      <th>TF-IDF: AUC</th>\n",
       "      <td>0.6465</td>\n",
       "      <td>0.7184</td>\n",
       "      <td>0.6987</td>\n",
       "      <td>0.7219</td>\n",
       "    </tr>\n",
       "    <tr>\n",
       "      <th>TF-IDF: Accuracy</th>\n",
       "      <td>0.7580</td>\n",
       "      <td>0.7910</td>\n",
       "      <td>0.7690</td>\n",
       "      <td>0.8190</td>\n",
       "    </tr>\n",
       "    <tr>\n",
       "      <th>Count Vectorizer: recall</th>\n",
       "      <td>0.1300</td>\n",
       "      <td>0.5200</td>\n",
       "      <td>0.5300</td>\n",
       "      <td>0.5800</td>\n",
       "    </tr>\n",
       "    <tr>\n",
       "      <th>Count Vectorizer: AUC</th>\n",
       "      <td>0.5180</td>\n",
       "      <td>0.6789</td>\n",
       "      <td>0.6845</td>\n",
       "      <td>0.7415</td>\n",
       "    </tr>\n",
       "    <tr>\n",
       "      <th>Count Vectorizer: Accuracy</th>\n",
       "      <td>0.6980</td>\n",
       "      <td>0.7530</td>\n",
       "      <td>0.7550</td>\n",
       "      <td>0.8170</td>\n",
       "    </tr>\n",
       "  </tbody>\n",
       "</table>\n",
       "</div>"
      ],
      "text/plain": [
       "                            K-Nearest Neighbor  Linear SVC  \\\n",
       "TF-IDF: recall                          0.4100      0.5600   \n",
       "TF-IDF: AUC                             0.6465      0.7184   \n",
       "TF-IDF: Accuracy                        0.7580      0.7910   \n",
       "Count Vectorizer: recall                0.1300      0.5200   \n",
       "Count Vectorizer: AUC                   0.5180      0.6789   \n",
       "Count Vectorizer: Accuracy              0.6980      0.7530   \n",
       "\n",
       "                            Logistic Regression  Naive Bayes  \n",
       "TF-IDF: recall                           0.5500       0.5100  \n",
       "TF-IDF: AUC                              0.6987       0.7219  \n",
       "TF-IDF: Accuracy                         0.7690       0.8190  \n",
       "Count Vectorizer: recall                 0.5300       0.5800  \n",
       "Count Vectorizer: AUC                    0.6845       0.7415  \n",
       "Count Vectorizer: Accuracy               0.7550       0.8170  "
      ]
     },
     "execution_count": 138,
     "metadata": {},
     "output_type": "execute_result"
    }
   ],
   "source": [
    "metrics = ['TF-IDF: recall', 'TF-IDF: AUC', 'TF-IDF: Accuracy', \n",
    "           'Count Vectorizer: recall', 'Count Vectorizer: AUC', 'Count Vectorizer: Accuracy']\n",
    "nb = [0.51, 0.7219, 0.819, 0.58, 0.7415, 0.817]\n",
    "lr = [0.55, 0.6987, 0.769, 0.53, 0.6845, 0.755]\n",
    "svc = [0.56, 0.7184, 0.791, 0.52, 0.6789, 0.753]\n",
    "knn = [0.41, 0.6465, 0.758, 0.13, 0.5180, 0.6980]\n",
    "pd.DataFrame({ \"Naive Bayes\":nb, \"Logistic Regression\":lr, \"Linear SVC\":svc, \"K-Nearest Neighbor\":knn},\n",
    "            index = metrics)"
   ]
  },
  {
   "cell_type": "code",
   "execution_count": null,
   "metadata": {
    "collapsed": true
   },
   "outputs": [],
   "source": []
  }
 ],
 "metadata": {
  "kernelspec": {
   "display_name": "Python 3",
   "language": "python",
   "name": "python3"
  },
  "language_info": {
   "codemirror_mode": {
    "name": "ipython",
    "version": 3
   },
   "file_extension": ".py",
   "mimetype": "text/x-python",
   "name": "python",
   "nbconvert_exporter": "python",
   "pygments_lexer": "ipython3",
   "version": "3.6.3"
  }
 },
 "nbformat": 4,
 "nbformat_minor": 2
}
