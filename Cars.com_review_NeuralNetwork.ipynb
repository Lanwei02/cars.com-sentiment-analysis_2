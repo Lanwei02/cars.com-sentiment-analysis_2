{
 "cells": [
  {
   "cell_type": "code",
   "execution_count": 34,
   "metadata": {},
   "outputs": [
    {
     "name": "stderr",
     "output_type": "stream",
     "text": [
      "Using TensorFlow backend.\n"
     ]
    }
   ],
   "source": [
    "import pandas as pd\n",
    "import numpy as np\n",
    "import matplotlib.pyplot as plt\n",
    "import seaborn as sns\n",
    "%matplotlib inline\n",
    "\n",
    "from keras.preprocessing.text import Tokenizer\n",
    "from keras.preprocessing import sequence\n",
    "\n",
    "from sklearn.preprocessing import LabelEncoder\n",
    "\n",
    "from sklearn.metrics import accuracy_score, classification_report\n",
    "from sklearn.metrics import roc_auc_score, roc_curve, auc\n",
    "from sklearn.metrics import confusion_matrix, recall_score\n",
    "\n",
    "from sklearn.model_selection import train_test_split\n",
    "\n",
    "from sklearn.pipeline import Pipeline\n",
    "from sklearn.model_selection import KFold, GridSearchCV\n",
    "\n",
    "from time import time\n",
    "from datetime import datetime\n",
    "import statistics \n",
    "\n",
    "from sklearn.metrics import accuracy_score, classification_report, confusion_matrix\n",
    "\n",
    "import warnings\n",
    "warnings.filterwarnings(\"ignore\")"
   ]
  },
  {
   "cell_type": "code",
   "execution_count": 2,
   "metadata": {
    "collapsed": true
   },
   "outputs": [],
   "source": [
    "car_review = pd.read_csv('car_review.csv', index_col=0)"
   ]
  },
  {
   "cell_type": "code",
   "execution_count": 3,
   "metadata": {},
   "outputs": [
    {
     "data": {
      "text/html": [
       "<div>\n",
       "<style>\n",
       "    .dataframe thead tr:only-child th {\n",
       "        text-align: right;\n",
       "    }\n",
       "\n",
       "    .dataframe thead th {\n",
       "        text-align: left;\n",
       "    }\n",
       "\n",
       "    .dataframe tbody tr th {\n",
       "        vertical-align: top;\n",
       "    }\n",
       "</style>\n",
       "<table border=\"1\" class=\"dataframe\">\n",
       "  <thead>\n",
       "    <tr style=\"text-align: right;\">\n",
       "      <th></th>\n",
       "      <th>Rating</th>\n",
       "      <th>Year</th>\n",
       "      <th>Review</th>\n",
       "      <th>Brand</th>\n",
       "    </tr>\n",
       "  </thead>\n",
       "  <tbody>\n",
       "    <tr>\n",
       "      <th>1</th>\n",
       "      <td>4</td>\n",
       "      <td>\\n                by JayeMaye\\n               ...</td>\n",
       "      <td>\\n                This is what I've bought Sat...</td>\n",
       "      <td>dodge-charger-2012/consumer-reviews/</td>\n",
       "    </tr>\n",
       "    <tr>\n",
       "      <th>2</th>\n",
       "      <td>5</td>\n",
       "      <td>\\n                by Female Driver\\n          ...</td>\n",
       "      <td>\\n                I just got my Special Order ...</td>\n",
       "      <td>dodge-charger-2012/consumer-reviews/</td>\n",
       "    </tr>\n",
       "    <tr>\n",
       "      <th>3</th>\n",
       "      <td>5</td>\n",
       "      <td>\\n                by New Car Buyer\\n          ...</td>\n",
       "      <td>\\n                About 2 months ago I purchas...</td>\n",
       "      <td>dodge-charger-2012/consumer-reviews/</td>\n",
       "    </tr>\n",
       "    <tr>\n",
       "      <th>4</th>\n",
       "      <td>5</td>\n",
       "      <td>\\n                by KTisaPhillyPhan\\n        ...</td>\n",
       "      <td>\\n                We bought a tungsten metalli...</td>\n",
       "      <td>dodge-charger-2012/consumer-reviews/</td>\n",
       "    </tr>\n",
       "    <tr>\n",
       "      <th>5</th>\n",
       "      <td>5</td>\n",
       "      <td>\\n                by I&lt;3DODGE\\n               ...</td>\n",
       "      <td>\\n                I have a 2012 Dodge Charger ...</td>\n",
       "      <td>dodge-charger-2012/consumer-reviews/</td>\n",
       "    </tr>\n",
       "  </tbody>\n",
       "</table>\n",
       "</div>"
      ],
      "text/plain": [
       "   Rating                                               Year  \\\n",
       "1       4  \\n                by JayeMaye\\n               ...   \n",
       "2       5  \\n                by Female Driver\\n          ...   \n",
       "3       5  \\n                by New Car Buyer\\n          ...   \n",
       "4       5  \\n                by KTisaPhillyPhan\\n        ...   \n",
       "5       5  \\n                by I<3DODGE\\n               ...   \n",
       "\n",
       "                                              Review  \\\n",
       "1  \\n                This is what I've bought Sat...   \n",
       "2  \\n                I just got my Special Order ...   \n",
       "3  \\n                About 2 months ago I purchas...   \n",
       "4  \\n                We bought a tungsten metalli...   \n",
       "5  \\n                I have a 2012 Dodge Charger ...   \n",
       "\n",
       "                                  Brand  \n",
       "1  dodge-charger-2012/consumer-reviews/  \n",
       "2  dodge-charger-2012/consumer-reviews/  \n",
       "3  dodge-charger-2012/consumer-reviews/  \n",
       "4  dodge-charger-2012/consumer-reviews/  \n",
       "5  dodge-charger-2012/consumer-reviews/  "
      ]
     },
     "execution_count": 3,
     "metadata": {},
     "output_type": "execute_result"
    }
   ],
   "source": [
    "car_review.head()"
   ]
  },
  {
   "cell_type": "code",
   "execution_count": 4,
   "metadata": {},
   "outputs": [
    {
     "data": {
      "text/plain": [
       "5    14704\n",
       "4     3211\n",
       "3      730\n",
       "2      313\n",
       "1      284\n",
       "Name: Rating, dtype: int64"
      ]
     },
     "execution_count": 4,
     "metadata": {},
     "output_type": "execute_result"
    }
   ],
   "source": [
    "car_review.Rating.value_counts()"
   ]
  },
  {
   "cell_type": "code",
   "execution_count": 5,
   "metadata": {},
   "outputs": [
    {
     "data": {
      "image/png": "[encoded data removed]",
      "text/plain": [
       "<matplotlib.figure.Figure at 0x1a10d7e5f8>"
      ]
     },
     "metadata": {},
     "output_type": "display_data"
    }
   ],
   "source": [
    "car_review.Rating.value_counts(sort=False).plot(kind = 'bar')\n",
    "plt.show()"
   ]
  },
  {
   "cell_type": "markdown",
   "metadata": {},
   "source": [
    "* Reviews are skewed towards positive"
   ]
  },
  {
   "cell_type": "markdown",
   "metadata": {},
   "source": [
    "# Cleaning data and rettive features"
   ]
  },
  {
   "cell_type": "markdown",
   "metadata": {},
   "source": [
    "### Car"
   ]
  },
  {
   "cell_type": "code",
   "execution_count": 6,
   "metadata": {
    "collapsed": true
   },
   "outputs": [],
   "source": [
    "car_review['Car'] = car_review.Brand.map(lambda x: x.split('/')[0])\n",
    "car_review['Car_Year'] = car_review['Car'].map(lambda x: x.split('-')[-1])\n",
    "car_review['Car_test'] = car_review['Car'].map(lambda x: x.split('-')[:-1])\n",
    "car_review['Car_Make'] = car_review['Car_test'].map(lambda x: x[0])\n",
    "car_review['Car_Model'] = car_review['Car_test'].map(lambda x: x[-1])"
   ]
  },
  {
   "cell_type": "code",
   "execution_count": 7,
   "metadata": {
    "collapsed": true
   },
   "outputs": [],
   "source": [
    "car_review.drop(['Car_test'], axis=1, inplace=True)"
   ]
  },
  {
   "cell_type": "code",
   "execution_count": 8,
   "metadata": {},
   "outputs": [
    {
     "data": {
      "text/html": [
       "<div>\n",
       "<style>\n",
       "    .dataframe thead tr:only-child th {\n",
       "        text-align: right;\n",
       "    }\n",
       "\n",
       "    .dataframe thead th {\n",
       "        text-align: left;\n",
       "    }\n",
       "\n",
       "    .dataframe tbody tr th {\n",
       "        vertical-align: top;\n",
       "    }\n",
       "</style>\n",
       "<table border=\"1\" class=\"dataframe\">\n",
       "  <thead>\n",
       "    <tr style=\"text-align: right;\">\n",
       "      <th></th>\n",
       "      <th>Rating</th>\n",
       "      <th>Year</th>\n",
       "      <th>Review</th>\n",
       "      <th>Brand</th>\n",
       "      <th>Car</th>\n",
       "      <th>Car_Year</th>\n",
       "      <th>Car_Make</th>\n",
       "      <th>Car_Model</th>\n",
       "    </tr>\n",
       "  </thead>\n",
       "  <tbody>\n",
       "    <tr>\n",
       "      <th>1</th>\n",
       "      <td>4</td>\n",
       "      <td>\\n                by JayeMaye\\n               ...</td>\n",
       "      <td>\\n                This is what I've bought Sat...</td>\n",
       "      <td>dodge-charger-2012/consumer-reviews/</td>\n",
       "      <td>dodge-charger-2012</td>\n",
       "      <td>2012</td>\n",
       "      <td>dodge</td>\n",
       "      <td>charger</td>\n",
       "    </tr>\n",
       "    <tr>\n",
       "      <th>2</th>\n",
       "      <td>5</td>\n",
       "      <td>\\n                by Female Driver\\n          ...</td>\n",
       "      <td>\\n                I just got my Special Order ...</td>\n",
       "      <td>dodge-charger-2012/consumer-reviews/</td>\n",
       "      <td>dodge-charger-2012</td>\n",
       "      <td>2012</td>\n",
       "      <td>dodge</td>\n",
       "      <td>charger</td>\n",
       "    </tr>\n",
       "    <tr>\n",
       "      <th>3</th>\n",
       "      <td>5</td>\n",
       "      <td>\\n                by New Car Buyer\\n          ...</td>\n",
       "      <td>\\n                About 2 months ago I purchas...</td>\n",
       "      <td>dodge-charger-2012/consumer-reviews/</td>\n",
       "      <td>dodge-charger-2012</td>\n",
       "      <td>2012</td>\n",
       "      <td>dodge</td>\n",
       "      <td>charger</td>\n",
       "    </tr>\n",
       "    <tr>\n",
       "      <th>4</th>\n",
       "      <td>5</td>\n",
       "      <td>\\n                by KTisaPhillyPhan\\n        ...</td>\n",
       "      <td>\\n                We bought a tungsten metalli...</td>\n",
       "      <td>dodge-charger-2012/consumer-reviews/</td>\n",
       "      <td>dodge-charger-2012</td>\n",
       "      <td>2012</td>\n",
       "      <td>dodge</td>\n",
       "      <td>charger</td>\n",
       "    </tr>\n",
       "    <tr>\n",
       "      <th>5</th>\n",
       "      <td>5</td>\n",
       "      <td>\\n                by I&lt;3DODGE\\n               ...</td>\n",
       "      <td>\\n                I have a 2012 Dodge Charger ...</td>\n",
       "      <td>dodge-charger-2012/consumer-reviews/</td>\n",
       "      <td>dodge-charger-2012</td>\n",
       "      <td>2012</td>\n",
       "      <td>dodge</td>\n",
       "      <td>charger</td>\n",
       "    </tr>\n",
       "  </tbody>\n",
       "</table>\n",
       "</div>"
      ],
      "text/plain": [
       "   Rating                                               Year  \\\n",
       "1       4  \\n                by JayeMaye\\n               ...   \n",
       "2       5  \\n                by Female Driver\\n          ...   \n",
       "3       5  \\n                by New Car Buyer\\n          ...   \n",
       "4       5  \\n                by KTisaPhillyPhan\\n        ...   \n",
       "5       5  \\n                by I<3DODGE\\n               ...   \n",
       "\n",
       "                                              Review  \\\n",
       "1  \\n                This is what I've bought Sat...   \n",
       "2  \\n                I just got my Special Order ...   \n",
       "3  \\n                About 2 months ago I purchas...   \n",
       "4  \\n                We bought a tungsten metalli...   \n",
       "5  \\n                I have a 2012 Dodge Charger ...   \n",
       "\n",
       "                                  Brand                 Car Car_Year Car_Make  \\\n",
       "1  dodge-charger-2012/consumer-reviews/  dodge-charger-2012     2012    dodge   \n",
       "2  dodge-charger-2012/consumer-reviews/  dodge-charger-2012     2012    dodge   \n",
       "3  dodge-charger-2012/consumer-reviews/  dodge-charger-2012     2012    dodge   \n",
       "4  dodge-charger-2012/consumer-reviews/  dodge-charger-2012     2012    dodge   \n",
       "5  dodge-charger-2012/consumer-reviews/  dodge-charger-2012     2012    dodge   \n",
       "\n",
       "  Car_Model  \n",
       "1   charger  \n",
       "2   charger  \n",
       "3   charger  \n",
       "4   charger  \n",
       "5   charger  "
      ]
     },
     "execution_count": 8,
     "metadata": {},
     "output_type": "execute_result"
    }
   ],
   "source": [
    "car_review.head()"
   ]
  },
  {
   "cell_type": "markdown",
   "metadata": {},
   "source": [
    "### Reviews"
   ]
  },
  {
   "cell_type": "code",
   "execution_count": 9,
   "metadata": {
    "collapsed": true
   },
   "outputs": [],
   "source": [
    "car_review['Review'] = car_review['Review'].map(lambda x: x.rstrip().lstrip())"
   ]
  },
  {
   "cell_type": "code",
   "execution_count": 10,
   "metadata": {},
   "outputs": [
    {
     "data": {
      "text/plain": [
       "1    This is what I've bought Saturday:\\n2012 Dodge...\n",
       "2    I just got my Special Order wiith my name on w...\n",
       "3    About 2 months ago I purchased a new Dodge Cha...\n",
       "4    We bought a tungsten metallic SXT-Plus Charger...\n",
       "5    I have a 2012 Dodge Charger R/T Plus AWD in re...\n",
       "Name: Review, dtype: object"
      ]
     },
     "execution_count": 10,
     "metadata": {},
     "output_type": "execute_result"
    }
   ],
   "source": [
    "car_review['Review'].head()"
   ]
  },
  {
   "cell_type": "markdown",
   "metadata": {},
   "source": [
    "### Date"
   ]
  },
  {
   "cell_type": "code",
   "execution_count": 11,
   "metadata": {
    "collapsed": true
   },
   "outputs": [],
   "source": [
    "car_review['Review_Date'] = car_review['Year'].map(lambda x: \n",
    "                                                   datetime.strptime(x.split('\\n')[-2].split('on')[-1].lstrip(), '%B %d, %Y'))\n",
    "car_review['Review_Year'] = car_review['Review_Date'].map(lambda x: x.year)\n",
    "car_review['Review_Month'] = car_review['Review_Date'].map(lambda x: x.month)\n",
    "car_review['Review_Day'] = car_review['Review_Date'].map(lambda x: x.day)"
   ]
  },
  {
   "cell_type": "code",
   "execution_count": 12,
   "metadata": {},
   "outputs": [
    {
     "data": {
      "text/html": [
       "<div>\n",
       "<style>\n",
       "    .dataframe thead tr:only-child th {\n",
       "        text-align: right;\n",
       "    }\n",
       "\n",
       "    .dataframe thead th {\n",
       "        text-align: left;\n",
       "    }\n",
       "\n",
       "    .dataframe tbody tr th {\n",
       "        vertical-align: top;\n",
       "    }\n",
       "</style>\n",
       "<table border=\"1\" class=\"dataframe\">\n",
       "  <thead>\n",
       "    <tr style=\"text-align: right;\">\n",
       "      <th></th>\n",
       "      <th>Review_Date</th>\n",
       "      <th>Review_Year</th>\n",
       "      <th>Review_Month</th>\n",
       "      <th>Review_Day</th>\n",
       "    </tr>\n",
       "  </thead>\n",
       "  <tbody>\n",
       "    <tr>\n",
       "      <th>1</th>\n",
       "      <td>2012-05-02</td>\n",
       "      <td>2012</td>\n",
       "      <td>5</td>\n",
       "      <td>2</td>\n",
       "    </tr>\n",
       "    <tr>\n",
       "      <th>2</th>\n",
       "      <td>2012-06-14</td>\n",
       "      <td>2012</td>\n",
       "      <td>6</td>\n",
       "      <td>14</td>\n",
       "    </tr>\n",
       "    <tr>\n",
       "      <th>3</th>\n",
       "      <td>2012-06-29</td>\n",
       "      <td>2012</td>\n",
       "      <td>6</td>\n",
       "      <td>29</td>\n",
       "    </tr>\n",
       "    <tr>\n",
       "      <th>4</th>\n",
       "      <td>2012-05-08</td>\n",
       "      <td>2012</td>\n",
       "      <td>5</td>\n",
       "      <td>8</td>\n",
       "    </tr>\n",
       "    <tr>\n",
       "      <th>5</th>\n",
       "      <td>2012-03-19</td>\n",
       "      <td>2012</td>\n",
       "      <td>3</td>\n",
       "      <td>19</td>\n",
       "    </tr>\n",
       "  </tbody>\n",
       "</table>\n",
       "</div>"
      ],
      "text/plain": [
       "  Review_Date  Review_Year  Review_Month  Review_Day\n",
       "1  2012-05-02         2012             5           2\n",
       "2  2012-06-14         2012             6          14\n",
       "3  2012-06-29         2012             6          29\n",
       "4  2012-05-08         2012             5           8\n",
       "5  2012-03-19         2012             3          19"
      ]
     },
     "execution_count": 12,
     "metadata": {},
     "output_type": "execute_result"
    }
   ],
   "source": [
    "car_review[['Review_Date', 'Review_Year', 'Review_Month', 'Review_Day']].head()"
   ]
  },
  {
   "cell_type": "markdown",
   "metadata": {},
   "source": [
    "### Car Age"
   ]
  },
  {
   "cell_type": "code",
   "execution_count": 13,
   "metadata": {},
   "outputs": [
    {
     "data": {
      "text/plain": [
       "2012"
      ]
     },
     "execution_count": 13,
     "metadata": {},
     "output_type": "execute_result"
    }
   ],
   "source": [
    "int(car_review['Car_Year'][1])"
   ]
  },
  {
   "cell_type": "code",
   "execution_count": 14,
   "metadata": {
    "collapsed": true
   },
   "outputs": [],
   "source": [
    "car_review['Car_Age'] = car_review['Review_Year'].map(lambda x: int(x))-car_review['Car_Year'].map(lambda x: int(x))"
   ]
  },
  {
   "cell_type": "code",
   "execution_count": 15,
   "metadata": {
    "collapsed": true
   },
   "outputs": [],
   "source": [
    "car_review['Car_Age'] = car_review['Car_Age'].map(lambda x: 0 if x==-1 else x)"
   ]
  },
  {
   "cell_type": "code",
   "execution_count": 16,
   "metadata": {
    "collapsed": true
   },
   "outputs": [],
   "source": [
    "# plt.hist(car_review['Car_Age'], bins='auto')"
   ]
  },
  {
   "cell_type": "markdown",
   "metadata": {},
   "source": [
    "### Remove duplicate review\n",
    "* There are some duplicate reviews in the dataset"
   ]
  },
  {
   "cell_type": "code",
   "execution_count": 17,
   "metadata": {},
   "outputs": [
    {
     "data": {
      "text/plain": [
       "(19242, 13)"
      ]
     },
     "execution_count": 17,
     "metadata": {},
     "output_type": "execute_result"
    }
   ],
   "source": [
    "car_review.shape"
   ]
  },
  {
   "cell_type": "code",
   "execution_count": 18,
   "metadata": {},
   "outputs": [
    {
     "data": {
      "text/plain": [
       "10821"
      ]
     },
     "execution_count": 18,
     "metadata": {},
     "output_type": "execute_result"
    }
   ],
   "source": [
    "car_review.Review.nunique()"
   ]
  },
  {
   "cell_type": "code",
   "execution_count": 19,
   "metadata": {},
   "outputs": [
    {
     "data": {
      "text/plain": [
       "A solid compact sedan. I owned a Civic years ago, and I like the emergency brake redesign. The gas cap is gone, and the lid over the gas fill intake locks when the doors lock, and unlocks when the doors unlock. This makes a lot of sense.    52\n",
       "I am very happy with my purchase. No buyers remorse at all. Fast, fun, reliable and comfortable! Would highly recommend this car to anyone. You will not find more bang for you buck.                                                            52\n",
       "Excellent car. Excellent performance and very stylish. Handles excellent on the road. When you need the power this car has it with no problem.                                                                                                   50\n",
       "This is my first new car and I am happy with the comfort and look of the car.  The Civic Hatchback is great to handle and the technical aspects of the car are easy to understand.                                                               50\n",
       "This car is great for you to travel with or just go out on the town with friends. This car feels great when you drive it around. The gas mileage is great also. I feel safe driving it.                                                          50\n",
       "Name: Review, dtype: int64"
      ]
     },
     "execution_count": 19,
     "metadata": {},
     "output_type": "execute_result"
    }
   ],
   "source": [
    "car_review.Review.value_counts().head(5)"
   ]
  },
  {
   "cell_type": "code",
   "execution_count": 20,
   "metadata": {
    "collapsed": true
   },
   "outputs": [],
   "source": [
    "car_review=car_review.drop_duplicates(subset=['Review'])"
   ]
  },
  {
   "cell_type": "code",
   "execution_count": 21,
   "metadata": {},
   "outputs": [
    {
     "name": "stdout",
     "output_type": "stream",
     "text": [
      "Number of unique reviews:  10821\n",
      "Shape of the dataset:  (10821, 13)\n"
     ]
    }
   ],
   "source": [
    "print('Number of unique reviews: ', car_review.Review.nunique())\n",
    "print('Shape of the dataset: ', car_review.shape)"
   ]
  },
  {
   "cell_type": "code",
   "execution_count": 22,
   "metadata": {},
   "outputs": [
    {
     "data": {
      "text/html": [
       "<div>\n",
       "<style>\n",
       "    .dataframe thead tr:only-child th {\n",
       "        text-align: right;\n",
       "    }\n",
       "\n",
       "    .dataframe thead th {\n",
       "        text-align: left;\n",
       "    }\n",
       "\n",
       "    .dataframe tbody tr th {\n",
       "        vertical-align: top;\n",
       "    }\n",
       "</style>\n",
       "<table border=\"1\" class=\"dataframe\">\n",
       "  <thead>\n",
       "    <tr style=\"text-align: right;\">\n",
       "      <th></th>\n",
       "      <th>Rating</th>\n",
       "      <th>Year</th>\n",
       "      <th>Review</th>\n",
       "      <th>Brand</th>\n",
       "      <th>Car</th>\n",
       "      <th>Car_Year</th>\n",
       "      <th>Car_Make</th>\n",
       "      <th>Car_Model</th>\n",
       "      <th>Review_Date</th>\n",
       "      <th>Review_Year</th>\n",
       "      <th>Review_Month</th>\n",
       "      <th>Review_Day</th>\n",
       "      <th>Car_Age</th>\n",
       "    </tr>\n",
       "  </thead>\n",
       "  <tbody>\n",
       "    <tr>\n",
       "      <th>1</th>\n",
       "      <td>4</td>\n",
       "      <td>\\n                by JayeMaye\\n               ...</td>\n",
       "      <td>This is what I've bought Saturday:\\n2012 Dodge...</td>\n",
       "      <td>dodge-charger-2012/consumer-reviews/</td>\n",
       "      <td>dodge-charger-2012</td>\n",
       "      <td>2012</td>\n",
       "      <td>dodge</td>\n",
       "      <td>charger</td>\n",
       "      <td>2012-05-02</td>\n",
       "      <td>2012</td>\n",
       "      <td>5</td>\n",
       "      <td>2</td>\n",
       "      <td>0</td>\n",
       "    </tr>\n",
       "    <tr>\n",
       "      <th>2</th>\n",
       "      <td>5</td>\n",
       "      <td>\\n                by Female Driver\\n          ...</td>\n",
       "      <td>I just got my Special Order wiith my name on w...</td>\n",
       "      <td>dodge-charger-2012/consumer-reviews/</td>\n",
       "      <td>dodge-charger-2012</td>\n",
       "      <td>2012</td>\n",
       "      <td>dodge</td>\n",
       "      <td>charger</td>\n",
       "      <td>2012-06-14</td>\n",
       "      <td>2012</td>\n",
       "      <td>6</td>\n",
       "      <td>14</td>\n",
       "      <td>0</td>\n",
       "    </tr>\n",
       "    <tr>\n",
       "      <th>3</th>\n",
       "      <td>5</td>\n",
       "      <td>\\n                by New Car Buyer\\n          ...</td>\n",
       "      <td>About 2 months ago I purchased a new Dodge Cha...</td>\n",
       "      <td>dodge-charger-2012/consumer-reviews/</td>\n",
       "      <td>dodge-charger-2012</td>\n",
       "      <td>2012</td>\n",
       "      <td>dodge</td>\n",
       "      <td>charger</td>\n",
       "      <td>2012-06-29</td>\n",
       "      <td>2012</td>\n",
       "      <td>6</td>\n",
       "      <td>29</td>\n",
       "      <td>0</td>\n",
       "    </tr>\n",
       "    <tr>\n",
       "      <th>4</th>\n",
       "      <td>5</td>\n",
       "      <td>\\n                by KTisaPhillyPhan\\n        ...</td>\n",
       "      <td>We bought a tungsten metallic SXT-Plus Charger...</td>\n",
       "      <td>dodge-charger-2012/consumer-reviews/</td>\n",
       "      <td>dodge-charger-2012</td>\n",
       "      <td>2012</td>\n",
       "      <td>dodge</td>\n",
       "      <td>charger</td>\n",
       "      <td>2012-05-08</td>\n",
       "      <td>2012</td>\n",
       "      <td>5</td>\n",
       "      <td>8</td>\n",
       "      <td>0</td>\n",
       "    </tr>\n",
       "    <tr>\n",
       "      <th>5</th>\n",
       "      <td>5</td>\n",
       "      <td>\\n                by I&lt;3DODGE\\n               ...</td>\n",
       "      <td>I have a 2012 Dodge Charger R/T Plus AWD in re...</td>\n",
       "      <td>dodge-charger-2012/consumer-reviews/</td>\n",
       "      <td>dodge-charger-2012</td>\n",
       "      <td>2012</td>\n",
       "      <td>dodge</td>\n",
       "      <td>charger</td>\n",
       "      <td>2012-03-19</td>\n",
       "      <td>2012</td>\n",
       "      <td>3</td>\n",
       "      <td>19</td>\n",
       "      <td>0</td>\n",
       "    </tr>\n",
       "  </tbody>\n",
       "</table>\n",
       "</div>"
      ],
      "text/plain": [
       "   Rating                                               Year  \\\n",
       "1       4  \\n                by JayeMaye\\n               ...   \n",
       "2       5  \\n                by Female Driver\\n          ...   \n",
       "3       5  \\n                by New Car Buyer\\n          ...   \n",
       "4       5  \\n                by KTisaPhillyPhan\\n        ...   \n",
       "5       5  \\n                by I<3DODGE\\n               ...   \n",
       "\n",
       "                                              Review  \\\n",
       "1  This is what I've bought Saturday:\\n2012 Dodge...   \n",
       "2  I just got my Special Order wiith my name on w...   \n",
       "3  About 2 months ago I purchased a new Dodge Cha...   \n",
       "4  We bought a tungsten metallic SXT-Plus Charger...   \n",
       "5  I have a 2012 Dodge Charger R/T Plus AWD in re...   \n",
       "\n",
       "                                  Brand                 Car Car_Year Car_Make  \\\n",
       "1  dodge-charger-2012/consumer-reviews/  dodge-charger-2012     2012    dodge   \n",
       "2  dodge-charger-2012/consumer-reviews/  dodge-charger-2012     2012    dodge   \n",
       "3  dodge-charger-2012/consumer-reviews/  dodge-charger-2012     2012    dodge   \n",
       "4  dodge-charger-2012/consumer-reviews/  dodge-charger-2012     2012    dodge   \n",
       "5  dodge-charger-2012/consumer-reviews/  dodge-charger-2012     2012    dodge   \n",
       "\n",
       "  Car_Model Review_Date  Review_Year  Review_Month  Review_Day  Car_Age  \n",
       "1   charger  2012-05-02         2012             5           2        0  \n",
       "2   charger  2012-06-14         2012             6          14        0  \n",
       "3   charger  2012-06-29         2012             6          29        0  \n",
       "4   charger  2012-05-08         2012             5           8        0  \n",
       "5   charger  2012-03-19         2012             3          19        0  "
      ]
     },
     "execution_count": 22,
     "metadata": {},
     "output_type": "execute_result"
    }
   ],
   "source": [
    "car_review.head()"
   ]
  },
  {
   "cell_type": "code",
   "execution_count": 23,
   "metadata": {},
   "outputs": [
    {
     "data": {
      "text/plain": [
       "5    7815\n",
       "4    1943\n",
       "3     538\n",
       "2     273\n",
       "1     252\n",
       "Name: Rating, dtype: int64"
      ]
     },
     "execution_count": 23,
     "metadata": {},
     "output_type": "execute_result"
    }
   ],
   "source": [
    "car_review.Rating.value_counts()"
   ]
  },
  {
   "cell_type": "code",
   "execution_count": 24,
   "metadata": {},
   "outputs": [
    {
     "data": {
      "image/png": "[encoded data removed]",
      "text/plain": [
       "<matplotlib.figure.Figure at 0x1a10db3208>"
      ]
     },
     "metadata": {},
     "output_type": "display_data"
    }
   ],
   "source": [
    "car_review.Rating.value_counts(sort=False).plot(kind = 'bar')\n",
    "plt.show()"
   ]
  },
  {
   "cell_type": "markdown",
   "metadata": {},
   "source": [
    "# Visualization"
   ]
  },
  {
   "cell_type": "code",
   "execution_count": 25,
   "metadata": {},
   "outputs": [
    {
     "name": "stdout",
     "output_type": "stream",
     "text": [
      "max:  4076\n",
      "min:  48\n",
      "average:  396.6112189261621\n",
      "median:  237\n",
      "Standard Deviation: 442.9049\n"
     ]
    },
    {
     "data": {
      "image/png": "[encoded data removed]",
      "text/plain": [
       "<matplotlib.figure.Figure at 0x1a1140c748>"
      ]
     },
     "metadata": {},
     "output_type": "display_data"
    }
   ],
   "source": [
    "l=[len(i) for i in car_review.Review]\n",
    "print('max: ',max(l))\n",
    "print('min: ',min(l))\n",
    "print('average: ',sum(l)/len(l))\n",
    "print('median: ', statistics.median(l))\n",
    "print('Standard Deviation: {:.4f}'.format(np.std(l)))\n",
    "plt.boxplot(l)\n",
    "plt.grid(True)"
   ]
  },
  {
   "cell_type": "code",
   "execution_count": 26,
   "metadata": {},
   "outputs": [
    {
     "data": {
      "text/plain": [
       "839.5161189261621"
      ]
     },
     "execution_count": 26,
     "metadata": {},
     "output_type": "execute_result"
    }
   ],
   "source": [
    "396.6112189261621+442.9049"
   ]
  },
  {
   "cell_type": "code",
   "execution_count": 27,
   "metadata": {},
   "outputs": [
    {
     "data": {
      "text/plain": [
       "1282.421018926162"
      ]
     },
     "execution_count": 27,
     "metadata": {},
     "output_type": "execute_result"
    }
   ],
   "source": [
    "396.6112189261621+442.9049*2"
   ]
  },
  {
   "cell_type": "markdown",
   "metadata": {},
   "source": [
    "# Split the data set"
   ]
  },
  {
   "cell_type": "code",
   "execution_count": 28,
   "metadata": {
    "collapsed": true
   },
   "outputs": [],
   "source": [
    "from sklearn.model_selection import train_test_split"
   ]
  },
  {
   "cell_type": "code",
   "execution_count": 29,
   "metadata": {},
   "outputs": [
    {
     "data": {
      "text/plain": [
       "0    7815\n",
       "1    3006\n",
       "Name: tag, dtype: int64"
      ]
     },
     "execution_count": 29,
     "metadata": {},
     "output_type": "execute_result"
    }
   ],
   "source": [
    "car_review['tag'] = car_review['Rating'].map(lambda x:0 if x==5 else 1)\n",
    "car_review['tag'].value_counts(sort=False)"
   ]
  },
  {
   "cell_type": "code",
   "execution_count": 30,
   "metadata": {
    "collapsed": true
   },
   "outputs": [],
   "source": [
    "x = car_review.Review\n",
    "y = car_review.tag"
   ]
  },
  {
   "cell_type": "code",
   "execution_count": 32,
   "metadata": {
    "collapsed": true
   },
   "outputs": [],
   "source": [
    "Xtrain, Xtest, ytrain, ytest = train_test_split(x, y, random_state=10, test_size=0.2)"
   ]
  },
  {
   "cell_type": "markdown",
   "metadata": {
    "collapsed": true
   },
   "source": [
    "# Neural Network"
   ]
  },
  {
   "cell_type": "code",
   "execution_count": 110,
   "metadata": {
    "collapsed": true
   },
   "outputs": [],
   "source": [
    "#Create a validation just for convenience\n",
    "def model(trainy,pre_trainy, testy, pre_testy):  \n",
    "    pre_trainy2 = [0 if i <0.5 else 1 for i in pre_trainy.reshape(len(pre_trainy),)]\n",
    "    fpr_train, tpr_train,_=roc_curve(trainy, pre_trainy2)\n",
    "    auc_train=auc(fpr_train, tpr_train)\n",
    "    \n",
    "    pre_testy2 = [0 if i <0.5 else 1 for i in pre_testy.reshape(len(pre_testy),)]\n",
    "    fpr_test, tpr_test,_=roc_curve(testy, pre_testy2)\n",
    "    auc_test=auc(fpr_test, tpr_test)\n",
    "    \n",
    "    print('AUC(Train): {:.4f}'.format(auc_train))\n",
    "    print('AUC(Test):  {:.4f}'.format(auc_test))\n",
    "    print (\"TRAIN Accuracy:   %0.3f\" % accuracy_score(trainy, trainy, pre_trainy2))\n",
    "    print (\"TEST Accuracy:   %0.3f\" % accuracy_score(testy, pre_testy2))\n",
    "    \n",
    "    cm = confusion_matrix(testy, pre_testy2, labels = [0, 1])\n",
    "    print('Confusion matrix, without normalization:')\n",
    "    print(cm)\n",
    "    print(\"Normalized confusion matrix:\")\n",
    "    print(cm.astype('float') / cm.sum(axis=1)[:, np.newaxis])\n",
    "    print(classification_report(testy, pre_testy2))"
   ]
  },
  {
   "cell_type": "markdown",
   "metadata": {
    "collapsed": true
   },
   "source": [
    "## Process the data:\n",
    "* Tokenize the data and convert the text to sequence;\n",
    "* Add padding to ensure that all the sequences have the same shape/length."
   ]
  },
  {
   "cell_type": "code",
   "execution_count": 55,
   "metadata": {
    "collapsed": true
   },
   "outputs": [],
   "source": [
    "max_words = 20000\n",
    "max_len = 400\n",
    "tok = Tokenizer(num_words=max_words)\n",
    "tok.fit_on_texts(Xtrain)\n",
    "\n",
    "sequences = tok.texts_to_sequences(Xtrain)\n",
    "train_sequences_matrix = sequence.pad_sequences(sequences,maxlen=max_len)\n",
    "\n",
    "test_sequences = tok.texts_to_sequences(Xtest)\n",
    "test_sequences_matrix = sequence.pad_sequences(test_sequences,maxlen=max_len)"
   ]
  },
  {
   "cell_type": "markdown",
   "metadata": {},
   "source": [
    "# 1. LSTM"
   ]
  },
  {
   "cell_type": "code",
   "execution_count": 63,
   "metadata": {
    "collapsed": true
   },
   "outputs": [],
   "source": [
    "from keras.callbacks import EarlyStopping, ModelCheckpoint\n",
    "from keras.layers import Dense, Embedding, Dropout, LSTM, Flatten\n",
    "from keras.layers.convolutional import Conv1D, MaxPooling1D\n",
    "from keras.models import Sequential"
   ]
  },
  {
   "cell_type": "code",
   "execution_count": 57,
   "metadata": {},
   "outputs": [
    {
     "name": "stdout",
     "output_type": "stream",
     "text": [
      "_________________________________________________________________\n",
      "Layer (type)                 Output Shape              Param #   \n",
      "=================================================================\n",
      "embedding_4 (Embedding)      (None, 400, 128)          2560000   \n",
      "_________________________________________________________________\n",
      "dropout_6 (Dropout)          (None, 400, 128)          0         \n",
      "_________________________________________________________________\n",
      "lstm_4 (LSTM)                (None, 100)               91600     \n",
      "_________________________________________________________________\n",
      "dropout_7 (Dropout)          (None, 100)               0         \n",
      "_________________________________________________________________\n",
      "dense_3 (Dense)              (None, 1)                 101       \n",
      "=================================================================\n",
      "Total params: 2,651,701\n",
      "Trainable params: 2,651,701\n",
      "Non-trainable params: 0\n",
      "_________________________________________________________________\n",
      "None\n"
     ]
    }
   ],
   "source": [
    "lstm = Sequential()\n",
    "lstm.add(Embedding(max_words,128,input_length=max_len))\n",
    "\n",
    "lstm.add(Dropout(0.2))\n",
    "lstm.add(LSTM(100))\n",
    "lstm.add(Dropout(0.2))\n",
    "\n",
    "lstm.add(Dense(1, activation='sigmoid'))\n",
    "lstm.compile(loss='binary_crossentropy', optimizer='adam', metrics=['accuracy'])\n",
    "\n",
    "print(lstm.summary())"
   ]
  },
  {
   "cell_type": "code",
   "execution_count": 58,
   "metadata": {
    "collapsed": true
   },
   "outputs": [],
   "source": [
    "callback=[\n",
    "    EarlyStopping(monitor='val_loss', patience=2),\n",
    "    ModelCheckpoint(filepath='weights.{epoch:02d}-{val_acc:.2f}.hdf5',save_best_only=True)\n",
    "]"
   ]
  },
  {
   "cell_type": "code",
   "execution_count": 59,
   "metadata": {},
   "outputs": [
    {
     "name": "stdout",
     "output_type": "stream",
     "text": [
      "Train on 6924 samples, validate on 1732 samples\n",
      "Epoch 1/10\n",
      "6924/6924 [==============================] - 171s 25ms/step - loss: 0.5527 - acc: 0.7314 - val_loss: 0.4834 - val_acc: 0.7662\n",
      "Epoch 2/10\n",
      "6924/6924 [==============================] - 174s 25ms/step - loss: 0.4128 - acc: 0.8232 - val_loss: 0.4740 - val_acc: 0.7875\n",
      "Epoch 3/10\n",
      "6924/6924 [==============================] - 174s 25ms/step - loss: 0.3249 - acc: 0.8710 - val_loss: 0.5329 - val_acc: 0.7685\n",
      "Epoch 4/10\n",
      "6924/6924 [==============================] - 169s 24ms/step - loss: 0.2475 - acc: 0.9051 - val_loss: 0.5670 - val_acc: 0.7471\n",
      "688.9480068683624\n"
     ]
    }
   ],
   "source": [
    "start_time_lstm=time()\n",
    "lstm_history = lstm.fit(train_sequences_matrix, ytrain, \n",
    "          nb_epoch=10, batch_size=64,\n",
    "          validation_split=0.2,\n",
    "       callbacks=callback)\n",
    "end_time_lstm=time()\n",
    "print(end_time_lstm-start_time_lstm)"
   ]
  },
  {
   "cell_type": "code",
   "execution_count": 60,
   "metadata": {
    "collapsed": true
   },
   "outputs": [],
   "source": [
    "pre_lstm_train=lstm.predict(train_sequences_matrix)\n",
    "pre_lstm_test=lstm.predict(test_sequences_matrix)\n",
    "lstm.save('lstm-model.h5')"
   ]
  },
  {
   "cell_type": "code",
   "execution_count": 61,
   "metadata": {},
   "outputs": [
    {
     "name": "stdout",
     "output_type": "stream",
     "text": [
      "2165/2165 [==============================] - 11s 5ms/step\n"
     ]
    }
   ],
   "source": [
    "lstm_scores = lstm.evaluate(test_sequences_matrix, ytest)"
   ]
  },
  {
   "cell_type": "code",
   "execution_count": 62,
   "metadata": {},
   "outputs": [
    {
     "name": "stdout",
     "output_type": "stream",
     "text": [
      "loss     =  0.527327587560473\n",
      "accuracy =  0.7861431872872227\n"
     ]
    }
   ],
   "source": [
    "print('loss     = ', lstm_scores[0])\n",
    "print('accuracy = ', lstm_scores[1])"
   ]
  },
  {
   "cell_type": "code",
   "execution_count": 109,
   "metadata": {},
   "outputs": [
    {
     "name": "stdout",
     "output_type": "stream",
     "text": [
      "AUC(Train): 0.8612\n",
      "AUC(Test):  0.6859\n",
      "TRAIN Accuracy:   1.000\n",
      "TEST Accuracy:   0.786\n",
      "Confusion matrix, without normalization:\n",
      "[[1429  154]\n",
      " [ 309  273]]\n",
      "Normalized confusion matrix:\n",
      "[[0.90271636 0.09728364]\n",
      " [0.53092784 0.46907216]]\n",
      "             precision    recall  f1-score   support\n",
      "\n",
      "          0       0.82      0.90      0.86      1583\n",
      "          1       0.64      0.47      0.54       582\n",
      "\n",
      "avg / total       0.77      0.79      0.77      2165\n",
      "\n"
     ]
    }
   ],
   "source": [
    "model(ytrain,pre_lstm_train, ytest, pre_lstm_test)"
   ]
  },
  {
   "cell_type": "markdown",
   "metadata": {},
   "source": [
    "# 2. CNN"
   ]
  },
  {
   "cell_type": "code",
   "execution_count": 88,
   "metadata": {},
   "outputs": [
    {
     "name": "stdout",
     "output_type": "stream",
     "text": [
      "_________________________________________________________________\n",
      "Layer (type)                 Output Shape              Param #   \n",
      "=================================================================\n",
      "embedding_5 (Embedding)      (None, 400, 128)          2560000   \n",
      "_________________________________________________________________\n",
      "conv1d_1 (Conv1D)            (None, 400, 32)           12320     \n",
      "_________________________________________________________________\n",
      "max_pooling1d_1 (MaxPooling1 (None, 200, 32)           0         \n",
      "_________________________________________________________________\n",
      "flatten_1 (Flatten)          (None, 6400)              0         \n",
      "_________________________________________________________________\n",
      "dense_4 (Dense)              (None, 250)               1600250   \n",
      "_________________________________________________________________\n",
      "dense_5 (Dense)              (None, 1)                 251       \n",
      "=================================================================\n",
      "Total params: 4,172,821\n",
      "Trainable params: 4,172,821\n",
      "Non-trainable params: 0\n",
      "_________________________________________________________________\n",
      "None\n"
     ]
    }
   ],
   "source": [
    "cnn = Sequential()\n",
    "cnn.add(Embedding(max_words,128,input_length=max_len))\n",
    "\n",
    "cnn.add(Conv1D(filters=32, kernel_size=3, padding='same', activation='relu'))\n",
    "cnn.add(MaxPooling1D(pool_size=2))\n",
    "\n",
    "cnn.add(Flatten())\n",
    "\n",
    "cnn.add(Dense(250, activation='relu'))\n",
    "\n",
    "cnn.add(Dense(1, activation='sigmoid'))\n",
    "cnn.compile(loss='binary_crossentropy', optimizer='adam', metrics=['accuracy'])\n",
    "\n",
    "print(cnn.summary())"
   ]
  },
  {
   "cell_type": "code",
   "execution_count": 89,
   "metadata": {
    "collapsed": true
   },
   "outputs": [],
   "source": [
    "callback=[\n",
    "    EarlyStopping(monitor='val_loss', patience=2),\n",
    "    ModelCheckpoint(filepath='weights.{epoch:02d}-{val_acc:.2f}.hdf5',save_best_only=True)\n",
    "]"
   ]
  },
  {
   "cell_type": "code",
   "execution_count": 90,
   "metadata": {},
   "outputs": [
    {
     "name": "stdout",
     "output_type": "stream",
     "text": [
      "Train on 6924 samples, validate on 1732 samples\n",
      "Epoch 1/10\n",
      "6924/6924 [==============================] - 21s 3ms/step - loss: 0.5570 - acc: 0.7304 - val_loss: 0.4820 - val_acc: 0.7783\n",
      "Epoch 2/10\n",
      "6924/6924 [==============================] - 22s 3ms/step - loss: 0.3586 - acc: 0.8494 - val_loss: 0.4899 - val_acc: 0.7818\n",
      "Epoch 3/10\n",
      "6924/6924 [==============================] - 19s 3ms/step - loss: 0.1537 - acc: 0.9463 - val_loss: 0.6367 - val_acc: 0.7523\n",
      "62.05176305770874\n"
     ]
    }
   ],
   "source": [
    "start_time_cnn=time()\n",
    "cnn_history = cnn.fit(train_sequences_matrix, ytrain, \n",
    "          nb_epoch=10, batch_size=64,\n",
    "          validation_split=0.2,\n",
    "       callbacks=callback)\n",
    "end_time_cnn=time()\n",
    "print(end_time_cnn-start_time_cnn)"
   ]
  },
  {
   "cell_type": "code",
   "execution_count": 91,
   "metadata": {
    "collapsed": true
   },
   "outputs": [],
   "source": [
    "pre_cnn_train=cnn.predict(train_sequences_matrix)\n",
    "pre_cnn_test=cnn.predict(test_sequences_matrix)\n",
    "cnn.save('cnn-model.h5')"
   ]
  },
  {
   "cell_type": "code",
   "execution_count": 92,
   "metadata": {},
   "outputs": [
    {
     "name": "stdout",
     "output_type": "stream",
     "text": [
      "2165/2165 [==============================] - 1s 661us/step\n",
      "loss     =  0.6125125522701624\n",
      "accuracy =  0.75612009257147\n"
     ]
    }
   ],
   "source": [
    "cnn_scores = cnn.evaluate(test_sequences_matrix, ytest)\n",
    "print('loss     = ', cnn_scores[0])\n",
    "print('accuracy = ', cnn_scores[1])"
   ]
  },
  {
   "cell_type": "code",
   "execution_count": 93,
   "metadata": {},
   "outputs": [
    {
     "name": "stdout",
     "output_type": "stream",
     "text": [
      "AUC(Train): 0.9323\n",
      "AUC(Test):  0.7034\n",
      "TRAIN Accuracy:   1.000\n",
      "TEST Accuracy:   0.756\n",
      "Confusion matrix, without normalization:\n",
      "[[1294  289]\n",
      " [ 239  343]]\n",
      "Normalized confusion matrix:\n",
      "[[0.81743525 0.18256475]\n",
      " [0.41065292 0.58934708]]\n",
      "             precision    recall  f1-score   support\n",
      "\n",
      "          0       0.84      0.82      0.83      1583\n",
      "          1       0.54      0.59      0.57       582\n",
      "\n",
      "avg / total       0.76      0.76      0.76      2165\n",
      "\n"
     ]
    }
   ],
   "source": [
    "model(ytrain,pre_cnn_train, ytest, pre_cnn_test)"
   ]
  },
  {
   "cell_type": "markdown",
   "metadata": {},
   "source": [
    "# 3.LSTM+CNN"
   ]
  },
  {
   "cell_type": "code",
   "execution_count": 94,
   "metadata": {},
   "outputs": [
    {
     "name": "stdout",
     "output_type": "stream",
     "text": [
      "_________________________________________________________________\n",
      "Layer (type)                 Output Shape              Param #   \n",
      "=================================================================\n",
      "embedding_6 (Embedding)      (None, 400, 128)          2560000   \n",
      "_________________________________________________________________\n",
      "dropout_8 (Dropout)          (None, 400, 128)          0         \n",
      "_________________________________________________________________\n",
      "conv1d_2 (Conv1D)            (None, 400, 32)           12320     \n",
      "_________________________________________________________________\n",
      "max_pooling1d_2 (MaxPooling1 (None, 200, 32)           0         \n",
      "_________________________________________________________________\n",
      "lstm_5 (LSTM)                (None, 100)               53200     \n",
      "_________________________________________________________________\n",
      "dropout_9 (Dropout)          (None, 100)               0         \n",
      "_________________________________________________________________\n",
      "dense_6 (Dense)              (None, 1)                 101       \n",
      "=================================================================\n",
      "Total params: 2,625,621\n",
      "Trainable params: 2,625,621\n",
      "Non-trainable params: 0\n",
      "_________________________________________________________________\n",
      "None\n"
     ]
    }
   ],
   "source": [
    "lstm_cnn = Sequential()\n",
    "lstm_cnn.add(Embedding(max_words,128,input_length=max_len))\n",
    "\n",
    "lstm_cnn.add(Dropout(0.2))\n",
    "lstm_cnn.add(Conv1D(filters=32, kernel_size=3, padding='same', activation='relu'))\n",
    "lstm_cnn.add(MaxPooling1D(pool_size=2))\n",
    "lstm_cnn.add(LSTM(100))\n",
    "lstm_cnn.add(Dropout(0.2))\n",
    "\n",
    "lstm_cnn.add(Dense(1, activation='sigmoid'))\n",
    "lstm_cnn.compile(loss='binary_crossentropy', optimizer='adam', metrics=['accuracy'])\n",
    "print(lstm_cnn.summary())"
   ]
  },
  {
   "cell_type": "code",
   "execution_count": 95,
   "metadata": {
    "collapsed": true
   },
   "outputs": [],
   "source": [
    "callback=[\n",
    "    EarlyStopping(monitor='val_loss', patience=2),\n",
    "    ModelCheckpoint(filepath='weights.{epoch:02d}-{val_acc:.2f}.hdf5',save_best_only=True)\n",
    "]"
   ]
  },
  {
   "cell_type": "code",
   "execution_count": 96,
   "metadata": {},
   "outputs": [
    {
     "name": "stdout",
     "output_type": "stream",
     "text": [
      "Train on 6924 samples, validate on 1732 samples\n",
      "Epoch 1/10\n",
      "6924/6924 [==============================] - 84s 12ms/step - loss: 0.5648 - acc: 0.7215 - val_loss: 0.5168 - val_acc: 0.7535\n",
      "Epoch 2/10\n",
      "6924/6924 [==============================] - 86s 12ms/step - loss: 0.4323 - acc: 0.8122 - val_loss: 0.4767 - val_acc: 0.7852\n",
      "Epoch 3/10\n",
      "6924/6924 [==============================] - 87s 13ms/step - loss: 0.3193 - acc: 0.8696 - val_loss: 0.5569 - val_acc: 0.7592\n",
      "Epoch 4/10\n",
      "6924/6924 [==============================] - 89s 13ms/step - loss: 0.2398 - acc: 0.9086 - val_loss: 0.6095 - val_acc: 0.7211\n",
      "348.12667870521545\n"
     ]
    }
   ],
   "source": [
    "start_time_lstm_cnn=time()\n",
    "lstm_cnn_history = lstm_cnn.fit(train_sequences_matrix, ytrain, \n",
    "          nb_epoch=10, batch_size=64,\n",
    "          validation_split=0.2,\n",
    "       callbacks=callback)\n",
    "end_time_lstm_cnn=time()\n",
    "print(end_time_lstm_cnn-start_time_lstm_cnn)"
   ]
  },
  {
   "cell_type": "code",
   "execution_count": 100,
   "metadata": {
    "collapsed": true
   },
   "outputs": [],
   "source": [
    "pre_lstm_cnn_train=lstm_cnn.predict(train_sequences_matrix)\n",
    "pre_lstm_cnn_test=lstm_cnn.predict(test_sequences_matrix)\n",
    "lstm_cnn.save('lstm_cnn-model.h5')"
   ]
  },
  {
   "cell_type": "code",
   "execution_count": 101,
   "metadata": {},
   "outputs": [
    {
     "name": "stdout",
     "output_type": "stream",
     "text": [
      "2165/2165 [==============================] - 6s 3ms/step\n",
      "loss     =  0.5735552474477825\n",
      "accuracy =  0.7487297923955851\n"
     ]
    }
   ],
   "source": [
    "lstm_cnn_scores = lstm_cnn.evaluate(test_sequences_matrix, ytest)\n",
    "print('loss     = ', lstm_cnn_scores[0])\n",
    "print('accuracy = ', lstm_cnn_scores[1])"
   ]
  },
  {
   "cell_type": "code",
   "execution_count": 102,
   "metadata": {},
   "outputs": [
    {
     "name": "stdout",
     "output_type": "stream",
     "text": [
      "AUC(Train): 0.8785\n",
      "AUC(Test):  0.6804\n",
      "TRAIN Accuracy:   1.000\n",
      "TEST Accuracy:   0.749\n",
      "Confusion matrix, without normalization:\n",
      "[[1311  272]\n",
      " [ 272  310]]\n",
      "Normalized confusion matrix:\n",
      "[[0.82817435 0.17182565]\n",
      " [0.46735395 0.53264605]]\n",
      "             precision    recall  f1-score   support\n",
      "\n",
      "          0       0.83      0.83      0.83      1583\n",
      "          1       0.53      0.53      0.53       582\n",
      "\n",
      "avg / total       0.75      0.75      0.75      2165\n",
      "\n"
     ]
    }
   ],
   "source": [
    "model(ytrain, pre_lstm_cnn_train, ytest, pre_lstm_cnn_test)"
   ]
  },
  {
   "cell_type": "code",
   "execution_count": null,
   "metadata": {
    "collapsed": true
   },
   "outputs": [],
   "source": []
  }
 ],
 "metadata": {
  "kernelspec": {
   "display_name": "Python 3",
   "language": "python",
   "name": "python3"
  },
  "language_info": {
   "codemirror_mode": {
    "name": "ipython",
    "version": 3
   },
   "file_extension": ".py",
   "mimetype": "text/x-python",
   "name": "python",
   "nbconvert_exporter": "python",
   "pygments_lexer": "ipython3",
   "version": "3.6.3"
  }
 },
 "nbformat": 4,
 "nbformat_minor": 2
}
